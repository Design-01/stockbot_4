{
 "cells": [
  {
   "cell_type": "code",
   "execution_count": null,
   "metadata": {},
   "outputs": [],
   "source": [
    "\n",
    "#! --- SU .... Hold \"Shift + Enter\"\n",
    "from STOCKBOT import StockBot\n",
    "bot = StockBot()\n",
    "bot.connect_to_ib(useIBGateway=True)"
   ]
  },
  {
   "cell_type": "code",
   "execution_count": null,
   "metadata": {},
   "outputs": [],
   "source": [
    "\n",
    "#! --- SU .... Hold \"Shift + Enter\"\n",
    "\n",
    "import scanner.schedule as schedule\n",
    "market = schedule.MarketSchedule(scan_time='01:39', sleep_time=600) \n",
    "\n",
    "# if market.wait_for_scan_time():\n",
    "bot.scan(scanCode='TOP_PERC_GAIN', priceRange=(1, 100), avgVolumeAbove=100_000, changePercent=4, marketCapRange=(100, 10000)) # value is in millions\n",
    "bot.scan(scanCode='TOP_PERC_LOSE', priceRange=(1, 100), avgVolumeAbove=100_000, changePercent=-4, marketCapRange=(100, 10000)) # value is in millions\n",
    "bot.scanner.save_to_csv('scanner\\scan_results')\n",
    "\n",
    "\n",
    "# dsiplay all rows\n",
    "import pandas as pd\n",
    "pd.set_option('display.max_rows', None)\n",
    "display(bot.scanner.get_results())"
   ]
  },
  {
   "cell_type": "code",
   "execution_count": null,
   "metadata": {},
   "outputs": [],
   "source": [
    "\n",
    "#! --- SU .... Hold \"Shift + Enter\"\n",
    "bot.sleep(2)\n",
    "bot.setup_stocks_from_scanner()\n",
    "bot.stocks"
   ]
  },
  {
   "cell_type": "code",
   "execution_count": null,
   "metadata": {},
   "outputs": [],
   "source": [
    "\n",
    "#! --- SU .... Hold \"Shift + Enter\"\n",
    "bot.run_stock_daily_analysis(ls='LONG', limit=50)\n"
   ]
  },
  {
   "cell_type": "code",
   "execution_count": null,
   "metadata": {},
   "outputs": [],
   "source": [
    "symbol = 'LOT'\n",
    "symbol = 'NCT'\n",
    "symbol = 'NIU'\n",
    "bot.stocks[symbol].frames['1 day'].data"
   ]
  },
  {
   "cell_type": "code",
   "execution_count": null,
   "metadata": {},
   "outputs": [],
   "source": [
    "\n",
    "#! --- SU .... Hold \"Shift + Enter\"\n",
    "#! You should see the charts!!!\n",
    "\n",
    "for symbol, stock in bot.stocks.items():\n",
    "    print(f'--------{symbol}----------')\n",
    "    stock.get_frame('1 day').plot()"
   ]
  },
  {
   "cell_type": "code",
   "execution_count": null,
   "metadata": {},
   "outputs": [],
   "source": [
    "\n",
    "#! --- SU .... Hold \"Shift + Enter\"\n",
    "pd.DataFrame(bot.stats_daily)"
   ]
  },
  {
   "cell_type": "code",
   "execution_count": null,
   "metadata": {},
   "outputs": [],
   "source": [
    "\n",
    "#! --- SU .... Hold \"Shift + Enter\"\n",
    "#! Look at the below stocks and the 'scoreVol', 'scoreGaps', 'scoreRTM',  see how good or bad each one is. ... after you done your market trading.  come back to this later.\n",
    "\n",
    "topnth = bot.get_daily_stats( \n",
    "    query=\"validAv_1D > 15 and score_1D > 20\",\n",
    "    sort_by=['score_1D', 'scoreVol'],\n",
    "    top_n=5,\n",
    "    columns=['symbol', 'price', 'breaksAbove50MA', 'scoreVol', 'scoreGaps', 'scoreRTM', 'validAv_1D', 'score_1D' ]\n",
    ")\n",
    "topnth"
   ]
  },
  {
   "cell_type": "code",
   "execution_count": null,
   "metadata": {},
   "outputs": [],
   "source": [
    "\n",
    "#! --- SU .... Hold \"Shift + Enter\"\n",
    "#! Su,  not getting good chart analysis yet but hopefully it prints out and you can take a look\n",
    "for symbol, stock in bot.stocks.items():\n",
    "    if symbol in topnth['symbol'].values:\n",
    "        stock.frames['1 day'].plot()\n"
   ]
  },
  {
   "cell_type": "code",
   "execution_count": null,
   "metadata": {},
   "outputs": [],
   "source": [
    "bot.disiconnect_from_ib()"
   ]
  },
  {
   "cell_type": "code",
   "execution_count": null,
   "metadata": {},
   "outputs": [],
   "source": []
  }
 ],
 "metadata": {
  "kernelspec": {
   "display_name": "SB2",
   "language": "python",
   "name": "python3"
  },
  "language_info": {
   "codemirror_mode": {
    "name": "ipython",
    "version": 3
   },
   "file_extension": ".py",
   "mimetype": "text/x-python",
   "name": "python",
   "nbconvert_exporter": "python",
   "pygments_lexer": "ipython3",
   "version": "3.10.8"
  }
 },
 "nbformat": 4,
 "nbformat_minor": 2
}
