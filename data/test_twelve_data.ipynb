{
 "cells": [
  {
   "cell_type": "markdown",
   "metadata": {},
   "source": [
    "# Testing Twelve Data API Integration\n",
    "\n",
    "This notebook demonstrates how to use the TwelveData class to retrieve historical stock data."
   ]
  },
  {
   "cell_type": "code",
   "execution_count": 1,
   "metadata": {},
   "outputs": [
    {
     "data": {
      "text/plain": [
       "<twelve_data.TwelveData at 0x220a04dbe90>"
      ]
     },
     "execution_count": 1,
     "metadata": {},
     "output_type": "execute_result"
    }
   ],
   "source": [
    "from twelve_data import TwelveData\n",
    "\n",
    "# Replace 'YOUR_API_KEY' with your actual Twelve Data API key\n",
    "api_key = '171136ac7161454b8f4abeb987c72b02'\n",
    "\n",
    "# Initialize the TwelveData instance\n",
    "td = TwelveData(api_key)\n",
    "td"
   ]
  },
  {
   "cell_type": "markdown",
   "metadata": {},
   "source": [
    "## Example 1: Retrieve historical data for a specific date range"
   ]
  },
  {
   "cell_type": "code",
   "execution_count": 2,
   "metadata": {},
   "outputs": [
    {
     "name": "stdout",
     "output_type": "stream",
     "text": [
      "[{'datetime': '2023-04-28', 'open': '160.89999', 'high': '165.00000', 'low': '157.32001', 'close': '164.31000', 'volume': '122515800'}, {'datetime': '2023-04-27', 'open': '152.64000', 'high': '160.48000', 'low': '152.37000', 'close': '160.19000', 'volume': '127015200'}, {'datetime': '2023-04-26', 'open': '160.28999', 'high': '160.67000', 'low': '153.14000', 'close': '153.75000', 'volume': '153364100'}, {'datetime': '2023-04-25', 'open': '159.82001', 'high': '163.47000', 'low': '158.75000', 'close': '160.67000', 'volume': '121999300'}, {'datetime': '2023-04-24', 'open': '164.64999', 'high': '165.64999', 'low': '158.61000', 'close': '162.55000', 'volume': '140006600'}]\n"
     ]
    }
   ],
   "source": [
    "# Retrieve historical data for AAPL (Apple Inc.) from January 1, 2023 to May 1, 2023\n",
    "data = td.get_historical_data(\"TSLA\", start_date=\"2023-01-01\", end_date=\"2023-05-01\")\n",
    "\n",
    "# Print the first few entries of the retrieved data\n",
    "print(data['values'][:5] if data and 'values' in data else \"No data retrieved\")"
   ]
  },
  {
   "cell_type": "markdown",
   "metadata": {},
   "source": [
    "## Example 2: Retrieve data for the last 30 days"
   ]
  },
  {
   "cell_type": "code",
   "execution_count": 3,
   "metadata": {},
   "outputs": [
    {
     "name": "stdout",
     "output_type": "stream",
     "text": [
      "[{'datetime': '2024-10-11', 'open': '416.14001', 'high': '417.13000', 'low': '413.25000', 'close': '416.32001', 'volume': '14126600'}, {'datetime': '2024-10-10', 'open': '415.23001', 'high': '417.35001', 'low': '413.14999', 'close': '415.84000', 'volume': '13848400'}, {'datetime': '2024-10-09', 'open': '415.85999', 'high': '420.38000', 'low': '414.29999', 'close': '417.45999', 'volume': '14974300'}, {'datetime': '2024-10-08', 'open': '410.89999', 'high': '415.66000', 'low': '408.17001', 'close': '414.70999', 'volume': '19229300'}, {'datetime': '2024-10-07', 'open': '416.00000', 'high': '417.10999', 'low': '409.00000', 'close': '409.54001', 'volume': '20919800'}]\n"
     ]
    }
   ],
   "source": [
    "# Retrieve data for MSFT (Microsoft Corporation) for the last 30 days\n",
    "last_30_days = td.get_last_n_days(\"MSFT\", 30)\n",
    "\n",
    "# Print the first few entries of the retrieved data\n",
    "print(last_30_days['values'][:5] if last_30_days and 'values' in last_30_days else \"No data retrieved\")"
   ]
  },
  {
   "cell_type": "markdown",
   "metadata": {},
   "source": [
    "## Example 3: Retrieve data with a specific interval"
   ]
  },
  {
   "cell_type": "code",
   "execution_count": 4,
   "metadata": {},
   "outputs": [
    {
     "name": "stdout",
     "output_type": "stream",
     "text": [
      "[{'datetime': '2024-10-11 15:30:00', 'open': '163.78000', 'high': '163.89999', 'low': '163.02000', 'close': '163.23500', 'volume': '1862954'}, {'datetime': '2024-10-11 14:30:00', 'open': '163.35500', 'high': '163.80000', 'low': '163.14500', 'close': '163.78999', 'volume': '1116404'}, {'datetime': '2024-10-11 13:30:00', 'open': '163.39500', 'high': '163.55000', 'low': '163.16930', 'close': '163.32001', 'volume': '978646'}, {'datetime': '2024-10-11 12:30:00', 'open': '163.39500', 'high': '163.48000', 'low': '162.95000', 'close': '163.38499', 'volume': '1191365'}, {'datetime': '2024-10-11 11:30:00', 'open': '163.10001', 'high': '163.61000', 'low': '162.97000', 'close': '163.40010', 'volume': '1421759'}]\n"
     ]
    }
   ],
   "source": [
    "# Retrieve hourly data for GOOGL (Alphabet Inc.) for the last 5 days\n",
    "hourly_data = td.get_last_n_days(\"GOOGL\", 5, interval='1h')\n",
    "\n",
    "# Print the first few entries of the retrieved data\n",
    "print(hourly_data['values'][:5] if hourly_data and 'values' in hourly_data else \"No data retrieved\")"
   ]
  },
  {
   "cell_type": "markdown",
   "metadata": {},
   "source": [
    "Remember to replace 'YOUR_API_KEY' with your actual Twelve Data API key before running the notebook. Also, be mindful of your API usage to avoid exceeding your credit limit."
   ]
  },
  {
   "cell_type": "markdown",
   "metadata": {},
   "source": [
    "# Example 4: Retrieve maximum amount of one-minute interval data"
   ]
  },
  {
   "cell_type": "code",
   "execution_count": 5,
   "metadata": {},
   "outputs": [
    {
     "name": "stdout",
     "output_type": "stream",
     "text": [
      "Number of data points retrieved: 5000\n",
      "\n",
      "First data point:\n",
      "{'datetime': '2024-10-11 15:59:00', 'open': '227.63000', 'high': '227.68000', 'low': '227.50000', 'close': '227.52000', 'volume': '555935'}\n",
      "\n",
      "Last data point:\n",
      "{'datetime': '2024-09-25 10:38:00', 'open': '226.48500', 'high': '226.60001', 'low': '226.44000', 'close': '226.44000', 'volume': '43043'}\n",
      "\n",
      "Data spans from 2024-09-25 10:38:00 to 2024-10-11 15:59:00\n"
     ]
    }
   ],
   "source": [
    "# Set the symbol you want to retrieve data for\n",
    "symbol = \"AAPL\"  # You can change this to any stock symbol you're interested in\n",
    "\n",
    "# Set the interval to one minute\n",
    "interval = \"1min\"\n",
    "\n",
    "# We'll use the maximum allowed outputsize of 5000\n",
    "outputsize = 5000\n",
    "\n",
    "# Retrieve the data\n",
    "one_minute_data = td.get_historical_data(symbol, interval=interval, outputsize=outputsize)\n",
    "\n",
    "# Print the number of data points retrieved\n",
    "if one_minute_data and 'values' in one_minute_data:\n",
    "    print(f\"Number of data points retrieved: {len(one_minute_data['values'])}\")\n",
    "    print(\"\\nFirst data point:\")\n",
    "    print(one_minute_data['values'][0])\n",
    "    print(\"\\nLast data point:\")\n",
    "    print(one_minute_data['values'][-1])\n",
    "else:\n",
    "    print(\"No data retrieved\")\n",
    "\n",
    "# Calculate the time span of the retrieved data\n",
    "if one_minute_data and 'values' in one_minute_data and len(one_minute_data['values']) > 1:\n",
    "    start_time = one_minute_data['values'][-1]['datetime']\n",
    "    end_time = one_minute_data['values'][0]['datetime']\n",
    "    print(f\"\\nData spans from {start_time} to {end_time}\")"
   ]
  },
  {
   "cell_type": "code",
   "execution_count": 3,
   "metadata": {},
   "outputs": [
    {
     "ename": "AttributeError",
     "evalue": "'TwelveData' object has no attribute 'websocket'",
     "output_type": "error",
     "traceback": [
      "\u001b[1;31m---------------------------------------------------------------------------\u001b[0m",
      "\u001b[1;31mAttributeError\u001b[0m                            Traceback (most recent call last)",
      "Cell \u001b[1;32mIn[3], line 16\u001b[0m\n\u001b[0;32m     13\u001b[0m api_key \u001b[38;5;241m=\u001b[39m \u001b[38;5;124m'\u001b[39m\u001b[38;5;124m171136ac7161454b8f4abeb987c72b02\u001b[39m\u001b[38;5;124m'\u001b[39m\n\u001b[0;32m     15\u001b[0m td \u001b[38;5;241m=\u001b[39m TwelveData(api_key)\n\u001b[1;32m---> 16\u001b[0m ws \u001b[38;5;241m=\u001b[39m \u001b[43mtd\u001b[49m\u001b[38;5;241;43m.\u001b[39;49m\u001b[43mwebsocket\u001b[49m(symbols\u001b[38;5;241m=\u001b[39m\u001b[38;5;124m\"\u001b[39m\u001b[38;5;124mBTC/USD\u001b[39m\u001b[38;5;124m\"\u001b[39m, on_event\u001b[38;5;241m=\u001b[39mon_event)\n\u001b[0;32m     17\u001b[0m ws\u001b[38;5;241m.\u001b[39msubscribe([\u001b[38;5;124m'\u001b[39m\u001b[38;5;124mETH/BTC\u001b[39m\u001b[38;5;124m'\u001b[39m, \u001b[38;5;124m'\u001b[39m\u001b[38;5;124mAAPL\u001b[39m\u001b[38;5;124m'\u001b[39m])\n\u001b[0;32m     18\u001b[0m ws\u001b[38;5;241m.\u001b[39mconnect()\n",
      "\u001b[1;31mAttributeError\u001b[0m: 'TwelveData' object has no attribute 'websocket'"
     ]
    }
   ],
   "source": [
    "import time\n",
    "from twelve_data import TwelveData\n",
    "\n",
    "\n",
    "messages_history = []\n",
    "\n",
    "\n",
    "def on_event(e):\n",
    "    # do whatever is needed with data\n",
    "    print(e)\n",
    "    messages_history.append(e)\n",
    "\n",
    "api_key = '171136ac7161454b8f4abeb987c72b02'\n",
    "\n",
    "td = TwelveData(api_key)\n",
    "\n",
    "ws = td.websocket(symbols=\"BTC/USD\", on_event=on_event)\n",
    "ws.subscribe(['ETH/BTC', 'AAPL'])\n",
    "ws.connect()\n",
    "while True:\n",
    "    print('messages received: ', len(messages_history))\n",
    "    ws.heartbeat()\n",
    "    time.sleep(10)"
   ]
  },
  {
   "cell_type": "code",
   "execution_count": 1,
   "metadata": {},
   "outputs": [
    {
     "data": {
      "text/html": [
       "<div>\n",
       "<style scoped>\n",
       "    .dataframe tbody tr th:only-of-type {\n",
       "        vertical-align: middle;\n",
       "    }\n",
       "\n",
       "    .dataframe tbody tr th {\n",
       "        vertical-align: top;\n",
       "    }\n",
       "\n",
       "    .dataframe thead th {\n",
       "        text-align: right;\n",
       "    }\n",
       "</style>\n",
       "<table border=\"1\" class=\"dataframe\">\n",
       "  <thead>\n",
       "    <tr style=\"text-align: right;\">\n",
       "      <th></th>\n",
       "      <th>open</th>\n",
       "      <th>high</th>\n",
       "      <th>low</th>\n",
       "      <th>close</th>\n",
       "      <th>volume</th>\n",
       "    </tr>\n",
       "    <tr>\n",
       "      <th>datetime</th>\n",
       "      <th></th>\n",
       "      <th></th>\n",
       "      <th></th>\n",
       "      <th></th>\n",
       "      <th></th>\n",
       "    </tr>\n",
       "  </thead>\n",
       "  <tbody>\n",
       "    <tr>\n",
       "      <th>2024-10-23 13:51:00</th>\n",
       "      <td>228.750</td>\n",
       "      <td>228.980</td>\n",
       "      <td>228.685</td>\n",
       "      <td>228.890</td>\n",
       "      <td>1683</td>\n",
       "    </tr>\n",
       "    <tr>\n",
       "      <th>2024-10-23 13:50:00</th>\n",
       "      <td>229.390</td>\n",
       "      <td>229.390</td>\n",
       "      <td>228.760</td>\n",
       "      <td>228.760</td>\n",
       "      <td>6443</td>\n",
       "    </tr>\n",
       "    <tr>\n",
       "      <th>2024-10-23 13:49:00</th>\n",
       "      <td>229.380</td>\n",
       "      <td>229.380</td>\n",
       "      <td>229.380</td>\n",
       "      <td>229.380</td>\n",
       "      <td>227</td>\n",
       "    </tr>\n",
       "    <tr>\n",
       "      <th>2024-10-23 13:48:00</th>\n",
       "      <td>229.440</td>\n",
       "      <td>229.590</td>\n",
       "      <td>229.440</td>\n",
       "      <td>229.575</td>\n",
       "      <td>503</td>\n",
       "    </tr>\n",
       "    <tr>\n",
       "      <th>2024-10-23 13:47:00</th>\n",
       "      <td>229.500</td>\n",
       "      <td>229.570</td>\n",
       "      <td>229.480</td>\n",
       "      <td>229.570</td>\n",
       "      <td>1138</td>\n",
       "    </tr>\n",
       "    <tr>\n",
       "      <th>2024-10-23 13:46:00</th>\n",
       "      <td>229.620</td>\n",
       "      <td>229.640</td>\n",
       "      <td>229.610</td>\n",
       "      <td>229.610</td>\n",
       "      <td>2230</td>\n",
       "    </tr>\n",
       "    <tr>\n",
       "      <th>2024-10-23 13:45:00</th>\n",
       "      <td>229.600</td>\n",
       "      <td>229.640</td>\n",
       "      <td>229.600</td>\n",
       "      <td>229.640</td>\n",
       "      <td>2383</td>\n",
       "    </tr>\n",
       "    <tr>\n",
       "      <th>2024-10-23 13:44:00</th>\n",
       "      <td>229.635</td>\n",
       "      <td>229.685</td>\n",
       "      <td>229.605</td>\n",
       "      <td>229.685</td>\n",
       "      <td>2278</td>\n",
       "    </tr>\n",
       "    <tr>\n",
       "      <th>2024-10-23 13:43:00</th>\n",
       "      <td>229.650</td>\n",
       "      <td>229.695</td>\n",
       "      <td>229.630</td>\n",
       "      <td>229.635</td>\n",
       "      <td>1345</td>\n",
       "    </tr>\n",
       "    <tr>\n",
       "      <th>2024-10-23 13:42:00</th>\n",
       "      <td>229.645</td>\n",
       "      <td>229.685</td>\n",
       "      <td>229.620</td>\n",
       "      <td>229.675</td>\n",
       "      <td>1379</td>\n",
       "    </tr>\n",
       "  </tbody>\n",
       "</table>\n",
       "</div>"
      ],
      "text/plain": [
       "                        open     high      low    close  volume\n",
       "datetime                                                       \n",
       "2024-10-23 13:51:00  228.750  228.980  228.685  228.890    1683\n",
       "2024-10-23 13:50:00  229.390  229.390  228.760  228.760    6443\n",
       "2024-10-23 13:49:00  229.380  229.380  229.380  229.380     227\n",
       "2024-10-23 13:48:00  229.440  229.590  229.440  229.575     503\n",
       "2024-10-23 13:47:00  229.500  229.570  229.480  229.570    1138\n",
       "2024-10-23 13:46:00  229.620  229.640  229.610  229.610    2230\n",
       "2024-10-23 13:45:00  229.600  229.640  229.600  229.640    2383\n",
       "2024-10-23 13:44:00  229.635  229.685  229.605  229.685    2278\n",
       "2024-10-23 13:43:00  229.650  229.695  229.630  229.635    1345\n",
       "2024-10-23 13:42:00  229.645  229.685  229.620  229.675    1379"
      ]
     },
     "execution_count": 1,
     "metadata": {},
     "output_type": "execute_result"
    }
   ],
   "source": [
    "# api_key = \"wss://ws.twelvedata.com/v1/quotes/price?apikey=api_key\"\n",
    "api_key = '171136ac7161454b8f4abeb987c72b02'\n",
    "\n",
    "from twelvedata import TDClient\n",
    "\n",
    "# Initialize client - apikey parameter is required\n",
    "td = TDClient(apikey=api_key)\n",
    "\n",
    "# Construct the necessary time series\n",
    "ts = td.time_series(\n",
    "    symbol=\"AAPL\",\n",
    "    interval=\"1min\",\n",
    "    outputsize=10,\n",
    "    timezone=\"America/New_York\",\n",
    ")\n",
    "\n",
    "# Returns pandas.DataFrame\n",
    "ts.as_pandas()\n"
   ]
  },
  {
   "cell_type": "code",
   "execution_count": 2,
   "metadata": {},
   "outputs": [
    {
     "name": "stdout",
     "output_type": "stream",
     "text": [
      "messages received:  0\n",
      "{'event': 'subscribe-status', 'status': 'error', 'success': None, 'fails': [{'symbol': 'TSLA'}]}\n",
      "messages received:  1\n",
      "{'event': 'heartbeat', 'status': 'ok'}\n",
      "messages received:  2\n",
      "{'event': 'heartbeat', 'status': 'ok'}\n",
      "messages received:  3\n",
      "{'event': 'heartbeat', 'status': 'ok'}\n",
      "messages received:  4\n",
      "{'event': 'heartbeat', 'status': 'ok'}\n"
     ]
    },
    {
     "ename": "KeyboardInterrupt",
     "evalue": "",
     "output_type": "error",
     "traceback": [
      "\u001b[1;31m---------------------------------------------------------------------------\u001b[0m",
      "\u001b[1;31mKeyboardInterrupt\u001b[0m                         Traceback (most recent call last)",
      "Cell \u001b[1;32mIn[2], line 21\u001b[0m\n\u001b[0;32m     19\u001b[0m \u001b[38;5;28mprint\u001b[39m(\u001b[38;5;124m'\u001b[39m\u001b[38;5;124mmessages received: \u001b[39m\u001b[38;5;124m'\u001b[39m, \u001b[38;5;28mlen\u001b[39m(messages_history))\n\u001b[0;32m     20\u001b[0m ws\u001b[38;5;241m.\u001b[39mheartbeat()\n\u001b[1;32m---> 21\u001b[0m \u001b[43mtime\u001b[49m\u001b[38;5;241;43m.\u001b[39;49m\u001b[43msleep\u001b[49m\u001b[43m(\u001b[49m\u001b[38;5;241;43m10\u001b[39;49m\u001b[43m)\u001b[49m\n",
      "\u001b[1;31mKeyboardInterrupt\u001b[0m: "
     ]
    }
   ],
   "source": [
    "import time\n",
    "from twelvedata import TDClient\n",
    "api_key = '171136ac7161454b8f4abeb987c72b02'\n",
    "\n",
    "messages_history = []\n",
    "\n",
    "\n",
    "def on_event(e):\n",
    "    # do whatever is needed with data\n",
    "    print(e)\n",
    "    messages_history.append(e)\n",
    "\n",
    "\n",
    "td = TDClient(apikey=api_key)\n",
    "ws = td.websocket(symbols=\"TSLA\", on_event=on_event)\n",
    "ws.subscribe(['TSLA'])\n",
    "ws.connect()\n",
    "while True:\n",
    "    print('messages received: ', len(messages_history))\n",
    "    ws.heartbeat()\n",
    "    time.sleep(10)"
   ]
  },
  {
   "cell_type": "code",
   "execution_count": 3,
   "metadata": {},
   "outputs": [],
   "source": [
    "import time\n",
    "from twelvedata import TDClient\n",
    "api_key = '171136ac7161454b8f4abeb987c72b02'\n",
    "\n",
    "td = TDClient(apikey=api_key)\n",
    "ws = td.websocket(symbols=\"TSLA\", on_event=on_event)"
   ]
  },
  {
   "cell_type": "code",
   "execution_count": 6,
   "metadata": {},
   "outputs": [],
   "source": [
    "ws.unsubscribe(['TSLA'])"
   ]
  },
  {
   "cell_type": "code",
   "execution_count": 1,
   "metadata": {},
   "outputs": [
    {
     "name": "stdout",
     "output_type": "stream",
     "text": [
      "{'event': 'subscribe-status', 'status': 'error', 'success': None, 'fails': [{'symbol': 'TSLA'}, {'symbol': 'USD'}]}\n"
     ]
    }
   ],
   "source": [
    "import time\n",
    "import pandas as pd\n",
    "from twelvedata import TDClient\n",
    "import pytz\n",
    "from datetime import datetime\n",
    "\n",
    "class TwelveDataClient:\n",
    "    def __init__(self, api_key):\n",
    "        self.api_key = api_key\n",
    "        self.td = TDClient(apikey=api_key)\n",
    "        self.messages_history = []\n",
    "        self.tick_data = []\n",
    "        self.ws = None\n",
    "        self.running = False\n",
    "\n",
    "    def get_historical_data(self, symbol, interval='1day', start_date=None, end_date=None, outputsize=None, timezone=\"America/New_York\"):\n",
    "        \"\"\"\n",
    "        Retrieve historical stock data from Twelve Data API.\n",
    "\n",
    "        :param symbol: The stock symbol (e.g., 'AAPL' for Apple Inc.)\n",
    "        :param interval: Time interval between two consecutive data points (default: '1day')\n",
    "        :param start_date: Start date for the data (format: 'YYYY-MM-DD HH:MM')\n",
    "        :param end_date: End date for the data (format: 'YYYY-MM-DD HH:MM')\n",
    "        :param outputsize: Number of data points to retrieve (max 5000)\n",
    "        :param timezone: Timezone for the data (default: 'America/New_York')\n",
    "        :return: DataFrame containing the historical data\n",
    "        \"\"\"\n",
    "        tz = pytz.timezone(timezone)\n",
    "        \n",
    "        if start_date:\n",
    "            start_date = tz.localize(datetime.strptime(start_date, \"%Y-%m-%d %H:%M\")).isoformat()\n",
    "        if end_date:\n",
    "            end_date = tz.localize(datetime.strptime(end_date, \"%Y-%m-%d %H:%M\")).isoformat()\n",
    "\n",
    "        ts = self.td.time_series(\n",
    "            symbol=symbol,\n",
    "            interval=interval,\n",
    "            start_date=start_date,\n",
    "            end_date=end_date,\n",
    "            outputsize=outputsize,\n",
    "            timezone=timezone,\n",
    "        )\n",
    "        return ts.as_pandas()\n",
    "\n",
    "    def on_event(self, e):\n",
    "        print(e)\n",
    "        self.messages_history.append(e)\n",
    "        # if 'event' in e and e['event'] == 'price':\n",
    "            # tick = {\n",
    "            #     'timestamp': e['timestamp'],\n",
    "            #     'symbol': e['symbol'],\n",
    "            #     'price': e['price'],\n",
    "            #     'volume': e['volume']\n",
    "            # }\n",
    "            # self.tick_data.append(tick)\n",
    "        \n",
    "\n",
    "    def start_websocket(self, symbols):\n",
    "\n",
    "\n",
    "        \n",
    "        ws = self.td.websocket(symbols=\"USD\", on_event=self.on_event)\n",
    "        # ws.subscribe(['ETH/BTC', 'AAPL'])\n",
    "        # ws.subscribe(['AAPL'])\n",
    "        ws.subscribe(symbols)\n",
    "        ws.connect()\n",
    "        while True:\n",
    "            if len(self.messages_history) > 0:\n",
    "                print('messages received: ', len(self.messages_history),  self.messages_history[-1])\n",
    "                ws.heartbeat()\n",
    "            time.sleep(10)\n",
    "\n",
    "        # self.ws = self.td.websocket(symbols=\"USD\", on_event=self.on_event)\n",
    "        # self.ws.subscribe(symbols)\n",
    "        # self.running = True\n",
    "        # while self.running:\n",
    "        #     try:\n",
    "        #         self.ws.connect()\n",
    "        #         while self.running:\n",
    "        #             if len(self.messages_history) > 0:\n",
    "        #                 print('messages received: ', len(self.messages_history) , self.messages_history[-1] )\n",
    "        #             self.ws.heartbeat()\n",
    "        #             time.sleep(10)\n",
    "        #     except Exception as e:\n",
    "        #         print(f\"WebSocket error: {e}\")\n",
    "        #         self.ws.disconnect()\n",
    "        #         time.sleep(5)\n",
    "        #         self.ws.connect()\n",
    "\n",
    "    def stop_websocket(self):\n",
    "        if self.ws:\n",
    "            self.running = False\n",
    "            self.ws.disconnect()\n",
    "            self.ws = None\n",
    "\n",
    "# Example usage\n",
    "api_key = '171136ac7161454b8f4abeb987c72b02'\n",
    "client = TwelveDataClient(api_key)\n",
    "\n",
    "# Get historical data\n",
    "# df = client.get_historical_data(\"AAPL\", \"1min\", start_date=\"2024-10-22 09:30\", end_date=\"2024-10-22 14:30\", outputsize=1100)\n",
    "# print(df)\n",
    "\n",
    "# Start WebSocket connection\n",
    "client.start_websocket(['TSLA'])\n",
    "\n",
    "# Stop WebSocket connection\n",
    "# client.stop_websocket()\n",
    "\n",
    "# Access tick data\n",
    "print(client.tick_data)"
   ]
  },
  {
   "cell_type": "code",
   "execution_count": 2,
   "metadata": {},
   "outputs": [
    {
     "ename": "NameError",
     "evalue": "name 'client' is not defined",
     "output_type": "error",
     "traceback": [
      "\u001b[1;31m---------------------------------------------------------------------------\u001b[0m",
      "\u001b[1;31mNameError\u001b[0m                                 Traceback (most recent call last)",
      "Cell \u001b[1;32mIn[2], line 1\u001b[0m\n\u001b[1;32m----> 1\u001b[0m \u001b[43mclient\u001b[49m\u001b[38;5;241m.\u001b[39mmessages_history\n",
      "\u001b[1;31mNameError\u001b[0m: name 'client' is not defined"
     ]
    }
   ],
   "source": [
    "client.messages_history"
   ]
  },
  {
   "cell_type": "code",
   "execution_count": 38,
   "metadata": {},
   "outputs": [
    {
     "name": "stdout",
     "output_type": "stream",
     "text": [
      "messages received:  0\n",
      "{'event': 'subscribe-status', 'status': 'warning', 'success': [{'symbol': 'EUR/USD', 'type': 'PHYSICAL_CURRENCY'}], 'fails': [{'symbol': 'USD'}]}\n",
      "{'event': 'price', 'symbol': 'EUR/USD', 'currency_base': 'Euro', 'currency_quote': 'US Dollar', 'type': 'Physical Currency', 'timestamp': 1729738320, 'price': 1.07888}\n",
      "{'event': 'price', 'symbol': 'EUR/USD', 'currency_base': 'Euro', 'currency_quote': 'US Dollar', 'type': 'Physical Currency', 'timestamp': 1729738320, 'price': 1.07889}\n",
      "messages received:  3\n",
      "{'event': 'heartbeat', 'status': 'ok'}\n",
      "{'event': 'price', 'symbol': 'EUR/USD', 'currency_base': 'Euro', 'currency_quote': 'US Dollar', 'type': 'Physical Currency', 'timestamp': 1729738320, 'price': 1.07889}\n",
      "messages received:  5\n",
      "{'event': 'heartbeat', 'status': 'ok'}\n"
     ]
    }
   ],
   "source": [
    "import time\n",
    "from twelvedata import TDClient\n",
    "\n",
    "messages_history = []\n",
    "\n",
    "def on_event(e):\n",
    "    # do whatever is needed with data\n",
    "    print(e)\n",
    "    messages_history.append(e)\n",
    "\n",
    "def subscribe_to_twelvedata(api_key, symbols, iterations):\n",
    "    td = TDClient(apikey=api_key)\n",
    "    ws = td.websocket(symbols=\"USD\", on_event=on_event)\n",
    "    ws.subscribe(symbols)\n",
    "    ws.connect()\n",
    "\n",
    "    count = 0\n",
    "    while count < iterations:\n",
    "        print('messages received: ', len(messages_history))\n",
    "        ws.heartbeat()\n",
    "        time.sleep(5)\n",
    "        count += 1\n",
    "    ws.disconnect()\n",
    "\n",
    "# Example usage:\n",
    "subscribe_to_twelvedata('171136ac7161454b8f4abeb987c72b02', ['EUR/USD'], 3)"
   ]
  },
  {
   "cell_type": "code",
   "execution_count": 1,
   "metadata": {},
   "outputs": [
    {
     "name": "stdout",
     "output_type": "stream",
     "text": [
      "messages received:  0\n",
      "{'event': 'subscribe-status', 'status': 'warning', 'success': [{'symbol': 'EUR/USD', 'type': 'PHYSICAL_CURRENCY'}, {'symbol': 'USD/JPY', 'type': 'PHYSICAL_CURRENCY'}], 'fails': [{'symbol': 'USD'}]}\n",
      "{'event': 'price', 'symbol': 'EUR/USD', 'currency_base': 'Euro', 'currency_quote': 'US Dollar', 'type': 'Physical Currency', 'timestamp': 1729740600, 'price': 1.07878}\n",
      "{'event': 'price', 'symbol': 'USD/JPY', 'currency': 'USD', 'currency_base': 'US Dollar', 'currency_quote': 'Japanese Yen', 'type': 'Physical Currency', 'timestamp': 1729740633, 'price': 152.46}\n",
      "{'event': 'price', 'symbol': 'USD/JPY', 'currency': 'USD', 'currency_base': 'US Dollar', 'currency_quote': 'Japanese Yen', 'type': 'Physical Currency', 'timestamp': 1729740634, 'price': 152.453}\n",
      "{'event': 'price', 'symbol': 'USD/JPY', 'currency': 'USD', 'currency_base': 'US Dollar', 'currency_quote': 'Japanese Yen', 'type': 'Physical Currency', 'timestamp': 1729740635, 'price': 152.462}\n",
      "messages received:  4\n",
      "{'event': 'heartbeat', 'status': 'ok'}\n",
      "{'event': 'price', 'symbol': 'USD/JPY', 'currency': 'USD', 'currency_base': 'US Dollar', 'currency_quote': 'Japanese Yen', 'type': 'Physical Currency', 'timestamp': 1729740636, 'price': 152.455}\n",
      "{'event': 'price', 'symbol': 'EUR/USD', 'currency_base': 'Euro', 'currency_quote': 'US Dollar', 'type': 'Physical Currency', 'timestamp': 1729740600, 'price': 1.07878}\n",
      "{'event': 'price', 'symbol': 'USD/JPY', 'currency': 'USD', 'currency_base': 'US Dollar', 'currency_quote': 'Japanese Yen', 'type': 'Physical Currency', 'timestamp': 1729740638, 'price': 152.471}\n",
      "{'event': 'price', 'symbol': 'USD/JPY', 'currency': 'USD', 'currency_base': 'US Dollar', 'currency_quote': 'Japanese Yen', 'type': 'Physical Currency', 'timestamp': 1729740639, 'price': 152.47}\n",
      "{'event': 'price', 'symbol': 'USD/JPY', 'currency': 'USD', 'currency_base': 'US Dollar', 'currency_quote': 'Japanese Yen', 'type': 'Physical Currency', 'timestamp': 1729740639, 'price': 152.47}\n",
      "{'event': 'price', 'symbol': 'USD/JPY', 'currency': 'USD', 'currency_base': 'US Dollar', 'currency_quote': 'Japanese Yen', 'type': 'Physical Currency', 'timestamp': 1729740640, 'price': 152.469}\n",
      "messages received:  10\n",
      "{'event': 'heartbeat', 'status': 'ok'}\n",
      "{'event': 'price', 'symbol': 'USD/JPY', 'currency': 'USD', 'currency_base': 'US Dollar', 'currency_quote': 'Japanese Yen', 'type': 'Physical Currency', 'timestamp': 1729740641, 'price': 152.47}\n",
      "{'event': 'price', 'symbol': 'USD/JPY', 'currency': 'USD', 'currency_base': 'US Dollar', 'currency_quote': 'Japanese Yen', 'type': 'Physical Currency', 'timestamp': 1729740643, 'price': 152.474}\n",
      "{'event': 'price', 'symbol': 'USD/JPY', 'currency': 'USD', 'currency_base': 'US Dollar', 'currency_quote': 'Japanese Yen', 'type': 'Physical Currency', 'timestamp': 1729740644, 'price': 152.473}\n",
      "{'event': 'price', 'symbol': 'USD/JPY', 'currency': 'USD', 'currency_base': 'US Dollar', 'currency_quote': 'Japanese Yen', 'type': 'Physical Currency', 'timestamp': 1729740645, 'price': 152.473}\n",
      "{'event': 'price', 'symbol': 'USD/JPY', 'currency': 'USD', 'currency_base': 'US Dollar', 'currency_quote': 'Japanese Yen', 'type': 'Physical Currency', 'timestamp': 1729740646, 'price': 152.473}\n",
      "messages received:  15\n",
      "{'event': 'heartbeat', 'status': 'ok'}\n",
      "{'event': 'price', 'symbol': 'USD/JPY', 'currency': 'USD', 'currency_base': 'US Dollar', 'currency_quote': 'Japanese Yen', 'type': 'Physical Currency', 'timestamp': 1729740647, 'price': 152.473}\n",
      "{'event': 'price', 'symbol': 'USD/JPY', 'currency': 'USD', 'currency_base': 'US Dollar', 'currency_quote': 'Japanese Yen', 'type': 'Physical Currency', 'timestamp': 1729740648, 'price': 152.479}\n",
      "{'event': 'price', 'symbol': 'USD/JPY', 'currency': 'USD', 'currency_base': 'US Dollar', 'currency_quote': 'Japanese Yen', 'type': 'Physical Currency', 'timestamp': 1729740648, 'price': 152.477}\n",
      "{'event': 'price', 'symbol': 'USD/JPY', 'currency': 'USD', 'currency_base': 'US Dollar', 'currency_quote': 'Japanese Yen', 'type': 'Physical Currency', 'timestamp': 1729740649, 'price': 152.479}\n",
      "{'event': 'price', 'symbol': 'USD/JPY', 'currency': 'USD', 'currency_base': 'US Dollar', 'currency_quote': 'Japanese Yen', 'type': 'Physical Currency', 'timestamp': 1729740650, 'price': 152.481}\n",
      "messages received:  20\n",
      "{'event': 'heartbeat', 'status': 'ok'}\n",
      "{'event': 'price', 'symbol': 'USD/JPY', 'currency': 'USD', 'currency_base': 'US Dollar', 'currency_quote': 'Japanese Yen', 'type': 'Physical Currency', 'timestamp': 1729740651, 'price': 152.478}\n",
      "{'event': 'price', 'symbol': 'USD/JPY', 'currency': 'USD', 'currency_base': 'US Dollar', 'currency_quote': 'Japanese Yen', 'type': 'Physical Currency', 'timestamp': 1729740653, 'price': 152.481}\n",
      "{'event': 'price', 'symbol': 'USD/JPY', 'currency': 'USD', 'currency_base': 'US Dollar', 'currency_quote': 'Japanese Yen', 'type': 'Physical Currency', 'timestamp': 1729740654, 'price': 152.478}\n",
      "{'event': 'price', 'symbol': 'USD/JPY', 'currency': 'USD', 'currency_base': 'US Dollar', 'currency_quote': 'Japanese Yen', 'type': 'Physical Currency', 'timestamp': 1729740655, 'price': 152.468}\n",
      "messages received:  24\n",
      "{'event': 'heartbeat', 'status': 'ok'}\n",
      "{'event': 'price', 'symbol': 'USD/JPY', 'currency': 'USD', 'currency_base': 'US Dollar', 'currency_quote': 'Japanese Yen', 'type': 'Physical Currency', 'timestamp': 1729740656, 'price': 152.464}\n",
      "{'event': 'price', 'symbol': 'USD/JPY', 'currency': 'USD', 'currency_base': 'US Dollar', 'currency_quote': 'Japanese Yen', 'type': 'Physical Currency', 'timestamp': 1729740657, 'price': 152.47}\n",
      "{'event': 'price', 'symbol': 'USD/JPY', 'currency': 'USD', 'currency_base': 'US Dollar', 'currency_quote': 'Japanese Yen', 'type': 'Physical Currency', 'timestamp': 1729740659, 'price': 152.468}\n",
      "{'event': 'price', 'symbol': 'USD/JPY', 'currency': 'USD', 'currency_base': 'US Dollar', 'currency_quote': 'Japanese Yen', 'type': 'Physical Currency', 'timestamp': 1729740661, 'price': 152.47}\n",
      "messages received:  28\n",
      "{'event': 'heartbeat', 'status': 'ok'}\n",
      "{'event': 'price', 'symbol': 'USD/JPY', 'currency': 'USD', 'currency_base': 'US Dollar', 'currency_quote': 'Japanese Yen', 'type': 'Physical Currency', 'timestamp': 1729740661, 'price': 152.472}\n",
      "{'event': 'price', 'symbol': 'USD/JPY', 'currency': 'USD', 'currency_base': 'US Dollar', 'currency_quote': 'Japanese Yen', 'type': 'Physical Currency', 'timestamp': 1729740662, 'price': 152.468}\n",
      "{'event': 'price', 'symbol': 'USD/JPY', 'currency': 'USD', 'currency_base': 'US Dollar', 'currency_quote': 'Japanese Yen', 'type': 'Physical Currency', 'timestamp': 1729740664, 'price': 152.468}\n",
      "{'event': 'price', 'symbol': 'EUR/USD', 'currency_base': 'Euro', 'currency_quote': 'US Dollar', 'type': 'Physical Currency', 'timestamp': 1729740660, 'price': 1.07876}\n",
      "{'event': 'price', 'symbol': 'USD/JPY', 'currency': 'USD', 'currency_base': 'US Dollar', 'currency_quote': 'Japanese Yen', 'type': 'Physical Currency', 'timestamp': 1729740665, 'price': 152.471}\n",
      "{'event': 'price', 'symbol': 'USD/JPY', 'currency': 'USD', 'currency_base': 'US Dollar', 'currency_quote': 'Japanese Yen', 'type': 'Physical Currency', 'timestamp': 1729740666, 'price': 152.468}\n",
      "messages received:  34\n",
      "{'event': 'heartbeat', 'status': 'ok'}\n",
      "{'event': 'price', 'symbol': 'USD/JPY', 'currency': 'USD', 'currency_base': 'US Dollar', 'currency_quote': 'Japanese Yen', 'type': 'Physical Currency', 'timestamp': 1729740666, 'price': 152.469}\n",
      "{'event': 'price', 'symbol': 'USD/JPY', 'currency': 'USD', 'currency_base': 'US Dollar', 'currency_quote': 'Japanese Yen', 'type': 'Physical Currency', 'timestamp': 1729740667, 'price': 152.468}\n",
      "{'event': 'price', 'symbol': 'USD/JPY', 'currency': 'USD', 'currency_base': 'US Dollar', 'currency_quote': 'Japanese Yen', 'type': 'Physical Currency', 'timestamp': 1729740668, 'price': 152.468}\n",
      "{'event': 'price', 'symbol': 'USD/JPY', 'currency': 'USD', 'currency_base': 'US Dollar', 'currency_quote': 'Japanese Yen', 'type': 'Physical Currency', 'timestamp': 1729740670, 'price': 152.471}\n",
      "{'event': 'price', 'symbol': 'EUR/USD', 'currency_base': 'Euro', 'currency_quote': 'US Dollar', 'type': 'Physical Currency', 'timestamp': 1729740660, 'price': 1.0787}\n",
      "{'event': 'price', 'symbol': 'USD/JPY', 'currency': 'USD', 'currency_base': 'US Dollar', 'currency_quote': 'Japanese Yen', 'type': 'Physical Currency', 'timestamp': 1729740670, 'price': 152.467}\n",
      "messages received:  40\n",
      "{'event': 'heartbeat', 'status': 'ok'}\n",
      "{'event': 'price', 'symbol': 'USD/JPY', 'currency': 'USD', 'currency_base': 'US Dollar', 'currency_quote': 'Japanese Yen', 'type': 'Physical Currency', 'timestamp': 1729740675, 'price': 152.468, 'bid': 152.46800232, 'ask': 152.47999573}\n",
      "{'event': 'price', 'symbol': 'USD/JPY', 'currency': 'USD', 'currency_base': 'US Dollar', 'currency_quote': 'Japanese Yen', 'type': 'Physical Currency', 'timestamp': 1729740675, 'price': 152.468}\n",
      "messages received:  42\n",
      "{'event': 'heartbeat', 'status': 'ok'}\n",
      "{'event': 'price', 'symbol': 'USD/JPY', 'currency': 'USD', 'currency_base': 'US Dollar', 'currency_quote': 'Japanese Yen', 'type': 'Physical Currency', 'timestamp': 1729740676, 'price': 152.469}\n",
      "{'event': 'price', 'symbol': 'EUR/USD', 'currency_base': 'Euro', 'currency_quote': 'US Dollar', 'type': 'Physical Currency', 'timestamp': 1729740660, 'price': 1.07875}\n",
      "{'event': 'price', 'symbol': 'USD/JPY', 'currency': 'USD', 'currency_base': 'US Dollar', 'currency_quote': 'Japanese Yen', 'type': 'Physical Currency', 'timestamp': 1729740677, 'price': 152.468}\n",
      "{'event': 'price', 'symbol': 'USD/JPY', 'currency': 'USD', 'currency_base': 'US Dollar', 'currency_quote': 'Japanese Yen', 'type': 'Physical Currency', 'timestamp': 1729740678, 'price': 152.468}\n",
      "{'event': 'price', 'symbol': 'USD/JPY', 'currency': 'USD', 'currency_base': 'US Dollar', 'currency_quote': 'Japanese Yen', 'type': 'Physical Currency', 'timestamp': 1729740679, 'price': 152.469}\n",
      "{'event': 'price', 'symbol': 'USD/JPY', 'currency': 'USD', 'currency_base': 'US Dollar', 'currency_quote': 'Japanese Yen', 'type': 'Physical Currency', 'timestamp': 1729740680, 'price': 152.468}\n",
      "----------------------\n",
      "Websocket disconnected\n",
      "----------------------\n"
     ]
    }
   ],
   "source": [
    "import time\n",
    "from datetime import datetime\n",
    "import pytz\n",
    "from tzlocal import get_localzone\n",
    "from twelvedata import TDClient\n",
    "import pandas as pd\n",
    "\n",
    "class TwelveData:\n",
    "    def __init__(self, api_key, symbols, iterations):\n",
    "        self.api_key = api_key\n",
    "        self.symbols = symbols\n",
    "        self.iterations = iterations\n",
    "        self.messages_history = []\n",
    "        self.ohlc_data = {symbol: [] for symbol in symbols}\n",
    "        self.current_minute_data = {symbol: {} for symbol in symbols}\n",
    "\n",
    "    def on_event(self, e):\n",
    "        if e['event'] == 'price':\n",
    "            symbol = e['symbol']\n",
    "            timestamp = datetime.fromtimestamp(e['timestamp'])\n",
    "            \n",
    "            # Set timezone to exchange timezone if available, otherwise use local timezone\n",
    "            if 'timezone' in e:\n",
    "                tz = pytz.timezone(e['timezone'])\n",
    "            else:\n",
    "                tz = get_localzone()\n",
    "            \n",
    "            timestamp = timestamp.astimezone(tz)\n",
    "            # Set seconds to zero\n",
    "            timestamp = timestamp.replace(second=0, microsecond=0)\n",
    "            minute = timestamp.minute\n",
    "            price = float(e['price'])\n",
    "            \n",
    "            if 'minute' not in self.current_minute_data[symbol] or self.current_minute_data[symbol]['minute'] != minute:\n",
    "                if 'minute' in self.current_minute_data[symbol]:\n",
    "                    self.ohlc_data[symbol].append(self.current_minute_data[symbol])\n",
    "                self.current_minute_data[symbol] = {\n",
    "                    'symbol': symbol,\n",
    "                    'minute': minute,\n",
    "                    'datetime': timestamp.strftime('%Y-%m-%d %H:%M:%S'),\n",
    "                    'open': price,\n",
    "                    'high': price,\n",
    "                    'low': price,\n",
    "                    'close': price,\n",
    "                    'volume': e.get('volume', 0)\n",
    "                }\n",
    "            else:\n",
    "                self.current_minute_data[symbol]['high'] = max(self.current_minute_data[symbol]['high'], price)\n",
    "                self.current_minute_data[symbol]['low'] = min(self.current_minute_data[symbol]['low'], price)\n",
    "                self.current_minute_data[symbol]['close'] = price\n",
    "                if 'volume' in e:\n",
    "                    self.current_minute_data[symbol]['volume'] += e['volume']\n",
    "            \n",
    "            self.messages_history.append(e)\n",
    "        print(e)\n",
    "\n",
    "    def subscribe(self):\n",
    "        td = TDClient(apikey=self.api_key)\n",
    "        ws = td.websocket(symbols=\"USD\", on_event=self.on_event)\n",
    "        ws.subscribe(self.symbols)\n",
    "        ws.connect()\n",
    "\n",
    "        count = 0\n",
    "        while count < self.iterations:\n",
    "            print('messages received: ', len(self.messages_history))\n",
    "            ws.heartbeat()\n",
    "            time.sleep(5)\n",
    "            count += 1\n",
    "        ws.disconnect()\n",
    "        print('----------------------')\n",
    "        print('Websocket disconnected')\n",
    "        print('----------------------')\n",
    "        \n",
    "        # Add the last minute's data if it exists\n",
    "        for symbol in self.symbols:\n",
    "            if self.current_minute_data[symbol]:\n",
    "                self.ohlc_data[symbol].append(self.current_minute_data[symbol])\n",
    "    \n",
    "    def get_df(self):\n",
    "        all_data = []\n",
    "        for symbol in self.symbols:\n",
    "            all_data.extend(self.ohlc_data[symbol])\n",
    "        return pd.DataFrame(all_data).drop(columns=['minute']).set_index('datetime')\n",
    "\n",
    "# Example usage:\n",
    "td = TwelveData('171136ac7161454b8f4abeb987c72b02', ['EUR/USD', 'USD/JPY'], 10)\n",
    "td.subscribe()\n",
    "# df = td.get_df()\n",
    "# print(df)"
   ]
  },
  {
   "cell_type": "code",
   "execution_count": 3,
   "metadata": {},
   "outputs": [
    {
     "data": {
      "text/html": [
       "<div>\n",
       "<style scoped>\n",
       "    .dataframe tbody tr th:only-of-type {\n",
       "        vertical-align: middle;\n",
       "    }\n",
       "\n",
       "    .dataframe tbody tr th {\n",
       "        vertical-align: top;\n",
       "    }\n",
       "\n",
       "    .dataframe thead th {\n",
       "        text-align: right;\n",
       "    }\n",
       "</style>\n",
       "<table border=\"1\" class=\"dataframe\">\n",
       "  <thead>\n",
       "    <tr style=\"text-align: right;\">\n",
       "      <th></th>\n",
       "      <th>symbol</th>\n",
       "      <th>open</th>\n",
       "      <th>high</th>\n",
       "      <th>low</th>\n",
       "      <th>close</th>\n",
       "      <th>volume</th>\n",
       "    </tr>\n",
       "    <tr>\n",
       "      <th>datetime</th>\n",
       "      <th></th>\n",
       "      <th></th>\n",
       "      <th></th>\n",
       "      <th></th>\n",
       "      <th></th>\n",
       "      <th></th>\n",
       "    </tr>\n",
       "  </thead>\n",
       "  <tbody>\n",
       "    <tr>\n",
       "      <th>2024-10-24 04:30:00</th>\n",
       "      <td>EUR/USD</td>\n",
       "      <td>1.07878</td>\n",
       "      <td>1.07878</td>\n",
       "      <td>1.07878</td>\n",
       "      <td>1.07878</td>\n",
       "      <td>0</td>\n",
       "    </tr>\n",
       "    <tr>\n",
       "      <th>2024-10-24 04:30:00</th>\n",
       "      <td>USD/JPY</td>\n",
       "      <td>152.46000</td>\n",
       "      <td>152.48100</td>\n",
       "      <td>152.45300</td>\n",
       "      <td>152.46800</td>\n",
       "      <td>0</td>\n",
       "    </tr>\n",
       "    <tr>\n",
       "      <th>2024-10-24 04:31:00</th>\n",
       "      <td>EUR/USD</td>\n",
       "      <td>1.07876</td>\n",
       "      <td>1.07876</td>\n",
       "      <td>1.07870</td>\n",
       "      <td>1.07875</td>\n",
       "      <td>0</td>\n",
       "    </tr>\n",
       "    <tr>\n",
       "      <th>2024-10-24 04:31:00</th>\n",
       "      <td>USD/JPY</td>\n",
       "      <td>152.47000</td>\n",
       "      <td>152.47200</td>\n",
       "      <td>152.46700</td>\n",
       "      <td>152.46800</td>\n",
       "      <td>0</td>\n",
       "    </tr>\n",
       "  </tbody>\n",
       "</table>\n",
       "</div>"
      ],
      "text/plain": [
       "                      symbol       open       high        low      close  \\\n",
       "datetime                                                                   \n",
       "2024-10-24 04:30:00  EUR/USD    1.07878    1.07878    1.07878    1.07878   \n",
       "2024-10-24 04:30:00  USD/JPY  152.46000  152.48100  152.45300  152.46800   \n",
       "2024-10-24 04:31:00  EUR/USD    1.07876    1.07876    1.07870    1.07875   \n",
       "2024-10-24 04:31:00  USD/JPY  152.47000  152.47200  152.46700  152.46800   \n",
       "\n",
       "                     volume  \n",
       "datetime                     \n",
       "2024-10-24 04:30:00       0  \n",
       "2024-10-24 04:30:00       0  \n",
       "2024-10-24 04:31:00       0  \n",
       "2024-10-24 04:31:00       0  "
      ]
     },
     "execution_count": 3,
     "metadata": {},
     "output_type": "execute_result"
    }
   ],
   "source": [
    "td.get_df().sort_index()"
   ]
  },
  {
   "cell_type": "code",
   "execution_count": 5,
   "metadata": {},
   "outputs": [
    {
     "data": {
      "text/html": [
       "<div>\n",
       "<style scoped>\n",
       "    .dataframe tbody tr th:only-of-type {\n",
       "        vertical-align: middle;\n",
       "    }\n",
       "\n",
       "    .dataframe tbody tr th {\n",
       "        vertical-align: top;\n",
       "    }\n",
       "\n",
       "    .dataframe thead th {\n",
       "        text-align: right;\n",
       "    }\n",
       "</style>\n",
       "<table border=\"1\" class=\"dataframe\">\n",
       "  <thead>\n",
       "    <tr style=\"text-align: right;\">\n",
       "      <th></th>\n",
       "      <th>open</th>\n",
       "      <th>high</th>\n",
       "      <th>low</th>\n",
       "      <th>close</th>\n",
       "      <th>volume</th>\n",
       "    </tr>\n",
       "    <tr>\n",
       "      <th>datetime</th>\n",
       "      <th></th>\n",
       "      <th></th>\n",
       "      <th></th>\n",
       "      <th></th>\n",
       "      <th></th>\n",
       "    </tr>\n",
       "  </thead>\n",
       "  <tbody>\n",
       "    <tr>\n",
       "      <th>2024-10-24 04:08:00</th>\n",
       "      <td>1.078857</td>\n",
       "      <td>1.078857</td>\n",
       "      <td>1.078857</td>\n",
       "      <td>1.078857</td>\n",
       "      <td>0</td>\n",
       "    </tr>\n",
       "    <tr>\n",
       "      <th>2024-10-24 04:09:00</th>\n",
       "      <td>1.078850</td>\n",
       "      <td>1.078857</td>\n",
       "      <td>1.078842</td>\n",
       "      <td>1.078847</td>\n",
       "      <td>0</td>\n",
       "    </tr>\n",
       "  </tbody>\n",
       "</table>\n",
       "</div>"
      ],
      "text/plain": [
       "                         open      high       low     close  volume\n",
       "datetime                                                           \n",
       "2024-10-24 04:08:00  1.078857  1.078857  1.078857  1.078857       0\n",
       "2024-10-24 04:09:00  1.078850  1.078857  1.078842  1.078847       0"
      ]
     },
     "execution_count": 5,
     "metadata": {},
     "output_type": "execute_result"
    }
   ],
   "source": [
    "import pandas as pd\n",
    "\n",
    "pd.DataFrame(ohlc_data).drop(columns=['minute']).set_index('datetime')"
   ]
  },
  {
   "cell_type": "code",
   "execution_count": 35,
   "metadata": {},
   "outputs": [
    {
     "name": "stdout",
     "output_type": "stream",
     "text": [
      "{'AAPL': {'price': '230.75999'}, 'SPY': {'price': '577.98999'}, 'EUR/USD': {'price': '1.07871'}}\n"
     ]
    }
   ],
   "source": [
    "\n",
    "import time\n",
    "from twelvedata import TDClient\n",
    "\n",
    "api_key = '171136ac7161454b8f4abeb987c72b02'\n",
    "td = TDClient(apikey=api_key)\n",
    "\n",
    "\n",
    "\n",
    "# stocks_list = td.get_stocks_list(\n",
    "#                 symbol=None,\n",
    "#                 exchange='NASDAQ',\n",
    "#                 country='USA',\n",
    "#                 type=None,\n",
    "#                 mic_code=None,\n",
    "#                 show_plan=None,\n",
    "#                 # include_delisted=None).as_json()\n",
    "\n",
    "\n",
    "# stock_exchanges_list = td.get_stock_exchanges_list().as_json()\n",
    "\n",
    "# exchange_list = td.get_exchanges_list().as_json()\n",
    "\n",
    "# etf_list = td.get_etf_list().as_json()\n",
    "\n",
    "# indicies_list = td.get_indices_list().as_json()\n",
    "\n",
    "# return_search = td.symbol_search(symbol='TSLA').as_json()\n",
    "\n",
    "# price = td.price(symbol='TSLA').as_json()\n",
    "price = td.price(symbol=['AAPL', 'SPY', 'EUR/USD']).as_json()\n",
    "print(price)\n",
    "\n",
    "\n",
    "# quote = td.quote(symbol='TSLA').as_json()\n",
    "\n",
    "\n",
    "# forex_pairs_list = td.get_forex_pairs_list().as_json()\n",
    "\n",
    "import pandas as pd\n",
    "# pd.DataFrame(forex_pairs_list)"
   ]
  },
  {
   "cell_type": "code",
   "execution_count": 19,
   "metadata": {},
   "outputs": [
    {
     "data": {
      "text/plain": [
       "{'symbol': 'TSLA',\n",
       " 'name': 'Tesla Inc',\n",
       " 'currency': 'USD',\n",
       " 'exchange': 'NASDAQ',\n",
       " 'mic_code': 'XNGS',\n",
       " 'country': 'United States',\n",
       " 'type': 'Common Stock',\n",
       " 'figi_code': 'BBG000N9P426'}"
      ]
     },
     "execution_count": 19,
     "metadata": {},
     "output_type": "execute_result"
    }
   ],
   "source": [
    "def find (stocks_list, symbol):\n",
    "    for stock in stocks_list:\n",
    "        if stock['symbol'] == symbol:\n",
    "            return stock\n",
    "    return None\n",
    "\n",
    "find(stocks_list, 'TSLA')"
   ]
  },
  {
   "cell_type": "code",
   "execution_count": 2,
   "metadata": {},
   "outputs": [
    {
     "name": "stdout",
     "output_type": "stream",
     "text": [
      "{'event': 'subscribe-status', 'status': 'warning', 'success': [{'symbol': 'EUR/USD', 'type': 'PHYSICAL_CURRENCY'}], 'fails': [{'symbol': 'USD'}]}\n",
      "{'event': 'price', 'symbol': 'EUR/USD', 'currency_base': 'Euro', 'currency_quote': 'US Dollar', 'type': 'Physical Currency', 'timestamp': 1729742580, 'price': 1.0788}\n",
      "{'event': 'heartbeat', 'status': 'ok'}\n",
      "{'event': 'price', 'symbol': 'EUR/USD', 'currency_base': 'Euro', 'currency_quote': 'US Dollar', 'type': 'Physical Currency', 'timestamp': 1729742580, 'price': 1.07881}\n",
      "{'event': 'price', 'symbol': 'EUR/USD', 'currency_base': 'Euro', 'currency_quote': 'US Dollar', 'type': 'Physical Currency', 'timestamp': 1729742580, 'price': 1.07881}\n",
      "{'event': 'heartbeat', 'status': 'ok'}\n",
      "{'event': 'price', 'symbol': 'EUR/USD', 'currency_base': 'Euro', 'currency_quote': 'US Dollar', 'type': 'Physical Currency', 'timestamp': 1729742580, 'price': 1.07881}\n",
      "{'event': 'heartbeat', 'status': 'ok'}\n",
      "{'event': 'heartbeat', 'status': 'ok'}\n",
      "{'event': 'heartbeat', 'status': 'ok'}\n",
      "{'event': 'heartbeat', 'status': 'ok'}\n",
      "{'event': 'heartbeat', 'status': 'ok'}\n",
      "----------------------\n",
      "Websocket disconnected\n",
      "----------------------\n"
     ]
    },
    {
     "data": {
      "text/html": [
       "<div>\n",
       "<style scoped>\n",
       "    .dataframe tbody tr th:only-of-type {\n",
       "        vertical-align: middle;\n",
       "    }\n",
       "\n",
       "    .dataframe tbody tr th {\n",
       "        vertical-align: top;\n",
       "    }\n",
       "\n",
       "    .dataframe thead th {\n",
       "        text-align: right;\n",
       "    }\n",
       "</style>\n",
       "<table border=\"1\" class=\"dataframe\">\n",
       "  <thead>\n",
       "    <tr style=\"text-align: right;\">\n",
       "      <th></th>\n",
       "      <th>symbol</th>\n",
       "      <th>open</th>\n",
       "      <th>high</th>\n",
       "      <th>low</th>\n",
       "      <th>close</th>\n",
       "      <th>volume</th>\n",
       "    </tr>\n",
       "    <tr>\n",
       "      <th>datetime</th>\n",
       "      <th></th>\n",
       "      <th></th>\n",
       "      <th></th>\n",
       "      <th></th>\n",
       "      <th></th>\n",
       "      <th></th>\n",
       "    </tr>\n",
       "  </thead>\n",
       "  <tbody>\n",
       "    <tr>\n",
       "      <th>2024-10-24 05:03:00</th>\n",
       "      <td>EUR/USD</td>\n",
       "      <td>1.0788</td>\n",
       "      <td>1.07881</td>\n",
       "      <td>1.0788</td>\n",
       "      <td>1.07881</td>\n",
       "      <td>0</td>\n",
       "    </tr>\n",
       "  </tbody>\n",
       "</table>\n",
       "</div>"
      ],
      "text/plain": [
       "                      symbol    open     high     low    close  volume\n",
       "datetime                                                              \n",
       "2024-10-24 05:03:00  EUR/USD  1.0788  1.07881  1.0788  1.07881       0"
      ]
     },
     "execution_count": 2,
     "metadata": {},
     "output_type": "execute_result"
    }
   ],
   "source": [
    "from twelve_data import TwelveData\n",
    "\n",
    "td = TwelveData('171136ac7161454b8f4abeb987c72b02', ['EUR/USD'])\n",
    "# td.get_historical_data('EUR/USD', '1min', '2024-10-22 09:30', '2024-10-22 14:30', 1100)\n",
    "\n",
    "td.subscribe(until='2024-10-24 05:04:00')\n",
    "td.get_df()"
   ]
  },
  {
   "cell_type": "code",
   "execution_count": 3,
   "metadata": {},
   "outputs": [
    {
     "data": {
      "text/plain": [
       "<bound method DataFrame.sort_index of                       symbol     open     high       low    close  volume\n",
       "datetime                                                                 \n",
       "2024-10-24 04:44:00  EUR/USD  1.07865  1.07866  1.078638  1.07866       0\n",
       "2024-10-24 04:45:00  EUR/USD  1.07868  1.07868  1.078660  1.07866       0>"
      ]
     },
     "execution_count": 3,
     "metadata": {},
     "output_type": "execute_result"
    }
   ],
   "source": [
    "td.get_df()"
   ]
  }
 ],
 "metadata": {
  "kernelspec": {
   "display_name": "SB4",
   "language": "python",
   "name": "python3"
  },
  "language_info": {
   "codemirror_mode": {
    "name": "ipython",
    "version": 3
   },
   "file_extension": ".py",
   "mimetype": "text/x-python",
   "name": "python",
   "nbconvert_exporter": "python",
   "pygments_lexer": "ipython3",
   "version": "3.12.7"
  }
 },
 "nbformat": 4,
 "nbformat_minor": 2
}
