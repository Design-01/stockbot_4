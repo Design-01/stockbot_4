{
 "cells": [
  {
   "cell_type": "markdown",
   "metadata": {},
   "source": [
    "# Testing Twelve Data API Integration\n",
    "\n",
    "This notebook demonstrates how to use the TwelveData class to retrieve historical stock data."
   ]
  },
  {
   "cell_type": "code",
   "execution_count": 1,
   "metadata": {},
   "outputs": [
    {
     "data": {
      "text/plain": [
       "<twelve_data.TwelveData at 0x220a04dbe90>"
      ]
     },
     "execution_count": 1,
     "metadata": {},
     "output_type": "execute_result"
    }
   ],
   "source": [
    "from twelve_data import TwelveData\n",
    "\n",
    "# Replace 'YOUR_API_KEY' with your actual Twelve Data API key\n",
    "api_key = '171136ac7161454b8f4abeb987c72b02'\n",
    "\n",
    "# Initialize the TwelveData instance\n",
    "td = TwelveData(api_key)\n",
    "td"
   ]
  },
  {
   "cell_type": "markdown",
   "metadata": {},
   "source": [
    "## Example 1: Retrieve historical data for a specific date range"
   ]
  },
  {
   "cell_type": "code",
   "execution_count": 2,
   "metadata": {},
   "outputs": [
    {
     "name": "stdout",
     "output_type": "stream",
     "text": [
      "[{'datetime': '2023-04-28', 'open': '160.89999', 'high': '165.00000', 'low': '157.32001', 'close': '164.31000', 'volume': '122515800'}, {'datetime': '2023-04-27', 'open': '152.64000', 'high': '160.48000', 'low': '152.37000', 'close': '160.19000', 'volume': '127015200'}, {'datetime': '2023-04-26', 'open': '160.28999', 'high': '160.67000', 'low': '153.14000', 'close': '153.75000', 'volume': '153364100'}, {'datetime': '2023-04-25', 'open': '159.82001', 'high': '163.47000', 'low': '158.75000', 'close': '160.67000', 'volume': '121999300'}, {'datetime': '2023-04-24', 'open': '164.64999', 'high': '165.64999', 'low': '158.61000', 'close': '162.55000', 'volume': '140006600'}]\n"
     ]
    }
   ],
   "source": [
    "# Retrieve historical data for AAPL (Apple Inc.) from January 1, 2023 to May 1, 2023\n",
    "data = td.get_historical_data(\"TSLA\", start_date=\"2023-01-01\", end_date=\"2023-05-01\")\n",
    "\n",
    "# Print the first few entries of the retrieved data\n",
    "print(data['values'][:5] if data and 'values' in data else \"No data retrieved\")"
   ]
  },
  {
   "cell_type": "markdown",
   "metadata": {},
   "source": [
    "## Example 2: Retrieve data for the last 30 days"
   ]
  },
  {
   "cell_type": "code",
   "execution_count": 3,
   "metadata": {},
   "outputs": [
    {
     "name": "stdout",
     "output_type": "stream",
     "text": [
      "[{'datetime': '2024-10-11', 'open': '416.14001', 'high': '417.13000', 'low': '413.25000', 'close': '416.32001', 'volume': '14126600'}, {'datetime': '2024-10-10', 'open': '415.23001', 'high': '417.35001', 'low': '413.14999', 'close': '415.84000', 'volume': '13848400'}, {'datetime': '2024-10-09', 'open': '415.85999', 'high': '420.38000', 'low': '414.29999', 'close': '417.45999', 'volume': '14974300'}, {'datetime': '2024-10-08', 'open': '410.89999', 'high': '415.66000', 'low': '408.17001', 'close': '414.70999', 'volume': '19229300'}, {'datetime': '2024-10-07', 'open': '416.00000', 'high': '417.10999', 'low': '409.00000', 'close': '409.54001', 'volume': '20919800'}]\n"
     ]
    }
   ],
   "source": [
    "# Retrieve data for MSFT (Microsoft Corporation) for the last 30 days\n",
    "last_30_days = td.get_last_n_days(\"MSFT\", 30)\n",
    "\n",
    "# Print the first few entries of the retrieved data\n",
    "print(last_30_days['values'][:5] if last_30_days and 'values' in last_30_days else \"No data retrieved\")"
   ]
  },
  {
   "cell_type": "markdown",
   "metadata": {},
   "source": [
    "## Example 3: Retrieve data with a specific interval"
   ]
  },
  {
   "cell_type": "code",
   "execution_count": 4,
   "metadata": {},
   "outputs": [
    {
     "name": "stdout",
     "output_type": "stream",
     "text": [
      "[{'datetime': '2024-10-11 15:30:00', 'open': '163.78000', 'high': '163.89999', 'low': '163.02000', 'close': '163.23500', 'volume': '1862954'}, {'datetime': '2024-10-11 14:30:00', 'open': '163.35500', 'high': '163.80000', 'low': '163.14500', 'close': '163.78999', 'volume': '1116404'}, {'datetime': '2024-10-11 13:30:00', 'open': '163.39500', 'high': '163.55000', 'low': '163.16930', 'close': '163.32001', 'volume': '978646'}, {'datetime': '2024-10-11 12:30:00', 'open': '163.39500', 'high': '163.48000', 'low': '162.95000', 'close': '163.38499', 'volume': '1191365'}, {'datetime': '2024-10-11 11:30:00', 'open': '163.10001', 'high': '163.61000', 'low': '162.97000', 'close': '163.40010', 'volume': '1421759'}]\n"
     ]
    }
   ],
   "source": [
    "# Retrieve hourly data for GOOGL (Alphabet Inc.) for the last 5 days\n",
    "hourly_data = td.get_last_n_days(\"GOOGL\", 5, interval='1h')\n",
    "\n",
    "# Print the first few entries of the retrieved data\n",
    "print(hourly_data['values'][:5] if hourly_data and 'values' in hourly_data else \"No data retrieved\")"
   ]
  },
  {
   "cell_type": "markdown",
   "metadata": {},
   "source": [
    "Remember to replace 'YOUR_API_KEY' with your actual Twelve Data API key before running the notebook. Also, be mindful of your API usage to avoid exceeding your credit limit."
   ]
  },
  {
   "cell_type": "markdown",
   "metadata": {},
   "source": [
    "# Example 4: Retrieve maximum amount of one-minute interval data"
   ]
  },
  {
   "cell_type": "code",
   "execution_count": 5,
   "metadata": {},
   "outputs": [
    {
     "name": "stdout",
     "output_type": "stream",
     "text": [
      "Number of data points retrieved: 5000\n",
      "\n",
      "First data point:\n",
      "{'datetime': '2024-10-11 15:59:00', 'open': '227.63000', 'high': '227.68000', 'low': '227.50000', 'close': '227.52000', 'volume': '555935'}\n",
      "\n",
      "Last data point:\n",
      "{'datetime': '2024-09-25 10:38:00', 'open': '226.48500', 'high': '226.60001', 'low': '226.44000', 'close': '226.44000', 'volume': '43043'}\n",
      "\n",
      "Data spans from 2024-09-25 10:38:00 to 2024-10-11 15:59:00\n"
     ]
    }
   ],
   "source": [
    "# Set the symbol you want to retrieve data for\n",
    "symbol = \"AAPL\"  # You can change this to any stock symbol you're interested in\n",
    "\n",
    "# Set the interval to one minute\n",
    "interval = \"1min\"\n",
    "\n",
    "# We'll use the maximum allowed outputsize of 5000\n",
    "outputsize = 5000\n",
    "\n",
    "# Retrieve the data\n",
    "one_minute_data = td.get_historical_data(symbol, interval=interval, outputsize=outputsize)\n",
    "\n",
    "# Print the number of data points retrieved\n",
    "if one_minute_data and 'values' in one_minute_data:\n",
    "    print(f\"Number of data points retrieved: {len(one_minute_data['values'])}\")\n",
    "    print(\"\\nFirst data point:\")\n",
    "    print(one_minute_data['values'][0])\n",
    "    print(\"\\nLast data point:\")\n",
    "    print(one_minute_data['values'][-1])\n",
    "else:\n",
    "    print(\"No data retrieved\")\n",
    "\n",
    "# Calculate the time span of the retrieved data\n",
    "if one_minute_data and 'values' in one_minute_data and len(one_minute_data['values']) > 1:\n",
    "    start_time = one_minute_data['values'][-1]['datetime']\n",
    "    end_time = one_minute_data['values'][0]['datetime']\n",
    "    print(f\"\\nData spans from {start_time} to {end_time}\")"
   ]
  }
 ],
 "metadata": {
  "kernelspec": {
   "display_name": "SB4",
   "language": "python",
   "name": "python3"
  },
  "language_info": {
   "codemirror_mode": {
    "name": "ipython",
    "version": 3
   },
   "file_extension": ".py",
   "mimetype": "text/x-python",
   "name": "python",
   "nbconvert_exporter": "python",
   "pygments_lexer": "ipython3",
   "version": "3.12.7"
  }
 },
 "nbformat": 4,
 "nbformat_minor": 2
}
