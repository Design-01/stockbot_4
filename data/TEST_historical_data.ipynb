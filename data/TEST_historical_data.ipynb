{
 "cells": [
  {
   "cell_type": "code",
   "execution_count": 1,
   "metadata": {},
   "outputs": [
    {
     "name": "stdout",
     "output_type": "stream",
     "text": [
      "Using interval: 1min\n"
     ]
    },
    {
     "data": {
      "text/html": [
       "<div>\n",
       "<style scoped>\n",
       "    .dataframe tbody tr th:only-of-type {\n",
       "        vertical-align: middle;\n",
       "    }\n",
       "\n",
       "    .dataframe tbody tr th {\n",
       "        vertical-align: top;\n",
       "    }\n",
       "\n",
       "    .dataframe thead th {\n",
       "        text-align: right;\n",
       "    }\n",
       "</style>\n",
       "<table border=\"1\" class=\"dataframe\">\n",
       "  <thead>\n",
       "    <tr style=\"text-align: right;\">\n",
       "      <th></th>\n",
       "      <th>open</th>\n",
       "      <th>high</th>\n",
       "      <th>low</th>\n",
       "      <th>close</th>\n",
       "      <th>volume</th>\n",
       "    </tr>\n",
       "    <tr>\n",
       "      <th>datetime</th>\n",
       "      <th></th>\n",
       "      <th></th>\n",
       "      <th></th>\n",
       "      <th></th>\n",
       "      <th></th>\n",
       "    </tr>\n",
       "  </thead>\n",
       "  <tbody>\n",
       "    <tr>\n",
       "      <th>2024-10-21 09:30:00</th>\n",
       "      <td>234.45000</td>\n",
       "      <td>235.50000</td>\n",
       "      <td>234.45000</td>\n",
       "      <td>234.64000</td>\n",
       "      <td>2563390</td>\n",
       "    </tr>\n",
       "    <tr>\n",
       "      <th>2024-10-21 09:33:00</th>\n",
       "      <td>234.63000</td>\n",
       "      <td>235.10001</td>\n",
       "      <td>234.59000</td>\n",
       "      <td>234.84500</td>\n",
       "      <td>366857</td>\n",
       "    </tr>\n",
       "    <tr>\n",
       "      <th>2024-10-21 09:36:00</th>\n",
       "      <td>234.84500</td>\n",
       "      <td>235.31000</td>\n",
       "      <td>234.84500</td>\n",
       "      <td>235.05499</td>\n",
       "      <td>307522</td>\n",
       "    </tr>\n",
       "    <tr>\n",
       "      <th>2024-10-21 09:39:00</th>\n",
       "      <td>235.06000</td>\n",
       "      <td>235.20000</td>\n",
       "      <td>234.87000</td>\n",
       "      <td>235.10001</td>\n",
       "      <td>229161</td>\n",
       "    </tr>\n",
       "    <tr>\n",
       "      <th>2024-10-21 09:42:00</th>\n",
       "      <td>235.10001</td>\n",
       "      <td>235.48000</td>\n",
       "      <td>235.10001</td>\n",
       "      <td>235.33000</td>\n",
       "      <td>259805</td>\n",
       "    </tr>\n",
       "    <tr>\n",
       "      <th>...</th>\n",
       "      <td>...</td>\n",
       "      <td>...</td>\n",
       "      <td>...</td>\n",
       "      <td>...</td>\n",
       "      <td>...</td>\n",
       "    </tr>\n",
       "    <tr>\n",
       "      <th>2024-11-01 15:45:00</th>\n",
       "      <td>222.57001</td>\n",
       "      <td>222.80000</td>\n",
       "      <td>222.44000</td>\n",
       "      <td>222.76010</td>\n",
       "      <td>289721</td>\n",
       "    </tr>\n",
       "    <tr>\n",
       "      <th>2024-11-01 15:48:00</th>\n",
       "      <td>222.75999</td>\n",
       "      <td>222.78000</td>\n",
       "      <td>222.27000</td>\n",
       "      <td>222.63100</td>\n",
       "      <td>503798</td>\n",
       "    </tr>\n",
       "    <tr>\n",
       "      <th>2024-11-01 15:51:00</th>\n",
       "      <td>222.62000</td>\n",
       "      <td>222.75000</td>\n",
       "      <td>222.49010</td>\n",
       "      <td>222.52499</td>\n",
       "      <td>615516</td>\n",
       "    </tr>\n",
       "    <tr>\n",
       "      <th>2024-11-01 15:54:00</th>\n",
       "      <td>222.52499</td>\n",
       "      <td>223.25000</td>\n",
       "      <td>222.44000</td>\n",
       "      <td>223.06000</td>\n",
       "      <td>971458</td>\n",
       "    </tr>\n",
       "    <tr>\n",
       "      <th>2024-11-01 15:57:00</th>\n",
       "      <td>223.06020</td>\n",
       "      <td>223.17000</td>\n",
       "      <td>222.75999</td>\n",
       "      <td>222.85001</td>\n",
       "      <td>1705108</td>\n",
       "    </tr>\n",
       "  </tbody>\n",
       "</table>\n",
       "<p>1300 rows × 5 columns</p>\n",
       "</div>"
      ],
      "text/plain": [
       "                          open       high        low      close   volume\n",
       "datetime                                                                \n",
       "2024-10-21 09:30:00  234.45000  235.50000  234.45000  234.64000  2563390\n",
       "2024-10-21 09:33:00  234.63000  235.10001  234.59000  234.84500   366857\n",
       "2024-10-21 09:36:00  234.84500  235.31000  234.84500  235.05499   307522\n",
       "2024-10-21 09:39:00  235.06000  235.20000  234.87000  235.10001   229161\n",
       "2024-10-21 09:42:00  235.10001  235.48000  235.10001  235.33000   259805\n",
       "...                        ...        ...        ...        ...      ...\n",
       "2024-11-01 15:45:00  222.57001  222.80000  222.44000  222.76010   289721\n",
       "2024-11-01 15:48:00  222.75999  222.78000  222.27000  222.63100   503798\n",
       "2024-11-01 15:51:00  222.62000  222.75000  222.49010  222.52499   615516\n",
       "2024-11-01 15:54:00  222.52499  223.25000  222.44000  223.06000   971458\n",
       "2024-11-01 15:57:00  223.06020  223.17000  222.75999  222.85001  1705108\n",
       "\n",
       "[1300 rows x 5 columns]"
      ]
     },
     "metadata": {},
     "output_type": "display_data"
    }
   ],
   "source": [
    "from twelvedata import TDClient\n",
    "import historical_data as hd\n",
    "\"https://github.com/twelvedata/twelvedata-python\"\n",
    "\n",
    "api_key = '171136ac7161454b8f4abeb987c72b02'\n",
    "td = TDClient(apikey=api_key)\n",
    "\n",
    "def get_historical_data_from_source(symbol, start_date, end_date, interval):\n",
    "\n",
    "    avialble_interval = hd.get_next_lower_common_denominator_as_interval(interval)\n",
    "    print(f\"Using interval: {avialble_interval}\")\n",
    "\n",
    "    data =  td.time_series(\n",
    "            symbol=symbol,\n",
    "            interval=avialble_interval,\n",
    "            start_date=start_date,\n",
    "            end_date=end_date,\n",
    "            outputsize=5000,\n",
    "            timezone=\"America/New_York\",\n",
    "        ).as_pandas().sort_index(ascending=True)\n",
    "    \n",
    "    return hd.resample_data(data, interval)\n",
    "\n",
    "\n",
    "symbol = 'AAPL'\n",
    "start_date = '2024-10-21 09:00:00'\n",
    "end_date = '2024-11-01 16:00:00'\n",
    "interval = '3min'\n",
    "\n",
    "data = get_historical_data_from_source(symbol, start_date, end_date, interval)\n",
    "display(data)"
   ]
  },
  {
   "cell_type": "code",
   "execution_count": 1,
   "metadata": {},
   "outputs": [
    {
     "name": "stdout",
     "output_type": "stream",
     "text": [
      "Batch dates                : [('2024-01-01', '2024-01-31'), ('2024-02-01', '2024-02-29'), ('2024-03-01', '2024-03-31'), ('2024-04-01', '2024-04-30'), ('2024-05-01', '2024-05-31'), ('2024-06-01', '2024-06-30')]\n",
      "Missing batched dates      : 1h [('2024-01-01', '2024-01-31'), ('2024-02-01', '2024-02-29'), ('2024-03-01', '2024-03-31'), ('2024-04-01', '2024-04-30'), ('2024-05-01', '2024-05-31'), ('2024-06-01', '2024-06-30')]\n",
      "Missing batched dates lower: 1h [('2024-01-01', '2024-01-31'), ('2024-02-01', '2024-02-29'), ('2024-03-01', '2024-03-31'), ('2024-04-01', '2024-04-30'), ('2024-05-01', '2024-05-31'), ('2024-06-01', '2024-06-30')]\n",
      "Getting missing data for 1h -- dates: 2024-01-01 to 2024-01-31\n",
      "Logged date range for TSLA (1h) from 2024-01-01 to 2024-01-31\n",
      "Getting missing data for 1h -- dates: 2024-02-01 to 2024-02-29\n",
      "Logged date range for TSLA (1h) from 2024-02-01 to 2024-02-29\n",
      "Getting missing data for 1h -- dates: 2024-03-01 to 2024-03-31\n",
      "Logged date range for TSLA (1h) from 2024-03-01 to 2024-03-31\n",
      "Getting missing data for 1h -- dates: 2024-04-01 to 2024-04-30\n",
      "Logged date range for TSLA (1h) from 2024-04-01 to 2024-04-30\n",
      "Getting missing data for 1h -- dates: 2024-05-01 to 2024-05-31\n",
      "Logged date range for TSLA (1h) from 2024-05-01 to 2024-05-31\n",
      "Getting missing data for 1h -- dates: 2024-06-01 to 2024-06-30\n",
      "Logged date range for TSLA (1h) from 2024-06-01 to 2024-06-30\n",
      "Getting missing data for 1h -- dates: 2024-01-01 to 2024-01-31\n",
      "Date range for TSLA (1h) from 2024-01-01 to 2024-01-31 is already logged.\n",
      "Getting missing data for 1h -- dates: 2024-02-01 to 2024-02-29\n",
      "Date range for TSLA (1h) from 2024-02-01 to 2024-02-29 is already logged.\n",
      "Getting missing data for 1h -- dates: 2024-03-01 to 2024-03-31\n",
      "Date range for TSLA (1h) from 2024-03-01 to 2024-03-31 is already logged.\n",
      "Getting missing data for 1h -- dates: 2024-04-01 to 2024-04-30\n",
      "Date range for TSLA (1h) from 2024-04-01 to 2024-04-30 is already logged.\n",
      "Getting missing data for 1h -- dates: 2024-05-01 to 2024-05-31\n",
      "Date range for TSLA (1h) from 2024-05-01 to 2024-05-31 is already logged.\n",
      "Getting missing data for 1h -- dates: 2024-06-01 to 2024-06-30\n",
      "Date range for TSLA (1h) from 2024-06-01 to 2024-06-30 is already logged.\n"
     ]
    },
    {
     "data": {
      "text/html": [
       "<div>\n",
       "<style scoped>\n",
       "    .dataframe tbody tr th:only-of-type {\n",
       "        vertical-align: middle;\n",
       "    }\n",
       "\n",
       "    .dataframe tbody tr th {\n",
       "        vertical-align: top;\n",
       "    }\n",
       "\n",
       "    .dataframe thead th {\n",
       "        text-align: right;\n",
       "    }\n",
       "</style>\n",
       "<table border=\"1\" class=\"dataframe\">\n",
       "  <thead>\n",
       "    <tr style=\"text-align: right;\">\n",
       "      <th></th>\n",
       "      <th>open</th>\n",
       "      <th>high</th>\n",
       "      <th>low</th>\n",
       "      <th>close</th>\n",
       "      <th>volume</th>\n",
       "    </tr>\n",
       "    <tr>\n",
       "      <th>datetime</th>\n",
       "      <th></th>\n",
       "      <th></th>\n",
       "      <th></th>\n",
       "      <th></th>\n",
       "      <th></th>\n",
       "    </tr>\n",
       "  </thead>\n",
       "  <tbody>\n",
       "    <tr>\n",
       "      <th>2024-01-02 09:00:00</th>\n",
       "      <td>250.00000</td>\n",
       "      <td>251.25000</td>\n",
       "      <td>244.41000</td>\n",
       "      <td>249.61000</td>\n",
       "      <td>36427280</td>\n",
       "    </tr>\n",
       "    <tr>\n",
       "      <th>2024-01-02 10:00:00</th>\n",
       "      <td>249.60001</td>\n",
       "      <td>250.25999</td>\n",
       "      <td>246.82001</td>\n",
       "      <td>250.00000</td>\n",
       "      <td>17189459</td>\n",
       "    </tr>\n",
       "    <tr>\n",
       "      <th>2024-01-02 11:00:00</th>\n",
       "      <td>249.99409</td>\n",
       "      <td>251.00000</td>\n",
       "      <td>247.94170</td>\n",
       "      <td>248.35001</td>\n",
       "      <td>12121725</td>\n",
       "    </tr>\n",
       "    <tr>\n",
       "      <th>2024-01-02 12:00:00</th>\n",
       "      <td>248.35500</td>\n",
       "      <td>249.13300</td>\n",
       "      <td>247.00000</td>\n",
       "      <td>248.35170</td>\n",
       "      <td>9300163</td>\n",
       "    </tr>\n",
       "    <tr>\n",
       "      <th>2024-01-02 13:00:00</th>\n",
       "      <td>248.39000</td>\n",
       "      <td>249.38000</td>\n",
       "      <td>247.30000</td>\n",
       "      <td>248.13721</td>\n",
       "      <td>8770028</td>\n",
       "    </tr>\n",
       "    <tr>\n",
       "      <th>...</th>\n",
       "      <td>...</td>\n",
       "      <td>...</td>\n",
       "      <td>...</td>\n",
       "      <td>...</td>\n",
       "      <td>...</td>\n",
       "    </tr>\n",
       "    <tr>\n",
       "      <th>2024-05-30 11:00:00</th>\n",
       "      <td>176.71989</td>\n",
       "      <td>177.51500</td>\n",
       "      <td>176.05000</td>\n",
       "      <td>176.87000</td>\n",
       "      <td>6472434</td>\n",
       "    </tr>\n",
       "    <tr>\n",
       "      <th>2024-05-30 12:00:00</th>\n",
       "      <td>176.88010</td>\n",
       "      <td>178.58000</td>\n",
       "      <td>176.41000</td>\n",
       "      <td>178.39000</td>\n",
       "      <td>6231529</td>\n",
       "    </tr>\n",
       "    <tr>\n",
       "      <th>2024-05-30 13:00:00</th>\n",
       "      <td>178.39000</td>\n",
       "      <td>179.95000</td>\n",
       "      <td>178.28999</td>\n",
       "      <td>179.51590</td>\n",
       "      <td>8086079</td>\n",
       "    </tr>\n",
       "    <tr>\n",
       "      <th>2024-05-30 14:00:00</th>\n",
       "      <td>179.52499</td>\n",
       "      <td>180.28500</td>\n",
       "      <td>178.62500</td>\n",
       "      <td>178.94000</td>\n",
       "      <td>6621663</td>\n",
       "    </tr>\n",
       "    <tr>\n",
       "      <th>2024-05-30 15:00:00</th>\n",
       "      <td>178.92500</td>\n",
       "      <td>179.17999</td>\n",
       "      <td>177.52000</td>\n",
       "      <td>178.83000</td>\n",
       "      <td>4255283</td>\n",
       "    </tr>\n",
       "  </tbody>\n",
       "</table>\n",
       "<p>707 rows × 5 columns</p>\n",
       "</div>"
      ],
      "text/plain": [
       "                          open       high        low      close    volume\n",
       "datetime                                                                 \n",
       "2024-01-02 09:00:00  250.00000  251.25000  244.41000  249.61000  36427280\n",
       "2024-01-02 10:00:00  249.60001  250.25999  246.82001  250.00000  17189459\n",
       "2024-01-02 11:00:00  249.99409  251.00000  247.94170  248.35001  12121725\n",
       "2024-01-02 12:00:00  248.35500  249.13300  247.00000  248.35170   9300163\n",
       "2024-01-02 13:00:00  248.39000  249.38000  247.30000  248.13721   8770028\n",
       "...                        ...        ...        ...        ...       ...\n",
       "2024-05-30 11:00:00  176.71989  177.51500  176.05000  176.87000   6472434\n",
       "2024-05-30 12:00:00  176.88010  178.58000  176.41000  178.39000   6231529\n",
       "2024-05-30 13:00:00  178.39000  179.95000  178.28999  179.51590   8086079\n",
       "2024-05-30 14:00:00  179.52499  180.28500  178.62500  178.94000   6621663\n",
       "2024-05-30 15:00:00  178.92500  179.17999  177.52000  178.83000   4255283\n",
       "\n",
       "[707 rows x 5 columns]"
      ]
     },
     "metadata": {},
     "output_type": "display_data"
    }
   ],
   "source": [
    "import historical_data as hd\n",
    "import time\n",
    "import pandas as pd\n",
    "\n",
    "api_key = '171136ac7161454b8f4abeb987c72b02'\n",
    "symbol = 'TSLA'\n",
    "start_date = '2024-01-01 04:00:00'\n",
    "end_date   = '2024-06-01 18:00:00'\n",
    "interval = '1h'\n",
    "\n",
    "data = hd.get_historical_data(api_key, symbol, start_date, end_date, interval)\n",
    "display(data)\n",
    "\n",
    "\n"
   ]
  },
  {
   "cell_type": "code",
   "execution_count": 4,
   "metadata": {},
   "outputs": [
    {
     "data": {
      "application/vnd.plotly.v1+json": {
       "config": {
        "plotlyServerURL": "https://plot.ly"
       },
       "data": [
        {
         "customdata": [
          [
           "2024-01-02",
           "2024-11-22"
          ]
         ],
         "hovertemplate": "<b>%{y}</b><br>Start: %{customdata[0]}<br>End: %{customdata[1]}<br><extra></extra>",
         "line": {
          "color": "rgb(255,255,179)",
          "width": 20
         },
         "mode": "lines",
         "type": "scatter",
         "x": [
          "2024-01-02T00:00:00",
          "2024-11-22T00:00:00"
         ],
         "y": [
          "ROKU (1_day)",
          "ROKU (1_day)"
         ]
        },
        {
         "customdata": [
          [
           "2024-01-02",
           "2024-11-22"
          ]
         ],
         "hovertemplate": "<b>%{y}</b><br>Start: %{customdata[0]}<br>End: %{customdata[1]}<br><extra></extra>",
         "line": {
          "color": "rgb(141,211,199)",
          "width": 20
         },
         "mode": "lines",
         "type": "scatter",
         "x": [
          "2024-01-02T00:00:00",
          "2024-11-22T00:00:00"
         ],
         "y": [
          "TSLA (1_day)",
          "TSLA (1_day)"
         ]
        },
        {
         "customdata": [
          [
           "2024-01-02",
           "2024-11-22"
          ]
         ],
         "hovertemplate": "<b>%{y}</b><br>Start: %{customdata[0]}<br>End: %{customdata[1]}<br><extra></extra>",
         "line": {
          "color": "rgb(141,211,199)",
          "width": 20
         },
         "mode": "lines",
         "type": "scatter",
         "x": [
          "2024-01-02T04:00:00",
          "2024-11-22T19:00:00"
         ],
         "y": [
          "TSLA (1_hour)",
          "TSLA (1_hour)"
         ]
        },
        {
         "customdata": [
          [
           "2024-01-02",
           "2024-02-02"
          ]
         ],
         "hovertemplate": "<b>%{y}</b><br>Start: %{customdata[0]}<br>End: %{customdata[1]}<br><extra></extra>",
         "line": {
          "color": "rgb(141,211,199)",
          "width": 20
         },
         "mode": "lines",
         "type": "scatter",
         "x": [
          "2024-01-02T04:00:00",
          "2024-02-02T19:59:00"
         ],
         "y": [
          "TSLA (1_min)",
          "TSLA (1_min)"
         ]
        }
       ],
       "layout": {
        "font": {
         "color": "#A9A9A9"
        },
        "height": 560,
        "margin": {
         "b": 50,
         "l": 100,
         "r": 20,
         "t": 50
        },
        "paper_bgcolor": "black",
        "plot_bgcolor": "black",
        "showlegend": true,
        "template": {
         "data": {
          "bar": [
           {
            "error_x": {
             "color": "#2a3f5f"
            },
            "error_y": {
             "color": "#2a3f5f"
            },
            "marker": {
             "line": {
              "color": "#E5ECF6",
              "width": 0.5
             },
             "pattern": {
              "fillmode": "overlay",
              "size": 10,
              "solidity": 0.2
             }
            },
            "type": "bar"
           }
          ],
          "barpolar": [
           {
            "marker": {
             "line": {
              "color": "#E5ECF6",
              "width": 0.5
             },
             "pattern": {
              "fillmode": "overlay",
              "size": 10,
              "solidity": 0.2
             }
            },
            "type": "barpolar"
           }
          ],
          "carpet": [
           {
            "aaxis": {
             "endlinecolor": "#2a3f5f",
             "gridcolor": "white",
             "linecolor": "white",
             "minorgridcolor": "white",
             "startlinecolor": "#2a3f5f"
            },
            "baxis": {
             "endlinecolor": "#2a3f5f",
             "gridcolor": "white",
             "linecolor": "white",
             "minorgridcolor": "white",
             "startlinecolor": "#2a3f5f"
            },
            "type": "carpet"
           }
          ],
          "choropleth": [
           {
            "colorbar": {
             "outlinewidth": 0,
             "ticks": ""
            },
            "type": "choropleth"
           }
          ],
          "contour": [
           {
            "colorbar": {
             "outlinewidth": 0,
             "ticks": ""
            },
            "colorscale": [
             [
              0,
              "#0d0887"
             ],
             [
              0.1111111111111111,
              "#46039f"
             ],
             [
              0.2222222222222222,
              "#7201a8"
             ],
             [
              0.3333333333333333,
              "#9c179e"
             ],
             [
              0.4444444444444444,
              "#bd3786"
             ],
             [
              0.5555555555555556,
              "#d8576b"
             ],
             [
              0.6666666666666666,
              "#ed7953"
             ],
             [
              0.7777777777777778,
              "#fb9f3a"
             ],
             [
              0.8888888888888888,
              "#fdca26"
             ],
             [
              1,
              "#f0f921"
             ]
            ],
            "type": "contour"
           }
          ],
          "contourcarpet": [
           {
            "colorbar": {
             "outlinewidth": 0,
             "ticks": ""
            },
            "type": "contourcarpet"
           }
          ],
          "heatmap": [
           {
            "colorbar": {
             "outlinewidth": 0,
             "ticks": ""
            },
            "colorscale": [
             [
              0,
              "#0d0887"
             ],
             [
              0.1111111111111111,
              "#46039f"
             ],
             [
              0.2222222222222222,
              "#7201a8"
             ],
             [
              0.3333333333333333,
              "#9c179e"
             ],
             [
              0.4444444444444444,
              "#bd3786"
             ],
             [
              0.5555555555555556,
              "#d8576b"
             ],
             [
              0.6666666666666666,
              "#ed7953"
             ],
             [
              0.7777777777777778,
              "#fb9f3a"
             ],
             [
              0.8888888888888888,
              "#fdca26"
             ],
             [
              1,
              "#f0f921"
             ]
            ],
            "type": "heatmap"
           }
          ],
          "heatmapgl": [
           {
            "colorbar": {
             "outlinewidth": 0,
             "ticks": ""
            },
            "colorscale": [
             [
              0,
              "#0d0887"
             ],
             [
              0.1111111111111111,
              "#46039f"
             ],
             [
              0.2222222222222222,
              "#7201a8"
             ],
             [
              0.3333333333333333,
              "#9c179e"
             ],
             [
              0.4444444444444444,
              "#bd3786"
             ],
             [
              0.5555555555555556,
              "#d8576b"
             ],
             [
              0.6666666666666666,
              "#ed7953"
             ],
             [
              0.7777777777777778,
              "#fb9f3a"
             ],
             [
              0.8888888888888888,
              "#fdca26"
             ],
             [
              1,
              "#f0f921"
             ]
            ],
            "type": "heatmapgl"
           }
          ],
          "histogram": [
           {
            "marker": {
             "pattern": {
              "fillmode": "overlay",
              "size": 10,
              "solidity": 0.2
             }
            },
            "type": "histogram"
           }
          ],
          "histogram2d": [
           {
            "colorbar": {
             "outlinewidth": 0,
             "ticks": ""
            },
            "colorscale": [
             [
              0,
              "#0d0887"
             ],
             [
              0.1111111111111111,
              "#46039f"
             ],
             [
              0.2222222222222222,
              "#7201a8"
             ],
             [
              0.3333333333333333,
              "#9c179e"
             ],
             [
              0.4444444444444444,
              "#bd3786"
             ],
             [
              0.5555555555555556,
              "#d8576b"
             ],
             [
              0.6666666666666666,
              "#ed7953"
             ],
             [
              0.7777777777777778,
              "#fb9f3a"
             ],
             [
              0.8888888888888888,
              "#fdca26"
             ],
             [
              1,
              "#f0f921"
             ]
            ],
            "type": "histogram2d"
           }
          ],
          "histogram2dcontour": [
           {
            "colorbar": {
             "outlinewidth": 0,
             "ticks": ""
            },
            "colorscale": [
             [
              0,
              "#0d0887"
             ],
             [
              0.1111111111111111,
              "#46039f"
             ],
             [
              0.2222222222222222,
              "#7201a8"
             ],
             [
              0.3333333333333333,
              "#9c179e"
             ],
             [
              0.4444444444444444,
              "#bd3786"
             ],
             [
              0.5555555555555556,
              "#d8576b"
             ],
             [
              0.6666666666666666,
              "#ed7953"
             ],
             [
              0.7777777777777778,
              "#fb9f3a"
             ],
             [
              0.8888888888888888,
              "#fdca26"
             ],
             [
              1,
              "#f0f921"
             ]
            ],
            "type": "histogram2dcontour"
           }
          ],
          "mesh3d": [
           {
            "colorbar": {
             "outlinewidth": 0,
             "ticks": ""
            },
            "type": "mesh3d"
           }
          ],
          "parcoords": [
           {
            "line": {
             "colorbar": {
              "outlinewidth": 0,
              "ticks": ""
             }
            },
            "type": "parcoords"
           }
          ],
          "pie": [
           {
            "automargin": true,
            "type": "pie"
           }
          ],
          "scatter": [
           {
            "fillpattern": {
             "fillmode": "overlay",
             "size": 10,
             "solidity": 0.2
            },
            "type": "scatter"
           }
          ],
          "scatter3d": [
           {
            "line": {
             "colorbar": {
              "outlinewidth": 0,
              "ticks": ""
             }
            },
            "marker": {
             "colorbar": {
              "outlinewidth": 0,
              "ticks": ""
             }
            },
            "type": "scatter3d"
           }
          ],
          "scattercarpet": [
           {
            "marker": {
             "colorbar": {
              "outlinewidth": 0,
              "ticks": ""
             }
            },
            "type": "scattercarpet"
           }
          ],
          "scattergeo": [
           {
            "marker": {
             "colorbar": {
              "outlinewidth": 0,
              "ticks": ""
             }
            },
            "type": "scattergeo"
           }
          ],
          "scattergl": [
           {
            "marker": {
             "colorbar": {
              "outlinewidth": 0,
              "ticks": ""
             }
            },
            "type": "scattergl"
           }
          ],
          "scattermapbox": [
           {
            "marker": {
             "colorbar": {
              "outlinewidth": 0,
              "ticks": ""
             }
            },
            "type": "scattermapbox"
           }
          ],
          "scatterpolar": [
           {
            "marker": {
             "colorbar": {
              "outlinewidth": 0,
              "ticks": ""
             }
            },
            "type": "scatterpolar"
           }
          ],
          "scatterpolargl": [
           {
            "marker": {
             "colorbar": {
              "outlinewidth": 0,
              "ticks": ""
             }
            },
            "type": "scatterpolargl"
           }
          ],
          "scatterternary": [
           {
            "marker": {
             "colorbar": {
              "outlinewidth": 0,
              "ticks": ""
             }
            },
            "type": "scatterternary"
           }
          ],
          "surface": [
           {
            "colorbar": {
             "outlinewidth": 0,
             "ticks": ""
            },
            "colorscale": [
             [
              0,
              "#0d0887"
             ],
             [
              0.1111111111111111,
              "#46039f"
             ],
             [
              0.2222222222222222,
              "#7201a8"
             ],
             [
              0.3333333333333333,
              "#9c179e"
             ],
             [
              0.4444444444444444,
              "#bd3786"
             ],
             [
              0.5555555555555556,
              "#d8576b"
             ],
             [
              0.6666666666666666,
              "#ed7953"
             ],
             [
              0.7777777777777778,
              "#fb9f3a"
             ],
             [
              0.8888888888888888,
              "#fdca26"
             ],
             [
              1,
              "#f0f921"
             ]
            ],
            "type": "surface"
           }
          ],
          "table": [
           {
            "cells": {
             "fill": {
              "color": "#EBF0F8"
             },
             "line": {
              "color": "white"
             }
            },
            "header": {
             "fill": {
              "color": "#C8D4E3"
             },
             "line": {
              "color": "white"
             }
            },
            "type": "table"
           }
          ]
         },
         "layout": {
          "annotationdefaults": {
           "arrowcolor": "#2a3f5f",
           "arrowhead": 0,
           "arrowwidth": 1
          },
          "autotypenumbers": "strict",
          "coloraxis": {
           "colorbar": {
            "outlinewidth": 0,
            "ticks": ""
           }
          },
          "colorscale": {
           "diverging": [
            [
             0,
             "#8e0152"
            ],
            [
             0.1,
             "#c51b7d"
            ],
            [
             0.2,
             "#de77ae"
            ],
            [
             0.3,
             "#f1b6da"
            ],
            [
             0.4,
             "#fde0ef"
            ],
            [
             0.5,
             "#f7f7f7"
            ],
            [
             0.6,
             "#e6f5d0"
            ],
            [
             0.7,
             "#b8e186"
            ],
            [
             0.8,
             "#7fbc41"
            ],
            [
             0.9,
             "#4d9221"
            ],
            [
             1,
             "#276419"
            ]
           ],
           "sequential": [
            [
             0,
             "#0d0887"
            ],
            [
             0.1111111111111111,
             "#46039f"
            ],
            [
             0.2222222222222222,
             "#7201a8"
            ],
            [
             0.3333333333333333,
             "#9c179e"
            ],
            [
             0.4444444444444444,
             "#bd3786"
            ],
            [
             0.5555555555555556,
             "#d8576b"
            ],
            [
             0.6666666666666666,
             "#ed7953"
            ],
            [
             0.7777777777777778,
             "#fb9f3a"
            ],
            [
             0.8888888888888888,
             "#fdca26"
            ],
            [
             1,
             "#f0f921"
            ]
           ],
           "sequentialminus": [
            [
             0,
             "#0d0887"
            ],
            [
             0.1111111111111111,
             "#46039f"
            ],
            [
             0.2222222222222222,
             "#7201a8"
            ],
            [
             0.3333333333333333,
             "#9c179e"
            ],
            [
             0.4444444444444444,
             "#bd3786"
            ],
            [
             0.5555555555555556,
             "#d8576b"
            ],
            [
             0.6666666666666666,
             "#ed7953"
            ],
            [
             0.7777777777777778,
             "#fb9f3a"
            ],
            [
             0.8888888888888888,
             "#fdca26"
            ],
            [
             1,
             "#f0f921"
            ]
           ]
          },
          "colorway": [
           "#636efa",
           "#EF553B",
           "#00cc96",
           "#ab63fa",
           "#FFA15A",
           "#19d3f3",
           "#FF6692",
           "#B6E880",
           "#FF97FF",
           "#FECB52"
          ],
          "font": {
           "color": "#2a3f5f"
          },
          "geo": {
           "bgcolor": "white",
           "lakecolor": "white",
           "landcolor": "#E5ECF6",
           "showlakes": true,
           "showland": true,
           "subunitcolor": "white"
          },
          "hoverlabel": {
           "align": "left"
          },
          "hovermode": "closest",
          "mapbox": {
           "style": "light"
          },
          "paper_bgcolor": "white",
          "plot_bgcolor": "#E5ECF6",
          "polar": {
           "angularaxis": {
            "gridcolor": "white",
            "linecolor": "white",
            "ticks": ""
           },
           "bgcolor": "#E5ECF6",
           "radialaxis": {
            "gridcolor": "white",
            "linecolor": "white",
            "ticks": ""
           }
          },
          "scene": {
           "xaxis": {
            "backgroundcolor": "#E5ECF6",
            "gridcolor": "white",
            "gridwidth": 2,
            "linecolor": "white",
            "showbackground": true,
            "ticks": "",
            "zerolinecolor": "white"
           },
           "yaxis": {
            "backgroundcolor": "#E5ECF6",
            "gridcolor": "white",
            "gridwidth": 2,
            "linecolor": "white",
            "showbackground": true,
            "ticks": "",
            "zerolinecolor": "white"
           },
           "zaxis": {
            "backgroundcolor": "#E5ECF6",
            "gridcolor": "white",
            "gridwidth": 2,
            "linecolor": "white",
            "showbackground": true,
            "ticks": "",
            "zerolinecolor": "white"
           }
          },
          "shapedefaults": {
           "line": {
            "color": "#2a3f5f"
           }
          },
          "ternary": {
           "aaxis": {
            "gridcolor": "white",
            "linecolor": "white",
            "ticks": ""
           },
           "baxis": {
            "gridcolor": "white",
            "linecolor": "white",
            "ticks": ""
           },
           "bgcolor": "#E5ECF6",
           "caxis": {
            "gridcolor": "white",
            "linecolor": "white",
            "ticks": ""
           }
          },
          "title": {
           "x": 0.05
          },
          "xaxis": {
           "automargin": true,
           "gridcolor": "white",
           "linecolor": "white",
           "ticks": "",
           "title": {
            "standoff": 15
           },
           "zerolinecolor": "white",
           "zerolinewidth": 2
          },
          "yaxis": {
           "automargin": true,
           "gridcolor": "white",
           "linecolor": "white",
           "ticks": "",
           "title": {
            "standoff": 15
           },
           "zerolinecolor": "white",
           "zerolinewidth": 2
          }
         }
        },
        "title": {
         "font": {
          "color": "#A9A9A9"
         },
         "text": "Stock Data Date Ranges by File"
        },
        "xaxis": {
         "color": "#A9A9A9",
         "gridcolor": "#2F2F2F",
         "gridwidth": 1,
         "rangeslider": {
          "visible": true
         },
         "showgrid": true,
         "title": {
          "font": {
           "color": "#A9A9A9"
          },
          "text": "Date"
         },
         "type": "date"
        },
        "yaxis": {
         "autorange": "reversed",
         "color": "#A9A9A9",
         "gridcolor": "#2F2F2F",
         "gridwidth": 1,
         "showgrid": true,
         "title": {
          "font": {
           "color": "#A9A9A9"
          },
          "text": "Stock Symbol (Interval)"
         }
        }
       }
      }
     },
     "metadata": {},
     "output_type": "display_data"
    }
   ],
   "source": [
    "hd.visualize_saved_stock_date_ranges()"
   ]
  },
  {
   "cell_type": "markdown",
   "metadata": {},
   "source": [
    "# test geting IB Historical data"
   ]
  },
  {
   "cell_type": "code",
   "execution_count": 20,
   "metadata": {},
   "outputs": [
    {
     "data": {
      "text/plain": [
       "<IB connected to 127.0.0.1:7496 clientId=13>"
      ]
     },
     "execution_count": 20,
     "metadata": {},
     "output_type": "execute_result"
    }
   ],
   "source": [
    "from ib_insync import *\n",
    "util.startLoop()\n",
    "\n",
    "ib = IB()\n",
    "ib.connect('127.0.0.1', 7496, clientId=13)"
   ]
  },
  {
   "cell_type": "markdown",
   "metadata": {},
   "source": [
    "## Pacing Violations for Small Bars (30 secs or less)\n",
    "* Making identical historical data requests within 15 seconds.\n",
    "* Making six or more historical data requests for the same Contract, Exchange and Tick Type within two seconds.\n",
    "* Making more than 60 requests within any ten minute period.\n",
    "* Note that when BID_ASK historical data is requested, each request is counted twice. In a nutshell, the information above can simply be put as “do not request too much data too quick”.\n",
    "\n",
    "https://www.interactivebrokers.com/campus/ibkr-api-page/twsapi-doc/#hist-md\n",
    "\n",
    "Valid Duration String Units:\n",
    "\n",
    "|Unit|\tDescription |\n",
    "|----|--------------|\n",
    "| S  |\tSeconds     |\n",
    "| D  |\tDay         |\n",
    "| W  |\tWeek        |\n",
    "| M  |\tMonth       |\n",
    "| Y  |\tYear        | \n",
    "\n",
    "\n",
    "Valid Bar Sizes:\n",
    "\n",
    "| Bar Unit | Bar Sizes                  |\n",
    "|----------|----------------------------|\n",
    "| secs     | 1, 5, 10, 15, 30           |\n",
    "| mins     | 1, 2, 3, 5, 10, 15, 20, 30 |\n",
    "| hrs      | 1, 2, 3, 4, 8              |\n",
    "| days     | 1                          |\n",
    "| weeks    | 1                          |\n",
    "| months   | 1                          |\n",
    "\n",
    "Step Sizes\n",
    "\n",
    "| Duration Unit | Bar units allowed | Bar size Interval (Min/Max) |\n",
    "|---------------|-------------------|-----------------------------|\n",
    "| S             | secs \\| mins      | 1 secs -> 1 mins            |\n",
    "| D             | secs \\| mins \\| hrs | 5 secs -> 1 hours         |\n",
    "| W             | sec \\| mins \\| hrs | 10 secs -> 4 hrs           |\n",
    "| M             | sec \\| mins \\| hrs | 30 secs -> 8 hrs           |\n",
    "| Y             | mins \\| hrs \\| d   | 1 mins -> 1 day            |\n",
    "\n",
    "Max Duration Per Bar Size\n",
    "\n",
    "| Bar Size | Max Second Duration | Max Day Duration | Max Week Duration | Max Month Duration | Max Year Duration |\n",
    "|----------|---------------------|------------------|-------------------|--------------------|-------------------|\n",
    "| 1 secs   | 2000 S              | {Not Supported}  | {Not Supported}   | {Not Supported}    | {Not Supported}   |\n",
    "| 5 secs   | 86400 S             | 365 D            | 52 W              | 12 M               | 68 Y              |\n",
    "| 10 secs  | 86400 S             | 365 D            | 52 W              | 12 M               | 68 Y              |\n",
    "| 15 secs  | 86400 S             | 365 D            | 52 W              | 12 M               | 68 Y              |\n",
    "| 30 secs  | 86400 S             | 365 D            | 52 W              | 12 M               | 68 Y              |\n",
    "| 1 min    | 86400 S             | 365 D            | 52 W              | 12 M               | 68 Y              |\n",
    "| 2 mins   | 86400 S             | 365 D            | 52 W              | 12 M               | 68 Y              |\n",
    "| 3 mins   | 86400 S             | 365 D            | 52 W              | 12 M               | 68 Y              |\n",
    "| 5 mins   | 86400 S             | 365 D            | 52 W              | 12 M               | 68 Y              |\n",
    "| 10 mins  | 86400 S             | 365 D            | 52 W              | 12 M               | 68 Y              |\n",
    "| 15 mins  | 86400 S             | 365 D            | 52 W              | 12 M               | 68 Y              |\n",
    "| 20 mins  | 86400 S             | 365 D            | 52 W              | 12 M               | 68 Y              |\n",
    "| 30 mins  | 86400 S             | 365 D            | 52 W              | 12 M               | 68 Y              |\n",
    "| 1 hour   | 86400 S             | 365 D            | 52 W              | 12 M               | 68 Y              |\n",
    "| 2 hours  | 86400 S             | 365 D            | 52 W              | 12 M               | 68 Y              |\n",
    "| 3 hours  | 86400 S             | 365 D            | 52 W              | 12 M               | 68 Y              |\n",
    "| 4 hours  | 86400 S             | 365 D            | 52 W              | 12 M               | 68 Y              |\n",
    "| 8 hours  | 86400 S             | 365 D            | 52 W              | 12 M               | 68 Y              |\n",
    "| 1 day    | 86400 S             | 365 D            | 52 W              | 12 M               | 68 Y              |\n",
    "| 1M       | 86400 S             | 365 D            | 52 W              | 12 M               | 68 Y              |\n",
    "| 1W       | 86400 S             | 365 D            | 52 W              | 12 M               | 68 Y              |\n",
    "\n",
    "\n"
   ]
  },
  {
   "cell_type": "code",
   "execution_count": 2,
   "metadata": {},
   "outputs": [
    {
     "data": {
      "text/html": [
       "<div>\n",
       "<style scoped>\n",
       "    .dataframe tbody tr th:only-of-type {\n",
       "        vertical-align: middle;\n",
       "    }\n",
       "\n",
       "    .dataframe tbody tr th {\n",
       "        vertical-align: top;\n",
       "    }\n",
       "\n",
       "    .dataframe thead th {\n",
       "        text-align: right;\n",
       "    }\n",
       "</style>\n",
       "<table border=\"1\" class=\"dataframe\">\n",
       "  <thead>\n",
       "    <tr style=\"text-align: right;\">\n",
       "      <th></th>\n",
       "      <th>date</th>\n",
       "      <th>open</th>\n",
       "      <th>high</th>\n",
       "      <th>low</th>\n",
       "      <th>close</th>\n",
       "      <th>volume</th>\n",
       "      <th>average</th>\n",
       "      <th>barCount</th>\n",
       "    </tr>\n",
       "  </thead>\n",
       "  <tbody>\n",
       "    <tr>\n",
       "      <th>0</th>\n",
       "      <td>2024-09-23 03:00:00</td>\n",
       "      <td>240.00</td>\n",
       "      <td>240.90</td>\n",
       "      <td>239.88</td>\n",
       "      <td>240.54</td>\n",
       "      <td>370</td>\n",
       "      <td>240.458</td>\n",
       "      <td>227</td>\n",
       "    </tr>\n",
       "    <tr>\n",
       "      <th>1</th>\n",
       "      <td>2024-09-23 03:15:00</td>\n",
       "      <td>240.67</td>\n",
       "      <td>240.77</td>\n",
       "      <td>240.20</td>\n",
       "      <td>240.65</td>\n",
       "      <td>183</td>\n",
       "      <td>240.583</td>\n",
       "      <td>113</td>\n",
       "    </tr>\n",
       "    <tr>\n",
       "      <th>2</th>\n",
       "      <td>2024-09-23 03:30:00</td>\n",
       "      <td>240.70</td>\n",
       "      <td>240.70</td>\n",
       "      <td>240.24</td>\n",
       "      <td>240.35</td>\n",
       "      <td>110</td>\n",
       "      <td>240.456</td>\n",
       "      <td>58</td>\n",
       "    </tr>\n",
       "    <tr>\n",
       "      <th>3</th>\n",
       "      <td>2024-09-23 03:45:00</td>\n",
       "      <td>240.28</td>\n",
       "      <td>240.73</td>\n",
       "      <td>240.10</td>\n",
       "      <td>240.73</td>\n",
       "      <td>129</td>\n",
       "      <td>240.430</td>\n",
       "      <td>77</td>\n",
       "    </tr>\n",
       "    <tr>\n",
       "      <th>4</th>\n",
       "      <td>2024-09-23 04:00:00</td>\n",
       "      <td>240.73</td>\n",
       "      <td>240.94</td>\n",
       "      <td>240.60</td>\n",
       "      <td>240.73</td>\n",
       "      <td>78</td>\n",
       "      <td>240.784</td>\n",
       "      <td>52</td>\n",
       "    </tr>\n",
       "    <tr>\n",
       "      <th>...</th>\n",
       "      <td>...</td>\n",
       "      <td>...</td>\n",
       "      <td>...</td>\n",
       "      <td>...</td>\n",
       "      <td>...</td>\n",
       "      <td>...</td>\n",
       "      <td>...</td>\n",
       "      <td>...</td>\n",
       "    </tr>\n",
       "    <tr>\n",
       "      <th>1915</th>\n",
       "      <td>2024-11-01 17:45:00</td>\n",
       "      <td>249.37</td>\n",
       "      <td>249.39</td>\n",
       "      <td>249.20</td>\n",
       "      <td>249.32</td>\n",
       "      <td>169</td>\n",
       "      <td>249.290</td>\n",
       "      <td>62</td>\n",
       "    </tr>\n",
       "    <tr>\n",
       "      <th>1916</th>\n",
       "      <td>2024-11-01 18:00:00</td>\n",
       "      <td>249.34</td>\n",
       "      <td>249.34</td>\n",
       "      <td>249.14</td>\n",
       "      <td>249.14</td>\n",
       "      <td>79</td>\n",
       "      <td>249.269</td>\n",
       "      <td>37</td>\n",
       "    </tr>\n",
       "    <tr>\n",
       "      <th>1917</th>\n",
       "      <td>2024-11-01 18:15:00</td>\n",
       "      <td>249.14</td>\n",
       "      <td>249.20</td>\n",
       "      <td>249.14</td>\n",
       "      <td>249.15</td>\n",
       "      <td>72</td>\n",
       "      <td>249.165</td>\n",
       "      <td>32</td>\n",
       "    </tr>\n",
       "    <tr>\n",
       "      <th>1918</th>\n",
       "      <td>2024-11-01 18:30:00</td>\n",
       "      <td>249.15</td>\n",
       "      <td>249.18</td>\n",
       "      <td>249.05</td>\n",
       "      <td>249.07</td>\n",
       "      <td>151</td>\n",
       "      <td>249.104</td>\n",
       "      <td>51</td>\n",
       "    </tr>\n",
       "    <tr>\n",
       "      <th>1919</th>\n",
       "      <td>2024-11-01 18:45:00</td>\n",
       "      <td>249.07</td>\n",
       "      <td>249.37</td>\n",
       "      <td>249.05</td>\n",
       "      <td>249.37</td>\n",
       "      <td>258</td>\n",
       "      <td>249.207</td>\n",
       "      <td>81</td>\n",
       "    </tr>\n",
       "  </tbody>\n",
       "</table>\n",
       "<p>1920 rows × 8 columns</p>\n",
       "</div>"
      ],
      "text/plain": [
       "                    date    open    high     low   close  volume  average  \\\n",
       "0    2024-09-23 03:00:00  240.00  240.90  239.88  240.54     370  240.458   \n",
       "1    2024-09-23 03:15:00  240.67  240.77  240.20  240.65     183  240.583   \n",
       "2    2024-09-23 03:30:00  240.70  240.70  240.24  240.35     110  240.456   \n",
       "3    2024-09-23 03:45:00  240.28  240.73  240.10  240.73     129  240.430   \n",
       "4    2024-09-23 04:00:00  240.73  240.94  240.60  240.73      78  240.784   \n",
       "...                  ...     ...     ...     ...     ...     ...      ...   \n",
       "1915 2024-11-01 17:45:00  249.37  249.39  249.20  249.32     169  249.290   \n",
       "1916 2024-11-01 18:00:00  249.34  249.34  249.14  249.14      79  249.269   \n",
       "1917 2024-11-01 18:15:00  249.14  249.20  249.14  249.15      72  249.165   \n",
       "1918 2024-11-01 18:30:00  249.15  249.18  249.05  249.07     151  249.104   \n",
       "1919 2024-11-01 18:45:00  249.07  249.37  249.05  249.37     258  249.207   \n",
       "\n",
       "      barCount  \n",
       "0          227  \n",
       "1          113  \n",
       "2           58  \n",
       "3           77  \n",
       "4           52  \n",
       "...        ...  \n",
       "1915        62  \n",
       "1916        37  \n",
       "1917        32  \n",
       "1918        51  \n",
       "1919        81  \n",
       "\n",
       "[1920 rows x 8 columns]"
      ]
     },
     "execution_count": 2,
     "metadata": {},
     "output_type": "execute_result"
    }
   ],
   "source": [
    "\n",
    "from ib_insync import *\n",
    "util.startLoop()\n",
    "\n",
    "ib = IB()\n",
    "ib.connect('127.0.0.1', 7496, clientId=13)\n",
    "\n",
    "ct = Stock('TSLA', 'SMART', 'USD')\n",
    "\n",
    "# 1 min max 7 D\n",
    "# 5 mins max 30 D\n",
    "# 15 mins max 60 D\n",
    "# 1 hour max 365 D\n",
    "# 1 day max 20 Y\n",
    "\n",
    "bars = ib.reqHistoricalData(\n",
    "        ct,\n",
    "        endDateTime='20241101 23:59:59 US/Eastern',\n",
    "        barSizeSetting='15 mins',\n",
    "        durationStr='30 D',\n",
    "        whatToShow='TRADES',\n",
    "        useRTH=False,\n",
    "        formatDate=1)\n",
    "\n",
    "ib.disconnect()\n",
    "\n",
    "df = util.df(bars)\n",
    "df"
   ]
  },
  {
   "cell_type": "code",
   "execution_count": 1,
   "metadata": {},
   "outputs": [
    {
     "data": {
      "text/plain": [
       "'5min'"
      ]
     },
     "execution_count": 1,
     "metadata": {},
     "output_type": "execute_result"
    }
   ],
   "source": [
    "\n",
    "import pandas as pd\n",
    "from datetime import datetime, timedelta\n",
    "from dateutil.relativedelta import relativedelta\n",
    "from twelvedata import TDClient\n",
    "import historical_data as hd\n",
    "\n",
    "\n",
    "\n",
    "\n",
    "\n",
    "api_key = '171136ac7161454b8f4abeb987c72b02'\n",
    "td = hd.TwelveDataHistoricalData(api_key)\n",
    "\n",
    "td.get_next_lower_common_denominator_as_interval('20min', minHourDay_only=False)"
   ]
  },
  {
   "cell_type": "markdown",
   "metadata": {},
   "source": [
    "#  Put it all Together"
   ]
  },
  {
   "cell_type": "code",
   "execution_count": 8,
   "metadata": {},
   "outputs": [
    {
     "name": "stdout",
     "output_type": "stream",
     "text": [
      "2024-11-24 18:16:16\n"
     ]
    }
   ],
   "source": [
    "import datetime\n",
    "\n",
    "now  = datetime.datetime.now().strftime('%Y-%m-%d %H:%M:%S')\n",
    "print(now)"
   ]
  },
  {
   "cell_type": "code",
   "execution_count": 1,
   "metadata": {},
   "outputs": [
    {
     "ename": "ModuleNotFoundError",
     "evalue": "No module named 'project_paths'",
     "output_type": "error",
     "traceback": [
      "\u001b[1;31m---------------------------------------------------------------------------\u001b[0m",
      "\u001b[1;31mModuleNotFoundError\u001b[0m                       Traceback (most recent call last)",
      "Cell \u001b[1;32mIn[1], line 1\u001b[0m\n\u001b[1;32m----> 1\u001b[0m \u001b[38;5;28;01mimport\u001b[39;00m \u001b[38;5;21;01mhistorical_data\u001b[39;00m \u001b[38;5;28;01mas\u001b[39;00m \u001b[38;5;21;01mhd\u001b[39;00m\n\u001b[0;32m      2\u001b[0m \u001b[38;5;28;01mimport\u001b[39;00m \u001b[38;5;21;01mdatetime\u001b[39;00m\n\u001b[0;32m      4\u001b[0m symbol \u001b[38;5;241m=\u001b[39m \u001b[38;5;124m'\u001b[39m\u001b[38;5;124mSOFI\u001b[39m\u001b[38;5;124m'\u001b[39m\n",
      "File \u001b[1;32mc:\\Users\\sidsu\\anaconda3\\envs\\SB4\\stockbot4\\data\\historical_data.py:15\u001b[0m\n\u001b[0;32m     12\u001b[0m \u001b[38;5;28;01mimport\u001b[39;00m \u001b[38;5;21;01mpandas\u001b[39;00m \u001b[38;5;28;01mas\u001b[39;00m \u001b[38;5;21;01mpd\u001b[39;00m\n\u001b[0;32m     13\u001b[0m \u001b[38;5;28;01mimport\u001b[39;00m \u001b[38;5;21;01mre\u001b[39;00m\n\u001b[1;32m---> 15\u001b[0m \u001b[38;5;28;01mfrom\u001b[39;00m \u001b[38;5;21;01mproject_paths\u001b[39;00m \u001b[38;5;28;01mimport\u001b[39;00m get_project_path\n\u001b[0;32m     18\u001b[0m \u001b[38;5;28;01mdef\u001b[39;00m \u001b[38;5;21mmap_to_storage_interval\u001b[39m(interval: \u001b[38;5;28mstr\u001b[39m, source: \u001b[38;5;28mstr\u001b[39m \u001b[38;5;241m=\u001b[39m \u001b[38;5;124m'\u001b[39m\u001b[38;5;124mib\u001b[39m\u001b[38;5;124m'\u001b[39m) \u001b[38;5;241m-\u001b[39m\u001b[38;5;241m>\u001b[39m \u001b[38;5;28mstr\u001b[39m:\n\u001b[0;32m     19\u001b[0m \u001b[38;5;250m    \u001b[39m\u001b[38;5;124;03m\"\"\"\u001b[39;00m\n\u001b[0;32m     20\u001b[0m \u001b[38;5;124;03m    Maps intervals from various data sources to standardized storage intervals.\u001b[39;00m\n\u001b[0;32m     21\u001b[0m \u001b[38;5;124;03m    \u001b[39;00m\n\u001b[1;32m   (...)\u001b[0m\n\u001b[0;32m     30\u001b[0m \u001b[38;5;124;03m        ValueError: If the interval is invalid or the source is not recognized\u001b[39;00m\n\u001b[0;32m     31\u001b[0m \u001b[38;5;124;03m    \"\"\"\u001b[39;00m\n",
      "\u001b[1;31mModuleNotFoundError\u001b[0m: No module named 'project_paths'"
     ]
    }
   ],
   "source": [
    "import historical_data as hd\n",
    "import datetime\n",
    "\n",
    "symbol = 'SOFI'\n",
    "interval = '5 mins'\n",
    "# start_date = '2024-01-01 04:00:00'\n",
    "# end_date   = '2024-02-01 20:00:00'\n",
    "\n",
    "# data = hd.get_hist_data(symbol, start_date, 'now', interval)\n",
    "data = hd.get_hist_data(symbol, \"2 weeksAgo\", 'now', interval)\n",
    "display(data)"
   ]
  },
  {
   "cell_type": "code",
   "execution_count": 3,
   "metadata": {},
   "outputs": [
    {
     "data": {
      "application/vnd.plotly.v1+json": {
       "config": {
        "plotlyServerURL": "https://plot.ly"
       },
       "data": [],
       "layout": {
        "font": {
         "color": "#A9A9A9"
        },
        "height": 400,
        "margin": {
         "b": 50,
         "l": 100,
         "r": 20,
         "t": 50
        },
        "paper_bgcolor": "black",
        "plot_bgcolor": "black",
        "showlegend": true,
        "template": {
         "data": {
          "bar": [
           {
            "error_x": {
             "color": "#2a3f5f"
            },
            "error_y": {
             "color": "#2a3f5f"
            },
            "marker": {
             "line": {
              "color": "#E5ECF6",
              "width": 0.5
             },
             "pattern": {
              "fillmode": "overlay",
              "size": 10,
              "solidity": 0.2
             }
            },
            "type": "bar"
           }
          ],
          "barpolar": [
           {
            "marker": {
             "line": {
              "color": "#E5ECF6",
              "width": 0.5
             },
             "pattern": {
              "fillmode": "overlay",
              "size": 10,
              "solidity": 0.2
             }
            },
            "type": "barpolar"
           }
          ],
          "carpet": [
           {
            "aaxis": {
             "endlinecolor": "#2a3f5f",
             "gridcolor": "white",
             "linecolor": "white",
             "minorgridcolor": "white",
             "startlinecolor": "#2a3f5f"
            },
            "baxis": {
             "endlinecolor": "#2a3f5f",
             "gridcolor": "white",
             "linecolor": "white",
             "minorgridcolor": "white",
             "startlinecolor": "#2a3f5f"
            },
            "type": "carpet"
           }
          ],
          "choropleth": [
           {
            "colorbar": {
             "outlinewidth": 0,
             "ticks": ""
            },
            "type": "choropleth"
           }
          ],
          "contour": [
           {
            "colorbar": {
             "outlinewidth": 0,
             "ticks": ""
            },
            "colorscale": [
             [
              0,
              "#0d0887"
             ],
             [
              0.1111111111111111,
              "#46039f"
             ],
             [
              0.2222222222222222,
              "#7201a8"
             ],
             [
              0.3333333333333333,
              "#9c179e"
             ],
             [
              0.4444444444444444,
              "#bd3786"
             ],
             [
              0.5555555555555556,
              "#d8576b"
             ],
             [
              0.6666666666666666,
              "#ed7953"
             ],
             [
              0.7777777777777778,
              "#fb9f3a"
             ],
             [
              0.8888888888888888,
              "#fdca26"
             ],
             [
              1,
              "#f0f921"
             ]
            ],
            "type": "contour"
           }
          ],
          "contourcarpet": [
           {
            "colorbar": {
             "outlinewidth": 0,
             "ticks": ""
            },
            "type": "contourcarpet"
           }
          ],
          "heatmap": [
           {
            "colorbar": {
             "outlinewidth": 0,
             "ticks": ""
            },
            "colorscale": [
             [
              0,
              "#0d0887"
             ],
             [
              0.1111111111111111,
              "#46039f"
             ],
             [
              0.2222222222222222,
              "#7201a8"
             ],
             [
              0.3333333333333333,
              "#9c179e"
             ],
             [
              0.4444444444444444,
              "#bd3786"
             ],
             [
              0.5555555555555556,
              "#d8576b"
             ],
             [
              0.6666666666666666,
              "#ed7953"
             ],
             [
              0.7777777777777778,
              "#fb9f3a"
             ],
             [
              0.8888888888888888,
              "#fdca26"
             ],
             [
              1,
              "#f0f921"
             ]
            ],
            "type": "heatmap"
           }
          ],
          "heatmapgl": [
           {
            "colorbar": {
             "outlinewidth": 0,
             "ticks": ""
            },
            "colorscale": [
             [
              0,
              "#0d0887"
             ],
             [
              0.1111111111111111,
              "#46039f"
             ],
             [
              0.2222222222222222,
              "#7201a8"
             ],
             [
              0.3333333333333333,
              "#9c179e"
             ],
             [
              0.4444444444444444,
              "#bd3786"
             ],
             [
              0.5555555555555556,
              "#d8576b"
             ],
             [
              0.6666666666666666,
              "#ed7953"
             ],
             [
              0.7777777777777778,
              "#fb9f3a"
             ],
             [
              0.8888888888888888,
              "#fdca26"
             ],
             [
              1,
              "#f0f921"
             ]
            ],
            "type": "heatmapgl"
           }
          ],
          "histogram": [
           {
            "marker": {
             "pattern": {
              "fillmode": "overlay",
              "size": 10,
              "solidity": 0.2
             }
            },
            "type": "histogram"
           }
          ],
          "histogram2d": [
           {
            "colorbar": {
             "outlinewidth": 0,
             "ticks": ""
            },
            "colorscale": [
             [
              0,
              "#0d0887"
             ],
             [
              0.1111111111111111,
              "#46039f"
             ],
             [
              0.2222222222222222,
              "#7201a8"
             ],
             [
              0.3333333333333333,
              "#9c179e"
             ],
             [
              0.4444444444444444,
              "#bd3786"
             ],
             [
              0.5555555555555556,
              "#d8576b"
             ],
             [
              0.6666666666666666,
              "#ed7953"
             ],
             [
              0.7777777777777778,
              "#fb9f3a"
             ],
             [
              0.8888888888888888,
              "#fdca26"
             ],
             [
              1,
              "#f0f921"
             ]
            ],
            "type": "histogram2d"
           }
          ],
          "histogram2dcontour": [
           {
            "colorbar": {
             "outlinewidth": 0,
             "ticks": ""
            },
            "colorscale": [
             [
              0,
              "#0d0887"
             ],
             [
              0.1111111111111111,
              "#46039f"
             ],
             [
              0.2222222222222222,
              "#7201a8"
             ],
             [
              0.3333333333333333,
              "#9c179e"
             ],
             [
              0.4444444444444444,
              "#bd3786"
             ],
             [
              0.5555555555555556,
              "#d8576b"
             ],
             [
              0.6666666666666666,
              "#ed7953"
             ],
             [
              0.7777777777777778,
              "#fb9f3a"
             ],
             [
              0.8888888888888888,
              "#fdca26"
             ],
             [
              1,
              "#f0f921"
             ]
            ],
            "type": "histogram2dcontour"
           }
          ],
          "mesh3d": [
           {
            "colorbar": {
             "outlinewidth": 0,
             "ticks": ""
            },
            "type": "mesh3d"
           }
          ],
          "parcoords": [
           {
            "line": {
             "colorbar": {
              "outlinewidth": 0,
              "ticks": ""
             }
            },
            "type": "parcoords"
           }
          ],
          "pie": [
           {
            "automargin": true,
            "type": "pie"
           }
          ],
          "scatter": [
           {
            "fillpattern": {
             "fillmode": "overlay",
             "size": 10,
             "solidity": 0.2
            },
            "type": "scatter"
           }
          ],
          "scatter3d": [
           {
            "line": {
             "colorbar": {
              "outlinewidth": 0,
              "ticks": ""
             }
            },
            "marker": {
             "colorbar": {
              "outlinewidth": 0,
              "ticks": ""
             }
            },
            "type": "scatter3d"
           }
          ],
          "scattercarpet": [
           {
            "marker": {
             "colorbar": {
              "outlinewidth": 0,
              "ticks": ""
             }
            },
            "type": "scattercarpet"
           }
          ],
          "scattergeo": [
           {
            "marker": {
             "colorbar": {
              "outlinewidth": 0,
              "ticks": ""
             }
            },
            "type": "scattergeo"
           }
          ],
          "scattergl": [
           {
            "marker": {
             "colorbar": {
              "outlinewidth": 0,
              "ticks": ""
             }
            },
            "type": "scattergl"
           }
          ],
          "scattermapbox": [
           {
            "marker": {
             "colorbar": {
              "outlinewidth": 0,
              "ticks": ""
             }
            },
            "type": "scattermapbox"
           }
          ],
          "scatterpolar": [
           {
            "marker": {
             "colorbar": {
              "outlinewidth": 0,
              "ticks": ""
             }
            },
            "type": "scatterpolar"
           }
          ],
          "scatterpolargl": [
           {
            "marker": {
             "colorbar": {
              "outlinewidth": 0,
              "ticks": ""
             }
            },
            "type": "scatterpolargl"
           }
          ],
          "scatterternary": [
           {
            "marker": {
             "colorbar": {
              "outlinewidth": 0,
              "ticks": ""
             }
            },
            "type": "scatterternary"
           }
          ],
          "surface": [
           {
            "colorbar": {
             "outlinewidth": 0,
             "ticks": ""
            },
            "colorscale": [
             [
              0,
              "#0d0887"
             ],
             [
              0.1111111111111111,
              "#46039f"
             ],
             [
              0.2222222222222222,
              "#7201a8"
             ],
             [
              0.3333333333333333,
              "#9c179e"
             ],
             [
              0.4444444444444444,
              "#bd3786"
             ],
             [
              0.5555555555555556,
              "#d8576b"
             ],
             [
              0.6666666666666666,
              "#ed7953"
             ],
             [
              0.7777777777777778,
              "#fb9f3a"
             ],
             [
              0.8888888888888888,
              "#fdca26"
             ],
             [
              1,
              "#f0f921"
             ]
            ],
            "type": "surface"
           }
          ],
          "table": [
           {
            "cells": {
             "fill": {
              "color": "#EBF0F8"
             },
             "line": {
              "color": "white"
             }
            },
            "header": {
             "fill": {
              "color": "#C8D4E3"
             },
             "line": {
              "color": "white"
             }
            },
            "type": "table"
           }
          ]
         },
         "layout": {
          "annotationdefaults": {
           "arrowcolor": "#2a3f5f",
           "arrowhead": 0,
           "arrowwidth": 1
          },
          "autotypenumbers": "strict",
          "coloraxis": {
           "colorbar": {
            "outlinewidth": 0,
            "ticks": ""
           }
          },
          "colorscale": {
           "diverging": [
            [
             0,
             "#8e0152"
            ],
            [
             0.1,
             "#c51b7d"
            ],
            [
             0.2,
             "#de77ae"
            ],
            [
             0.3,
             "#f1b6da"
            ],
            [
             0.4,
             "#fde0ef"
            ],
            [
             0.5,
             "#f7f7f7"
            ],
            [
             0.6,
             "#e6f5d0"
            ],
            [
             0.7,
             "#b8e186"
            ],
            [
             0.8,
             "#7fbc41"
            ],
            [
             0.9,
             "#4d9221"
            ],
            [
             1,
             "#276419"
            ]
           ],
           "sequential": [
            [
             0,
             "#0d0887"
            ],
            [
             0.1111111111111111,
             "#46039f"
            ],
            [
             0.2222222222222222,
             "#7201a8"
            ],
            [
             0.3333333333333333,
             "#9c179e"
            ],
            [
             0.4444444444444444,
             "#bd3786"
            ],
            [
             0.5555555555555556,
             "#d8576b"
            ],
            [
             0.6666666666666666,
             "#ed7953"
            ],
            [
             0.7777777777777778,
             "#fb9f3a"
            ],
            [
             0.8888888888888888,
             "#fdca26"
            ],
            [
             1,
             "#f0f921"
            ]
           ],
           "sequentialminus": [
            [
             0,
             "#0d0887"
            ],
            [
             0.1111111111111111,
             "#46039f"
            ],
            [
             0.2222222222222222,
             "#7201a8"
            ],
            [
             0.3333333333333333,
             "#9c179e"
            ],
            [
             0.4444444444444444,
             "#bd3786"
            ],
            [
             0.5555555555555556,
             "#d8576b"
            ],
            [
             0.6666666666666666,
             "#ed7953"
            ],
            [
             0.7777777777777778,
             "#fb9f3a"
            ],
            [
             0.8888888888888888,
             "#fdca26"
            ],
            [
             1,
             "#f0f921"
            ]
           ]
          },
          "colorway": [
           "#636efa",
           "#EF553B",
           "#00cc96",
           "#ab63fa",
           "#FFA15A",
           "#19d3f3",
           "#FF6692",
           "#B6E880",
           "#FF97FF",
           "#FECB52"
          ],
          "font": {
           "color": "#2a3f5f"
          },
          "geo": {
           "bgcolor": "white",
           "lakecolor": "white",
           "landcolor": "#E5ECF6",
           "showlakes": true,
           "showland": true,
           "subunitcolor": "white"
          },
          "hoverlabel": {
           "align": "left"
          },
          "hovermode": "closest",
          "mapbox": {
           "style": "light"
          },
          "paper_bgcolor": "white",
          "plot_bgcolor": "#E5ECF6",
          "polar": {
           "angularaxis": {
            "gridcolor": "white",
            "linecolor": "white",
            "ticks": ""
           },
           "bgcolor": "#E5ECF6",
           "radialaxis": {
            "gridcolor": "white",
            "linecolor": "white",
            "ticks": ""
           }
          },
          "scene": {
           "xaxis": {
            "backgroundcolor": "#E5ECF6",
            "gridcolor": "white",
            "gridwidth": 2,
            "linecolor": "white",
            "showbackground": true,
            "ticks": "",
            "zerolinecolor": "white"
           },
           "yaxis": {
            "backgroundcolor": "#E5ECF6",
            "gridcolor": "white",
            "gridwidth": 2,
            "linecolor": "white",
            "showbackground": true,
            "ticks": "",
            "zerolinecolor": "white"
           },
           "zaxis": {
            "backgroundcolor": "#E5ECF6",
            "gridcolor": "white",
            "gridwidth": 2,
            "linecolor": "white",
            "showbackground": true,
            "ticks": "",
            "zerolinecolor": "white"
           }
          },
          "shapedefaults": {
           "line": {
            "color": "#2a3f5f"
           }
          },
          "ternary": {
           "aaxis": {
            "gridcolor": "white",
            "linecolor": "white",
            "ticks": ""
           },
           "baxis": {
            "gridcolor": "white",
            "linecolor": "white",
            "ticks": ""
           },
           "bgcolor": "#E5ECF6",
           "caxis": {
            "gridcolor": "white",
            "linecolor": "white",
            "ticks": ""
           }
          },
          "title": {
           "x": 0.05
          },
          "xaxis": {
           "automargin": true,
           "gridcolor": "white",
           "linecolor": "white",
           "ticks": "",
           "title": {
            "standoff": 15
           },
           "zerolinecolor": "white",
           "zerolinewidth": 2
          },
          "yaxis": {
           "automargin": true,
           "gridcolor": "white",
           "linecolor": "white",
           "ticks": "",
           "title": {
            "standoff": 15
           },
           "zerolinecolor": "white",
           "zerolinewidth": 2
          }
         }
        },
        "title": {
         "font": {
          "color": "#A9A9A9"
         },
         "text": "Stock Data Date Ranges by File"
        },
        "xaxis": {
         "color": "#A9A9A9",
         "gridcolor": "#2F2F2F",
         "gridwidth": 1,
         "rangeslider": {
          "visible": true
         },
         "showgrid": true,
         "title": {
          "font": {
           "color": "#A9A9A9"
          },
          "text": "Date"
         },
         "type": "date"
        },
        "yaxis": {
         "autorange": "reversed",
         "color": "#A9A9A9",
         "gridcolor": "#2F2F2F",
         "gridwidth": 1,
         "showgrid": true,
         "title": {
          "font": {
           "color": "#A9A9A9"
          },
          "text": "Stock Symbol (Interval)"
         }
        }
       }
      }
     },
     "metadata": {},
     "output_type": "display_data"
    }
   ],
   "source": [
    "import historical_data as hd\n",
    "\n",
    "hd.visualize_saved_stock_date_ranges()"
   ]
  },
  {
   "cell_type": "markdown",
   "metadata": {},
   "source": [
    "# V2 of Historical Data"
   ]
  },
  {
   "cell_type": "code",
   "execution_count": 2,
   "metadata": {},
   "outputs": [
    {
     "data": {
      "text/html": [
       "<div>\n",
       "<style scoped>\n",
       "    .dataframe tbody tr th:only-of-type {\n",
       "        vertical-align: middle;\n",
       "    }\n",
       "\n",
       "    .dataframe tbody tr th {\n",
       "        vertical-align: top;\n",
       "    }\n",
       "\n",
       "    .dataframe thead th {\n",
       "        text-align: right;\n",
       "    }\n",
       "</style>\n",
       "<table border=\"1\" class=\"dataframe\">\n",
       "  <thead>\n",
       "    <tr style=\"text-align: right;\">\n",
       "      <th></th>\n",
       "      <th>date</th>\n",
       "      <th>open</th>\n",
       "      <th>high</th>\n",
       "      <th>low</th>\n",
       "      <th>close</th>\n",
       "      <th>volume</th>\n",
       "      <th>average</th>\n",
       "      <th>barCount</th>\n",
       "    </tr>\n",
       "  </thead>\n",
       "  <tbody>\n",
       "    <tr>\n",
       "      <th>0</th>\n",
       "      <td>2025-03-21 03:00:00</td>\n",
       "      <td>236.49</td>\n",
       "      <td>237.01</td>\n",
       "      <td>235.23</td>\n",
       "      <td>236.21</td>\n",
       "      <td>468</td>\n",
       "      <td>236.173</td>\n",
       "      <td>331</td>\n",
       "    </tr>\n",
       "    <tr>\n",
       "      <th>1</th>\n",
       "      <td>2025-03-21 03:15:00</td>\n",
       "      <td>236.37</td>\n",
       "      <td>236.43</td>\n",
       "      <td>234.06</td>\n",
       "      <td>234.60</td>\n",
       "      <td>533</td>\n",
       "      <td>235.037</td>\n",
       "      <td>349</td>\n",
       "    </tr>\n",
       "    <tr>\n",
       "      <th>2</th>\n",
       "      <td>2025-03-21 03:30:00</td>\n",
       "      <td>234.54</td>\n",
       "      <td>234.87</td>\n",
       "      <td>233.06</td>\n",
       "      <td>233.30</td>\n",
       "      <td>460</td>\n",
       "      <td>233.970</td>\n",
       "      <td>326</td>\n",
       "    </tr>\n",
       "    <tr>\n",
       "      <th>3</th>\n",
       "      <td>2025-03-21 03:45:00</td>\n",
       "      <td>233.60</td>\n",
       "      <td>234.25</td>\n",
       "      <td>233.26</td>\n",
       "      <td>234.11</td>\n",
       "      <td>238</td>\n",
       "      <td>233.738</td>\n",
       "      <td>181</td>\n",
       "    </tr>\n",
       "    <tr>\n",
       "      <th>4</th>\n",
       "      <td>2025-03-21 04:00:00</td>\n",
       "      <td>234.13</td>\n",
       "      <td>234.35</td>\n",
       "      <td>233.50</td>\n",
       "      <td>234.00</td>\n",
       "      <td>182</td>\n",
       "      <td>233.878</td>\n",
       "      <td>126</td>\n",
       "    </tr>\n",
       "    <tr>\n",
       "      <th>...</th>\n",
       "      <td>...</td>\n",
       "      <td>...</td>\n",
       "      <td>...</td>\n",
       "      <td>...</td>\n",
       "      <td>...</td>\n",
       "      <td>...</td>\n",
       "      <td>...</td>\n",
       "      <td>...</td>\n",
       "    </tr>\n",
       "    <tr>\n",
       "      <th>59</th>\n",
       "      <td>2025-03-21 17:45:00</td>\n",
       "      <td>249.69</td>\n",
       "      <td>249.73</td>\n",
       "      <td>249.50</td>\n",
       "      <td>249.73</td>\n",
       "      <td>363</td>\n",
       "      <td>249.596</td>\n",
       "      <td>155</td>\n",
       "    </tr>\n",
       "    <tr>\n",
       "      <th>60</th>\n",
       "      <td>2025-03-21 18:00:00</td>\n",
       "      <td>249.75</td>\n",
       "      <td>249.78</td>\n",
       "      <td>249.55</td>\n",
       "      <td>249.65</td>\n",
       "      <td>301</td>\n",
       "      <td>249.638</td>\n",
       "      <td>124</td>\n",
       "    </tr>\n",
       "    <tr>\n",
       "      <th>61</th>\n",
       "      <td>2025-03-21 18:15:00</td>\n",
       "      <td>249.67</td>\n",
       "      <td>249.79</td>\n",
       "      <td>249.50</td>\n",
       "      <td>249.50</td>\n",
       "      <td>620</td>\n",
       "      <td>249.624</td>\n",
       "      <td>180</td>\n",
       "    </tr>\n",
       "    <tr>\n",
       "      <th>62</th>\n",
       "      <td>2025-03-21 18:30:00</td>\n",
       "      <td>249.50</td>\n",
       "      <td>249.59</td>\n",
       "      <td>248.91</td>\n",
       "      <td>248.95</td>\n",
       "      <td>543</td>\n",
       "      <td>249.237</td>\n",
       "      <td>227</td>\n",
       "    </tr>\n",
       "    <tr>\n",
       "      <th>63</th>\n",
       "      <td>2025-03-21 18:45:00</td>\n",
       "      <td>248.90</td>\n",
       "      <td>249.49</td>\n",
       "      <td>248.85</td>\n",
       "      <td>249.45</td>\n",
       "      <td>760</td>\n",
       "      <td>249.143</td>\n",
       "      <td>288</td>\n",
       "    </tr>\n",
       "  </tbody>\n",
       "</table>\n",
       "<p>64 rows × 8 columns</p>\n",
       "</div>"
      ],
      "text/plain": [
       "                  date    open    high     low   close  volume  average  \\\n",
       "0  2025-03-21 03:00:00  236.49  237.01  235.23  236.21     468  236.173   \n",
       "1  2025-03-21 03:15:00  236.37  236.43  234.06  234.60     533  235.037   \n",
       "2  2025-03-21 03:30:00  234.54  234.87  233.06  233.30     460  233.970   \n",
       "3  2025-03-21 03:45:00  233.60  234.25  233.26  234.11     238  233.738   \n",
       "4  2025-03-21 04:00:00  234.13  234.35  233.50  234.00     182  233.878   \n",
       "..                 ...     ...     ...     ...     ...     ...      ...   \n",
       "59 2025-03-21 17:45:00  249.69  249.73  249.50  249.73     363  249.596   \n",
       "60 2025-03-21 18:00:00  249.75  249.78  249.55  249.65     301  249.638   \n",
       "61 2025-03-21 18:15:00  249.67  249.79  249.50  249.50     620  249.624   \n",
       "62 2025-03-21 18:30:00  249.50  249.59  248.91  248.95     543  249.237   \n",
       "63 2025-03-21 18:45:00  248.90  249.49  248.85  249.45     760  249.143   \n",
       "\n",
       "    barCount  \n",
       "0        331  \n",
       "1        349  \n",
       "2        326  \n",
       "3        181  \n",
       "4        126  \n",
       "..       ...  \n",
       "59       155  \n",
       "60       124  \n",
       "61       180  \n",
       "62       227  \n",
       "63       288  \n",
       "\n",
       "[64 rows x 8 columns]"
      ]
     },
     "execution_count": 2,
     "metadata": {},
     "output_type": "execute_result"
    }
   ],
   "source": [
    "\n",
    "#! just testing basic ib_insync functionality\n",
    "\n",
    "from ib_insync import *\n",
    "util.startLoop()\n",
    "\n",
    "ib = IB()\n",
    "ib.connect('127.0.0.1', 7496, clientId=13)\n",
    "\n",
    "ct = Stock('TSLA', 'SMART', 'USD')\n",
    "\n",
    "# 1 min max 7 D\n",
    "# 5 mins max 30 D\n",
    "# 15 mins max 60 D\n",
    "# 1 hour max 365 D\n",
    "# 1 day max 20 Y\n",
    "\n",
    "bars = ib.reqHistoricalData(\n",
    "        ct,\n",
    "        endDateTime='20250322 23:59:59 US/Eastern',\n",
    "        barSizeSetting='15 mins',\n",
    "        durationStr='1 D',\n",
    "        whatToShow='TRADES',\n",
    "        useRTH=False,\n",
    "        formatDate=1)\n",
    "\n",
    "ib.disconnect()\n",
    "\n",
    "df = util.df(bars)\n",
    "df"
   ]
  },
  {
   "cell_type": "code",
   "execution_count": 1,
   "metadata": {},
   "outputs": [
    {
     "data": {
      "text/plain": [
       "<IB connected to 127.0.0.1:4002 clientId=13>"
      ]
     },
     "execution_count": 1,
     "metadata": {},
     "output_type": "execute_result"
    }
   ],
   "source": [
    "# In your Jupyter notebook (TEST_Daily_Analysis.ipynb)\n",
    "import sys\n",
    "from pathlib import Path\n",
    "# Add the project root directory to Python path\n",
    "ROOT_DIR = Path.cwd().parent  # Goes up one level from 'scanner' to 'stockbot4'\n",
    "if str(ROOT_DIR) not in sys.path:\n",
    "    sys.path.append(str(ROOT_DIR))\n",
    "\n",
    "\n",
    "from ib_insync import *\n",
    "util.startLoop()\n",
    "ib = IB()\n",
    "ib.connect('127.0.0.1', 4002, clientId=13)\n",
    "\n"
   ]
  },
  {
   "cell_type": "code",
   "execution_count": 4,
   "metadata": {},
   "outputs": [
    {
     "name": "stdout",
     "output_type": "stream",
     "text": [
      "original_endDateTime: now, endDateTime: 20250331 19:07:52 US/Eastern\n",
      "TSLA 5 mins 7 D :: 2025-03-21 03:00:00 to 2025-03-31 15:05:00 rows: 3026, missing: 1, Data stored as 1 min and resampled to 5 mins\n"
     ]
    },
    {
     "data": {
      "text/html": [
       "<div>\n",
       "<style scoped>\n",
       "    .dataframe tbody tr th:only-of-type {\n",
       "        vertical-align: middle;\n",
       "    }\n",
       "\n",
       "    .dataframe tbody tr th {\n",
       "        vertical-align: top;\n",
       "    }\n",
       "\n",
       "    .dataframe thead th {\n",
       "        text-align: right;\n",
       "    }\n",
       "</style>\n",
       "<table border=\"1\" class=\"dataframe\">\n",
       "  <thead>\n",
       "    <tr style=\"text-align: right;\">\n",
       "      <th></th>\n",
       "      <th>open</th>\n",
       "      <th>high</th>\n",
       "      <th>low</th>\n",
       "      <th>close</th>\n",
       "      <th>volume</th>\n",
       "    </tr>\n",
       "    <tr>\n",
       "      <th>date</th>\n",
       "      <th></th>\n",
       "      <th></th>\n",
       "      <th></th>\n",
       "      <th></th>\n",
       "      <th></th>\n",
       "    </tr>\n",
       "  </thead>\n",
       "  <tbody>\n",
       "    <tr>\n",
       "      <th>2025-03-21 03:00:00</th>\n",
       "      <td>236.49</td>\n",
       "      <td>237.01</td>\n",
       "      <td>235.23</td>\n",
       "      <td>236.00</td>\n",
       "      <td>199</td>\n",
       "    </tr>\n",
       "    <tr>\n",
       "      <th>2025-03-21 03:05:00</th>\n",
       "      <td>236.11</td>\n",
       "      <td>236.29</td>\n",
       "      <td>235.77</td>\n",
       "      <td>236.24</td>\n",
       "      <td>85</td>\n",
       "    </tr>\n",
       "    <tr>\n",
       "      <th>2025-03-21 03:10:00</th>\n",
       "      <td>236.20</td>\n",
       "      <td>236.91</td>\n",
       "      <td>236.12</td>\n",
       "      <td>236.21</td>\n",
       "      <td>174</td>\n",
       "    </tr>\n",
       "    <tr>\n",
       "      <th>2025-03-21 03:15:00</th>\n",
       "      <td>236.37</td>\n",
       "      <td>236.43</td>\n",
       "      <td>235.50</td>\n",
       "      <td>235.60</td>\n",
       "      <td>122</td>\n",
       "    </tr>\n",
       "    <tr>\n",
       "      <th>2025-03-21 03:20:00</th>\n",
       "      <td>235.65</td>\n",
       "      <td>235.65</td>\n",
       "      <td>234.06</td>\n",
       "      <td>234.40</td>\n",
       "      <td>220</td>\n",
       "    </tr>\n",
       "    <tr>\n",
       "      <th>...</th>\n",
       "      <td>...</td>\n",
       "      <td>...</td>\n",
       "      <td>...</td>\n",
       "      <td>...</td>\n",
       "      <td>...</td>\n",
       "    </tr>\n",
       "    <tr>\n",
       "      <th>2025-03-31 14:45:00</th>\n",
       "      <td>253.64</td>\n",
       "      <td>253.81</td>\n",
       "      <td>252.62</td>\n",
       "      <td>253.22</td>\n",
       "      <td>8563</td>\n",
       "    </tr>\n",
       "    <tr>\n",
       "      <th>2025-03-31 14:50:00</th>\n",
       "      <td>253.26</td>\n",
       "      <td>254.46</td>\n",
       "      <td>252.75</td>\n",
       "      <td>254.33</td>\n",
       "      <td>7213</td>\n",
       "    </tr>\n",
       "    <tr>\n",
       "      <th>2025-03-31 14:55:00</th>\n",
       "      <td>254.35</td>\n",
       "      <td>254.40</td>\n",
       "      <td>253.36</td>\n",
       "      <td>254.08</td>\n",
       "      <td>6054</td>\n",
       "    </tr>\n",
       "    <tr>\n",
       "      <th>2025-03-31 15:00:00</th>\n",
       "      <td>254.11</td>\n",
       "      <td>255.46</td>\n",
       "      <td>253.80</td>\n",
       "      <td>255.27</td>\n",
       "      <td>8498</td>\n",
       "    </tr>\n",
       "    <tr>\n",
       "      <th>2025-03-31 15:05:00</th>\n",
       "      <td>255.33</td>\n",
       "      <td>255.67</td>\n",
       "      <td>254.80</td>\n",
       "      <td>255.65</td>\n",
       "      <td>3920</td>\n",
       "    </tr>\n",
       "  </tbody>\n",
       "</table>\n",
       "<p>3026 rows × 5 columns</p>\n",
       "</div>"
      ],
      "text/plain": [
       "                       open    high     low   close  volume\n",
       "date                                                       \n",
       "2025-03-21 03:00:00  236.49  237.01  235.23  236.00     199\n",
       "2025-03-21 03:05:00  236.11  236.29  235.77  236.24      85\n",
       "2025-03-21 03:10:00  236.20  236.91  236.12  236.21     174\n",
       "2025-03-21 03:15:00  236.37  236.43  235.50  235.60     122\n",
       "2025-03-21 03:20:00  235.65  235.65  234.06  234.40     220\n",
       "...                     ...     ...     ...     ...     ...\n",
       "2025-03-31 14:45:00  253.64  253.81  252.62  253.22    8563\n",
       "2025-03-31 14:50:00  253.26  254.46  252.75  254.33    7213\n",
       "2025-03-31 14:55:00  254.35  254.40  253.36  254.08    6054\n",
       "2025-03-31 15:00:00  254.11  255.46  253.80  255.27    8498\n",
       "2025-03-31 15:05:00  255.33  255.67  254.80  255.65    3920\n",
       "\n",
       "[3026 rows x 5 columns]"
      ]
     },
     "execution_count": 4,
     "metadata": {},
     "output_type": "execute_result"
    }
   ],
   "source": [
    "from data.historical_data import HistoricalData\n",
    "hd = HistoricalData(ib)\n",
    "symbol = 'TSLA'\n",
    "interval = '1 hour'\n",
    "interval = '5 mins'\n",
    "# endDateTime = '20250322 23:59:59 US/Eastern'\n",
    "endDateTime = 'now'\n",
    "# endDateTime = '2025-03-22'\n",
    "durationStr = '7 D' \n",
    "\n",
    "\n",
    "hd.get_data(symbol, interval, endDateTime, durationStr, print_info=True)"
   ]
  },
  {
   "cell_type": "code",
   "execution_count": 18,
   "metadata": {},
   "outputs": [
    {
     "data": {
      "text/html": [
       "<div>\n",
       "<style scoped>\n",
       "    .dataframe tbody tr th:only-of-type {\n",
       "        vertical-align: middle;\n",
       "    }\n",
       "\n",
       "    .dataframe tbody tr th {\n",
       "        vertical-align: top;\n",
       "    }\n",
       "\n",
       "    .dataframe thead th {\n",
       "        text-align: right;\n",
       "    }\n",
       "</style>\n",
       "<table border=\"1\" class=\"dataframe\">\n",
       "  <thead>\n",
       "    <tr style=\"text-align: right;\">\n",
       "      <th></th>\n",
       "      <th>open</th>\n",
       "      <th>high</th>\n",
       "      <th>low</th>\n",
       "      <th>close</th>\n",
       "      <th>volume</th>\n",
       "      <th>average</th>\n",
       "      <th>barCount</th>\n",
       "    </tr>\n",
       "    <tr>\n",
       "      <th>date</th>\n",
       "      <th></th>\n",
       "      <th></th>\n",
       "      <th></th>\n",
       "      <th></th>\n",
       "      <th></th>\n",
       "      <th></th>\n",
       "      <th></th>\n",
       "    </tr>\n",
       "  </thead>\n",
       "  <tbody>\n",
       "    <tr>\n",
       "      <th>2025-03-31 05:00:00</th>\n",
       "      <td>254.20</td>\n",
       "      <td>255.96</td>\n",
       "      <td>252.86</td>\n",
       "      <td>252.86</td>\n",
       "      <td>722</td>\n",
       "      <td>254.398</td>\n",
       "      <td>384</td>\n",
       "    </tr>\n",
       "    <tr>\n",
       "      <th>2025-03-31 05:05:00</th>\n",
       "      <td>253.00</td>\n",
       "      <td>254.79</td>\n",
       "      <td>252.66</td>\n",
       "      <td>254.00</td>\n",
       "      <td>413</td>\n",
       "      <td>253.773</td>\n",
       "      <td>251</td>\n",
       "    </tr>\n",
       "    <tr>\n",
       "      <th>2025-03-31 05:10:00</th>\n",
       "      <td>254.17</td>\n",
       "      <td>254.23</td>\n",
       "      <td>252.50</td>\n",
       "      <td>253.35</td>\n",
       "      <td>437</td>\n",
       "      <td>253.243</td>\n",
       "      <td>342</td>\n",
       "    </tr>\n",
       "    <tr>\n",
       "      <th>2025-03-31 05:15:00</th>\n",
       "      <td>253.52</td>\n",
       "      <td>254.10</td>\n",
       "      <td>252.80</td>\n",
       "      <td>253.28</td>\n",
       "      <td>251</td>\n",
       "      <td>253.497</td>\n",
       "      <td>166</td>\n",
       "    </tr>\n",
       "    <tr>\n",
       "      <th>2025-03-31 05:20:00</th>\n",
       "      <td>253.27</td>\n",
       "      <td>253.27</td>\n",
       "      <td>252.31</td>\n",
       "      <td>252.47</td>\n",
       "      <td>196</td>\n",
       "      <td>252.677</td>\n",
       "      <td>140</td>\n",
       "    </tr>\n",
       "    <tr>\n",
       "      <th>...</th>\n",
       "      <td>...</td>\n",
       "      <td>...</td>\n",
       "      <td>...</td>\n",
       "      <td>...</td>\n",
       "      <td>...</td>\n",
       "      <td>...</td>\n",
       "      <td>...</td>\n",
       "    </tr>\n",
       "    <tr>\n",
       "      <th>2025-03-31 14:45:00</th>\n",
       "      <td>253.64</td>\n",
       "      <td>253.81</td>\n",
       "      <td>252.62</td>\n",
       "      <td>253.22</td>\n",
       "      <td>8565</td>\n",
       "      <td>253.155</td>\n",
       "      <td>3615</td>\n",
       "    </tr>\n",
       "    <tr>\n",
       "      <th>2025-03-31 14:50:00</th>\n",
       "      <td>253.26</td>\n",
       "      <td>254.46</td>\n",
       "      <td>252.75</td>\n",
       "      <td>254.33</td>\n",
       "      <td>7215</td>\n",
       "      <td>253.891</td>\n",
       "      <td>2869</td>\n",
       "    </tr>\n",
       "    <tr>\n",
       "      <th>2025-03-31 14:55:00</th>\n",
       "      <td>254.35</td>\n",
       "      <td>254.40</td>\n",
       "      <td>253.36</td>\n",
       "      <td>254.08</td>\n",
       "      <td>6057</td>\n",
       "      <td>253.933</td>\n",
       "      <td>2593</td>\n",
       "    </tr>\n",
       "    <tr>\n",
       "      <th>2025-03-31 15:00:00</th>\n",
       "      <td>254.11</td>\n",
       "      <td>255.46</td>\n",
       "      <td>253.80</td>\n",
       "      <td>255.27</td>\n",
       "      <td>8499</td>\n",
       "      <td>254.919</td>\n",
       "      <td>3432</td>\n",
       "    </tr>\n",
       "    <tr>\n",
       "      <th>2025-03-31 15:05:00</th>\n",
       "      <td>255.33</td>\n",
       "      <td>255.39</td>\n",
       "      <td>255.14</td>\n",
       "      <td>255.19</td>\n",
       "      <td>188</td>\n",
       "      <td>255.256</td>\n",
       "      <td>78</td>\n",
       "    </tr>\n",
       "  </tbody>\n",
       "</table>\n",
       "<p>122 rows × 7 columns</p>\n",
       "</div>"
      ],
      "text/plain": [
       "                       open    high     low   close  volume  average  barCount\n",
       "date                                                                          \n",
       "2025-03-31 05:00:00  254.20  255.96  252.86  252.86     722  254.398       384\n",
       "2025-03-31 05:05:00  253.00  254.79  252.66  254.00     413  253.773       251\n",
       "2025-03-31 05:10:00  254.17  254.23  252.50  253.35     437  253.243       342\n",
       "2025-03-31 05:15:00  253.52  254.10  252.80  253.28     251  253.497       166\n",
       "2025-03-31 05:20:00  253.27  253.27  252.31  252.47     196  252.677       140\n",
       "...                     ...     ...     ...     ...     ...      ...       ...\n",
       "2025-03-31 14:45:00  253.64  253.81  252.62  253.22    8565  253.155      3615\n",
       "2025-03-31 14:50:00  253.26  254.46  252.75  254.33    7215  253.891      2869\n",
       "2025-03-31 14:55:00  254.35  254.40  253.36  254.08    6057  253.933      2593\n",
       "2025-03-31 15:00:00  254.11  255.46  253.80  255.27    8499  254.919      3432\n",
       "2025-03-31 15:05:00  255.33  255.39  255.14  255.19     188  255.256        78\n",
       "\n",
       "[122 rows x 7 columns]"
      ]
     },
     "execution_count": 18,
     "metadata": {},
     "output_type": "execute_result"
    }
   ],
   "source": [
    "import pytz\n",
    "\n",
    "\n",
    "symbol = 'TSLA'\n",
    "interval = '5 mins'\n",
    "# endDateTime = '20250322 23:59:59 US/Eastern'\n",
    "# endDateTime = ''\n",
    "endDateTime = '2025-03-31'\n",
    "endDateTime = '20250322 23:59:59 Europe/London'\n",
    "endDateTime = '20250331 23:59:59'\n",
    "endDateTime = '20250331 23:59:59 US/Eastern'\n",
    "durationStr = '1 D' \n",
    "\n",
    "def get_ib_data(self, symbol:str, interval:str, endDateTime:str, durationStr:str, tz:str='US/Eastern'):\n",
    "    stock_contract = Stock(symbol, 'SMART', 'USD')\n",
    "    # rth  = False if not intraday\n",
    "    useRTH = True if interval  in ['1 day', '1W', '1M'] else False\n",
    "    bars = self.ib.reqHistoricalData(\n",
    "        stock_contract,\n",
    "        endDateTime=endDateTime,\n",
    "        barSizeSetting=interval,\n",
    "        durationStr=durationStr,\n",
    "        whatToShow='TRADES',\n",
    "        useRTH=useRTH,\n",
    "        formatDate=1)\n",
    "    df = util.df(bars)\n",
    "\n",
    "    if df is not None:\n",
    "        df.set_index('date', inplace=True)\n",
    "\n",
    "        # Convert from UTC to US Eastern Time\n",
    "        # est = pytz.timezone('America/New_York')\n",
    "        est = pytz.timezone('US/Eastern')\n",
    "        df.index = df.index.tz_localize('UTC').tz_convert(est)\n",
    "\n",
    "        # Make the index timezone-naive\n",
    "        df.index = df.index.tz_localize(None)\n",
    "\n",
    "    return df\n",
    "\n",
    "get_ib_data(hd, symbol, interval, endDateTime, durationStr)"
   ]
  },
  {
   "cell_type": "code",
   "execution_count": null,
   "metadata": {},
   "outputs": [],
   "source": [
    "ib.disconnect()"
   ]
  },
  {
   "cell_type": "code",
   "execution_count": 9,
   "metadata": {},
   "outputs": [
    {
     "data": {
      "text/plain": [
       "'SMART,AMEX,NYSE,CBOE,PHLX,ISE,CHX,ARCA,ISLAND,DRCTEDGE,BEX,BATS,EDGEA,BYX,IEX,EDGX,FOXRIVER,PEARL,NYSENAT,LTSE,MEMX,IBEOS,OVERNIGHT,TPLUS0,PSX'"
      ]
     },
     "execution_count": 9,
     "metadata": {},
     "output_type": "execute_result"
    }
   ],
   "source": [
    "stock_contract = Stock(symbol, 'SMART', 'USD')\n",
    "details = ib.reqContractDetails(stock_contract)\n",
    "details[0].validExchanges"
   ]
  },
  {
   "cell_type": "code",
   "execution_count": 13,
   "metadata": {},
   "outputs": [
    {
     "name": "stdout",
     "output_type": "stream",
     "text": [
      "DatetimeIndex(['2024-01-02', '2024-01-03', '2024-01-04', '2024-01-05',\n",
      "               '2024-01-08', '2024-01-09', '2024-01-10', '2024-01-11',\n",
      "               '2024-01-12', '2024-01-16',\n",
      "               ...\n",
      "               '2024-12-17', '2024-12-18', '2024-12-19', '2024-12-20',\n",
      "               '2024-12-23', '2024-12-24', '2024-12-26', '2024-12-27',\n",
      "               '2024-12-30', '2024-12-31'],\n",
      "              dtype='datetime64[ns]', length=252, freq='C')\n",
      "(numpy.datetime64('1885-01-01'), numpy.datetime64('1885-02-23'), numpy.datetime64('1885-04-03'), numpy.datetime64('1885-05-30'), numpy.datetime64('1885-07-04'), numpy.datetime64('1885-08-08'), numpy.datetime64('1885-11-03'), numpy.datetime64('1885-11-26'), numpy.datetime64('1885-12-25'), numpy.datetime64('1886-01-01'), numpy.datetime64('1886-02-22'), numpy.datetime64('1886-04-23'), numpy.datetime64('1886-05-31'), numpy.datetime64('1886-07-05'), numpy.datetime64('1886-11-02'), numpy.datetime64('1886-11-25'), numpy.datetime64('1886-12-25'), numpy.datetime64('1887-01-01'), numpy.datetime64('1887-02-22'), numpy.datetime64('1887-04-08'), numpy.datetime64('1887-05-30'), numpy.datetime64('1887-07-02'), numpy.datetime64('1887-07-04'), numpy.datetime64('1887-09-05'), numpy.datetime64('1887-11-08'), numpy.datetime64('1887-11-24'), numpy.datetime64('1887-12-24'), numpy.datetime64('1887-12-26'), numpy.datetime64('1888-01-02'), numpy.datetime64('1888-02-22'), numpy.datetime64('1888-03-12'), numpy.datetime64('1888-03-13'), numpy.datetime64('1888-03-30'), numpy.datetime64('1888-05-30'), numpy.datetime64('1888-07-04'), numpy.datetime64('1888-09-01'), numpy.datetime64('1888-09-03'), numpy.datetime64('1888-11-06'), numpy.datetime64('1888-11-29'), numpy.datetime64('1888-11-30'), numpy.datetime64('1888-12-25'), numpy.datetime64('1889-01-01'), numpy.datetime64('1889-02-22'), numpy.datetime64('1889-04-19'), numpy.datetime64('1889-04-29'), numpy.datetime64('1889-04-30'), numpy.datetime64('1889-05-01'), numpy.datetime64('1889-05-30'), numpy.datetime64('1889-07-04'), numpy.datetime64('1889-09-02'), numpy.datetime64('1889-11-05'), numpy.datetime64('1889-11-28'), numpy.datetime64('1889-12-25'), numpy.datetime64('1890-01-01'), numpy.datetime64('1890-02-22'), numpy.datetime64('1890-04-04'), numpy.datetime64('1890-05-30'), numpy.datetime64('1890-07-04'), numpy.datetime64('1890-07-05'), numpy.datetime64('1890-09-01'), numpy.datetime64('1890-11-04'), numpy.datetime64('1890-11-27'), numpy.datetime64('1890-12-25'), numpy.datetime64('1891-01-01'), numpy.datetime64('1891-02-23'), numpy.datetime64('1891-03-27'), numpy.datetime64('1891-05-30'), numpy.datetime64('1891-07-04'), numpy.datetime64('1891-09-07'), numpy.datetime64('1891-11-03'), numpy.datetime64('1891-11-26'), numpy.datetime64('1891-12-25'), numpy.datetime64('1891-12-26'), numpy.datetime64('1892-01-01'), numpy.datetime64('1892-02-22'), numpy.datetime64('1892-04-15'), numpy.datetime64('1892-05-30'), numpy.datetime64('1892-07-02'), numpy.datetime64('1892-07-04'), numpy.datetime64('1892-09-05'), numpy.datetime64('1892-10-12'), numpy.datetime64('1892-10-21'), numpy.datetime64('1892-10-22'), numpy.datetime64('1892-11-08'), numpy.datetime64('1892-11-24'), numpy.datetime64('1892-12-26'), numpy.datetime64('1893-01-02'), numpy.datetime64('1893-02-22'), numpy.datetime64('1893-03-31'), numpy.datetime64('1893-04-27'), numpy.datetime64('1893-05-30'), numpy.datetime64('1893-07-04'), numpy.datetime64('1893-09-04'), numpy.datetime64('1893-11-07'), numpy.datetime64('1893-11-30'), numpy.datetime64('1893-12-25'), numpy.datetime64('1894-01-01'), numpy.datetime64('1894-02-22'), numpy.datetime64('1894-03-23'), numpy.datetime64('1894-05-30'), numpy.datetime64('1894-07-04'), numpy.datetime64('1894-09-03'), numpy.datetime64('1894-11-06'), numpy.datetime64('1894-11-29'), numpy.datetime64('1894-12-25'), numpy.datetime64('1895-01-01'), numpy.datetime64('1895-02-22'), numpy.datetime64('1895-04-12'), numpy.datetime64('1895-05-30'), numpy.datetime64('1895-07-04'), numpy.datetime64('1895-09-02'), numpy.datetime64('1895-11-05'), numpy.datetime64('1895-11-28'), numpy.datetime64('1895-12-25'), numpy.datetime64('1896-01-01'), numpy.datetime64('1896-02-12'), numpy.datetime64('1896-02-22'), numpy.datetime64('1896-04-03'), numpy.datetime64('1896-05-30'), numpy.datetime64('1896-07-04'), numpy.datetime64('1896-09-07'), numpy.datetime64('1896-11-03'), numpy.datetime64('1896-11-26'), numpy.datetime64('1896-12-25'), numpy.datetime64('1896-12-26'), numpy.datetime64('1897-01-01'), numpy.datetime64('1897-02-12'), numpy.datetime64('1897-02-22'), numpy.datetime64('1897-04-16'), numpy.datetime64('1897-04-27'), numpy.datetime64('1897-05-31'), numpy.datetime64('1897-07-05'), numpy.datetime64('1897-09-06'), numpy.datetime64('1897-11-02'), numpy.datetime64('1897-11-25'), numpy.datetime64('1897-12-25'), numpy.datetime64('1898-01-01'), numpy.datetime64('1898-02-12'), numpy.datetime64('1898-02-22'), numpy.datetime64('1898-05-04'), numpy.datetime64('1898-05-30'), numpy.datetime64('1898-07-02'), numpy.datetime64('1898-07-04'), numpy.datetime64('1898-08-20'), numpy.datetime64('1898-09-03'), numpy.datetime64('1898-09-05'), numpy.datetime64('1898-11-08'), numpy.datetime64('1898-11-24'), numpy.datetime64('1898-12-24'), numpy.datetime64('1898-12-26'), numpy.datetime64('1899-01-02'), numpy.datetime64('1899-02-11'), numpy.datetime64('1899-02-13'), numpy.datetime64('1899-02-22'), numpy.datetime64('1899-03-31'), numpy.datetime64('1899-05-29'), numpy.datetime64('1899-05-30'), numpy.datetime64('1899-07-03'), numpy.datetime64('1899-07-04'), numpy.datetime64('1899-09-04'), numpy.datetime64('1899-09-29'), numpy.datetime64('1899-09-30'), numpy.datetime64('1899-11-07'), numpy.datetime64('1899-11-25'), numpy.datetime64('1899-11-30'), numpy.datetime64('1899-12-25'), numpy.datetime64('1900-01-01'), numpy.datetime64('1900-02-12'), numpy.datetime64('1900-02-22'), numpy.datetime64('1900-04-13'), numpy.datetime64('1900-04-14'), numpy.datetime64('1900-05-30'), numpy.datetime64('1900-07-04'), numpy.datetime64('1900-09-01'), numpy.datetime64('1900-09-03'), numpy.datetime64('1900-11-06'), numpy.datetime64('1900-11-29'), numpy.datetime64('1900-12-24'), numpy.datetime64('1900-12-25'), numpy.datetime64('1901-01-01'), numpy.datetime64('1901-02-02'), numpy.datetime64('1901-02-12'), numpy.datetime64('1901-02-22'), numpy.datetime64('1901-02-23'), numpy.datetime64('1901-04-05'), numpy.datetime64('1901-04-06'), numpy.datetime64('1901-04-27'), numpy.datetime64('1901-05-11'), numpy.datetime64('1901-05-30'), numpy.datetime64('1901-07-04'), numpy.datetime64('1901-07-05'), numpy.datetime64('1901-07-06'), numpy.datetime64('1901-08-31'), numpy.datetime64('1901-09-02'), numpy.datetime64('1901-09-14'), numpy.datetime64('1901-09-19'), numpy.datetime64('1901-11-05'), numpy.datetime64('1901-11-28'), numpy.datetime64('1901-12-25'), numpy.datetime64('1902-01-01'), numpy.datetime64('1902-02-12'), numpy.datetime64('1902-02-22'), numpy.datetime64('1902-03-28'), numpy.datetime64('1902-03-29'), numpy.datetime64('1902-05-30'), numpy.datetime64('1902-05-31'), numpy.datetime64('1902-07-04'), numpy.datetime64('1902-07-05'), numpy.datetime64('1902-08-09'), numpy.datetime64('1902-08-30'), numpy.datetime64('1902-09-01'), numpy.datetime64('1902-11-04'), numpy.datetime64('1902-11-27'), numpy.datetime64('1902-12-25'), numpy.datetime64('1903-01-01'), numpy.datetime64('1903-02-12'), numpy.datetime64('1903-02-21'), numpy.datetime64('1903-02-23'), numpy.datetime64('1903-04-10'), numpy.datetime64('1903-04-11'), numpy.datetime64('1903-04-22'), numpy.datetime64('1903-05-30'), numpy.datetime64('1903-07-04'), numpy.datetime64('1903-09-05'), numpy.datetime64('1903-09-07'), numpy.datetime64('1903-11-03'), numpy.datetime64('1903-11-26'), numpy.datetime64('1903-12-25'), numpy.datetime64('1903-12-26'), numpy.datetime64('1904-01-01'), numpy.datetime64('1904-02-12'), numpy.datetime64('1904-02-22'), numpy.datetime64('1904-04-01'), numpy.datetime64('1904-05-28'), numpy.datetime64('1904-05-30'), numpy.datetime64('1904-07-02'), numpy.datetime64('1904-07-04'), numpy.datetime64('1904-09-03'), numpy.datetime64('1904-09-05'), numpy.datetime64('1904-11-08'), numpy.datetime64('1904-11-24'), numpy.datetime64('1904-12-24'), numpy.datetime64('1904-12-26'), numpy.datetime64('1905-01-02'), numpy.datetime64('1905-02-13'), numpy.datetime64('1905-02-22'), numpy.datetime64('1905-04-21'), numpy.datetime64('1905-04-22'), numpy.datetime64('1905-05-30'), numpy.datetime64('1905-07-04'), numpy.datetime64('1905-09-04'), numpy.datetime64('1905-11-07'), numpy.datetime64('1905-11-30'), numpy.datetime64('1905-12-25'), numpy.datetime64('1906-01-01'), numpy.datetime64('1906-02-12'), numpy.datetime64('1906-02-22'), numpy.datetime64('1906-05-30'), numpy.datetime64('1906-07-04'), numpy.datetime64('1906-09-03'), numpy.datetime64('1906-11-06'), numpy.datetime64('1906-11-29'), numpy.datetime64('1906-12-25'), numpy.datetime64('1907-01-01'), numpy.datetime64('1907-02-12'), numpy.datetime64('1907-02-22'), numpy.datetime64('1907-02-23'), numpy.datetime64('1907-03-30'), numpy.datetime64('1907-05-30'), numpy.datetime64('1907-07-04'), numpy.datetime64('1907-08-31'), numpy.datetime64('1907-09-02'), numpy.datetime64('1907-11-05'), numpy.datetime64('1907-11-28'), numpy.datetime64('1907-12-25'), numpy.datetime64('1908-01-01'), numpy.datetime64('1908-02-12'), numpy.datetime64('1908-02-22'), numpy.datetime64('1908-04-17'), numpy.datetime64('1908-04-18'), numpy.datetime64('1908-05-30'), numpy.datetime64('1908-07-04'), numpy.datetime64('1908-09-05'), numpy.datetime64('1908-09-07'), numpy.datetime64('1908-11-03'), numpy.datetime64('1908-11-26'), numpy.datetime64('1908-12-25'), numpy.datetime64('1908-12-26'), numpy.datetime64('1909-01-01'), numpy.datetime64('1909-02-12'), numpy.datetime64('1909-02-13'), numpy.datetime64('1909-02-22'), numpy.datetime64('1909-04-09'), numpy.datetime64('1909-04-10'), numpy.datetime64('1909-05-29'), numpy.datetime64('1909-05-31'), numpy.datetime64('1909-07-03'), numpy.datetime64('1909-07-05'), numpy.datetime64('1909-09-04'), numpy.datetime64('1909-09-06'), numpy.datetime64('1909-09-25'), numpy.datetime64('1909-10-12'), numpy.datetime64('1909-11-02'), numpy.datetime64('1909-11-25'), numpy.datetime64('1909-12-25'), numpy.datetime64('1910-01-01'), numpy.datetime64('1910-02-12'), numpy.datetime64('1910-02-22'), numpy.datetime64('1910-03-25'), numpy.datetime64('1910-03-26'), numpy.datetime64('1910-05-28'), numpy.datetime64('1910-05-30'), numpy.datetime64('1910-07-02'), numpy.datetime64('1910-07-04'), numpy.datetime64('1910-09-03'), numpy.datetime64('1910-09-05'), numpy.datetime64('1910-10-12'), numpy.datetime64('1910-11-08'), numpy.datetime64('1910-11-24'), numpy.datetime64('1910-12-24'), numpy.datetime64('1910-12-26'), numpy.datetime64('1911-01-02'), numpy.datetime64('1911-02-13'), numpy.datetime64('1911-02-22'), numpy.datetime64('1911-04-14'), numpy.datetime64('1911-04-15'), numpy.datetime64('1911-05-30'), numpy.datetime64('1911-07-04'), numpy.datetime64('1911-09-02'), numpy.datetime64('1911-09-04'), numpy.datetime64('1911-10-12'), numpy.datetime64('1911-11-07'), numpy.datetime64('1911-11-30'), numpy.datetime64('1911-12-23'), numpy.datetime64('1911-12-25'), numpy.datetime64('1912-01-01'), numpy.datetime64('1912-02-12'), numpy.datetime64('1912-02-22'), numpy.datetime64('1912-04-05'), numpy.datetime64('1912-05-30'), numpy.datetime64('1912-07-04'), numpy.datetime64('1912-08-31'), numpy.datetime64('1912-09-02'), numpy.datetime64('1912-10-12'), numpy.datetime64('1912-11-02'), numpy.datetime64('1912-11-05'), numpy.datetime64('1912-11-28'), numpy.datetime64('1912-12-25'), numpy.datetime64('1913-01-01'), numpy.datetime64('1913-02-12'), numpy.datetime64('1913-02-22'), numpy.datetime64('1913-03-21'), numpy.datetime64('1913-03-22'), numpy.datetime64('1913-05-30'), numpy.datetime64('1913-05-31'), numpy.datetime64('1913-07-04'), numpy.datetime64('1913-07-05'), numpy.datetime64('1913-08-30'), numpy.datetime64('1913-09-01'), numpy.datetime64('1913-10-13'), numpy.datetime64('1913-11-04'), numpy.datetime64('1913-11-27'), numpy.datetime64('1913-12-25'), numpy.datetime64('1914-01-01'), numpy.datetime64('1914-02-12'), numpy.datetime64('1914-02-23'), numpy.datetime64('1914-04-10'), numpy.datetime64('1914-05-30'), numpy.datetime64('1914-07-04'), numpy.datetime64('1914-07-31'), numpy.datetime64('1914-08-01'), numpy.datetime64('1914-08-03'), numpy.datetime64('1914-08-04'), numpy.datetime64('1914-08-05'), numpy.datetime64('1914-08-06'), numpy.datetime64('1914-08-07'), numpy.datetime64('1914-08-08'), numpy.datetime64('1914-08-10'), numpy.datetime64('1914-08-11'), numpy.datetime64('1914-08-12'), numpy.datetime64('1914-08-13'), numpy.datetime64('1914-08-14'), numpy.datetime64('1914-08-15'), numpy.datetime64('1914-08-17'), numpy.datetime64('1914-08-18'), numpy.datetime64('1914-08-19'), numpy.datetime64('1914-08-20'), numpy.datetime64('1914-08-21'), numpy.datetime64('1914-08-22'), numpy.datetime64('1914-08-24'), numpy.datetime64('1914-08-25'), numpy.datetime64('1914-08-26'), numpy.datetime64('1914-08-27'), numpy.datetime64('1914-08-28'), numpy.datetime64('1914-08-29'), numpy.datetime64('1914-08-31'), numpy.datetime64('1914-09-01'), numpy.datetime64('1914-09-02'), numpy.datetime64('1914-09-03'), numpy.datetime64('1914-09-04'), numpy.datetime64('1914-09-05'), numpy.datetime64('1914-09-07'), numpy.datetime64('1914-09-07'), numpy.datetime64('1914-09-08'), numpy.datetime64('1914-09-09'), numpy.datetime64('1914-09-10'), numpy.datetime64('1914-09-11'), numpy.datetime64('1914-09-12'), numpy.datetime64('1914-09-14'), numpy.datetime64('1914-09-15'), numpy.datetime64('1914-09-16'), numpy.datetime64('1914-09-17'), numpy.datetime64('1914-09-18'), numpy.datetime64('1914-09-19'), numpy.datetime64('1914-09-21'), numpy.datetime64('1914-09-22'), numpy.datetime64('1914-09-23'), numpy.datetime64('1914-09-24'), numpy.datetime64('1914-09-25'), numpy.datetime64('1914-09-26'), numpy.datetime64('1914-09-28'), numpy.datetime64('1914-09-29'), numpy.datetime64('1914-09-30'), numpy.datetime64('1914-10-01'), numpy.datetime64('1914-10-02'), numpy.datetime64('1914-10-03'), numpy.datetime64('1914-10-05'), numpy.datetime64('1914-10-06'), numpy.datetime64('1914-10-07'), numpy.datetime64('1914-10-08'), numpy.datetime64('1914-10-09'), numpy.datetime64('1914-10-10'), numpy.datetime64('1914-10-12'), numpy.datetime64('1914-10-12'), numpy.datetime64('1914-10-13'), numpy.datetime64('1914-10-14'), numpy.datetime64('1914-10-15'), numpy.datetime64('1914-10-16'), numpy.datetime64('1914-10-17'), numpy.datetime64('1914-10-19'), numpy.datetime64('1914-10-20'), numpy.datetime64('1914-10-21'), numpy.datetime64('1914-10-22'), numpy.datetime64('1914-10-23'), numpy.datetime64('1914-10-24'), numpy.datetime64('1914-10-26'), numpy.datetime64('1914-10-27'), numpy.datetime64('1914-10-28'), numpy.datetime64('1914-10-29'), numpy.datetime64('1914-10-30'), numpy.datetime64('1914-10-31'), numpy.datetime64('1914-11-02'), numpy.datetime64('1914-11-03'), numpy.datetime64('1914-11-03'), numpy.datetime64('1914-11-04'), numpy.datetime64('1914-11-05'), numpy.datetime64('1914-11-06'), numpy.datetime64('1914-11-07'), numpy.datetime64('1914-11-09'), numpy.datetime64('1914-11-10'), numpy.datetime64('1914-11-11'), numpy.datetime64('1914-11-12'), numpy.datetime64('1914-11-13'), numpy.datetime64('1914-11-14'), numpy.datetime64('1914-11-16'), numpy.datetime64('1914-11-17'), numpy.datetime64('1914-11-18'), numpy.datetime64('1914-11-19'), numpy.datetime64('1914-11-20'), numpy.datetime64('1914-11-21'), numpy.datetime64('1914-11-23'), numpy.datetime64('1914-11-24'), numpy.datetime64('1914-11-25'), numpy.datetime64('1914-11-26'), numpy.datetime64('1914-11-26'), numpy.datetime64('1914-11-27'), numpy.datetime64('1914-11-28'), numpy.datetime64('1914-11-30'), numpy.datetime64('1914-12-01'), numpy.datetime64('1914-12-02'), numpy.datetime64('1914-12-03'), numpy.datetime64('1914-12-04'), numpy.datetime64('1914-12-05'), numpy.datetime64('1914-12-07'), numpy.datetime64('1914-12-08'), numpy.datetime64('1914-12-09'), numpy.datetime64('1914-12-10'), numpy.datetime64('1914-12-11'), numpy.datetime64('1914-12-25'), numpy.datetime64('1915-01-01'), numpy.datetime64('1915-02-12'), numpy.datetime64('1915-02-22'), numpy.datetime64('1915-04-02'), numpy.datetime64('1915-05-31'), numpy.datetime64('1915-07-05'), numpy.datetime64('1915-09-06'), numpy.datetime64('1915-10-12'), numpy.datetime64('1915-11-02'), numpy.datetime64('1915-11-25'), numpy.datetime64('1915-12-25'), numpy.datetime64('1916-01-01'), numpy.datetime64('1916-02-12'), numpy.datetime64('1916-02-22'), numpy.datetime64('1916-04-21'), numpy.datetime64('1916-05-30'), numpy.datetime64('1916-07-04'), numpy.datetime64('1916-09-04'), numpy.datetime64('1916-10-12'), numpy.datetime64('1916-11-07'), numpy.datetime64('1916-11-30'), numpy.datetime64('1916-12-25'), numpy.datetime64('1916-12-30'), numpy.datetime64('1917-01-01'), numpy.datetime64('1917-02-12'), numpy.datetime64('1917-02-22'), numpy.datetime64('1917-04-06'), numpy.datetime64('1917-05-30'), numpy.datetime64('1917-06-05'), numpy.datetime64('1917-07-04'), numpy.datetime64('1917-08-04'), numpy.datetime64('1917-09-01'), numpy.datetime64('1917-09-03'), numpy.datetime64('1917-10-12'), numpy.datetime64('1917-10-13'), numpy.datetime64('1917-11-06'), numpy.datetime64('1917-11-29'), numpy.datetime64('1917-12-25'), numpy.datetime64('1918-01-01'), numpy.datetime64('1918-01-28'), numpy.datetime64('1918-02-04'), numpy.datetime64('1918-02-11'), numpy.datetime64('1918-02-12'), numpy.datetime64('1918-02-22'), numpy.datetime64('1918-03-29'), numpy.datetime64('1918-05-30'), numpy.datetime64('1918-07-04'), numpy.datetime64('1918-09-02'), numpy.datetime64('1918-09-12'), numpy.datetime64('1918-10-12'), numpy.datetime64('1918-11-05'), numpy.datetime64('1918-11-11'), numpy.datetime64('1918-11-28'), numpy.datetime64('1918-12-25'), numpy.datetime64('1919-01-01'), numpy.datetime64('1919-02-12'), numpy.datetime64('1919-02-22'), numpy.datetime64('1919-03-25'), numpy.datetime64('1919-04-18'), numpy.datetime64('1919-05-06'), numpy.datetime64('1919-05-30'), numpy.datetime64('1919-05-31'), numpy.datetime64('1919-07-04'), numpy.datetime64('1919-07-05'), numpy.datetime64('1919-07-19'), numpy.datetime64('1919-08-02'), numpy.datetime64('1919-08-16'), numpy.datetime64('1919-08-30'), numpy.datetime64('1919-09-01'), numpy.datetime64('1919-09-10'), numpy.datetime64('1919-10-13'), numpy.datetime64('1919-11-04'), numpy.datetime64('1919-11-27'), numpy.datetime64('1919-12-25'), numpy.datetime64('1920-01-01'), numpy.datetime64('1920-02-12'), numpy.datetime64('1920-02-23'), numpy.datetime64('1920-04-02'), numpy.datetime64('1920-04-03'), numpy.datetime64('1920-05-01'), numpy.datetime64('1920-05-31'), numpy.datetime64('1920-07-03'), numpy.datetime64('1920-07-05'), numpy.datetime64('1920-09-04'), numpy.datetime64('1920-09-06'), numpy.datetime64('1920-10-12'), numpy.datetime64('1920-11-02'), numpy.datetime64('1920-11-25'), numpy.datetime64('1920-12-25'), numpy.datetime64('1921-01-01'), numpy.datetime64('1921-02-12'), numpy.datetime64('1921-02-22'), numpy.datetime64('1921-03-25'), numpy.datetime64('1921-05-28'), numpy.datetime64('1921-05-30'), numpy.datetime64('1921-07-02'), numpy.datetime64('1921-07-04'), numpy.datetime64('1921-09-03'), numpy.datetime64('1921-09-05'), numpy.datetime64('1921-10-12'), numpy.datetime64('1921-11-08'), numpy.datetime64('1921-11-11'), numpy.datetime64('1921-11-24'), numpy.datetime64('1921-12-26'), numpy.datetime64('1922-01-02'), numpy.datetime64('1922-02-13'), numpy.datetime64('1922-02-22'), numpy.datetime64('1922-04-14'), numpy.datetime64('1922-05-30'), numpy.datetime64('1922-07-04'), numpy.datetime64('1922-09-04'), numpy.datetime64('1922-10-12'), numpy.datetime64('1922-11-07'), numpy.datetime64('1922-11-30'), numpy.datetime64('1922-12-23'), numpy.datetime64('1922-12-25'), numpy.datetime64('1923-01-01'), numpy.datetime64('1923-02-12'), numpy.datetime64('1923-02-22'), numpy.datetime64('1923-03-30'), numpy.datetime64('1923-05-30'), numpy.datetime64('1923-07-04'), numpy.datetime64('1923-08-03'), numpy.datetime64('1923-08-10'), numpy.datetime64('1923-09-03'), numpy.datetime64('1923-10-12'), numpy.datetime64('1923-11-06'), numpy.datetime64('1923-11-29'), numpy.datetime64('1923-12-25'), numpy.datetime64('1924-01-01'), numpy.datetime64('1924-02-12'), numpy.datetime64('1924-02-22'), numpy.datetime64('1924-04-18'), numpy.datetime64('1924-05-30'), numpy.datetime64('1924-05-31'), numpy.datetime64('1924-07-04'), numpy.datetime64('1924-09-01'), numpy.datetime64('1924-10-13'), numpy.datetime64('1924-11-04'), numpy.datetime64('1924-11-27'), numpy.datetime64('1924-12-25'), numpy.datetime64('1925-01-01'), numpy.datetime64('1925-02-12'), numpy.datetime64('1925-02-23'), numpy.datetime64('1925-04-10'), numpy.datetime64('1925-05-30'), numpy.datetime64('1925-07-04'), numpy.datetime64('1925-09-07'), numpy.datetime64('1925-10-12'), numpy.datetime64('1925-11-03'), numpy.datetime64('1925-11-26'), numpy.datetime64('1925-12-25'), numpy.datetime64('1925-12-26'), numpy.datetime64('1926-01-01'), numpy.datetime64('1926-02-12'), numpy.datetime64('1926-02-22'), numpy.datetime64('1926-04-02'), numpy.datetime64('1926-05-29'), numpy.datetime64('1926-05-31'), numpy.datetime64('1926-07-03'), numpy.datetime64('1926-07-05'), numpy.datetime64('1926-09-04'), numpy.datetime64('1926-09-06'), numpy.datetime64('1926-10-12'), numpy.datetime64('1926-11-02'), numpy.datetime64('1926-11-25'), numpy.datetime64('1926-12-25'), numpy.datetime64('1927-01-01'), numpy.datetime64('1927-02-12'), numpy.datetime64('1927-02-22'), numpy.datetime64('1927-04-15'), numpy.datetime64('1927-05-30'), numpy.datetime64('1927-06-13'), numpy.datetime64('1927-07-04'), numpy.datetime64('1927-09-05'), numpy.datetime64('1927-10-12'), numpy.datetime64('1927-11-08'), numpy.datetime64('1927-11-24'), numpy.datetime64('1927-12-26'), numpy.datetime64('1928-01-02'), numpy.datetime64('1928-02-13'), numpy.datetime64('1928-02-22'), numpy.datetime64('1928-04-06'), numpy.datetime64('1928-04-07'), numpy.datetime64('1928-04-21'), numpy.datetime64('1928-05-05'), numpy.datetime64('1928-05-12'), numpy.datetime64('1928-05-19'), numpy.datetime64('1928-05-26'), numpy.datetime64('1928-05-30'), numpy.datetime64('1928-07-04'), numpy.datetime64('1928-09-03'), numpy.datetime64('1928-10-12'), numpy.datetime64('1928-11-06'), numpy.datetime64('1928-11-24'), numpy.datetime64('1928-11-29'), numpy.datetime64('1928-12-25'), numpy.datetime64('1929-01-01'), numpy.datetime64('1929-02-09'), numpy.datetime64('1929-02-12'), numpy.datetime64('1929-02-22'), numpy.datetime64('1929-02-23'), numpy.datetime64('1929-03-29'), numpy.datetime64('1929-03-30'), numpy.datetime64('1929-05-30'), numpy.datetime64('1929-07-04'), numpy.datetime64('1929-08-31'), numpy.datetime64('1929-09-02'), numpy.datetime64('1929-10-12'), numpy.datetime64('1929-11-01'), numpy.datetime64('1929-11-02'), numpy.datetime64('1929-11-05'), numpy.datetime64('1929-11-09'), numpy.datetime64('1929-11-16'), numpy.datetime64('1929-11-23'), numpy.datetime64('1929-11-28'), numpy.datetime64('1929-11-29'), numpy.datetime64('1929-11-30'), numpy.datetime64('1929-12-25'), numpy.datetime64('1930-01-01'), numpy.datetime64('1930-02-12'), numpy.datetime64('1930-02-22'), numpy.datetime64('1930-04-18'), numpy.datetime64('1930-04-19'), numpy.datetime64('1930-05-30'), numpy.datetime64('1930-05-31'), numpy.datetime64('1930-07-04'), numpy.datetime64('1930-07-05'), numpy.datetime64('1930-08-30'), numpy.datetime64('1930-09-01'), numpy.datetime64('1930-10-13'), numpy.datetime64('1930-11-04'), numpy.datetime64('1930-11-27'), numpy.datetime64('1930-12-25'), numpy.datetime64('1931-01-01'), numpy.datetime64('1931-02-12'), numpy.datetime64('1931-02-23'), numpy.datetime64('1931-04-03'), numpy.datetime64('1931-05-30'), numpy.datetime64('1931-07-04'), numpy.datetime64('1931-09-05'), numpy.datetime64('1931-09-07'), numpy.datetime64('1931-10-12'), numpy.datetime64('1931-11-03'), numpy.datetime64('1931-11-26'), numpy.datetime64('1931-12-25'), numpy.datetime64('1931-12-26'), numpy.datetime64('1932-01-01'), numpy.datetime64('1932-02-12'), numpy.datetime64('1932-02-22'), numpy.datetime64('1932-03-25'), numpy.datetime64('1932-05-30'), numpy.datetime64('1932-07-02'), numpy.datetime64('1932-07-04'), numpy.datetime64('1932-09-05'), numpy.datetime64('1932-10-12'), numpy.datetime64('1932-11-08'), numpy.datetime64('1932-11-24'), numpy.datetime64('1932-12-26'), numpy.datetime64('1933-01-02'), numpy.datetime64('1933-01-07'), numpy.datetime64('1933-02-13'), numpy.datetime64('1933-02-22'), numpy.datetime64('1933-03-04'), numpy.datetime64('1933-03-06'), numpy.datetime64('1933-03-07'), numpy.datetime64('1933-03-08'), numpy.datetime64('1933-03-09'), numpy.datetime64('1933-03-10'), numpy.datetime64('1933-03-11'), numpy.datetime64('1933-03-12'), numpy.datetime64('1933-03-13'), numpy.datetime64('1933-03-14'), numpy.datetime64('1933-04-14'), numpy.datetime64('1933-05-30'), numpy.datetime64('1933-07-04'), numpy.datetime64('1933-07-29'), numpy.datetime64('1933-08-05'), numpy.datetime64('1933-08-12'), numpy.datetime64('1933-08-19'), numpy.datetime64('1933-08-26'), numpy.datetime64('1933-09-02'), numpy.datetime64('1933-09-04'), numpy.datetime64('1933-10-12'), numpy.datetime64('1933-11-07'), numpy.datetime64('1933-11-30'), numpy.datetime64('1933-12-25'), numpy.datetime64('1934-01-01'), numpy.datetime64('1934-02-12'), numpy.datetime64('1934-02-22'), numpy.datetime64('1934-03-30'), numpy.datetime64('1934-05-30'), numpy.datetime64('1934-07-04'), numpy.datetime64('1934-09-03'), numpy.datetime64('1934-10-12'), numpy.datetime64('1934-11-06'), numpy.datetime64('1934-11-12'), numpy.datetime64('1934-11-29'), numpy.datetime64('1934-12-25'), numpy.datetime64('1935-01-01'), numpy.datetime64('1935-02-12'), numpy.datetime64('1935-02-22'), numpy.datetime64('1935-04-19'), numpy.datetime64('1935-05-30'), numpy.datetime64('1935-07-04'), numpy.datetime64('1935-09-02'), numpy.datetime64('1935-10-12'), numpy.datetime64('1935-11-05'), numpy.datetime64('1935-11-11'), numpy.datetime64('1935-11-28'), numpy.datetime64('1935-12-25'), numpy.datetime64('1936-01-01'), numpy.datetime64('1936-02-12'), numpy.datetime64('1936-02-22'), numpy.datetime64('1936-04-10'), numpy.datetime64('1936-05-30'), numpy.datetime64('1936-07-04'), numpy.datetime64('1936-09-07'), numpy.datetime64('1936-10-12'), numpy.datetime64('1936-11-03'), numpy.datetime64('1936-11-11'), numpy.datetime64('1936-11-26'), numpy.datetime64('1936-12-25'), numpy.datetime64('1936-12-26'), numpy.datetime64('1937-01-01'), numpy.datetime64('1937-02-12'), numpy.datetime64('1937-02-22'), numpy.datetime64('1937-03-26'), numpy.datetime64('1937-05-29'), numpy.datetime64('1937-05-31'), numpy.datetime64('1937-07-03'), numpy.datetime64('1937-07-05'), numpy.datetime64('1937-09-06'), numpy.datetime64('1937-10-12'), numpy.datetime64('1937-11-02'), numpy.datetime64('1937-11-11'), numpy.datetime64('1937-11-25'), numpy.datetime64('1937-12-25'), numpy.datetime64('1938-01-01'), numpy.datetime64('1938-02-12'), numpy.datetime64('1938-02-22'), numpy.datetime64('1938-04-15'), numpy.datetime64('1938-05-30'), numpy.datetime64('1938-07-04'), numpy.datetime64('1938-09-05'), numpy.datetime64('1938-10-12'), numpy.datetime64('1938-11-08'), numpy.datetime64('1938-11-11'), numpy.datetime64('1938-11-24'), numpy.datetime64('1938-12-26'), numpy.datetime64('1939-01-02'), numpy.datetime64('1939-02-13'), numpy.datetime64('1939-02-22'), numpy.datetime64('1939-04-07'), numpy.datetime64('1939-05-30'), numpy.datetime64('1939-07-04'), numpy.datetime64('1939-09-04'), numpy.datetime64('1939-10-12'), numpy.datetime64('1939-11-07'), numpy.datetime64('1939-11-11'), numpy.datetime64('1939-11-23'), numpy.datetime64('1939-12-25'), numpy.datetime64('1940-01-01'), numpy.datetime64('1940-02-12'), numpy.datetime64('1940-02-22'), numpy.datetime64('1940-03-22'), numpy.datetime64('1940-05-30'), numpy.datetime64('1940-07-04'), numpy.datetime64('1940-09-02'), numpy.datetime64('1940-10-12'), numpy.datetime64('1940-11-05'), numpy.datetime64('1940-11-11'), numpy.datetime64('1940-11-21'), numpy.datetime64('1940-12-25'), numpy.datetime64('1941-01-01'), numpy.datetime64('1941-02-12'), numpy.datetime64('1941-02-22'), numpy.datetime64('1941-04-11'), numpy.datetime64('1941-05-30'), numpy.datetime64('1941-07-04'), numpy.datetime64('1941-09-01'), numpy.datetime64('1941-10-13'), numpy.datetime64('1941-11-04'), numpy.datetime64('1941-11-11'), numpy.datetime64('1941-11-20'), numpy.datetime64('1941-12-25'), numpy.datetime64('1942-01-01'), numpy.datetime64('1942-02-12'), numpy.datetime64('1942-02-23'), numpy.datetime64('1942-04-03'), numpy.datetime64('1942-05-30'), numpy.datetime64('1942-07-04'), numpy.datetime64('1942-09-07'), numpy.datetime64('1942-10-12'), numpy.datetime64('1942-11-03'), numpy.datetime64('1942-11-11'), numpy.datetime64('1942-11-26'), numpy.datetime64('1942-12-25'), numpy.datetime64('1943-01-01'), numpy.datetime64('1943-02-12'), numpy.datetime64('1943-02-22'), numpy.datetime64('1943-04-23'), numpy.datetime64('1943-05-31'), numpy.datetime64('1943-07-05'), numpy.datetime64('1943-09-06'), numpy.datetime64('1943-10-12'), numpy.datetime64('1943-11-02'), numpy.datetime64('1943-11-11'), numpy.datetime64('1943-11-25'), numpy.datetime64('1943-12-25'), numpy.datetime64('1944-01-01'), numpy.datetime64('1944-02-12'), numpy.datetime64('1944-02-22'), numpy.datetime64('1944-04-07'), numpy.datetime64('1944-05-30'), numpy.datetime64('1944-07-04'), numpy.datetime64('1944-08-19'), numpy.datetime64('1944-08-26'), numpy.datetime64('1944-09-02'), numpy.datetime64('1944-09-04'), numpy.datetime64('1944-10-12'), numpy.datetime64('1944-11-07'), numpy.datetime64('1944-11-11'), numpy.datetime64('1944-11-23'), numpy.datetime64('1944-12-25'), numpy.datetime64('1945-01-01'), numpy.datetime64('1945-02-12'), numpy.datetime64('1945-02-22'), numpy.datetime64('1945-03-30'), numpy.datetime64('1945-04-14'), numpy.datetime64('1945-05-30'), numpy.datetime64('1945-07-04'), numpy.datetime64('1945-07-07'), numpy.datetime64('1945-07-14'), numpy.datetime64('1945-07-21'), numpy.datetime64('1945-07-28'), numpy.datetime64('1945-08-04'), numpy.datetime64('1945-08-11'), numpy.datetime64('1945-08-15'), numpy.datetime64('1945-08-16'), numpy.datetime64('1945-08-18'), numpy.datetime64('1945-08-25'), numpy.datetime64('1945-09-01'), numpy.datetime64('1945-09-03'), numpy.datetime64('1945-10-12'), numpy.datetime64('1945-10-13'), numpy.datetime64('1945-10-27'), numpy.datetime64('1945-11-06'), numpy.datetime64('1945-11-12'), numpy.datetime64('1945-11-22'), numpy.datetime64('1945-12-24'), numpy.datetime64('1945-12-25'), numpy.datetime64('1946-01-01'), numpy.datetime64('1946-02-12'), numpy.datetime64('1946-02-22'), numpy.datetime64('1946-02-23'), numpy.datetime64('1946-04-19'), numpy.datetime64('1946-05-25'), numpy.datetime64('1946-05-30'), numpy.datetime64('1946-06-01'), numpy.datetime64('1946-06-08'), numpy.datetime64('1946-06-15'), numpy.datetime64('1946-06-22'), numpy.datetime64('1946-06-29'), numpy.datetime64('1946-07-04'), numpy.datetime64('1946-07-06'), numpy.datetime64('1946-07-13'), numpy.datetime64('1946-07-20'), numpy.datetime64('1946-07-27'), numpy.datetime64('1946-08-03'), numpy.datetime64('1946-08-10'), numpy.datetime64('1946-08-17'), numpy.datetime64('1946-08-24'), numpy.datetime64('1946-08-31'), numpy.datetime64('1946-09-02'), numpy.datetime64('1946-09-07'), numpy.datetime64('1946-09-14'), numpy.datetime64('1946-09-21'), numpy.datetime64('1946-09-28'), numpy.datetime64('1946-10-12'), numpy.datetime64('1946-11-05'), numpy.datetime64('1946-11-11'), numpy.datetime64('1946-11-28'), numpy.datetime64('1946-12-25'), numpy.datetime64('1947-01-01'), numpy.datetime64('1947-02-12'), numpy.datetime64('1947-02-22'), numpy.datetime64('1947-04-04'), numpy.datetime64('1947-05-30'), numpy.datetime64('1947-05-31'), numpy.datetime64('1947-06-07'), numpy.datetime64('1947-06-14'), numpy.datetime64('1947-06-21'), numpy.datetime64('1947-06-28'), numpy.datetime64('1947-07-04'), numpy.datetime64('1947-07-05'), numpy.datetime64('1947-07-12'), numpy.datetime64('1947-07-19'), numpy.datetime64('1947-07-26'), numpy.datetime64('1947-08-02'), numpy.datetime64('1947-08-09'), numpy.datetime64('1947-08-16'), numpy.datetime64('1947-08-23'), numpy.datetime64('1947-08-30'), numpy.datetime64('1947-09-01'), numpy.datetime64('1947-09-06'), numpy.datetime64('1947-09-13'), numpy.datetime64('1947-09-20'), numpy.datetime64('1947-09-27'), numpy.datetime64('1947-10-13'), numpy.datetime64('1947-11-04'), numpy.datetime64('1947-11-11'), numpy.datetime64('1947-11-27'), numpy.datetime64('1947-12-25'), numpy.datetime64('1948-01-01'), numpy.datetime64('1948-01-03'), numpy.datetime64('1948-02-12'), numpy.datetime64('1948-02-23'), numpy.datetime64('1948-03-26'), numpy.datetime64('1948-05-29'), numpy.datetime64('1948-05-31'), numpy.datetime64('1948-06-05'), numpy.datetime64('1948-06-12'), numpy.datetime64('1948-06-19'), numpy.datetime64('1948-06-26'), numpy.datetime64('1948-07-03'), numpy.datetime64('1948-07-05'), numpy.datetime64('1948-07-10'), numpy.datetime64('1948-07-17'), numpy.datetime64('1948-07-24'), numpy.datetime64('1948-07-31'), numpy.datetime64('1948-08-07'), numpy.datetime64('1948-08-14'), numpy.datetime64('1948-08-21'), numpy.datetime64('1948-08-28'), numpy.datetime64('1948-09-04'), numpy.datetime64('1948-09-06'), numpy.datetime64('1948-09-11'), numpy.datetime64('1948-09-18'), numpy.datetime64('1948-09-25'), numpy.datetime64('1948-10-12'), numpy.datetime64('1948-11-02'), numpy.datetime64('1948-11-11'), numpy.datetime64('1948-11-25'), numpy.datetime64('1948-12-25'), numpy.datetime64('1949-01-01'), numpy.datetime64('1949-02-12'), numpy.datetime64('1949-02-22'), numpy.datetime64('1949-04-15'), numpy.datetime64('1949-05-28'), numpy.datetime64('1949-05-30'), numpy.datetime64('1949-06-04'), numpy.datetime64('1949-06-11'), numpy.datetime64('1949-06-18'), numpy.datetime64('1949-06-25'), numpy.datetime64('1949-07-02'), numpy.datetime64('1949-07-04'), numpy.datetime64('1949-07-09'), numpy.datetime64('1949-07-16'), numpy.datetime64('1949-07-23'), numpy.datetime64('1949-07-30'), numpy.datetime64('1949-08-06'), numpy.datetime64('1949-08-13'), numpy.datetime64('1949-08-20'), numpy.datetime64('1949-08-27'), numpy.datetime64('1949-09-03'), numpy.datetime64('1949-09-05'), numpy.datetime64('1949-09-10'), numpy.datetime64('1949-09-17'), numpy.datetime64('1949-09-24'), numpy.datetime64('1949-10-12'), numpy.datetime64('1949-11-08'), numpy.datetime64('1949-11-11'), numpy.datetime64('1949-11-24'), numpy.datetime64('1949-12-24'), numpy.datetime64('1949-12-26'), numpy.datetime64('1950-01-02'), numpy.datetime64('1950-02-13'), numpy.datetime64('1950-02-22'), numpy.datetime64('1950-04-07'), numpy.datetime64('1950-05-30'), numpy.datetime64('1950-06-03'), numpy.datetime64('1950-06-10'), numpy.datetime64('1950-06-17'), numpy.datetime64('1950-06-24'), numpy.datetime64('1950-07-01'), numpy.datetime64('1950-07-04'), numpy.datetime64('1950-07-08'), numpy.datetime64('1950-07-15'), numpy.datetime64('1950-07-22'), numpy.datetime64('1950-07-29'), numpy.datetime64('1950-08-05'), numpy.datetime64('1950-08-12'), numpy.datetime64('1950-08-19'), numpy.datetime64('1950-08-26'), numpy.datetime64('1950-09-02'), numpy.datetime64('1950-09-04'), numpy.datetime64('1950-09-09'), numpy.datetime64('1950-09-16'), numpy.datetime64('1950-09-23'), numpy.datetime64('1950-09-30'), numpy.datetime64('1950-10-12'), numpy.datetime64('1950-11-07'), numpy.datetime64('1950-11-11'), numpy.datetime64('1950-11-23'), numpy.datetime64('1950-12-23'), numpy.datetime64('1950-12-25'), numpy.datetime64('1951-01-01'), numpy.datetime64('1951-02-12'), numpy.datetime64('1951-02-22'), numpy.datetime64('1951-03-23'), numpy.datetime64('1951-05-30'), numpy.datetime64('1951-06-02'), numpy.datetime64('1951-06-09'), numpy.datetime64('1951-06-16'), numpy.datetime64('1951-06-23'), numpy.datetime64('1951-06-30'), numpy.datetime64('1951-07-04'), numpy.datetime64('1951-07-07'), numpy.datetime64('1951-07-14'), numpy.datetime64('1951-07-21'), numpy.datetime64('1951-07-28'), numpy.datetime64('1951-08-04'), numpy.datetime64('1951-08-11'), numpy.datetime64('1951-08-18'), numpy.datetime64('1951-08-25'), numpy.datetime64('1951-09-01'), numpy.datetime64('1951-09-03'), numpy.datetime64('1951-09-08'), numpy.datetime64('1951-09-15'), numpy.datetime64('1951-09-22'), numpy.datetime64('1951-09-29'), numpy.datetime64('1951-10-12'), numpy.datetime64('1951-11-06'), numpy.datetime64('1951-11-12'), numpy.datetime64('1951-11-22'), numpy.datetime64('1951-12-25'), numpy.datetime64('1952-01-01'), numpy.datetime64('1952-02-12'), numpy.datetime64('1952-02-22'), numpy.datetime64('1952-04-11'), numpy.datetime64('1952-05-30'), numpy.datetime64('1952-05-31'), numpy.datetime64('1952-06-07'), numpy.datetime64('1952-06-14'), numpy.datetime64('1952-06-21'), numpy.datetime64('1952-06-28'), numpy.datetime64('1952-07-04'), numpy.datetime64('1952-07-05'), numpy.datetime64('1952-07-12'), numpy.datetime64('1952-07-19'), numpy.datetime64('1952-07-26'), numpy.datetime64('1952-08-02'), numpy.datetime64('1952-08-09'), numpy.datetime64('1952-08-16'), numpy.datetime64('1952-08-23'), numpy.datetime64('1952-08-30'), numpy.datetime64('1952-09-01'), numpy.datetime64('1952-09-06'), numpy.datetime64('1952-09-13'), numpy.datetime64('1952-09-20'), numpy.datetime64('1952-09-27'), numpy.datetime64('1952-10-13'), numpy.datetime64('1952-11-04'), numpy.datetime64('1952-11-11'), numpy.datetime64('1952-11-27'), numpy.datetime64('1952-12-25'), numpy.datetime64('1953-01-01'), numpy.datetime64('1953-02-12'), numpy.datetime64('1953-02-23'), numpy.datetime64('1953-04-03'), numpy.datetime64('1953-09-07'), numpy.datetime64('1953-10-12'), numpy.datetime64('1953-11-03'), numpy.datetime64('1953-11-11'), numpy.datetime64('1953-11-26'), numpy.datetime64('1953-12-25'), numpy.datetime64('1954-01-01'), numpy.datetime64('1954-02-22'), numpy.datetime64('1954-04-16'), numpy.datetime64('1954-05-31'), numpy.datetime64('1954-07-05'), numpy.datetime64('1954-09-06'), numpy.datetime64('1954-11-02'), numpy.datetime64('1954-11-25'), numpy.datetime64('1954-12-24'), numpy.datetime64('1955-02-22'), numpy.datetime64('1955-04-08'), numpy.datetime64('1955-05-30'), numpy.datetime64('1955-07-04'), numpy.datetime64('1955-09-05'), numpy.datetime64('1955-11-08'), numpy.datetime64('1955-11-24'), numpy.datetime64('1955-12-26'), numpy.datetime64('1956-01-02'), numpy.datetime64('1956-02-22'), numpy.datetime64('1956-03-30'), numpy.datetime64('1956-05-30'), numpy.datetime64('1956-07-04'), numpy.datetime64('1956-09-03'), numpy.datetime64('1956-11-06'), numpy.datetime64('1956-11-22'), numpy.datetime64('1956-12-24'), numpy.datetime64('1956-12-25'), numpy.datetime64('1957-01-01'), numpy.datetime64('1957-02-22'), numpy.datetime64('1957-04-19'), numpy.datetime64('1957-05-30'), numpy.datetime64('1957-07-04'), numpy.datetime64('1957-09-02'), numpy.datetime64('1957-11-05'), numpy.datetime64('1957-11-28'), numpy.datetime64('1957-12-25'), numpy.datetime64('1958-01-01'), numpy.datetime64('1958-04-04'), numpy.datetime64('1958-05-30'), numpy.datetime64('1958-07-04'), numpy.datetime64('1958-09-01'), numpy.datetime64('1958-11-04'), numpy.datetime64('1958-11-27'), numpy.datetime64('1958-12-25'), numpy.datetime64('1958-12-26'), numpy.datetime64('1959-01-01'), numpy.datetime64('1959-02-23'), numpy.datetime64('1959-03-27'), numpy.datetime64('1959-07-03'), numpy.datetime64('1959-09-07'), numpy.datetime64('1959-11-03'), numpy.datetime64('1959-11-26'), numpy.datetime64('1959-12-25'), numpy.datetime64('1960-01-01'), numpy.datetime64('1960-02-22'), numpy.datetime64('1960-04-15'), numpy.datetime64('1960-05-30'), numpy.datetime64('1960-07-04'), numpy.datetime64('1960-09-05'), numpy.datetime64('1960-11-08'), numpy.datetime64('1960-11-24'), numpy.datetime64('1960-12-26'), numpy.datetime64('1961-01-02'), numpy.datetime64('1961-02-22'), numpy.datetime64('1961-03-31'), numpy.datetime64('1961-05-29'), numpy.datetime64('1961-05-30'), numpy.datetime64('1961-07-04'), numpy.datetime64('1961-09-04'), numpy.datetime64('1961-11-07'), numpy.datetime64('1961-11-23'), numpy.datetime64('1961-12-25'), numpy.datetime64('1962-01-01'), numpy.datetime64('1962-02-22'), numpy.datetime64('1962-04-20'), numpy.datetime64('1962-05-30'), numpy.datetime64('1962-07-04'), numpy.datetime64('1962-09-03'), numpy.datetime64('1962-11-06'), numpy.datetime64('1962-11-22'), numpy.datetime64('1962-12-25'), numpy.datetime64('1963-01-01'), numpy.datetime64('1963-02-22'), numpy.datetime64('1963-04-12'), numpy.datetime64('1963-05-30'), numpy.datetime64('1963-07-04'), numpy.datetime64('1963-09-02'), numpy.datetime64('1963-11-05'), numpy.datetime64('1963-11-25'), numpy.datetime64('1963-11-28'), numpy.datetime64('1963-12-25'), numpy.datetime64('1964-01-01'), numpy.datetime64('1964-02-21'), numpy.datetime64('1964-03-27'), numpy.datetime64('1964-05-29'), numpy.datetime64('1964-07-03'), numpy.datetime64('1964-09-07'), numpy.datetime64('1964-11-03'), numpy.datetime64('1964-11-26'), numpy.datetime64('1964-12-25'), numpy.datetime64('1965-01-01'), numpy.datetime64('1965-02-22'), numpy.datetime64('1965-04-16'), numpy.datetime64('1965-05-31'), numpy.datetime64('1965-07-05'), numpy.datetime64('1965-09-06'), numpy.datetime64('1965-11-02'), numpy.datetime64('1965-11-25'), numpy.datetime64('1965-12-24'), numpy.datetime64('1966-02-22'), numpy.datetime64('1966-04-08'), numpy.datetime64('1966-05-30'), numpy.datetime64('1966-07-04'), numpy.datetime64('1966-09-05'), numpy.datetime64('1966-11-08'), numpy.datetime64('1966-11-24'), numpy.datetime64('1966-12-26'), numpy.datetime64('1967-01-02'), numpy.datetime64('1967-02-22'), numpy.datetime64('1967-03-24'), numpy.datetime64('1967-05-30'), numpy.datetime64('1967-07-04'), numpy.datetime64('1967-09-04'), numpy.datetime64('1967-11-07'), numpy.datetime64('1967-11-23'), numpy.datetime64('1967-12-25'), numpy.datetime64('1968-01-01'), numpy.datetime64('1968-02-12'), numpy.datetime64('1968-02-22'), numpy.datetime64('1968-04-09'), numpy.datetime64('1968-04-12'), numpy.datetime64('1968-05-30'), numpy.datetime64('1968-06-12'), numpy.datetime64('1968-06-19'), numpy.datetime64('1968-06-26'), numpy.datetime64('1968-07-04'), numpy.datetime64('1968-07-05'), numpy.datetime64('1968-07-10'), numpy.datetime64('1968-07-17'), numpy.datetime64('1968-07-24'), numpy.datetime64('1968-07-31'), numpy.datetime64('1968-08-07'), numpy.datetime64('1968-08-14'), numpy.datetime64('1968-08-21'), numpy.datetime64('1968-08-28'), numpy.datetime64('1968-09-02'), numpy.datetime64('1968-09-11'), numpy.datetime64('1968-09-18'), numpy.datetime64('1968-09-25'), numpy.datetime64('1968-10-02'), numpy.datetime64('1968-10-09'), numpy.datetime64('1968-10-16'), numpy.datetime64('1968-10-23'), numpy.datetime64('1968-10-30'), numpy.datetime64('1968-11-05'), numpy.datetime64('1968-11-11'), numpy.datetime64('1968-11-20'), numpy.datetime64('1968-11-28'), numpy.datetime64('1968-12-04'), numpy.datetime64('1968-12-11'), numpy.datetime64('1968-12-18'), numpy.datetime64('1968-12-25'), numpy.datetime64('1969-01-01'), numpy.datetime64('1969-02-10'), numpy.datetime64('1969-02-21'), numpy.datetime64('1969-03-31'), numpy.datetime64('1969-04-04'), numpy.datetime64('1969-05-30'), numpy.datetime64('1969-07-04'), numpy.datetime64('1969-07-21'), numpy.datetime64('1969-09-01'), numpy.datetime64('1969-11-27'), numpy.datetime64('1969-12-25'), numpy.datetime64('1970-01-01'), numpy.datetime64('1970-02-23'), numpy.datetime64('1970-03-27'), numpy.datetime64('1970-07-03'), numpy.datetime64('1970-09-07'), numpy.datetime64('1970-11-26'), numpy.datetime64('1970-12-25'), numpy.datetime64('1971-01-01'), numpy.datetime64('1971-02-15'), numpy.datetime64('1971-04-09'), numpy.datetime64('1971-05-31'), numpy.datetime64('1971-07-05'), numpy.datetime64('1971-09-06'), numpy.datetime64('1971-11-25'), numpy.datetime64('1971-12-24'), numpy.datetime64('1972-02-21'), numpy.datetime64('1972-03-31'), numpy.datetime64('1972-05-29'), numpy.datetime64('1972-07-04'), numpy.datetime64('1972-09-04'), numpy.datetime64('1972-11-07'), numpy.datetime64('1972-11-23'), numpy.datetime64('1972-12-25'), numpy.datetime64('1972-12-28'), numpy.datetime64('1973-01-01'), numpy.datetime64('1973-01-25'), numpy.datetime64('1973-02-19'), numpy.datetime64('1973-04-20'), numpy.datetime64('1973-05-28'), numpy.datetime64('1973-07-04'), numpy.datetime64('1973-09-03'), numpy.datetime64('1973-11-22'), numpy.datetime64('1973-12-25'), numpy.datetime64('1974-01-01'), numpy.datetime64('1974-02-18'), numpy.datetime64('1974-04-12'), numpy.datetime64('1974-05-27'), numpy.datetime64('1974-07-04'), numpy.datetime64('1974-09-02'), numpy.datetime64('1974-11-28'), numpy.datetime64('1974-12-25'), numpy.datetime64('1975-01-01'), numpy.datetime64('1975-02-17'), numpy.datetime64('1975-03-28'), numpy.datetime64('1975-05-26'), numpy.datetime64('1975-07-04'), numpy.datetime64('1975-09-01'), numpy.datetime64('1975-11-27'), numpy.datetime64('1975-12-25'), numpy.datetime64('1976-01-01'), numpy.datetime64('1976-02-16'), numpy.datetime64('1976-04-16'), numpy.datetime64('1976-05-31'), numpy.datetime64('1976-07-05'), numpy.datetime64('1976-09-06'), numpy.datetime64('1976-11-02'), numpy.datetime64('1976-11-25'), numpy.datetime64('1976-12-24'), numpy.datetime64('1977-02-21'), numpy.datetime64('1977-04-08'), numpy.datetime64('1977-05-30'), numpy.datetime64('1977-07-04'), numpy.datetime64('1977-07-14'), numpy.datetime64('1977-09-05'), numpy.datetime64('1977-11-24'), numpy.datetime64('1977-12-26'), numpy.datetime64('1978-01-02'), numpy.datetime64('1978-02-20'), numpy.datetime64('1978-03-24'), numpy.datetime64('1978-05-29'), numpy.datetime64('1978-07-04'), numpy.datetime64('1978-09-04'), numpy.datetime64('1978-11-23'), numpy.datetime64('1978-12-25'), numpy.datetime64('1979-01-01'), numpy.datetime64('1979-02-19'), numpy.datetime64('1979-04-13'), numpy.datetime64('1979-05-28'), numpy.datetime64('1979-07-04'), numpy.datetime64('1979-09-03'), numpy.datetime64('1979-11-22'), numpy.datetime64('1979-12-25'), numpy.datetime64('1980-01-01'), numpy.datetime64('1980-02-18'), numpy.datetime64('1980-04-04'), numpy.datetime64('1980-05-26'), numpy.datetime64('1980-07-04'), numpy.datetime64('1980-09-01'), numpy.datetime64('1980-11-04'), numpy.datetime64('1980-11-27'), numpy.datetime64('1980-12-25'), numpy.datetime64('1981-01-01'), numpy.datetime64('1981-02-16'), numpy.datetime64('1981-04-17'), numpy.datetime64('1981-05-25'), numpy.datetime64('1981-07-03'), numpy.datetime64('1981-09-07'), numpy.datetime64('1981-11-26'), numpy.datetime64('1981-12-25'), numpy.datetime64('1982-01-01'), numpy.datetime64('1982-02-15'), numpy.datetime64('1982-04-09'), numpy.datetime64('1982-05-31'), numpy.datetime64('1982-07-05'), numpy.datetime64('1982-09-06'), numpy.datetime64('1982-11-25'), numpy.datetime64('1982-12-24'), numpy.datetime64('1983-02-21'), numpy.datetime64('1983-04-01'), numpy.datetime64('1983-05-30'), numpy.datetime64('1983-07-04'), numpy.datetime64('1983-09-05'), numpy.datetime64('1983-11-24'), numpy.datetime64('1983-12-26'), numpy.datetime64('1984-01-02'), numpy.datetime64('1984-02-20'), numpy.datetime64('1984-04-20'), numpy.datetime64('1984-05-28'), numpy.datetime64('1984-07-04'), numpy.datetime64('1984-09-03'), numpy.datetime64('1984-11-22'), numpy.datetime64('1984-12-25'), numpy.datetime64('1985-01-01'), numpy.datetime64('1985-02-18'), numpy.datetime64('1985-04-05'), numpy.datetime64('1985-05-27'), numpy.datetime64('1985-07-04'), numpy.datetime64('1985-09-02'), numpy.datetime64('1985-09-27'), numpy.datetime64('1985-11-28'), numpy.datetime64('1985-12-25'), numpy.datetime64('1986-01-01'), numpy.datetime64('1986-02-17'), numpy.datetime64('1986-03-28'), numpy.datetime64('1986-05-26'), numpy.datetime64('1986-07-04'), numpy.datetime64('1986-09-01'), numpy.datetime64('1986-11-27'), numpy.datetime64('1986-12-25'), numpy.datetime64('1987-01-01'), numpy.datetime64('1987-02-16'), numpy.datetime64('1987-04-17'), numpy.datetime64('1987-05-25'), numpy.datetime64('1987-07-03'), numpy.datetime64('1987-09-07'), numpy.datetime64('1987-11-26'), numpy.datetime64('1987-12-25'), numpy.datetime64('1988-01-01'), numpy.datetime64('1988-02-15'), numpy.datetime64('1988-04-01'), numpy.datetime64('1988-05-30'), numpy.datetime64('1988-07-04'), numpy.datetime64('1988-09-05'), numpy.datetime64('1988-11-24'), numpy.datetime64('1988-12-26'), numpy.datetime64('1989-01-02'), numpy.datetime64('1989-02-20'), numpy.datetime64('1989-03-24'), numpy.datetime64('1989-05-29'), numpy.datetime64('1989-07-04'), numpy.datetime64('1989-09-04'), numpy.datetime64('1989-11-23'), numpy.datetime64('1989-12-25'), numpy.datetime64('1990-01-01'), numpy.datetime64('1990-02-19'), numpy.datetime64('1990-04-13'), numpy.datetime64('1990-05-28'), numpy.datetime64('1990-07-04'), numpy.datetime64('1990-09-03'), numpy.datetime64('1990-11-22'), numpy.datetime64('1990-12-25'), numpy.datetime64('1991-01-01'), numpy.datetime64('1991-02-18'), numpy.datetime64('1991-03-29'), numpy.datetime64('1991-05-27'), numpy.datetime64('1991-07-04'), numpy.datetime64('1991-09-02'), numpy.datetime64('1991-11-28'), numpy.datetime64('1991-12-25'), numpy.datetime64('1992-01-01'), numpy.datetime64('1992-02-17'), numpy.datetime64('1992-04-17'), numpy.datetime64('1992-05-25'), numpy.datetime64('1992-07-03'), numpy.datetime64('1992-09-07'), numpy.datetime64('1992-11-26'), numpy.datetime64('1992-12-25'), numpy.datetime64('1993-01-01'), numpy.datetime64('1993-02-15'), numpy.datetime64('1993-04-09'), numpy.datetime64('1993-05-31'), numpy.datetime64('1993-07-05'), numpy.datetime64('1993-09-06'), numpy.datetime64('1993-11-25'), numpy.datetime64('1993-12-24'), numpy.datetime64('1994-02-21'), numpy.datetime64('1994-04-01'), numpy.datetime64('1994-04-27'), numpy.datetime64('1994-05-30'), numpy.datetime64('1994-07-04'), numpy.datetime64('1994-09-05'), numpy.datetime64('1994-11-24'), numpy.datetime64('1994-12-26'), numpy.datetime64('1995-01-02'), numpy.datetime64('1995-02-20'), numpy.datetime64('1995-04-14'), numpy.datetime64('1995-05-29'), numpy.datetime64('1995-07-04'), numpy.datetime64('1995-09-04'), numpy.datetime64('1995-11-23'), numpy.datetime64('1995-12-25'), numpy.datetime64('1996-01-01'), numpy.datetime64('1996-02-19'), numpy.datetime64('1996-04-05'), numpy.datetime64('1996-05-27'), numpy.datetime64('1996-07-04'), numpy.datetime64('1996-09-02'), numpy.datetime64('1996-11-28'), numpy.datetime64('1996-12-25'), numpy.datetime64('1997-01-01'), numpy.datetime64('1997-02-17'), numpy.datetime64('1997-03-28'), numpy.datetime64('1997-05-26'), numpy.datetime64('1997-07-04'), numpy.datetime64('1997-09-01'), numpy.datetime64('1997-11-27'), numpy.datetime64('1997-12-25'), numpy.datetime64('1998-01-01'), numpy.datetime64('1998-01-19'), numpy.datetime64('1998-02-16'), numpy.datetime64('1998-04-10'), numpy.datetime64('1998-05-25'), numpy.datetime64('1998-07-03'), numpy.datetime64('1998-09-07'), numpy.datetime64('1998-11-26'), numpy.datetime64('1998-12-25'), numpy.datetime64('1999-01-01'), numpy.datetime64('1999-01-18'), numpy.datetime64('1999-02-15'), numpy.datetime64('1999-04-02'), numpy.datetime64('1999-05-31'), numpy.datetime64('1999-07-05'), numpy.datetime64('1999-09-06'), numpy.datetime64('1999-11-25'), numpy.datetime64('1999-12-24'), numpy.datetime64('2000-01-17'), numpy.datetime64('2000-02-21'), numpy.datetime64('2000-04-21'), numpy.datetime64('2000-05-29'), numpy.datetime64('2000-07-04'), numpy.datetime64('2000-09-04'), numpy.datetime64('2000-11-23'), numpy.datetime64('2000-12-25'), numpy.datetime64('2001-01-01'), numpy.datetime64('2001-01-15'), numpy.datetime64('2001-02-19'), numpy.datetime64('2001-04-13'), numpy.datetime64('2001-05-28'), numpy.datetime64('2001-07-04'), numpy.datetime64('2001-09-03'), numpy.datetime64('2001-09-11'), numpy.datetime64('2001-09-12'), numpy.datetime64('2001-09-13'), numpy.datetime64('2001-09-14'), numpy.datetime64('2001-11-22'), numpy.datetime64('2001-12-25'), numpy.datetime64('2002-01-01'), numpy.datetime64('2002-01-21'), numpy.datetime64('2002-02-18'), numpy.datetime64('2002-03-29'), numpy.datetime64('2002-05-27'), numpy.datetime64('2002-07-04'), numpy.datetime64('2002-09-02'), numpy.datetime64('2002-11-28'), numpy.datetime64('2002-12-25'), numpy.datetime64('2003-01-01'), numpy.datetime64('2003-01-20'), numpy.datetime64('2003-02-17'), numpy.datetime64('2003-04-18'), numpy.datetime64('2003-05-26'), numpy.datetime64('2003-07-04'), numpy.datetime64('2003-09-01'), numpy.datetime64('2003-11-27'), numpy.datetime64('2003-12-25'), numpy.datetime64('2004-01-01'), numpy.datetime64('2004-01-19'), numpy.datetime64('2004-02-16'), numpy.datetime64('2004-04-09'), numpy.datetime64('2004-05-31'), numpy.datetime64('2004-06-11'), numpy.datetime64('2004-07-05'), numpy.datetime64('2004-09-06'), numpy.datetime64('2004-11-25'), numpy.datetime64('2004-12-24'), numpy.datetime64('2005-01-17'), numpy.datetime64('2005-02-21'), numpy.datetime64('2005-03-25'), numpy.datetime64('2005-05-30'), numpy.datetime64('2005-07-04'), numpy.datetime64('2005-09-05'), numpy.datetime64('2005-11-24'), numpy.datetime64('2005-12-26'), numpy.datetime64('2006-01-02'), numpy.datetime64('2006-01-16'), numpy.datetime64('2006-02-20'), numpy.datetime64('2006-04-14'), numpy.datetime64('2006-05-29'), numpy.datetime64('2006-07-04'), numpy.datetime64('2006-09-04'), numpy.datetime64('2006-11-23'), numpy.datetime64('2006-12-25'), numpy.datetime64('2007-01-01'), numpy.datetime64('2007-01-02'), numpy.datetime64('2007-01-15'), numpy.datetime64('2007-02-19'), numpy.datetime64('2007-04-06'), numpy.datetime64('2007-05-28'), numpy.datetime64('2007-07-04'), numpy.datetime64('2007-09-03'), numpy.datetime64('2007-11-22'), numpy.datetime64('2007-12-25'), numpy.datetime64('2008-01-01'), numpy.datetime64('2008-01-21'), numpy.datetime64('2008-02-18'), numpy.datetime64('2008-03-21'), numpy.datetime64('2008-05-26'), numpy.datetime64('2008-07-04'), numpy.datetime64('2008-09-01'), numpy.datetime64('2008-11-27'), numpy.datetime64('2008-12-25'), numpy.datetime64('2009-01-01'), numpy.datetime64('2009-01-19'), numpy.datetime64('2009-02-16'), numpy.datetime64('2009-04-10'), numpy.datetime64('2009-05-25'), numpy.datetime64('2009-07-03'), numpy.datetime64('2009-09-07'), numpy.datetime64('2009-11-26'), numpy.datetime64('2009-12-25'), numpy.datetime64('2010-01-01'), numpy.datetime64('2010-01-18'), numpy.datetime64('2010-02-15'), numpy.datetime64('2010-04-02'), numpy.datetime64('2010-05-31'), numpy.datetime64('2010-07-05'), numpy.datetime64('2010-09-06'), numpy.datetime64('2010-11-25'), numpy.datetime64('2010-12-24'), numpy.datetime64('2011-01-17'), numpy.datetime64('2011-02-21'), numpy.datetime64('2011-04-22'), numpy.datetime64('2011-05-30'), numpy.datetime64('2011-07-04'), numpy.datetime64('2011-09-05'), numpy.datetime64('2011-11-24'), numpy.datetime64('2011-12-26'), numpy.datetime64('2012-01-02'), numpy.datetime64('2012-01-16'), numpy.datetime64('2012-02-20'), numpy.datetime64('2012-04-06'), numpy.datetime64('2012-05-28'), numpy.datetime64('2012-07-04'), numpy.datetime64('2012-09-03'), numpy.datetime64('2012-10-29'), numpy.datetime64('2012-10-30'), numpy.datetime64('2012-11-22'), numpy.datetime64('2012-12-25'), numpy.datetime64('2013-01-01'), numpy.datetime64('2013-01-21'), numpy.datetime64('2013-02-18'), numpy.datetime64('2013-03-29'), numpy.datetime64('2013-05-27'), numpy.datetime64('2013-07-04'), numpy.datetime64('2013-09-02'), numpy.datetime64('2013-11-28'), numpy.datetime64('2013-12-25'), numpy.datetime64('2014-01-01'), numpy.datetime64('2014-01-20'), numpy.datetime64('2014-02-17'), numpy.datetime64('2014-04-18'), numpy.datetime64('2014-05-26'), numpy.datetime64('2014-07-04'), numpy.datetime64('2014-09-01'), numpy.datetime64('2014-11-27'), numpy.datetime64('2014-12-25'), numpy.datetime64('2015-01-01'), numpy.datetime64('2015-01-19'), numpy.datetime64('2015-02-16'), numpy.datetime64('2015-04-03'), numpy.datetime64('2015-05-25'), numpy.datetime64('2015-07-03'), numpy.datetime64('2015-09-07'), numpy.datetime64('2015-11-26'), numpy.datetime64('2015-12-25'), numpy.datetime64('2016-01-01'), numpy.datetime64('2016-01-18'), numpy.datetime64('2016-02-15'), numpy.datetime64('2016-03-25'), numpy.datetime64('2016-05-30'), numpy.datetime64('2016-07-04'), numpy.datetime64('2016-09-05'), numpy.datetime64('2016-11-24'), numpy.datetime64('2016-12-26'), numpy.datetime64('2017-01-02'), numpy.datetime64('2017-01-16'), numpy.datetime64('2017-02-20'), numpy.datetime64('2017-04-14'), numpy.datetime64('2017-05-29'), numpy.datetime64('2017-07-04'), numpy.datetime64('2017-09-04'), numpy.datetime64('2017-11-23'), numpy.datetime64('2017-12-25'), numpy.datetime64('2018-01-01'), numpy.datetime64('2018-01-15'), numpy.datetime64('2018-02-19'), numpy.datetime64('2018-03-30'), numpy.datetime64('2018-05-28'), numpy.datetime64('2018-07-04'), numpy.datetime64('2018-09-03'), numpy.datetime64('2018-11-22'), numpy.datetime64('2018-12-05'), numpy.datetime64('2018-12-25'), numpy.datetime64('2019-01-01'), numpy.datetime64('2019-01-21'), numpy.datetime64('2019-02-18'), numpy.datetime64('2019-04-19'), numpy.datetime64('2019-05-27'), numpy.datetime64('2019-07-04'), numpy.datetime64('2019-09-02'), numpy.datetime64('2019-11-28'), numpy.datetime64('2019-12-25'), numpy.datetime64('2020-01-01'), numpy.datetime64('2020-01-20'), numpy.datetime64('2020-02-17'), numpy.datetime64('2020-04-10'), numpy.datetime64('2020-05-25'), numpy.datetime64('2020-07-03'), numpy.datetime64('2020-09-07'), numpy.datetime64('2020-11-26'), numpy.datetime64('2020-12-25'), numpy.datetime64('2021-01-01'), numpy.datetime64('2021-01-18'), numpy.datetime64('2021-02-15'), numpy.datetime64('2021-04-02'), numpy.datetime64('2021-05-31'), numpy.datetime64('2021-07-05'), numpy.datetime64('2021-09-06'), numpy.datetime64('2021-11-25'), numpy.datetime64('2021-12-24'), numpy.datetime64('2022-01-17'), numpy.datetime64('2022-02-21'), numpy.datetime64('2022-04-15'), numpy.datetime64('2022-05-30'), numpy.datetime64('2022-06-20'), numpy.datetime64('2022-07-04'), numpy.datetime64('2022-09-05'), numpy.datetime64('2022-11-24'), numpy.datetime64('2022-12-26'), numpy.datetime64('2023-01-02'), numpy.datetime64('2023-01-16'), numpy.datetime64('2023-02-20'), numpy.datetime64('2023-04-07'), numpy.datetime64('2023-05-29'), numpy.datetime64('2023-06-19'), numpy.datetime64('2023-07-04'), numpy.datetime64('2023-09-04'), numpy.datetime64('2023-11-23'), numpy.datetime64('2023-12-25'), numpy.datetime64('2024-01-01'), numpy.datetime64('2024-01-15'), numpy.datetime64('2024-02-19'), numpy.datetime64('2024-03-29'), numpy.datetime64('2024-05-27'), numpy.datetime64('2024-06-19'), numpy.datetime64('2024-07-04'), numpy.datetime64('2024-09-02'), numpy.datetime64('2024-11-28'), numpy.datetime64('2024-12-25'), numpy.datetime64('2025-01-01'), numpy.datetime64('2025-01-09'), numpy.datetime64('2025-01-20'), numpy.datetime64('2025-02-17'), numpy.datetime64('2025-04-18'), numpy.datetime64('2025-05-26'), numpy.datetime64('2025-06-19'), numpy.datetime64('2025-07-04'), numpy.datetime64('2025-09-01'), numpy.datetime64('2025-11-27'), numpy.datetime64('2025-12-25'), numpy.datetime64('2026-01-01'), numpy.datetime64('2026-01-19'), numpy.datetime64('2026-02-16'), numpy.datetime64('2026-04-03'), numpy.datetime64('2026-05-25'), numpy.datetime64('2026-06-19'), numpy.datetime64('2026-07-03'), numpy.datetime64('2026-09-07'), numpy.datetime64('2026-11-26'), numpy.datetime64('2026-12-25'), numpy.datetime64('2027-01-01'), numpy.datetime64('2027-01-18'), numpy.datetime64('2027-02-15'), numpy.datetime64('2027-03-26'), numpy.datetime64('2027-05-31'), numpy.datetime64('2027-06-18'), numpy.datetime64('2027-07-05'), numpy.datetime64('2027-09-06'), numpy.datetime64('2027-11-25'), numpy.datetime64('2027-12-24'), numpy.datetime64('2028-01-17'), numpy.datetime64('2028-02-21'), numpy.datetime64('2028-04-14'), numpy.datetime64('2028-05-29'), numpy.datetime64('2028-06-19'), numpy.datetime64('2028-07-04'), numpy.datetime64('2028-09-04'), numpy.datetime64('2028-11-23'), numpy.datetime64('2028-12-25'), numpy.datetime64('2029-01-01'), numpy.datetime64('2029-01-15'), numpy.datetime64('2029-02-19'), numpy.datetime64('2029-03-30'), numpy.datetime64('2029-05-28'), numpy.datetime64('2029-06-19'), numpy.datetime64('2029-07-04'), numpy.datetime64('2029-09-03'), numpy.datetime64('2029-11-22'), numpy.datetime64('2029-12-25'), numpy.datetime64('2030-01-01'), numpy.datetime64('2030-01-21'), numpy.datetime64('2030-02-18'), numpy.datetime64('2030-04-19'), numpy.datetime64('2030-05-27'), numpy.datetime64('2030-06-19'), numpy.datetime64('2030-07-04'), numpy.datetime64('2030-09-02'), numpy.datetime64('2030-11-28'), numpy.datetime64('2030-12-25'), numpy.datetime64('2031-01-01'), numpy.datetime64('2031-01-20'), numpy.datetime64('2031-02-17'), numpy.datetime64('2031-04-11'), numpy.datetime64('2031-05-26'), numpy.datetime64('2031-06-19'), numpy.datetime64('2031-07-04'), numpy.datetime64('2031-09-01'), numpy.datetime64('2031-11-27'), numpy.datetime64('2031-12-25'), numpy.datetime64('2032-01-01'), numpy.datetime64('2032-01-19'), numpy.datetime64('2032-02-16'), numpy.datetime64('2032-03-26'), numpy.datetime64('2032-05-31'), numpy.datetime64('2032-06-18'), numpy.datetime64('2032-07-05'), numpy.datetime64('2032-09-06'), numpy.datetime64('2032-11-25'), numpy.datetime64('2032-12-24'), numpy.datetime64('2033-01-17'), numpy.datetime64('2033-02-21'), numpy.datetime64('2033-04-15'), numpy.datetime64('2033-05-30'), numpy.datetime64('2033-06-20'), numpy.datetime64('2033-07-04'), numpy.datetime64('2033-09-05'), numpy.datetime64('2033-11-24'), numpy.datetime64('2033-12-26'), numpy.datetime64('2034-01-02'), numpy.datetime64('2034-01-16'), numpy.datetime64('2034-02-20'), numpy.datetime64('2034-04-07'), numpy.datetime64('2034-05-29'), numpy.datetime64('2034-06-19'), numpy.datetime64('2034-07-04'), numpy.datetime64('2034-09-04'), numpy.datetime64('2034-11-23'), numpy.datetime64('2034-12-25'), numpy.datetime64('2035-01-01'), numpy.datetime64('2035-01-15'), numpy.datetime64('2035-02-19'), numpy.datetime64('2035-03-23'), numpy.datetime64('2035-05-28'), numpy.datetime64('2035-06-19'), numpy.datetime64('2035-07-04'), numpy.datetime64('2035-09-03'), numpy.datetime64('2035-11-22'), numpy.datetime64('2035-12-25'), numpy.datetime64('2036-01-01'), numpy.datetime64('2036-01-21'), numpy.datetime64('2036-02-18'), numpy.datetime64('2036-04-11'), numpy.datetime64('2036-05-26'), numpy.datetime64('2036-06-19'), numpy.datetime64('2036-07-04'), numpy.datetime64('2036-09-01'), numpy.datetime64('2036-11-27'), numpy.datetime64('2036-12-25'), numpy.datetime64('2037-01-01'), numpy.datetime64('2037-01-19'), numpy.datetime64('2037-02-16'), numpy.datetime64('2037-04-03'), numpy.datetime64('2037-05-25'), numpy.datetime64('2037-06-19'), numpy.datetime64('2037-07-03'), numpy.datetime64('2037-09-07'), numpy.datetime64('2037-11-26'), numpy.datetime64('2037-12-25'), numpy.datetime64('2038-01-01'), numpy.datetime64('2038-01-18'), numpy.datetime64('2038-02-15'), numpy.datetime64('2038-04-23'), numpy.datetime64('2038-05-31'), numpy.datetime64('2038-06-18'), numpy.datetime64('2038-07-05'), numpy.datetime64('2038-09-06'), numpy.datetime64('2038-11-25'), numpy.datetime64('2038-12-24'), numpy.datetime64('2039-01-17'), numpy.datetime64('2039-02-21'), numpy.datetime64('2039-04-08'), numpy.datetime64('2039-05-30'), numpy.datetime64('2039-06-20'), numpy.datetime64('2039-07-04'), numpy.datetime64('2039-09-05'), numpy.datetime64('2039-11-24'), numpy.datetime64('2039-12-26'), numpy.datetime64('2040-01-02'), numpy.datetime64('2040-01-16'), numpy.datetime64('2040-02-20'), numpy.datetime64('2040-03-30'), numpy.datetime64('2040-05-28'), numpy.datetime64('2040-06-19'), numpy.datetime64('2040-07-04'), numpy.datetime64('2040-09-03'), numpy.datetime64('2040-11-22'), numpy.datetime64('2040-12-25'), numpy.datetime64('2041-01-01'), numpy.datetime64('2041-01-21'), numpy.datetime64('2041-02-18'), numpy.datetime64('2041-04-19'), numpy.datetime64('2041-05-27'), numpy.datetime64('2041-06-19'), numpy.datetime64('2041-07-04'), numpy.datetime64('2041-09-02'), numpy.datetime64('2041-11-28'), numpy.datetime64('2041-12-25'), numpy.datetime64('2042-01-01'), numpy.datetime64('2042-01-20'), numpy.datetime64('2042-02-17'), numpy.datetime64('2042-04-04'), numpy.datetime64('2042-05-26'), numpy.datetime64('2042-06-19'), numpy.datetime64('2042-07-04'), numpy.datetime64('2042-09-01'), numpy.datetime64('2042-11-27'), numpy.datetime64('2042-12-25'), numpy.datetime64('2043-01-01'), numpy.datetime64('2043-01-19'), numpy.datetime64('2043-02-16'), numpy.datetime64('2043-03-27'), numpy.datetime64('2043-05-25'), numpy.datetime64('2043-06-19'), numpy.datetime64('2043-07-03'), numpy.datetime64('2043-09-07'), numpy.datetime64('2043-11-26'), numpy.datetime64('2043-12-25'), numpy.datetime64('2044-01-01'), numpy.datetime64('2044-01-18'), numpy.datetime64('2044-02-15'), numpy.datetime64('2044-04-15'), numpy.datetime64('2044-05-30'), numpy.datetime64('2044-06-20'), numpy.datetime64('2044-07-04'), numpy.datetime64('2044-09-05'), numpy.datetime64('2044-11-24'), numpy.datetime64('2044-12-26'), numpy.datetime64('2045-01-02'), numpy.datetime64('2045-01-16'), numpy.datetime64('2045-02-20'), numpy.datetime64('2045-04-07'), numpy.datetime64('2045-05-29'), numpy.datetime64('2045-06-19'), numpy.datetime64('2045-07-04'), numpy.datetime64('2045-09-04'), numpy.datetime64('2045-11-23'), numpy.datetime64('2045-12-25'), numpy.datetime64('2046-01-01'), numpy.datetime64('2046-01-15'), numpy.datetime64('2046-02-19'), numpy.datetime64('2046-03-23'), numpy.datetime64('2046-05-28'), numpy.datetime64('2046-06-19'), numpy.datetime64('2046-07-04'), numpy.datetime64('2046-09-03'), numpy.datetime64('2046-11-22'), numpy.datetime64('2046-12-25'), numpy.datetime64('2047-01-01'), numpy.datetime64('2047-01-21'), numpy.datetime64('2047-02-18'), numpy.datetime64('2047-04-12'), numpy.datetime64('2047-05-27'), numpy.datetime64('2047-06-19'), numpy.datetime64('2047-07-04'), numpy.datetime64('2047-09-02'), numpy.datetime64('2047-11-28'), numpy.datetime64('2047-12-25'), numpy.datetime64('2048-01-01'), numpy.datetime64('2048-01-20'), numpy.datetime64('2048-02-17'), numpy.datetime64('2048-04-03'), numpy.datetime64('2048-05-25'), numpy.datetime64('2048-06-19'), numpy.datetime64('2048-07-03'), numpy.datetime64('2048-09-07'), numpy.datetime64('2048-11-26'), numpy.datetime64('2048-12-25'), numpy.datetime64('2049-01-01'), numpy.datetime64('2049-01-18'), numpy.datetime64('2049-02-15'), numpy.datetime64('2049-04-16'), numpy.datetime64('2049-05-31'), numpy.datetime64('2049-06-18'), numpy.datetime64('2049-07-05'), numpy.datetime64('2049-09-06'), numpy.datetime64('2049-11-25'), numpy.datetime64('2049-12-24'), numpy.datetime64('2050-01-17'), numpy.datetime64('2050-02-21'), numpy.datetime64('2050-04-08'), numpy.datetime64('2050-05-30'), numpy.datetime64('2050-06-20'), numpy.datetime64('2050-07-04'), numpy.datetime64('2050-09-05'), numpy.datetime64('2050-11-24'), numpy.datetime64('2050-12-26'), numpy.datetime64('2051-01-02'), numpy.datetime64('2051-01-16'), numpy.datetime64('2051-02-20'), numpy.datetime64('2051-03-31'), numpy.datetime64('2051-05-29'), numpy.datetime64('2051-06-19'), numpy.datetime64('2051-07-04'), numpy.datetime64('2051-09-04'), numpy.datetime64('2051-11-23'), numpy.datetime64('2051-12-25'), numpy.datetime64('2052-01-01'), numpy.datetime64('2052-01-15'), numpy.datetime64('2052-02-19'), numpy.datetime64('2052-04-19'), numpy.datetime64('2052-05-27'), numpy.datetime64('2052-06-19'), numpy.datetime64('2052-07-04'), numpy.datetime64('2052-09-02'), numpy.datetime64('2052-11-28'), numpy.datetime64('2052-12-25'), numpy.datetime64('2053-01-01'), numpy.datetime64('2053-01-20'), numpy.datetime64('2053-02-17'), numpy.datetime64('2053-04-04'), numpy.datetime64('2053-05-26'), numpy.datetime64('2053-06-19'), numpy.datetime64('2053-07-04'), numpy.datetime64('2053-09-01'), numpy.datetime64('2053-11-27'), numpy.datetime64('2053-12-25'), numpy.datetime64('2054-01-01'), numpy.datetime64('2054-01-19'), numpy.datetime64('2054-02-16'), numpy.datetime64('2054-03-27'), numpy.datetime64('2054-05-25'), numpy.datetime64('2054-06-19'), numpy.datetime64('2054-07-03'), numpy.datetime64('2054-09-07'), numpy.datetime64('2054-11-26'), numpy.datetime64('2054-12-25'), numpy.datetime64('2055-01-01'), numpy.datetime64('2055-01-18'), numpy.datetime64('2055-02-15'), numpy.datetime64('2055-04-16'), numpy.datetime64('2055-05-31'), numpy.datetime64('2055-06-18'), numpy.datetime64('2055-07-05'), numpy.datetime64('2055-09-06'), numpy.datetime64('2055-11-25'), numpy.datetime64('2055-12-24'), numpy.datetime64('2056-01-17'), numpy.datetime64('2056-02-21'), numpy.datetime64('2056-03-31'), numpy.datetime64('2056-05-29'), numpy.datetime64('2056-06-19'), numpy.datetime64('2056-07-04'), numpy.datetime64('2056-09-04'), numpy.datetime64('2056-11-23'), numpy.datetime64('2056-12-25'), numpy.datetime64('2057-01-01'), numpy.datetime64('2057-01-15'), numpy.datetime64('2057-02-19'), numpy.datetime64('2057-04-20'), numpy.datetime64('2057-05-28'), numpy.datetime64('2057-06-19'), numpy.datetime64('2057-07-04'), numpy.datetime64('2057-09-03'), numpy.datetime64('2057-11-22'), numpy.datetime64('2057-12-25'), numpy.datetime64('2058-01-01'), numpy.datetime64('2058-01-21'), numpy.datetime64('2058-02-18'), numpy.datetime64('2058-04-12'), numpy.datetime64('2058-05-27'), numpy.datetime64('2058-06-19'), numpy.datetime64('2058-07-04'), numpy.datetime64('2058-09-02'), numpy.datetime64('2058-11-28'), numpy.datetime64('2058-12-25'), numpy.datetime64('2059-01-01'), numpy.datetime64('2059-01-20'), numpy.datetime64('2059-02-17'), numpy.datetime64('2059-03-28'), numpy.datetime64('2059-05-26'), numpy.datetime64('2059-06-19'), numpy.datetime64('2059-07-04'), numpy.datetime64('2059-09-01'), numpy.datetime64('2059-11-27'), numpy.datetime64('2059-12-25'), numpy.datetime64('2060-01-01'), numpy.datetime64('2060-01-19'), numpy.datetime64('2060-02-16'), numpy.datetime64('2060-04-16'), numpy.datetime64('2060-05-31'), numpy.datetime64('2060-06-18'), numpy.datetime64('2060-07-05'), numpy.datetime64('2060-09-06'), numpy.datetime64('2060-11-25'), numpy.datetime64('2060-12-24'), numpy.datetime64('2061-01-17'), numpy.datetime64('2061-02-21'), numpy.datetime64('2061-04-08'), numpy.datetime64('2061-05-30'), numpy.datetime64('2061-06-20'), numpy.datetime64('2061-07-04'), numpy.datetime64('2061-09-05'), numpy.datetime64('2061-11-24'), numpy.datetime64('2061-12-26'), numpy.datetime64('2062-01-02'), numpy.datetime64('2062-01-16'), numpy.datetime64('2062-02-20'), numpy.datetime64('2062-03-24'), numpy.datetime64('2062-05-29'), numpy.datetime64('2062-06-19'), numpy.datetime64('2062-07-04'), numpy.datetime64('2062-09-04'), numpy.datetime64('2062-11-23'), numpy.datetime64('2062-12-25'), numpy.datetime64('2063-01-01'), numpy.datetime64('2063-01-15'), numpy.datetime64('2063-02-19'), numpy.datetime64('2063-04-13'), numpy.datetime64('2063-05-28'), numpy.datetime64('2063-06-19'), numpy.datetime64('2063-07-04'), numpy.datetime64('2063-09-03'), numpy.datetime64('2063-11-22'), numpy.datetime64('2063-12-25'), numpy.datetime64('2064-01-01'), numpy.datetime64('2064-01-21'), numpy.datetime64('2064-02-18'), numpy.datetime64('2064-04-04'), numpy.datetime64('2064-05-26'), numpy.datetime64('2064-06-19'), numpy.datetime64('2064-07-04'), numpy.datetime64('2064-09-01'), numpy.datetime64('2064-11-27'), numpy.datetime64('2064-12-25'), numpy.datetime64('2065-01-01'), numpy.datetime64('2065-01-19'), numpy.datetime64('2065-02-16'), numpy.datetime64('2065-03-27'), numpy.datetime64('2065-05-25'), numpy.datetime64('2065-06-19'), numpy.datetime64('2065-07-03'), numpy.datetime64('2065-09-07'), numpy.datetime64('2065-11-26'), numpy.datetime64('2065-12-25'), numpy.datetime64('2066-01-01'), numpy.datetime64('2066-01-18'), numpy.datetime64('2066-02-15'), numpy.datetime64('2066-04-09'), numpy.datetime64('2066-05-31'), numpy.datetime64('2066-06-18'), numpy.datetime64('2066-07-05'), numpy.datetime64('2066-09-06'), numpy.datetime64('2066-11-25'), numpy.datetime64('2066-12-24'), numpy.datetime64('2067-01-17'), numpy.datetime64('2067-02-21'), numpy.datetime64('2067-04-01'), numpy.datetime64('2067-05-30'), numpy.datetime64('2067-06-20'), numpy.datetime64('2067-07-04'), numpy.datetime64('2067-09-05'), numpy.datetime64('2067-11-24'), numpy.datetime64('2067-12-26'), numpy.datetime64('2068-01-02'), numpy.datetime64('2068-01-16'), numpy.datetime64('2068-02-20'), numpy.datetime64('2068-04-20'), numpy.datetime64('2068-05-28'), numpy.datetime64('2068-06-19'), numpy.datetime64('2068-07-04'), numpy.datetime64('2068-09-03'), numpy.datetime64('2068-11-22'), numpy.datetime64('2068-12-25'), numpy.datetime64('2069-01-01'), numpy.datetime64('2069-01-21'), numpy.datetime64('2069-02-18'), numpy.datetime64('2069-04-12'), numpy.datetime64('2069-05-27'), numpy.datetime64('2069-06-19'), numpy.datetime64('2069-07-04'), numpy.datetime64('2069-09-02'), numpy.datetime64('2069-11-28'), numpy.datetime64('2069-12-25'), numpy.datetime64('2070-01-01'), numpy.datetime64('2070-01-20'), numpy.datetime64('2070-02-17'), numpy.datetime64('2070-03-28'), numpy.datetime64('2070-05-26'), numpy.datetime64('2070-06-19'), numpy.datetime64('2070-07-04'), numpy.datetime64('2070-09-01'), numpy.datetime64('2070-11-27'), numpy.datetime64('2070-12-25'), numpy.datetime64('2071-01-01'), numpy.datetime64('2071-01-19'), numpy.datetime64('2071-02-16'), numpy.datetime64('2071-04-17'), numpy.datetime64('2071-05-25'), numpy.datetime64('2071-06-19'), numpy.datetime64('2071-07-03'), numpy.datetime64('2071-09-07'), numpy.datetime64('2071-11-26'), numpy.datetime64('2071-12-25'), numpy.datetime64('2072-01-01'), numpy.datetime64('2072-01-18'), numpy.datetime64('2072-02-15'), numpy.datetime64('2072-04-08'), numpy.datetime64('2072-05-30'), numpy.datetime64('2072-06-20'), numpy.datetime64('2072-07-04'), numpy.datetime64('2072-09-05'), numpy.datetime64('2072-11-24'), numpy.datetime64('2072-12-26'), numpy.datetime64('2073-01-02'), numpy.datetime64('2073-01-16'), numpy.datetime64('2073-02-20'), numpy.datetime64('2073-03-24'), numpy.datetime64('2073-05-29'), numpy.datetime64('2073-06-19'), numpy.datetime64('2073-07-04'), numpy.datetime64('2073-09-04'), numpy.datetime64('2073-11-23'), numpy.datetime64('2073-12-25'), numpy.datetime64('2074-01-01'), numpy.datetime64('2074-01-15'), numpy.datetime64('2074-02-19'), numpy.datetime64('2074-04-13'), numpy.datetime64('2074-05-28'), numpy.datetime64('2074-06-19'), numpy.datetime64('2074-07-04'), numpy.datetime64('2074-09-03'), numpy.datetime64('2074-11-22'), numpy.datetime64('2074-12-25'), numpy.datetime64('2075-01-01'), numpy.datetime64('2075-01-21'), numpy.datetime64('2075-02-18'), numpy.datetime64('2075-04-05'), numpy.datetime64('2075-05-27'), numpy.datetime64('2075-06-19'), numpy.datetime64('2075-07-04'), numpy.datetime64('2075-09-02'), numpy.datetime64('2075-11-28'), numpy.datetime64('2075-12-25'), numpy.datetime64('2076-01-01'), numpy.datetime64('2076-01-20'), numpy.datetime64('2076-02-17'), numpy.datetime64('2076-04-17'), numpy.datetime64('2076-05-25'), numpy.datetime64('2076-06-19'), numpy.datetime64('2076-07-03'), numpy.datetime64('2076-09-07'), numpy.datetime64('2076-11-26'), numpy.datetime64('2076-12-25'), numpy.datetime64('2077-01-01'), numpy.datetime64('2077-01-18'), numpy.datetime64('2077-02-15'), numpy.datetime64('2077-04-09'), numpy.datetime64('2077-05-31'), numpy.datetime64('2077-06-18'), numpy.datetime64('2077-07-05'), numpy.datetime64('2077-09-06'), numpy.datetime64('2077-11-25'), numpy.datetime64('2077-12-24'), numpy.datetime64('2078-01-17'), numpy.datetime64('2078-02-21'), numpy.datetime64('2078-04-01'), numpy.datetime64('2078-05-30'), numpy.datetime64('2078-06-20'), numpy.datetime64('2078-07-04'), numpy.datetime64('2078-09-05'), numpy.datetime64('2078-11-24'), numpy.datetime64('2078-12-26'), numpy.datetime64('2079-01-02'), numpy.datetime64('2079-01-16'), numpy.datetime64('2079-02-20'), numpy.datetime64('2079-04-21'), numpy.datetime64('2079-05-29'), numpy.datetime64('2079-06-19'), numpy.datetime64('2079-07-04'), numpy.datetime64('2079-09-04'), numpy.datetime64('2079-11-23'), numpy.datetime64('2079-12-25'), numpy.datetime64('2080-01-01'), numpy.datetime64('2080-01-15'), numpy.datetime64('2080-02-19'), numpy.datetime64('2080-04-05'), numpy.datetime64('2080-05-27'), numpy.datetime64('2080-06-19'), numpy.datetime64('2080-07-04'), numpy.datetime64('2080-09-02'), numpy.datetime64('2080-11-28'), numpy.datetime64('2080-12-25'), numpy.datetime64('2081-01-01'), numpy.datetime64('2081-01-20'), numpy.datetime64('2081-02-17'), numpy.datetime64('2081-03-28'), numpy.datetime64('2081-05-26'), numpy.datetime64('2081-06-19'), numpy.datetime64('2081-07-04'), numpy.datetime64('2081-09-01'), numpy.datetime64('2081-11-27'), numpy.datetime64('2081-12-25'), numpy.datetime64('2082-01-01'), numpy.datetime64('2082-01-19'), numpy.datetime64('2082-02-16'), numpy.datetime64('2082-04-17'), numpy.datetime64('2082-05-25'), numpy.datetime64('2082-06-19'), numpy.datetime64('2082-07-03'), numpy.datetime64('2082-09-07'), numpy.datetime64('2082-11-26'), numpy.datetime64('2082-12-25'), numpy.datetime64('2083-01-01'), numpy.datetime64('2083-01-18'), numpy.datetime64('2083-02-15'), numpy.datetime64('2083-04-02'), numpy.datetime64('2083-05-31'), numpy.datetime64('2083-06-18'), numpy.datetime64('2083-07-05'), numpy.datetime64('2083-09-06'), numpy.datetime64('2083-11-25'), numpy.datetime64('2083-12-24'), numpy.datetime64('2084-01-17'), numpy.datetime64('2084-02-21'), numpy.datetime64('2084-03-24'), numpy.datetime64('2084-05-29'), numpy.datetime64('2084-06-19'), numpy.datetime64('2084-07-04'), numpy.datetime64('2084-09-04'), numpy.datetime64('2084-11-23'), numpy.datetime64('2084-12-25'), numpy.datetime64('2085-01-01'), numpy.datetime64('2085-01-15'), numpy.datetime64('2085-02-19'), numpy.datetime64('2085-04-13'), numpy.datetime64('2085-05-28'), numpy.datetime64('2085-06-19'), numpy.datetime64('2085-07-04'), numpy.datetime64('2085-09-03'), numpy.datetime64('2085-11-22'), numpy.datetime64('2085-12-25'), numpy.datetime64('2086-01-01'), numpy.datetime64('2086-01-21'), numpy.datetime64('2086-02-18'), numpy.datetime64('2086-03-29'), numpy.datetime64('2086-05-27'), numpy.datetime64('2086-06-19'), numpy.datetime64('2086-07-04'), numpy.datetime64('2086-09-02'), numpy.datetime64('2086-11-28'), numpy.datetime64('2086-12-25'), numpy.datetime64('2087-01-01'), numpy.datetime64('2087-01-20'), numpy.datetime64('2087-02-17'), numpy.datetime64('2087-04-18'), numpy.datetime64('2087-05-26'), numpy.datetime64('2087-06-19'), numpy.datetime64('2087-07-04'), numpy.datetime64('2087-09-01'), numpy.datetime64('2087-11-27'), numpy.datetime64('2087-12-25'), numpy.datetime64('2088-01-01'), numpy.datetime64('2088-01-19'), numpy.datetime64('2088-02-16'), numpy.datetime64('2088-04-09'), numpy.datetime64('2088-05-31'), numpy.datetime64('2088-06-18'), numpy.datetime64('2088-07-05'), numpy.datetime64('2088-09-06'), numpy.datetime64('2088-11-25'), numpy.datetime64('2088-12-24'), numpy.datetime64('2089-01-17'), numpy.datetime64('2089-02-21'), numpy.datetime64('2089-04-01'), numpy.datetime64('2089-05-30'), numpy.datetime64('2089-06-20'), numpy.datetime64('2089-07-04'), numpy.datetime64('2089-09-05'), numpy.datetime64('2089-11-24'), numpy.datetime64('2089-12-26'), numpy.datetime64('2090-01-02'), numpy.datetime64('2090-01-16'), numpy.datetime64('2090-02-20'), numpy.datetime64('2090-04-14'), numpy.datetime64('2090-05-29'), numpy.datetime64('2090-06-19'), numpy.datetime64('2090-07-04'), numpy.datetime64('2090-09-04'), numpy.datetime64('2090-11-23'), numpy.datetime64('2090-12-25'), numpy.datetime64('2091-01-01'), numpy.datetime64('2091-01-15'), numpy.datetime64('2091-02-19'), numpy.datetime64('2091-04-06'), numpy.datetime64('2091-05-28'), numpy.datetime64('2091-06-19'), numpy.datetime64('2091-07-04'), numpy.datetime64('2091-09-03'), numpy.datetime64('2091-11-22'), numpy.datetime64('2091-12-25'), numpy.datetime64('2092-01-01'), numpy.datetime64('2092-01-21'), numpy.datetime64('2092-02-18'), numpy.datetime64('2092-03-28'), numpy.datetime64('2092-05-26'), numpy.datetime64('2092-06-19'), numpy.datetime64('2092-07-04'), numpy.datetime64('2092-09-01'), numpy.datetime64('2092-11-27'), numpy.datetime64('2092-12-25'), numpy.datetime64('2093-01-01'), numpy.datetime64('2093-01-19'), numpy.datetime64('2093-02-16'), numpy.datetime64('2093-04-10'), numpy.datetime64('2093-05-25'), numpy.datetime64('2093-06-19'), numpy.datetime64('2093-07-03'), numpy.datetime64('2093-09-07'), numpy.datetime64('2093-11-26'), numpy.datetime64('2093-12-25'), numpy.datetime64('2094-01-01'), numpy.datetime64('2094-01-18'), numpy.datetime64('2094-02-15'), numpy.datetime64('2094-04-02'), numpy.datetime64('2094-05-31'), numpy.datetime64('2094-06-18'), numpy.datetime64('2094-07-05'), numpy.datetime64('2094-09-06'), numpy.datetime64('2094-11-25'), numpy.datetime64('2094-12-24'), numpy.datetime64('2095-01-17'), numpy.datetime64('2095-02-21'), numpy.datetime64('2095-04-22'), numpy.datetime64('2095-05-30'), numpy.datetime64('2095-06-20'), numpy.datetime64('2095-07-04'), numpy.datetime64('2095-09-05'), numpy.datetime64('2095-11-24'), numpy.datetime64('2095-12-26'), numpy.datetime64('2096-01-02'), numpy.datetime64('2096-01-16'), numpy.datetime64('2096-02-20'), numpy.datetime64('2096-04-13'), numpy.datetime64('2096-05-28'), numpy.datetime64('2096-06-19'), numpy.datetime64('2096-07-04'), numpy.datetime64('2096-09-03'), numpy.datetime64('2096-11-22'), numpy.datetime64('2096-12-25'), numpy.datetime64('2097-01-01'), numpy.datetime64('2097-01-21'), numpy.datetime64('2097-02-18'), numpy.datetime64('2097-03-29'), numpy.datetime64('2097-05-27'), numpy.datetime64('2097-06-19'), numpy.datetime64('2097-07-04'), numpy.datetime64('2097-09-02'), numpy.datetime64('2097-11-28'), numpy.datetime64('2097-12-25'), numpy.datetime64('2098-01-01'), numpy.datetime64('2098-01-20'), numpy.datetime64('2098-02-17'), numpy.datetime64('2098-04-18'), numpy.datetime64('2098-05-26'), numpy.datetime64('2098-06-19'), numpy.datetime64('2098-07-04'), numpy.datetime64('2098-09-01'), numpy.datetime64('2098-11-27'), numpy.datetime64('2098-12-25'), numpy.datetime64('2099-01-01'), numpy.datetime64('2099-01-19'), numpy.datetime64('2099-02-16'), numpy.datetime64('2099-04-10'), numpy.datetime64('2099-05-25'), numpy.datetime64('2099-06-19'), numpy.datetime64('2099-07-03'), numpy.datetime64('2099-09-07'), numpy.datetime64('2099-11-26'), numpy.datetime64('2099-12-25'), numpy.datetime64('2100-01-01'), numpy.datetime64('2100-01-18'), numpy.datetime64('2100-02-15'), numpy.datetime64('2100-03-26'), numpy.datetime64('2100-05-31'), numpy.datetime64('2100-06-18'), numpy.datetime64('2100-07-05'), numpy.datetime64('2100-09-06'), numpy.datetime64('2100-11-25'), numpy.datetime64('2100-12-24'), numpy.datetime64('2101-01-17'), numpy.datetime64('2101-02-21'), numpy.datetime64('2101-04-15'), numpy.datetime64('2101-05-30'), numpy.datetime64('2101-06-20'), numpy.datetime64('2101-07-04'), numpy.datetime64('2101-09-05'), numpy.datetime64('2101-11-24'), numpy.datetime64('2101-12-26'), numpy.datetime64('2102-01-02'), numpy.datetime64('2102-01-16'), numpy.datetime64('2102-02-20'), numpy.datetime64('2102-04-07'), numpy.datetime64('2102-05-29'), numpy.datetime64('2102-06-19'), numpy.datetime64('2102-07-04'), numpy.datetime64('2102-09-04'), numpy.datetime64('2102-11-23'), numpy.datetime64('2102-12-25'), numpy.datetime64('2103-01-01'), numpy.datetime64('2103-01-15'), numpy.datetime64('2103-02-19'), numpy.datetime64('2103-03-23'), numpy.datetime64('2103-05-28'), numpy.datetime64('2103-06-19'), numpy.datetime64('2103-07-04'), numpy.datetime64('2103-09-03'), numpy.datetime64('2103-11-22'), numpy.datetime64('2103-12-25'), numpy.datetime64('2104-01-01'), numpy.datetime64('2104-01-21'), numpy.datetime64('2104-02-18'), numpy.datetime64('2104-04-11'), numpy.datetime64('2104-05-26'), numpy.datetime64('2104-06-19'), numpy.datetime64('2104-07-04'), numpy.datetime64('2104-09-01'), numpy.datetime64('2104-11-27'), numpy.datetime64('2104-12-25'), numpy.datetime64('2105-01-01'), numpy.datetime64('2105-01-19'), numpy.datetime64('2105-02-16'), numpy.datetime64('2105-04-03'), numpy.datetime64('2105-05-25'), numpy.datetime64('2105-06-19'), numpy.datetime64('2105-07-03'), numpy.datetime64('2105-09-07'), numpy.datetime64('2105-11-26'), numpy.datetime64('2105-12-25'), numpy.datetime64('2106-01-01'), numpy.datetime64('2106-01-18'), numpy.datetime64('2106-02-15'), numpy.datetime64('2106-04-16'), numpy.datetime64('2106-05-31'), numpy.datetime64('2106-06-18'), numpy.datetime64('2106-07-05'), numpy.datetime64('2106-09-06'), numpy.datetime64('2106-11-25'), numpy.datetime64('2106-12-24'), numpy.datetime64('2107-01-17'), numpy.datetime64('2107-02-21'), numpy.datetime64('2107-04-08'), numpy.datetime64('2107-05-30'), numpy.datetime64('2107-06-20'), numpy.datetime64('2107-07-04'), numpy.datetime64('2107-09-05'), numpy.datetime64('2107-11-24'), numpy.datetime64('2107-12-26'), numpy.datetime64('2108-01-02'), numpy.datetime64('2108-01-16'), numpy.datetime64('2108-02-20'), numpy.datetime64('2108-03-30'), numpy.datetime64('2108-05-28'), numpy.datetime64('2108-06-19'), numpy.datetime64('2108-07-04'), numpy.datetime64('2108-09-03'), numpy.datetime64('2108-11-22'), numpy.datetime64('2108-12-25'), numpy.datetime64('2109-01-01'), numpy.datetime64('2109-01-21'), numpy.datetime64('2109-02-18'), numpy.datetime64('2109-04-19'), numpy.datetime64('2109-05-27'), numpy.datetime64('2109-06-19'), numpy.datetime64('2109-07-04'), numpy.datetime64('2109-09-02'), numpy.datetime64('2109-11-28'), numpy.datetime64('2109-12-25'), numpy.datetime64('2110-01-01'), numpy.datetime64('2110-01-20'), numpy.datetime64('2110-02-17'), numpy.datetime64('2110-04-04'), numpy.datetime64('2110-05-26'), numpy.datetime64('2110-06-19'), numpy.datetime64('2110-07-04'), numpy.datetime64('2110-09-01'), numpy.datetime64('2110-11-27'), numpy.datetime64('2110-12-25'), numpy.datetime64('2111-01-01'), numpy.datetime64('2111-01-19'), numpy.datetime64('2111-02-16'), numpy.datetime64('2111-03-27'), numpy.datetime64('2111-05-25'), numpy.datetime64('2111-06-19'), numpy.datetime64('2111-07-03'), numpy.datetime64('2111-09-07'), numpy.datetime64('2111-11-26'), numpy.datetime64('2111-12-25'), numpy.datetime64('2112-01-01'), numpy.datetime64('2112-01-18'), numpy.datetime64('2112-02-15'), numpy.datetime64('2112-04-15'), numpy.datetime64('2112-05-30'), numpy.datetime64('2112-06-20'), numpy.datetime64('2112-07-04'), numpy.datetime64('2112-09-05'), numpy.datetime64('2112-11-24'), numpy.datetime64('2112-12-26'), numpy.datetime64('2113-01-02'), numpy.datetime64('2113-01-16'), numpy.datetime64('2113-02-20'), numpy.datetime64('2113-03-31'), numpy.datetime64('2113-05-29'), numpy.datetime64('2113-06-19'), numpy.datetime64('2113-07-04'), numpy.datetime64('2113-09-04'), numpy.datetime64('2113-11-23'), numpy.datetime64('2113-12-25'), numpy.datetime64('2114-01-01'), numpy.datetime64('2114-01-15'), numpy.datetime64('2114-02-19'), numpy.datetime64('2114-04-20'), numpy.datetime64('2114-05-28'), numpy.datetime64('2114-06-19'), numpy.datetime64('2114-07-04'), numpy.datetime64('2114-09-03'), numpy.datetime64('2114-11-22'), numpy.datetime64('2114-12-25'), numpy.datetime64('2115-01-01'), numpy.datetime64('2115-01-21'), numpy.datetime64('2115-02-18'), numpy.datetime64('2115-04-12'), numpy.datetime64('2115-05-27'), numpy.datetime64('2115-06-19'), numpy.datetime64('2115-07-04'), numpy.datetime64('2115-09-02'), numpy.datetime64('2115-11-28'), numpy.datetime64('2115-12-25'), numpy.datetime64('2116-01-01'), numpy.datetime64('2116-01-20'), numpy.datetime64('2116-02-17'), numpy.datetime64('2116-03-27'), numpy.datetime64('2116-05-25'), numpy.datetime64('2116-06-19'), numpy.datetime64('2116-07-03'), numpy.datetime64('2116-09-07'), numpy.datetime64('2116-11-26'), numpy.datetime64('2116-12-25'), numpy.datetime64('2117-01-01'), numpy.datetime64('2117-01-18'), numpy.datetime64('2117-02-15'), numpy.datetime64('2117-04-16'), numpy.datetime64('2117-05-31'), numpy.datetime64('2117-06-18'), numpy.datetime64('2117-07-05'), numpy.datetime64('2117-09-06'), numpy.datetime64('2117-11-25'), numpy.datetime64('2117-12-24'), numpy.datetime64('2118-01-17'), numpy.datetime64('2118-02-21'), numpy.datetime64('2118-04-08'), numpy.datetime64('2118-05-30'), numpy.datetime64('2118-06-20'), numpy.datetime64('2118-07-04'), numpy.datetime64('2118-09-05'), numpy.datetime64('2118-11-24'), numpy.datetime64('2118-12-26'), numpy.datetime64('2119-01-02'), numpy.datetime64('2119-01-16'), numpy.datetime64('2119-02-20'), numpy.datetime64('2119-03-24'), numpy.datetime64('2119-05-29'), numpy.datetime64('2119-06-19'), numpy.datetime64('2119-07-04'), numpy.datetime64('2119-09-04'), numpy.datetime64('2119-11-23'), numpy.datetime64('2119-12-25'), numpy.datetime64('2120-01-01'), numpy.datetime64('2120-01-15'), numpy.datetime64('2120-02-19'), numpy.datetime64('2120-04-12'), numpy.datetime64('2120-05-27'), numpy.datetime64('2120-06-19'), numpy.datetime64('2120-07-04'), numpy.datetime64('2120-09-02'), numpy.datetime64('2120-11-28'), numpy.datetime64('2120-12-25'), numpy.datetime64('2121-01-01'), numpy.datetime64('2121-01-20'), numpy.datetime64('2121-02-17'), numpy.datetime64('2121-04-04'), numpy.datetime64('2121-05-26'), numpy.datetime64('2121-06-19'), numpy.datetime64('2121-07-04'), numpy.datetime64('2121-09-01'), numpy.datetime64('2121-11-27'), numpy.datetime64('2121-12-25'), numpy.datetime64('2122-01-01'), numpy.datetime64('2122-01-19'), numpy.datetime64('2122-02-16'), numpy.datetime64('2122-03-27'), numpy.datetime64('2122-05-25'), numpy.datetime64('2122-06-19'), numpy.datetime64('2122-07-03'), numpy.datetime64('2122-09-07'), numpy.datetime64('2122-11-26'), numpy.datetime64('2122-12-25'), numpy.datetime64('2123-01-01'), numpy.datetime64('2123-01-18'), numpy.datetime64('2123-02-15'), numpy.datetime64('2123-04-09'), numpy.datetime64('2123-05-31'), numpy.datetime64('2123-06-18'), numpy.datetime64('2123-07-05'), numpy.datetime64('2123-09-06'), numpy.datetime64('2123-11-25'), numpy.datetime64('2123-12-24'), numpy.datetime64('2124-01-17'), numpy.datetime64('2124-02-21'), numpy.datetime64('2124-03-31'), numpy.datetime64('2124-05-29'), numpy.datetime64('2124-06-19'), numpy.datetime64('2124-07-04'), numpy.datetime64('2124-09-04'), numpy.datetime64('2124-11-23'), numpy.datetime64('2124-12-25'), numpy.datetime64('2125-01-01'), numpy.datetime64('2125-01-15'), numpy.datetime64('2125-02-19'), numpy.datetime64('2125-04-20'), numpy.datetime64('2125-05-28'), numpy.datetime64('2125-06-19'), numpy.datetime64('2125-07-04'), numpy.datetime64('2125-09-03'), numpy.datetime64('2125-11-22'), numpy.datetime64('2125-12-25'), numpy.datetime64('2126-01-01'), numpy.datetime64('2126-01-21'), numpy.datetime64('2126-02-18'), numpy.datetime64('2126-04-12'), numpy.datetime64('2126-05-27'), numpy.datetime64('2126-06-19'), numpy.datetime64('2126-07-04'), numpy.datetime64('2126-09-02'), numpy.datetime64('2126-11-28'), numpy.datetime64('2126-12-25'), numpy.datetime64('2127-01-01'), numpy.datetime64('2127-01-20'), numpy.datetime64('2127-02-17'), numpy.datetime64('2127-03-28'), numpy.datetime64('2127-05-26'), numpy.datetime64('2127-06-19'), numpy.datetime64('2127-07-04'), numpy.datetime64('2127-09-01'), numpy.datetime64('2127-11-27'), numpy.datetime64('2127-12-25'), numpy.datetime64('2128-01-01'), numpy.datetime64('2128-01-19'), numpy.datetime64('2128-02-16'), numpy.datetime64('2128-04-16'), numpy.datetime64('2128-05-31'), numpy.datetime64('2128-06-18'), numpy.datetime64('2128-07-05'), numpy.datetime64('2128-09-06'), numpy.datetime64('2128-11-25'), numpy.datetime64('2128-12-24'), numpy.datetime64('2129-01-17'), numpy.datetime64('2129-02-21'), numpy.datetime64('2129-04-08'), numpy.datetime64('2129-05-30'), numpy.datetime64('2129-06-20'), numpy.datetime64('2129-07-04'), numpy.datetime64('2129-09-05'), numpy.datetime64('2129-11-24'), numpy.datetime64('2129-12-26'), numpy.datetime64('2130-01-02'), numpy.datetime64('2130-01-16'), numpy.datetime64('2130-02-20'), numpy.datetime64('2130-03-24'), numpy.datetime64('2130-05-29'), numpy.datetime64('2130-06-19'), numpy.datetime64('2130-07-04'), numpy.datetime64('2130-09-04'), numpy.datetime64('2130-11-23'), numpy.datetime64('2130-12-25'), numpy.datetime64('2131-01-01'), numpy.datetime64('2131-01-15'), numpy.datetime64('2131-02-19'), numpy.datetime64('2131-04-13'), numpy.datetime64('2131-05-28'), numpy.datetime64('2131-06-19'), numpy.datetime64('2131-07-04'), numpy.datetime64('2131-09-03'), numpy.datetime64('2131-11-22'), numpy.datetime64('2131-12-25'), numpy.datetime64('2132-01-01'), numpy.datetime64('2132-01-21'), numpy.datetime64('2132-02-18'), numpy.datetime64('2132-04-04'), numpy.datetime64('2132-05-26'), numpy.datetime64('2132-06-19'), numpy.datetime64('2132-07-04'), numpy.datetime64('2132-09-01'), numpy.datetime64('2132-11-27'), numpy.datetime64('2132-12-25'), numpy.datetime64('2133-01-01'), numpy.datetime64('2133-01-19'), numpy.datetime64('2133-02-16'), numpy.datetime64('2133-04-17'), numpy.datetime64('2133-05-25'), numpy.datetime64('2133-06-19'), numpy.datetime64('2133-07-03'), numpy.datetime64('2133-09-07'), numpy.datetime64('2133-11-26'), numpy.datetime64('2133-12-25'), numpy.datetime64('2134-01-01'), numpy.datetime64('2134-01-18'), numpy.datetime64('2134-02-15'), numpy.datetime64('2134-04-09'), numpy.datetime64('2134-05-31'), numpy.datetime64('2134-06-18'), numpy.datetime64('2134-07-05'), numpy.datetime64('2134-09-06'), numpy.datetime64('2134-11-25'), numpy.datetime64('2134-12-24'), numpy.datetime64('2135-01-17'), numpy.datetime64('2135-02-21'), numpy.datetime64('2135-04-01'), numpy.datetime64('2135-05-30'), numpy.datetime64('2135-06-20'), numpy.datetime64('2135-07-04'), numpy.datetime64('2135-09-05'), numpy.datetime64('2135-11-24'), numpy.datetime64('2135-12-26'), numpy.datetime64('2136-01-02'), numpy.datetime64('2136-01-16'), numpy.datetime64('2136-02-20'), numpy.datetime64('2136-04-20'), numpy.datetime64('2136-05-28'), numpy.datetime64('2136-06-19'), numpy.datetime64('2136-07-04'), numpy.datetime64('2136-09-03'), numpy.datetime64('2136-11-22'), numpy.datetime64('2136-12-25'), numpy.datetime64('2137-01-01'), numpy.datetime64('2137-01-21'), numpy.datetime64('2137-02-18'), numpy.datetime64('2137-04-05'), numpy.datetime64('2137-05-27'), numpy.datetime64('2137-06-19'), numpy.datetime64('2137-07-04'), numpy.datetime64('2137-09-02'), numpy.datetime64('2137-11-28'), numpy.datetime64('2137-12-25'), numpy.datetime64('2138-01-01'), numpy.datetime64('2138-01-20'), numpy.datetime64('2138-02-17'), numpy.datetime64('2138-03-28'), numpy.datetime64('2138-05-26'), numpy.datetime64('2138-06-19'), numpy.datetime64('2138-07-04'), numpy.datetime64('2138-09-01'), numpy.datetime64('2138-11-27'), numpy.datetime64('2138-12-25'), numpy.datetime64('2139-01-01'), numpy.datetime64('2139-01-19'), numpy.datetime64('2139-02-16'), numpy.datetime64('2139-04-17'), numpy.datetime64('2139-05-25'), numpy.datetime64('2139-06-19'), numpy.datetime64('2139-07-03'), numpy.datetime64('2139-09-07'), numpy.datetime64('2139-11-26'), numpy.datetime64('2139-12-25'), numpy.datetime64('2140-01-01'), numpy.datetime64('2140-01-18'), numpy.datetime64('2140-02-15'), numpy.datetime64('2140-04-01'), numpy.datetime64('2140-05-30'), numpy.datetime64('2140-06-20'), numpy.datetime64('2140-07-04'), numpy.datetime64('2140-09-05'), numpy.datetime64('2140-11-24'), numpy.datetime64('2140-12-26'), numpy.datetime64('2141-01-02'), numpy.datetime64('2141-01-16'), numpy.datetime64('2141-02-20'), numpy.datetime64('2141-03-24'), numpy.datetime64('2141-05-29'), numpy.datetime64('2141-06-19'), numpy.datetime64('2141-07-04'), numpy.datetime64('2141-09-04'), numpy.datetime64('2141-11-23'), numpy.datetime64('2141-12-25'), numpy.datetime64('2142-01-01'), numpy.datetime64('2142-01-15'), numpy.datetime64('2142-02-19'), numpy.datetime64('2142-04-13'), numpy.datetime64('2142-05-28'), numpy.datetime64('2142-06-19'), numpy.datetime64('2142-07-04'), numpy.datetime64('2142-09-03'), numpy.datetime64('2142-11-22'), numpy.datetime64('2142-12-25'), numpy.datetime64('2143-01-01'), numpy.datetime64('2143-01-21'), numpy.datetime64('2143-02-18'), numpy.datetime64('2143-03-29'), numpy.datetime64('2143-05-27'), numpy.datetime64('2143-06-19'), numpy.datetime64('2143-07-04'), numpy.datetime64('2143-09-02'), numpy.datetime64('2143-11-28'), numpy.datetime64('2143-12-25'), numpy.datetime64('2144-01-01'), numpy.datetime64('2144-01-20'), numpy.datetime64('2144-02-17'), numpy.datetime64('2144-04-17'), numpy.datetime64('2144-05-25'), numpy.datetime64('2144-06-19'), numpy.datetime64('2144-07-03'), numpy.datetime64('2144-09-07'), numpy.datetime64('2144-11-26'), numpy.datetime64('2144-12-25'), numpy.datetime64('2145-01-01'), numpy.datetime64('2145-01-18'), numpy.datetime64('2145-02-15'), numpy.datetime64('2145-04-09'), numpy.datetime64('2145-05-31'), numpy.datetime64('2145-06-18'), numpy.datetime64('2145-07-05'), numpy.datetime64('2145-09-06'), numpy.datetime64('2145-11-25'), numpy.datetime64('2145-12-24'), numpy.datetime64('2146-01-17'), numpy.datetime64('2146-02-21'), numpy.datetime64('2146-04-01'), numpy.datetime64('2146-05-30'), numpy.datetime64('2146-06-20'), numpy.datetime64('2146-07-04'), numpy.datetime64('2146-09-05'), numpy.datetime64('2146-11-24'), numpy.datetime64('2146-12-26'), numpy.datetime64('2147-01-02'), numpy.datetime64('2147-01-16'), numpy.datetime64('2147-02-20'), numpy.datetime64('2147-04-14'), numpy.datetime64('2147-05-29'), numpy.datetime64('2147-06-19'), numpy.datetime64('2147-07-04'), numpy.datetime64('2147-09-04'), numpy.datetime64('2147-11-23'), numpy.datetime64('2147-12-25'), numpy.datetime64('2148-01-01'), numpy.datetime64('2148-01-15'), numpy.datetime64('2148-02-19'), numpy.datetime64('2148-04-05'), numpy.datetime64('2148-05-27'), numpy.datetime64('2148-06-19'), numpy.datetime64('2148-07-04'), numpy.datetime64('2148-09-02'), numpy.datetime64('2148-11-28'), numpy.datetime64('2148-12-25'), numpy.datetime64('2149-01-01'), numpy.datetime64('2149-01-20'), numpy.datetime64('2149-02-17'), numpy.datetime64('2149-03-28'), numpy.datetime64('2149-05-26'), numpy.datetime64('2149-06-19'), numpy.datetime64('2149-07-04'), numpy.datetime64('2149-09-01'), numpy.datetime64('2149-11-27'), numpy.datetime64('2149-12-25'), numpy.datetime64('2150-01-01'), numpy.datetime64('2150-01-19'), numpy.datetime64('2150-02-16'), numpy.datetime64('2150-04-10'), numpy.datetime64('2150-05-25'), numpy.datetime64('2150-06-19'), numpy.datetime64('2150-07-03'), numpy.datetime64('2150-09-07'), numpy.datetime64('2150-11-26'), numpy.datetime64('2150-12-25'), numpy.datetime64('2151-01-01'), numpy.datetime64('2151-01-18'), numpy.datetime64('2151-02-15'), numpy.datetime64('2151-04-02'), numpy.datetime64('2151-05-31'), numpy.datetime64('2151-06-18'), numpy.datetime64('2151-07-05'), numpy.datetime64('2151-09-06'), numpy.datetime64('2151-11-25'), numpy.datetime64('2151-12-24'), numpy.datetime64('2152-01-17'), numpy.datetime64('2152-02-21'), numpy.datetime64('2152-04-21'), numpy.datetime64('2152-05-29'), numpy.datetime64('2152-06-19'), numpy.datetime64('2152-07-04'), numpy.datetime64('2152-09-04'), numpy.datetime64('2152-11-23'), numpy.datetime64('2152-12-25'), numpy.datetime64('2153-01-01'), numpy.datetime64('2153-01-15'), numpy.datetime64('2153-02-19'), numpy.datetime64('2153-04-13'), numpy.datetime64('2153-05-28'), numpy.datetime64('2153-06-19'), numpy.datetime64('2153-07-04'), numpy.datetime64('2153-09-03'), numpy.datetime64('2153-11-22'), numpy.datetime64('2153-12-25'), numpy.datetime64('2154-01-01'), numpy.datetime64('2154-01-21'), numpy.datetime64('2154-02-18'), numpy.datetime64('2154-03-29'), numpy.datetime64('2154-05-27'), numpy.datetime64('2154-06-19'), numpy.datetime64('2154-07-04'), numpy.datetime64('2154-09-02'), numpy.datetime64('2154-11-28'), numpy.datetime64('2154-12-25'), numpy.datetime64('2155-01-01'), numpy.datetime64('2155-01-20'), numpy.datetime64('2155-02-17'), numpy.datetime64('2155-04-18'), numpy.datetime64('2155-05-26'), numpy.datetime64('2155-06-19'), numpy.datetime64('2155-07-04'), numpy.datetime64('2155-09-01'), numpy.datetime64('2155-11-27'), numpy.datetime64('2155-12-25'), numpy.datetime64('2156-01-01'), numpy.datetime64('2156-01-19'), numpy.datetime64('2156-02-16'), numpy.datetime64('2156-04-09'), numpy.datetime64('2156-05-31'), numpy.datetime64('2156-06-18'), numpy.datetime64('2156-07-05'), numpy.datetime64('2156-09-06'), numpy.datetime64('2156-11-25'), numpy.datetime64('2156-12-24'), numpy.datetime64('2157-01-17'), numpy.datetime64('2157-02-21'), numpy.datetime64('2157-03-25'), numpy.datetime64('2157-05-30'), numpy.datetime64('2157-06-20'), numpy.datetime64('2157-07-04'), numpy.datetime64('2157-09-05'), numpy.datetime64('2157-11-24'), numpy.datetime64('2157-12-26'), numpy.datetime64('2158-01-02'), numpy.datetime64('2158-01-16'), numpy.datetime64('2158-02-20'), numpy.datetime64('2158-04-14'), numpy.datetime64('2158-05-29'), numpy.datetime64('2158-06-19'), numpy.datetime64('2158-07-04'), numpy.datetime64('2158-09-04'), numpy.datetime64('2158-11-23'), numpy.datetime64('2158-12-25'), numpy.datetime64('2159-01-01'), numpy.datetime64('2159-01-15'), numpy.datetime64('2159-02-19'), numpy.datetime64('2159-04-06'), numpy.datetime64('2159-05-28'), numpy.datetime64('2159-06-19'), numpy.datetime64('2159-07-04'), numpy.datetime64('2159-09-03'), numpy.datetime64('2159-11-22'), numpy.datetime64('2159-12-25'), numpy.datetime64('2160-01-01'), numpy.datetime64('2160-01-21'), numpy.datetime64('2160-02-18'), numpy.datetime64('2160-03-21'), numpy.datetime64('2160-05-26'), numpy.datetime64('2160-06-19'), numpy.datetime64('2160-07-04'), numpy.datetime64('2160-09-01'), numpy.datetime64('2160-11-27'), numpy.datetime64('2160-12-25'), numpy.datetime64('2161-01-01'), numpy.datetime64('2161-01-19'), numpy.datetime64('2161-02-16'), numpy.datetime64('2161-04-10'), numpy.datetime64('2161-05-25'), numpy.datetime64('2161-06-19'), numpy.datetime64('2161-07-03'), numpy.datetime64('2161-09-07'), numpy.datetime64('2161-11-26'), numpy.datetime64('2161-12-25'), numpy.datetime64('2162-01-01'), numpy.datetime64('2162-01-18'), numpy.datetime64('2162-02-15'), numpy.datetime64('2162-04-02'), numpy.datetime64('2162-05-31'), numpy.datetime64('2162-06-18'), numpy.datetime64('2162-07-05'), numpy.datetime64('2162-09-06'), numpy.datetime64('2162-11-25'), numpy.datetime64('2162-12-24'), numpy.datetime64('2163-01-17'), numpy.datetime64('2163-02-21'), numpy.datetime64('2163-04-22'), numpy.datetime64('2163-05-30'), numpy.datetime64('2163-06-20'), numpy.datetime64('2163-07-04'), numpy.datetime64('2163-09-05'), numpy.datetime64('2163-11-24'), numpy.datetime64('2163-12-26'), numpy.datetime64('2164-01-02'), numpy.datetime64('2164-01-16'), numpy.datetime64('2164-02-20'), numpy.datetime64('2164-04-06'), numpy.datetime64('2164-05-28'), numpy.datetime64('2164-06-19'), numpy.datetime64('2164-07-04'), numpy.datetime64('2164-09-03'), numpy.datetime64('2164-11-22'), numpy.datetime64('2164-12-25'), numpy.datetime64('2165-01-01'), numpy.datetime64('2165-01-21'), numpy.datetime64('2165-02-18'), numpy.datetime64('2165-03-29'), numpy.datetime64('2165-05-27'), numpy.datetime64('2165-06-19'), numpy.datetime64('2165-07-04'), numpy.datetime64('2165-09-02'), numpy.datetime64('2165-11-28'), numpy.datetime64('2165-12-25'), numpy.datetime64('2166-01-01'), numpy.datetime64('2166-01-20'), numpy.datetime64('2166-02-17'), numpy.datetime64('2166-04-18'), numpy.datetime64('2166-05-26'), numpy.datetime64('2166-06-19'), numpy.datetime64('2166-07-04'), numpy.datetime64('2166-09-01'), numpy.datetime64('2166-11-27'), numpy.datetime64('2166-12-25'), numpy.datetime64('2167-01-01'), numpy.datetime64('2167-01-19'), numpy.datetime64('2167-02-16'), numpy.datetime64('2167-04-03'), numpy.datetime64('2167-05-25'), numpy.datetime64('2167-06-19'), numpy.datetime64('2167-07-03'), numpy.datetime64('2167-09-07'), numpy.datetime64('2167-11-26'), numpy.datetime64('2167-12-25'), numpy.datetime64('2168-01-01'), numpy.datetime64('2168-01-18'), numpy.datetime64('2168-02-15'), numpy.datetime64('2168-03-25'), numpy.datetime64('2168-05-30'), numpy.datetime64('2168-06-20'), numpy.datetime64('2168-07-04'), numpy.datetime64('2168-09-05'), numpy.datetime64('2168-11-24'), numpy.datetime64('2168-12-26'), numpy.datetime64('2169-01-02'), numpy.datetime64('2169-01-16'), numpy.datetime64('2169-02-20'), numpy.datetime64('2169-04-14'), numpy.datetime64('2169-05-29'), numpy.datetime64('2169-06-19'), numpy.datetime64('2169-07-04'), numpy.datetime64('2169-09-04'), numpy.datetime64('2169-11-23'), numpy.datetime64('2169-12-25'), numpy.datetime64('2170-01-01'), numpy.datetime64('2170-01-15'), numpy.datetime64('2170-02-19'), numpy.datetime64('2170-03-30'), numpy.datetime64('2170-05-28'), numpy.datetime64('2170-06-19'), numpy.datetime64('2170-07-04'), numpy.datetime64('2170-09-03'), numpy.datetime64('2170-11-22'), numpy.datetime64('2170-12-25'), numpy.datetime64('2171-01-01'), numpy.datetime64('2171-01-21'), numpy.datetime64('2171-02-18'), numpy.datetime64('2171-04-19'), numpy.datetime64('2171-05-27'), numpy.datetime64('2171-06-19'), numpy.datetime64('2171-07-04'), numpy.datetime64('2171-09-02'), numpy.datetime64('2171-11-28'), numpy.datetime64('2171-12-25'), numpy.datetime64('2172-01-01'), numpy.datetime64('2172-01-20'), numpy.datetime64('2172-02-17'), numpy.datetime64('2172-04-10'), numpy.datetime64('2172-05-25'), numpy.datetime64('2172-06-19'), numpy.datetime64('2172-07-03'), numpy.datetime64('2172-09-07'), numpy.datetime64('2172-11-26'), numpy.datetime64('2172-12-25'), numpy.datetime64('2173-01-01'), numpy.datetime64('2173-01-18'), numpy.datetime64('2173-02-15'), numpy.datetime64('2173-04-02'), numpy.datetime64('2173-05-31'), numpy.datetime64('2173-06-18'), numpy.datetime64('2173-07-05'), numpy.datetime64('2173-09-06'), numpy.datetime64('2173-11-25'), numpy.datetime64('2173-12-24'), numpy.datetime64('2174-01-17'), numpy.datetime64('2174-02-21'), numpy.datetime64('2174-04-15'), numpy.datetime64('2174-05-30'), numpy.datetime64('2174-06-20'), numpy.datetime64('2174-07-04'), numpy.datetime64('2174-09-05'), numpy.datetime64('2174-11-24'), numpy.datetime64('2174-12-26'), numpy.datetime64('2175-01-02'), numpy.datetime64('2175-01-16'), numpy.datetime64('2175-02-20'), numpy.datetime64('2175-04-07'), numpy.datetime64('2175-05-29'), numpy.datetime64('2175-06-19'), numpy.datetime64('2175-07-04'), numpy.datetime64('2175-09-04'), numpy.datetime64('2175-11-23'), numpy.datetime64('2175-12-25'), numpy.datetime64('2176-01-01'), numpy.datetime64('2176-01-15'), numpy.datetime64('2176-02-19'), numpy.datetime64('2176-03-29'), numpy.datetime64('2176-05-27'), numpy.datetime64('2176-06-19'), numpy.datetime64('2176-07-04'), numpy.datetime64('2176-09-02'), numpy.datetime64('2176-11-28'), numpy.datetime64('2176-12-25'), numpy.datetime64('2177-01-01'), numpy.datetime64('2177-01-20'), numpy.datetime64('2177-02-17'), numpy.datetime64('2177-04-18'), numpy.datetime64('2177-05-26'), numpy.datetime64('2177-06-19'), numpy.datetime64('2177-07-04'), numpy.datetime64('2177-09-01'), numpy.datetime64('2177-11-27'), numpy.datetime64('2177-12-25'), numpy.datetime64('2178-01-01'), numpy.datetime64('2178-01-19'), numpy.datetime64('2178-02-16'), numpy.datetime64('2178-04-03'), numpy.datetime64('2178-05-25'), numpy.datetime64('2178-06-19'), numpy.datetime64('2178-07-03'), numpy.datetime64('2178-09-07'), numpy.datetime64('2178-11-26'), numpy.datetime64('2178-12-25'), numpy.datetime64('2179-01-01'), numpy.datetime64('2179-01-18'), numpy.datetime64('2179-02-15'), numpy.datetime64('2179-03-26'), numpy.datetime64('2179-05-31'), numpy.datetime64('2179-06-18'), numpy.datetime64('2179-07-05'), numpy.datetime64('2179-09-06'), numpy.datetime64('2179-11-25'), numpy.datetime64('2179-12-24'), numpy.datetime64('2180-01-17'), numpy.datetime64('2180-02-21'), numpy.datetime64('2180-04-14'), numpy.datetime64('2180-05-29'), numpy.datetime64('2180-06-19'), numpy.datetime64('2180-07-04'), numpy.datetime64('2180-09-04'), numpy.datetime64('2180-11-23'), numpy.datetime64('2180-12-25'), numpy.datetime64('2181-01-01'), numpy.datetime64('2181-01-15'), numpy.datetime64('2181-02-19'), numpy.datetime64('2181-03-30'), numpy.datetime64('2181-05-28'), numpy.datetime64('2181-06-19'), numpy.datetime64('2181-07-04'), numpy.datetime64('2181-09-03'), numpy.datetime64('2181-11-22'), numpy.datetime64('2181-12-25'), numpy.datetime64('2182-01-01'), numpy.datetime64('2182-01-21'), numpy.datetime64('2182-02-18'), numpy.datetime64('2182-04-19'), numpy.datetime64('2182-05-27'), numpy.datetime64('2182-06-19'), numpy.datetime64('2182-07-04'), numpy.datetime64('2182-09-02'), numpy.datetime64('2182-11-28'), numpy.datetime64('2182-12-25'), numpy.datetime64('2183-01-01'), numpy.datetime64('2183-01-20'), numpy.datetime64('2183-02-17'), numpy.datetime64('2183-04-11'), numpy.datetime64('2183-05-26'), numpy.datetime64('2183-06-19'), numpy.datetime64('2183-07-04'), numpy.datetime64('2183-09-01'), numpy.datetime64('2183-11-27'), numpy.datetime64('2183-12-25'), numpy.datetime64('2184-01-01'), numpy.datetime64('2184-01-19'), numpy.datetime64('2184-02-16'), numpy.datetime64('2184-03-26'), numpy.datetime64('2184-05-31'), numpy.datetime64('2184-06-18'), numpy.datetime64('2184-07-05'), numpy.datetime64('2184-09-06'), numpy.datetime64('2184-11-25'), numpy.datetime64('2184-12-24'), numpy.datetime64('2185-01-17'), numpy.datetime64('2185-02-21'), numpy.datetime64('2185-04-15'), numpy.datetime64('2185-05-30'), numpy.datetime64('2185-06-20'), numpy.datetime64('2185-07-04'), numpy.datetime64('2185-09-05'), numpy.datetime64('2185-11-24'), numpy.datetime64('2185-12-26'), numpy.datetime64('2186-01-02'), numpy.datetime64('2186-01-16'), numpy.datetime64('2186-02-20'), numpy.datetime64('2186-04-07'), numpy.datetime64('2186-05-29'), numpy.datetime64('2186-06-19'), numpy.datetime64('2186-07-04'), numpy.datetime64('2186-09-04'), numpy.datetime64('2186-11-23'), numpy.datetime64('2186-12-25'), numpy.datetime64('2187-01-01'), numpy.datetime64('2187-01-15'), numpy.datetime64('2187-02-19'), numpy.datetime64('2187-03-23'), numpy.datetime64('2187-05-28'), numpy.datetime64('2187-06-19'), numpy.datetime64('2187-07-04'), numpy.datetime64('2187-09-03'), numpy.datetime64('2187-11-22'), numpy.datetime64('2187-12-25'), numpy.datetime64('2188-01-01'), numpy.datetime64('2188-01-21'), numpy.datetime64('2188-02-18'), numpy.datetime64('2188-04-11'), numpy.datetime64('2188-05-26'), numpy.datetime64('2188-06-19'), numpy.datetime64('2188-07-04'), numpy.datetime64('2188-09-01'), numpy.datetime64('2188-11-27'), numpy.datetime64('2188-12-25'), numpy.datetime64('2189-01-01'), numpy.datetime64('2189-01-19'), numpy.datetime64('2189-02-16'), numpy.datetime64('2189-04-03'), numpy.datetime64('2189-05-25'), numpy.datetime64('2189-06-19'), numpy.datetime64('2189-07-03'), numpy.datetime64('2189-09-07'), numpy.datetime64('2189-11-26'), numpy.datetime64('2189-12-25'), numpy.datetime64('2190-01-01'), numpy.datetime64('2190-01-18'), numpy.datetime64('2190-02-15'), numpy.datetime64('2190-04-23'), numpy.datetime64('2190-05-31'), numpy.datetime64('2190-06-18'), numpy.datetime64('2190-07-05'), numpy.datetime64('2190-09-06'), numpy.datetime64('2190-11-25'), numpy.datetime64('2190-12-24'), numpy.datetime64('2191-01-17'), numpy.datetime64('2191-02-21'), numpy.datetime64('2191-04-08'), numpy.datetime64('2191-05-30'), numpy.datetime64('2191-06-20'), numpy.datetime64('2191-07-04'), numpy.datetime64('2191-09-05'), numpy.datetime64('2191-11-24'), numpy.datetime64('2191-12-26'), numpy.datetime64('2192-01-02'), numpy.datetime64('2192-01-16'), numpy.datetime64('2192-02-20'), numpy.datetime64('2192-03-30'), numpy.datetime64('2192-05-28'), numpy.datetime64('2192-06-19'), numpy.datetime64('2192-07-04'), numpy.datetime64('2192-09-03'), numpy.datetime64('2192-11-22'), numpy.datetime64('2192-12-25'), numpy.datetime64('2193-01-01'), numpy.datetime64('2193-01-21'), numpy.datetime64('2193-02-18'), numpy.datetime64('2193-04-19'), numpy.datetime64('2193-05-27'), numpy.datetime64('2193-06-19'), numpy.datetime64('2193-07-04'), numpy.datetime64('2193-09-02'), numpy.datetime64('2193-11-28'), numpy.datetime64('2193-12-25'), numpy.datetime64('2194-01-01'), numpy.datetime64('2194-01-20'), numpy.datetime64('2194-02-17'), numpy.datetime64('2194-04-04'), numpy.datetime64('2194-05-26'), numpy.datetime64('2194-06-19'), numpy.datetime64('2194-07-04'), numpy.datetime64('2194-09-01'), numpy.datetime64('2194-11-27'), numpy.datetime64('2194-12-25'), numpy.datetime64('2195-01-01'), numpy.datetime64('2195-01-19'), numpy.datetime64('2195-02-16'), numpy.datetime64('2195-03-27'), numpy.datetime64('2195-05-25'), numpy.datetime64('2195-06-19'), numpy.datetime64('2195-07-03'), numpy.datetime64('2195-09-07'), numpy.datetime64('2195-11-26'), numpy.datetime64('2195-12-25'), numpy.datetime64('2196-01-01'), numpy.datetime64('2196-01-18'), numpy.datetime64('2196-02-15'), numpy.datetime64('2196-04-15'), numpy.datetime64('2196-05-30'), numpy.datetime64('2196-06-20'), numpy.datetime64('2196-07-04'), numpy.datetime64('2196-09-05'), numpy.datetime64('2196-11-24'), numpy.datetime64('2196-12-26'), numpy.datetime64('2197-01-02'), numpy.datetime64('2197-01-16'), numpy.datetime64('2197-02-20'), numpy.datetime64('2197-04-07'), numpy.datetime64('2197-05-29'), numpy.datetime64('2197-06-19'), numpy.datetime64('2197-07-04'), numpy.datetime64('2197-09-04'), numpy.datetime64('2197-11-23'), numpy.datetime64('2197-12-25'), numpy.datetime64('2198-01-01'), numpy.datetime64('2198-01-15'), numpy.datetime64('2198-02-19'), numpy.datetime64('2198-03-23'), numpy.datetime64('2198-05-28'), numpy.datetime64('2198-06-19'), numpy.datetime64('2198-07-04'), numpy.datetime64('2198-09-03'), numpy.datetime64('2198-11-22'), numpy.datetime64('2198-12-25'), numpy.datetime64('2199-01-01'), numpy.datetime64('2199-01-21'), numpy.datetime64('2199-02-18'), numpy.datetime64('2199-04-12'), numpy.datetime64('2199-05-27'), numpy.datetime64('2199-06-19'), numpy.datetime64('2199-07-04'), numpy.datetime64('2199-09-02'), numpy.datetime64('2199-11-28'), numpy.datetime64('2199-12-25'), numpy.datetime64('2200-01-01'), numpy.datetime64('2200-01-20'), numpy.datetime64('2200-02-17'), numpy.datetime64('2200-04-04'), numpy.datetime64('2200-05-26'), numpy.datetime64('2200-06-19'), numpy.datetime64('2200-07-04'), numpy.datetime64('2200-09-01'), numpy.datetime64('2200-11-27'), numpy.datetime64('2200-12-25'))\n"
     ]
    }
   ],
   "source": [
    "import pandas_market_calendars as mcal\n",
    "\n",
    "# Create a calendar\n",
    "nyse = mcal.get_calendar('NYSE')\n",
    "\n",
    "# Show available calendars\n",
    "# print(mcal.get_calendar_names())\n",
    "# print(nyse.schedule(start_date='2024-01-01', end_date='2024-01-10'))\n",
    "\n",
    "\n",
    "# Create a calendar\n",
    "nyse = mcal.get_calendar('NYSE')\n",
    "\n",
    "# Get the CustomBusinessDay object\n",
    "cbd = nyse.holidays()\n",
    "\n",
    "# Access the actual holiday dates\n",
    "holiday_dates = cbd.holidays\n",
    "\n",
    "import pandas as pd\n",
    "\n",
    "# Create a date range that skips holidays\n",
    "date_range = pd.date_range(start='2024-01-01', end='2024-12-31', freq=cbd)\n",
    "\n",
    "# Print the holiday dates\n",
    "print(date_range)\n",
    "print(holiday_dates)"
   ]
  },
  {
   "cell_type": "code",
   "execution_count": 11,
   "metadata": {},
   "outputs": [
    {
     "name": "stdout",
     "output_type": "stream",
     "text": [
      "Original: 2025-03-25 12:00:00\n",
      "Normalized: 20250325 12:00:00 US/Eastern\n",
      "\n",
      "Original: 2025-03-25\n",
      "Normalized: 20250325 23:59:59 US/Eastern\n",
      "\n",
      "Original: 20250325\n",
      "Normalized: 20250325 23:59:59 US/Eastern\n",
      "\n",
      "Original: now\n",
      "Normalized: now US/Eastern\n",
      "\n"
     ]
    }
   ],
   "source": [
    "def normalize_date_for_ib(self, date_str, timezone='US/Eastern'):\n",
    "    \"\"\"\n",
    "    Normalizes various date formats to the format required by Interactive Brokers API.\n",
    "    \n",
    "    Handles various input formats:\n",
    "    - ISO format: '2025-03-25' → '20250325 23:59:59 US/Eastern'\n",
    "    - ISO with time: '2025-03-25 13:00:00' → '20250325 13:00:00 US/Eastern'\n",
    "    - Compact format: '20250325' → '20250325 23:59:59 US/Eastern'\n",
    "    - Compact with time: '20250325 13:00:00' → '20250325 13:00:00 US/Eastern'\n",
    "    - Special case 'now': Returns current time in the required format\n",
    "    \n",
    "    Parameters:\n",
    "    -----------\n",
    "    date_str : str\n",
    "        The date string to normalize\n",
    "    timezone : str, default='US/Eastern'\n",
    "        The timezone to use for the output format\n",
    "        \n",
    "    Returns:\n",
    "    --------\n",
    "    str\n",
    "        The normalized date string in IB API compatible format\n",
    "    \"\"\"\n",
    "    import re\n",
    "    import datetime\n",
    "    \n",
    "    # Handle the special case 'now'\n",
    "    if date_str.lower() == 'now':\n",
    "        return f\"now {timezone}\"\n",
    "    \n",
    "    # Strip any leading/trailing whitespace\n",
    "    date_str = date_str.strip()\n",
    "    \n",
    "    # Check if the date_str already has time component\n",
    "    has_time = bool(re.search(r'\\d+:\\d+', date_str))\n",
    "    \n",
    "    # Different regex patterns for different input formats\n",
    "    iso_date_pattern = r'^\\d{4}-\\d{2}-\\d{2}$'  # YYYY-MM-DD\n",
    "    iso_datetime_pattern = r'^\\d{4}-\\d{2}-\\d{2}\\s+\\d{2}:\\d{2}:\\d{2}$'  # YYYY-MM-DD HH:MM:SS\n",
    "    compact_date_pattern = r'^\\d{8}$'  # YYYYMMDD\n",
    "    compact_datetime_pattern = r'^\\d{8}\\s+\\d{2}:\\d{2}:\\d{2}$'  # YYYYMMDD HH:MM:SS\n",
    "    \n",
    "    # Parse based on the identified format\n",
    "    if re.match(iso_date_pattern, date_str):\n",
    "        # Format: YYYY-MM-DD\n",
    "        dt = datetime.datetime.strptime(date_str, '%Y-%m-%d')\n",
    "        date_part = dt.strftime('%Y%m%d')\n",
    "        time_part = \"23:59:59\" if not has_time else \"00:00:00\"\n",
    "        return f\"{date_part} {time_part} {timezone}\"\n",
    "        \n",
    "    elif re.match(iso_datetime_pattern, date_str):\n",
    "        # Format: YYYY-MM-DD HH:MM:SS\n",
    "        dt = datetime.datetime.strptime(date_str, '%Y-%m-%d %H:%M:%S')\n",
    "        date_part = dt.strftime('%Y%m%d')\n",
    "        time_part = dt.strftime('%H:%M:%S')\n",
    "        return f\"{date_part} {time_part} {timezone}\"\n",
    "        \n",
    "    elif re.match(compact_date_pattern, date_str):\n",
    "        # Format: YYYYMMDD\n",
    "        dt = datetime.datetime.strptime(date_str, '%Y%m%d')\n",
    "        date_part = dt.strftime('%Y%m%d')\n",
    "        time_part = \"23:59:59\" if not has_time else \"00:00:00\"\n",
    "        return f\"{date_part} {time_part} {timezone}\"\n",
    "        \n",
    "    elif re.match(compact_datetime_pattern, date_str):\n",
    "        # Format: YYYYMMDD HH:MM:SS\n",
    "        dt = datetime.datetime.strptime(date_str, '%Y%m%d %H:%M:%S')\n",
    "        date_part = dt.strftime('%Y%m%d')\n",
    "        time_part = dt.strftime('%H:%M:%S')\n",
    "        return f\"{date_part} {time_part} {timezone}\"\n",
    "    \n",
    "    # Try to handle other potential formats with dateutil parser\n",
    "    try:\n",
    "        from dateutil import parser\n",
    "        dt = parser.parse(date_str)\n",
    "        date_part = dt.strftime('%Y%m%d')\n",
    "        \n",
    "        # If original had time, use it, otherwise use end of day\n",
    "        if has_time:\n",
    "            time_part = dt.strftime('%H:%M:%S')\n",
    "        else:\n",
    "            time_part = \"23:59:59\"\n",
    "            \n",
    "        return f\"{date_part} {time_part} {timezone}\"\n",
    "    except:\n",
    "        # If all else fails, return the original with the timezone appended\n",
    "        return f\"{date_str} {timezone}\"\n",
    "    \n",
    "\n",
    "date_str_1 = '2025-03-25 12:00:00'\n",
    "date_str_2 = '2025-03-25'\n",
    "date_str_3 = '20250325'\n",
    "date_str_4 = 'now'\n",
    "\n",
    "for date_str in [date_str_1, date_str_2, date_str_3, date_str_4]:\n",
    "    print(f\"Original: {date_str}\")\n",
    "    print(f\"Normalized: {normalize_date_for_ib('', date_str)}\")\n",
    "    print()"
   ]
  },
  {
   "cell_type": "code",
   "execution_count": null,
   "metadata": {},
   "outputs": [],
   "source": [
    "from data.historical_data import HistoricalData\n",
    "\n",
    "hd = HistoricalData(ib)\n",
    "symbol = 'TSLA'\n",
    "interval = '1 day'\n",
    "endDateTime = '2025-03-22'\n",
    "durationStr = '7 D'\n",
    "\n",
    "hd.get_data(symbol, interval, endDateTime, durationStr, print_info=True)"
   ]
  }
 ],
 "metadata": {
  "kernelspec": {
   "display_name": "SB4",
   "language": "python",
   "name": "python3"
  },
  "language_info": {
   "codemirror_mode": {
    "name": "ipython",
    "version": 3
   },
   "file_extension": ".py",
   "mimetype": "text/x-python",
   "name": "python",
   "nbconvert_exporter": "python",
   "pygments_lexer": "ipython3",
   "version": "3.10.8"
  }
 },
 "nbformat": 4,
 "nbformat_minor": 2
}
