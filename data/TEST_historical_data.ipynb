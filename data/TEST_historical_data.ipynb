{
 "cells": [
  {
   "cell_type": "code",
   "execution_count": 1,
   "metadata": {},
   "outputs": [
    {
     "name": "stdout",
     "output_type": "stream",
     "text": [
      "Using interval: 1min\n"
     ]
    },
    {
     "data": {
      "text/html": [
       "<div>\n",
       "<style scoped>\n",
       "    .dataframe tbody tr th:only-of-type {\n",
       "        vertical-align: middle;\n",
       "    }\n",
       "\n",
       "    .dataframe tbody tr th {\n",
       "        vertical-align: top;\n",
       "    }\n",
       "\n",
       "    .dataframe thead th {\n",
       "        text-align: right;\n",
       "    }\n",
       "</style>\n",
       "<table border=\"1\" class=\"dataframe\">\n",
       "  <thead>\n",
       "    <tr style=\"text-align: right;\">\n",
       "      <th></th>\n",
       "      <th>open</th>\n",
       "      <th>high</th>\n",
       "      <th>low</th>\n",
       "      <th>close</th>\n",
       "      <th>volume</th>\n",
       "    </tr>\n",
       "    <tr>\n",
       "      <th>datetime</th>\n",
       "      <th></th>\n",
       "      <th></th>\n",
       "      <th></th>\n",
       "      <th></th>\n",
       "      <th></th>\n",
       "    </tr>\n",
       "  </thead>\n",
       "  <tbody>\n",
       "    <tr>\n",
       "      <th>2024-10-21 09:30:00</th>\n",
       "      <td>234.45000</td>\n",
       "      <td>235.50000</td>\n",
       "      <td>234.45000</td>\n",
       "      <td>234.64000</td>\n",
       "      <td>2563390</td>\n",
       "    </tr>\n",
       "    <tr>\n",
       "      <th>2024-10-21 09:33:00</th>\n",
       "      <td>234.63000</td>\n",
       "      <td>235.10001</td>\n",
       "      <td>234.59000</td>\n",
       "      <td>234.84500</td>\n",
       "      <td>366857</td>\n",
       "    </tr>\n",
       "    <tr>\n",
       "      <th>2024-10-21 09:36:00</th>\n",
       "      <td>234.84500</td>\n",
       "      <td>235.31000</td>\n",
       "      <td>234.84500</td>\n",
       "      <td>235.05499</td>\n",
       "      <td>307522</td>\n",
       "    </tr>\n",
       "    <tr>\n",
       "      <th>2024-10-21 09:39:00</th>\n",
       "      <td>235.06000</td>\n",
       "      <td>235.20000</td>\n",
       "      <td>234.87000</td>\n",
       "      <td>235.10001</td>\n",
       "      <td>229161</td>\n",
       "    </tr>\n",
       "    <tr>\n",
       "      <th>2024-10-21 09:42:00</th>\n",
       "      <td>235.10001</td>\n",
       "      <td>235.48000</td>\n",
       "      <td>235.10001</td>\n",
       "      <td>235.33000</td>\n",
       "      <td>259805</td>\n",
       "    </tr>\n",
       "    <tr>\n",
       "      <th>...</th>\n",
       "      <td>...</td>\n",
       "      <td>...</td>\n",
       "      <td>...</td>\n",
       "      <td>...</td>\n",
       "      <td>...</td>\n",
       "    </tr>\n",
       "    <tr>\n",
       "      <th>2024-11-01 15:45:00</th>\n",
       "      <td>222.57001</td>\n",
       "      <td>222.80000</td>\n",
       "      <td>222.44000</td>\n",
       "      <td>222.76010</td>\n",
       "      <td>289721</td>\n",
       "    </tr>\n",
       "    <tr>\n",
       "      <th>2024-11-01 15:48:00</th>\n",
       "      <td>222.75999</td>\n",
       "      <td>222.78000</td>\n",
       "      <td>222.27000</td>\n",
       "      <td>222.63100</td>\n",
       "      <td>503798</td>\n",
       "    </tr>\n",
       "    <tr>\n",
       "      <th>2024-11-01 15:51:00</th>\n",
       "      <td>222.62000</td>\n",
       "      <td>222.75000</td>\n",
       "      <td>222.49010</td>\n",
       "      <td>222.52499</td>\n",
       "      <td>615516</td>\n",
       "    </tr>\n",
       "    <tr>\n",
       "      <th>2024-11-01 15:54:00</th>\n",
       "      <td>222.52499</td>\n",
       "      <td>223.25000</td>\n",
       "      <td>222.44000</td>\n",
       "      <td>223.06000</td>\n",
       "      <td>971458</td>\n",
       "    </tr>\n",
       "    <tr>\n",
       "      <th>2024-11-01 15:57:00</th>\n",
       "      <td>223.06020</td>\n",
       "      <td>223.17000</td>\n",
       "      <td>222.75999</td>\n",
       "      <td>222.85001</td>\n",
       "      <td>1705108</td>\n",
       "    </tr>\n",
       "  </tbody>\n",
       "</table>\n",
       "<p>1300 rows × 5 columns</p>\n",
       "</div>"
      ],
      "text/plain": [
       "                          open       high        low      close   volume\n",
       "datetime                                                                \n",
       "2024-10-21 09:30:00  234.45000  235.50000  234.45000  234.64000  2563390\n",
       "2024-10-21 09:33:00  234.63000  235.10001  234.59000  234.84500   366857\n",
       "2024-10-21 09:36:00  234.84500  235.31000  234.84500  235.05499   307522\n",
       "2024-10-21 09:39:00  235.06000  235.20000  234.87000  235.10001   229161\n",
       "2024-10-21 09:42:00  235.10001  235.48000  235.10001  235.33000   259805\n",
       "...                        ...        ...        ...        ...      ...\n",
       "2024-11-01 15:45:00  222.57001  222.80000  222.44000  222.76010   289721\n",
       "2024-11-01 15:48:00  222.75999  222.78000  222.27000  222.63100   503798\n",
       "2024-11-01 15:51:00  222.62000  222.75000  222.49010  222.52499   615516\n",
       "2024-11-01 15:54:00  222.52499  223.25000  222.44000  223.06000   971458\n",
       "2024-11-01 15:57:00  223.06020  223.17000  222.75999  222.85001  1705108\n",
       "\n",
       "[1300 rows x 5 columns]"
      ]
     },
     "metadata": {},
     "output_type": "display_data"
    }
   ],
   "source": [
    "from twelvedata import TDClient\n",
    "import historical_data as hd\n",
    "\"https://github.com/twelvedata/twelvedata-python\"\n",
    "\n",
    "api_key = '171136ac7161454b8f4abeb987c72b02'\n",
    "td = TDClient(apikey=api_key)\n",
    "\n",
    "def get_historical_data_from_source(symbol, start_date, end_date, interval):\n",
    "\n",
    "    avialble_interval = hd.get_next_lower_common_denominator_as_interval(interval)\n",
    "    print(f\"Using interval: {avialble_interval}\")\n",
    "\n",
    "    data =  td.time_series(\n",
    "            symbol=symbol,\n",
    "            interval=avialble_interval,\n",
    "            start_date=start_date,\n",
    "            end_date=end_date,\n",
    "            outputsize=5000,\n",
    "            timezone=\"America/New_York\",\n",
    "        ).as_pandas().sort_index(ascending=True)\n",
    "    \n",
    "    return hd.resample_data(data, interval)\n",
    "\n",
    "\n",
    "symbol = 'AAPL'\n",
    "start_date = '2024-10-21 09:00:00'\n",
    "end_date = '2024-11-01 16:00:00'\n",
    "interval = '3min'\n",
    "\n",
    "data = get_historical_data_from_source(symbol, start_date, end_date, interval)\n",
    "display(data)"
   ]
  },
  {
   "cell_type": "code",
   "execution_count": 1,
   "metadata": {},
   "outputs": [
    {
     "name": "stdout",
     "output_type": "stream",
     "text": [
      "Batch dates                : [('2024-01-01', '2024-01-31'), ('2024-02-01', '2024-02-29'), ('2024-03-01', '2024-03-31'), ('2024-04-01', '2024-04-30'), ('2024-05-01', '2024-05-31'), ('2024-06-01', '2024-06-30')]\n",
      "Missing batched dates      : 1h [('2024-01-01', '2024-01-31'), ('2024-02-01', '2024-02-29'), ('2024-03-01', '2024-03-31'), ('2024-04-01', '2024-04-30'), ('2024-05-01', '2024-05-31'), ('2024-06-01', '2024-06-30')]\n",
      "Missing batched dates lower: 1h [('2024-01-01', '2024-01-31'), ('2024-02-01', '2024-02-29'), ('2024-03-01', '2024-03-31'), ('2024-04-01', '2024-04-30'), ('2024-05-01', '2024-05-31'), ('2024-06-01', '2024-06-30')]\n",
      "Getting missing data for 1h -- dates: 2024-01-01 to 2024-01-31\n",
      "Logged date range for TSLA (1h) from 2024-01-01 to 2024-01-31\n",
      "Getting missing data for 1h -- dates: 2024-02-01 to 2024-02-29\n",
      "Logged date range for TSLA (1h) from 2024-02-01 to 2024-02-29\n",
      "Getting missing data for 1h -- dates: 2024-03-01 to 2024-03-31\n",
      "Logged date range for TSLA (1h) from 2024-03-01 to 2024-03-31\n",
      "Getting missing data for 1h -- dates: 2024-04-01 to 2024-04-30\n",
      "Logged date range for TSLA (1h) from 2024-04-01 to 2024-04-30\n",
      "Getting missing data for 1h -- dates: 2024-05-01 to 2024-05-31\n",
      "Logged date range for TSLA (1h) from 2024-05-01 to 2024-05-31\n",
      "Getting missing data for 1h -- dates: 2024-06-01 to 2024-06-30\n",
      "Logged date range for TSLA (1h) from 2024-06-01 to 2024-06-30\n",
      "Getting missing data for 1h -- dates: 2024-01-01 to 2024-01-31\n",
      "Date range for TSLA (1h) from 2024-01-01 to 2024-01-31 is already logged.\n",
      "Getting missing data for 1h -- dates: 2024-02-01 to 2024-02-29\n",
      "Date range for TSLA (1h) from 2024-02-01 to 2024-02-29 is already logged.\n",
      "Getting missing data for 1h -- dates: 2024-03-01 to 2024-03-31\n",
      "Date range for TSLA (1h) from 2024-03-01 to 2024-03-31 is already logged.\n",
      "Getting missing data for 1h -- dates: 2024-04-01 to 2024-04-30\n",
      "Date range for TSLA (1h) from 2024-04-01 to 2024-04-30 is already logged.\n",
      "Getting missing data for 1h -- dates: 2024-05-01 to 2024-05-31\n",
      "Date range for TSLA (1h) from 2024-05-01 to 2024-05-31 is already logged.\n",
      "Getting missing data for 1h -- dates: 2024-06-01 to 2024-06-30\n",
      "Date range for TSLA (1h) from 2024-06-01 to 2024-06-30 is already logged.\n"
     ]
    },
    {
     "data": {
      "text/html": [
       "<div>\n",
       "<style scoped>\n",
       "    .dataframe tbody tr th:only-of-type {\n",
       "        vertical-align: middle;\n",
       "    }\n",
       "\n",
       "    .dataframe tbody tr th {\n",
       "        vertical-align: top;\n",
       "    }\n",
       "\n",
       "    .dataframe thead th {\n",
       "        text-align: right;\n",
       "    }\n",
       "</style>\n",
       "<table border=\"1\" class=\"dataframe\">\n",
       "  <thead>\n",
       "    <tr style=\"text-align: right;\">\n",
       "      <th></th>\n",
       "      <th>open</th>\n",
       "      <th>high</th>\n",
       "      <th>low</th>\n",
       "      <th>close</th>\n",
       "      <th>volume</th>\n",
       "    </tr>\n",
       "    <tr>\n",
       "      <th>datetime</th>\n",
       "      <th></th>\n",
       "      <th></th>\n",
       "      <th></th>\n",
       "      <th></th>\n",
       "      <th></th>\n",
       "    </tr>\n",
       "  </thead>\n",
       "  <tbody>\n",
       "    <tr>\n",
       "      <th>2024-01-02 09:00:00</th>\n",
       "      <td>250.00000</td>\n",
       "      <td>251.25000</td>\n",
       "      <td>244.41000</td>\n",
       "      <td>249.61000</td>\n",
       "      <td>36427280</td>\n",
       "    </tr>\n",
       "    <tr>\n",
       "      <th>2024-01-02 10:00:00</th>\n",
       "      <td>249.60001</td>\n",
       "      <td>250.25999</td>\n",
       "      <td>246.82001</td>\n",
       "      <td>250.00000</td>\n",
       "      <td>17189459</td>\n",
       "    </tr>\n",
       "    <tr>\n",
       "      <th>2024-01-02 11:00:00</th>\n",
       "      <td>249.99409</td>\n",
       "      <td>251.00000</td>\n",
       "      <td>247.94170</td>\n",
       "      <td>248.35001</td>\n",
       "      <td>12121725</td>\n",
       "    </tr>\n",
       "    <tr>\n",
       "      <th>2024-01-02 12:00:00</th>\n",
       "      <td>248.35500</td>\n",
       "      <td>249.13300</td>\n",
       "      <td>247.00000</td>\n",
       "      <td>248.35170</td>\n",
       "      <td>9300163</td>\n",
       "    </tr>\n",
       "    <tr>\n",
       "      <th>2024-01-02 13:00:00</th>\n",
       "      <td>248.39000</td>\n",
       "      <td>249.38000</td>\n",
       "      <td>247.30000</td>\n",
       "      <td>248.13721</td>\n",
       "      <td>8770028</td>\n",
       "    </tr>\n",
       "    <tr>\n",
       "      <th>...</th>\n",
       "      <td>...</td>\n",
       "      <td>...</td>\n",
       "      <td>...</td>\n",
       "      <td>...</td>\n",
       "      <td>...</td>\n",
       "    </tr>\n",
       "    <tr>\n",
       "      <th>2024-05-30 11:00:00</th>\n",
       "      <td>176.71989</td>\n",
       "      <td>177.51500</td>\n",
       "      <td>176.05000</td>\n",
       "      <td>176.87000</td>\n",
       "      <td>6472434</td>\n",
       "    </tr>\n",
       "    <tr>\n",
       "      <th>2024-05-30 12:00:00</th>\n",
       "      <td>176.88010</td>\n",
       "      <td>178.58000</td>\n",
       "      <td>176.41000</td>\n",
       "      <td>178.39000</td>\n",
       "      <td>6231529</td>\n",
       "    </tr>\n",
       "    <tr>\n",
       "      <th>2024-05-30 13:00:00</th>\n",
       "      <td>178.39000</td>\n",
       "      <td>179.95000</td>\n",
       "      <td>178.28999</td>\n",
       "      <td>179.51590</td>\n",
       "      <td>8086079</td>\n",
       "    </tr>\n",
       "    <tr>\n",
       "      <th>2024-05-30 14:00:00</th>\n",
       "      <td>179.52499</td>\n",
       "      <td>180.28500</td>\n",
       "      <td>178.62500</td>\n",
       "      <td>178.94000</td>\n",
       "      <td>6621663</td>\n",
       "    </tr>\n",
       "    <tr>\n",
       "      <th>2024-05-30 15:00:00</th>\n",
       "      <td>178.92500</td>\n",
       "      <td>179.17999</td>\n",
       "      <td>177.52000</td>\n",
       "      <td>178.83000</td>\n",
       "      <td>4255283</td>\n",
       "    </tr>\n",
       "  </tbody>\n",
       "</table>\n",
       "<p>707 rows × 5 columns</p>\n",
       "</div>"
      ],
      "text/plain": [
       "                          open       high        low      close    volume\n",
       "datetime                                                                 \n",
       "2024-01-02 09:00:00  250.00000  251.25000  244.41000  249.61000  36427280\n",
       "2024-01-02 10:00:00  249.60001  250.25999  246.82001  250.00000  17189459\n",
       "2024-01-02 11:00:00  249.99409  251.00000  247.94170  248.35001  12121725\n",
       "2024-01-02 12:00:00  248.35500  249.13300  247.00000  248.35170   9300163\n",
       "2024-01-02 13:00:00  248.39000  249.38000  247.30000  248.13721   8770028\n",
       "...                        ...        ...        ...        ...       ...\n",
       "2024-05-30 11:00:00  176.71989  177.51500  176.05000  176.87000   6472434\n",
       "2024-05-30 12:00:00  176.88010  178.58000  176.41000  178.39000   6231529\n",
       "2024-05-30 13:00:00  178.39000  179.95000  178.28999  179.51590   8086079\n",
       "2024-05-30 14:00:00  179.52499  180.28500  178.62500  178.94000   6621663\n",
       "2024-05-30 15:00:00  178.92500  179.17999  177.52000  178.83000   4255283\n",
       "\n",
       "[707 rows x 5 columns]"
      ]
     },
     "metadata": {},
     "output_type": "display_data"
    }
   ],
   "source": [
    "import historical_data as hd\n",
    "import time\n",
    "import pandas as pd\n",
    "\n",
    "api_key = '171136ac7161454b8f4abeb987c72b02'\n",
    "symbol = 'TSLA'\n",
    "start_date = '2024-01-01 04:00:00'\n",
    "end_date   = '2024-06-01 18:00:00'\n",
    "interval = '1h'\n",
    "\n",
    "data = hd.get_historical_data(api_key, symbol, start_date, end_date, interval)\n",
    "display(data)\n",
    "\n",
    "\n"
   ]
  },
  {
   "cell_type": "code",
   "execution_count": 4,
   "metadata": {},
   "outputs": [
    {
     "data": {
      "application/vnd.plotly.v1+json": {
       "config": {
        "plotlyServerURL": "https://plot.ly"
       },
       "data": [
        {
         "customdata": [
          [
           "2024-01-02",
           "2024-11-22"
          ]
         ],
         "hovertemplate": "<b>%{y}</b><br>Start: %{customdata[0]}<br>End: %{customdata[1]}<br><extra></extra>",
         "line": {
          "color": "rgb(255,255,179)",
          "width": 20
         },
         "mode": "lines",
         "type": "scatter",
         "x": [
          "2024-01-02T00:00:00",
          "2024-11-22T00:00:00"
         ],
         "y": [
          "ROKU (1_day)",
          "ROKU (1_day)"
         ]
        },
        {
         "customdata": [
          [
           "2024-01-02",
           "2024-11-22"
          ]
         ],
         "hovertemplate": "<b>%{y}</b><br>Start: %{customdata[0]}<br>End: %{customdata[1]}<br><extra></extra>",
         "line": {
          "color": "rgb(141,211,199)",
          "width": 20
         },
         "mode": "lines",
         "type": "scatter",
         "x": [
          "2024-01-02T00:00:00",
          "2024-11-22T00:00:00"
         ],
         "y": [
          "TSLA (1_day)",
          "TSLA (1_day)"
         ]
        },
        {
         "customdata": [
          [
           "2024-01-02",
           "2024-11-22"
          ]
         ],
         "hovertemplate": "<b>%{y}</b><br>Start: %{customdata[0]}<br>End: %{customdata[1]}<br><extra></extra>",
         "line": {
          "color": "rgb(141,211,199)",
          "width": 20
         },
         "mode": "lines",
         "type": "scatter",
         "x": [
          "2024-01-02T04:00:00",
          "2024-11-22T19:00:00"
         ],
         "y": [
          "TSLA (1_hour)",
          "TSLA (1_hour)"
         ]
        },
        {
         "customdata": [
          [
           "2024-01-02",
           "2024-02-02"
          ]
         ],
         "hovertemplate": "<b>%{y}</b><br>Start: %{customdata[0]}<br>End: %{customdata[1]}<br><extra></extra>",
         "line": {
          "color": "rgb(141,211,199)",
          "width": 20
         },
         "mode": "lines",
         "type": "scatter",
         "x": [
          "2024-01-02T04:00:00",
          "2024-02-02T19:59:00"
         ],
         "y": [
          "TSLA (1_min)",
          "TSLA (1_min)"
         ]
        }
       ],
       "layout": {
        "font": {
         "color": "#A9A9A9"
        },
        "height": 560,
        "margin": {
         "b": 50,
         "l": 100,
         "r": 20,
         "t": 50
        },
        "paper_bgcolor": "black",
        "plot_bgcolor": "black",
        "showlegend": true,
        "template": {
         "data": {
          "bar": [
           {
            "error_x": {
             "color": "#2a3f5f"
            },
            "error_y": {
             "color": "#2a3f5f"
            },
            "marker": {
             "line": {
              "color": "#E5ECF6",
              "width": 0.5
             },
             "pattern": {
              "fillmode": "overlay",
              "size": 10,
              "solidity": 0.2
             }
            },
            "type": "bar"
           }
          ],
          "barpolar": [
           {
            "marker": {
             "line": {
              "color": "#E5ECF6",
              "width": 0.5
             },
             "pattern": {
              "fillmode": "overlay",
              "size": 10,
              "solidity": 0.2
             }
            },
            "type": "barpolar"
           }
          ],
          "carpet": [
           {
            "aaxis": {
             "endlinecolor": "#2a3f5f",
             "gridcolor": "white",
             "linecolor": "white",
             "minorgridcolor": "white",
             "startlinecolor": "#2a3f5f"
            },
            "baxis": {
             "endlinecolor": "#2a3f5f",
             "gridcolor": "white",
             "linecolor": "white",
             "minorgridcolor": "white",
             "startlinecolor": "#2a3f5f"
            },
            "type": "carpet"
           }
          ],
          "choropleth": [
           {
            "colorbar": {
             "outlinewidth": 0,
             "ticks": ""
            },
            "type": "choropleth"
           }
          ],
          "contour": [
           {
            "colorbar": {
             "outlinewidth": 0,
             "ticks": ""
            },
            "colorscale": [
             [
              0,
              "#0d0887"
             ],
             [
              0.1111111111111111,
              "#46039f"
             ],
             [
              0.2222222222222222,
              "#7201a8"
             ],
             [
              0.3333333333333333,
              "#9c179e"
             ],
             [
              0.4444444444444444,
              "#bd3786"
             ],
             [
              0.5555555555555556,
              "#d8576b"
             ],
             [
              0.6666666666666666,
              "#ed7953"
             ],
             [
              0.7777777777777778,
              "#fb9f3a"
             ],
             [
              0.8888888888888888,
              "#fdca26"
             ],
             [
              1,
              "#f0f921"
             ]
            ],
            "type": "contour"
           }
          ],
          "contourcarpet": [
           {
            "colorbar": {
             "outlinewidth": 0,
             "ticks": ""
            },
            "type": "contourcarpet"
           }
          ],
          "heatmap": [
           {
            "colorbar": {
             "outlinewidth": 0,
             "ticks": ""
            },
            "colorscale": [
             [
              0,
              "#0d0887"
             ],
             [
              0.1111111111111111,
              "#46039f"
             ],
             [
              0.2222222222222222,
              "#7201a8"
             ],
             [
              0.3333333333333333,
              "#9c179e"
             ],
             [
              0.4444444444444444,
              "#bd3786"
             ],
             [
              0.5555555555555556,
              "#d8576b"
             ],
             [
              0.6666666666666666,
              "#ed7953"
             ],
             [
              0.7777777777777778,
              "#fb9f3a"
             ],
             [
              0.8888888888888888,
              "#fdca26"
             ],
             [
              1,
              "#f0f921"
             ]
            ],
            "type": "heatmap"
           }
          ],
          "heatmapgl": [
           {
            "colorbar": {
             "outlinewidth": 0,
             "ticks": ""
            },
            "colorscale": [
             [
              0,
              "#0d0887"
             ],
             [
              0.1111111111111111,
              "#46039f"
             ],
             [
              0.2222222222222222,
              "#7201a8"
             ],
             [
              0.3333333333333333,
              "#9c179e"
             ],
             [
              0.4444444444444444,
              "#bd3786"
             ],
             [
              0.5555555555555556,
              "#d8576b"
             ],
             [
              0.6666666666666666,
              "#ed7953"
             ],
             [
              0.7777777777777778,
              "#fb9f3a"
             ],
             [
              0.8888888888888888,
              "#fdca26"
             ],
             [
              1,
              "#f0f921"
             ]
            ],
            "type": "heatmapgl"
           }
          ],
          "histogram": [
           {
            "marker": {
             "pattern": {
              "fillmode": "overlay",
              "size": 10,
              "solidity": 0.2
             }
            },
            "type": "histogram"
           }
          ],
          "histogram2d": [
           {
            "colorbar": {
             "outlinewidth": 0,
             "ticks": ""
            },
            "colorscale": [
             [
              0,
              "#0d0887"
             ],
             [
              0.1111111111111111,
              "#46039f"
             ],
             [
              0.2222222222222222,
              "#7201a8"
             ],
             [
              0.3333333333333333,
              "#9c179e"
             ],
             [
              0.4444444444444444,
              "#bd3786"
             ],
             [
              0.5555555555555556,
              "#d8576b"
             ],
             [
              0.6666666666666666,
              "#ed7953"
             ],
             [
              0.7777777777777778,
              "#fb9f3a"
             ],
             [
              0.8888888888888888,
              "#fdca26"
             ],
             [
              1,
              "#f0f921"
             ]
            ],
            "type": "histogram2d"
           }
          ],
          "histogram2dcontour": [
           {
            "colorbar": {
             "outlinewidth": 0,
             "ticks": ""
            },
            "colorscale": [
             [
              0,
              "#0d0887"
             ],
             [
              0.1111111111111111,
              "#46039f"
             ],
             [
              0.2222222222222222,
              "#7201a8"
             ],
             [
              0.3333333333333333,
              "#9c179e"
             ],
             [
              0.4444444444444444,
              "#bd3786"
             ],
             [
              0.5555555555555556,
              "#d8576b"
             ],
             [
              0.6666666666666666,
              "#ed7953"
             ],
             [
              0.7777777777777778,
              "#fb9f3a"
             ],
             [
              0.8888888888888888,
              "#fdca26"
             ],
             [
              1,
              "#f0f921"
             ]
            ],
            "type": "histogram2dcontour"
           }
          ],
          "mesh3d": [
           {
            "colorbar": {
             "outlinewidth": 0,
             "ticks": ""
            },
            "type": "mesh3d"
           }
          ],
          "parcoords": [
           {
            "line": {
             "colorbar": {
              "outlinewidth": 0,
              "ticks": ""
             }
            },
            "type": "parcoords"
           }
          ],
          "pie": [
           {
            "automargin": true,
            "type": "pie"
           }
          ],
          "scatter": [
           {
            "fillpattern": {
             "fillmode": "overlay",
             "size": 10,
             "solidity": 0.2
            },
            "type": "scatter"
           }
          ],
          "scatter3d": [
           {
            "line": {
             "colorbar": {
              "outlinewidth": 0,
              "ticks": ""
             }
            },
            "marker": {
             "colorbar": {
              "outlinewidth": 0,
              "ticks": ""
             }
            },
            "type": "scatter3d"
           }
          ],
          "scattercarpet": [
           {
            "marker": {
             "colorbar": {
              "outlinewidth": 0,
              "ticks": ""
             }
            },
            "type": "scattercarpet"
           }
          ],
          "scattergeo": [
           {
            "marker": {
             "colorbar": {
              "outlinewidth": 0,
              "ticks": ""
             }
            },
            "type": "scattergeo"
           }
          ],
          "scattergl": [
           {
            "marker": {
             "colorbar": {
              "outlinewidth": 0,
              "ticks": ""
             }
            },
            "type": "scattergl"
           }
          ],
          "scattermapbox": [
           {
            "marker": {
             "colorbar": {
              "outlinewidth": 0,
              "ticks": ""
             }
            },
            "type": "scattermapbox"
           }
          ],
          "scatterpolar": [
           {
            "marker": {
             "colorbar": {
              "outlinewidth": 0,
              "ticks": ""
             }
            },
            "type": "scatterpolar"
           }
          ],
          "scatterpolargl": [
           {
            "marker": {
             "colorbar": {
              "outlinewidth": 0,
              "ticks": ""
             }
            },
            "type": "scatterpolargl"
           }
          ],
          "scatterternary": [
           {
            "marker": {
             "colorbar": {
              "outlinewidth": 0,
              "ticks": ""
             }
            },
            "type": "scatterternary"
           }
          ],
          "surface": [
           {
            "colorbar": {
             "outlinewidth": 0,
             "ticks": ""
            },
            "colorscale": [
             [
              0,
              "#0d0887"
             ],
             [
              0.1111111111111111,
              "#46039f"
             ],
             [
              0.2222222222222222,
              "#7201a8"
             ],
             [
              0.3333333333333333,
              "#9c179e"
             ],
             [
              0.4444444444444444,
              "#bd3786"
             ],
             [
              0.5555555555555556,
              "#d8576b"
             ],
             [
              0.6666666666666666,
              "#ed7953"
             ],
             [
              0.7777777777777778,
              "#fb9f3a"
             ],
             [
              0.8888888888888888,
              "#fdca26"
             ],
             [
              1,
              "#f0f921"
             ]
            ],
            "type": "surface"
           }
          ],
          "table": [
           {
            "cells": {
             "fill": {
              "color": "#EBF0F8"
             },
             "line": {
              "color": "white"
             }
            },
            "header": {
             "fill": {
              "color": "#C8D4E3"
             },
             "line": {
              "color": "white"
             }
            },
            "type": "table"
           }
          ]
         },
         "layout": {
          "annotationdefaults": {
           "arrowcolor": "#2a3f5f",
           "arrowhead": 0,
           "arrowwidth": 1
          },
          "autotypenumbers": "strict",
          "coloraxis": {
           "colorbar": {
            "outlinewidth": 0,
            "ticks": ""
           }
          },
          "colorscale": {
           "diverging": [
            [
             0,
             "#8e0152"
            ],
            [
             0.1,
             "#c51b7d"
            ],
            [
             0.2,
             "#de77ae"
            ],
            [
             0.3,
             "#f1b6da"
            ],
            [
             0.4,
             "#fde0ef"
            ],
            [
             0.5,
             "#f7f7f7"
            ],
            [
             0.6,
             "#e6f5d0"
            ],
            [
             0.7,
             "#b8e186"
            ],
            [
             0.8,
             "#7fbc41"
            ],
            [
             0.9,
             "#4d9221"
            ],
            [
             1,
             "#276419"
            ]
           ],
           "sequential": [
            [
             0,
             "#0d0887"
            ],
            [
             0.1111111111111111,
             "#46039f"
            ],
            [
             0.2222222222222222,
             "#7201a8"
            ],
            [
             0.3333333333333333,
             "#9c179e"
            ],
            [
             0.4444444444444444,
             "#bd3786"
            ],
            [
             0.5555555555555556,
             "#d8576b"
            ],
            [
             0.6666666666666666,
             "#ed7953"
            ],
            [
             0.7777777777777778,
             "#fb9f3a"
            ],
            [
             0.8888888888888888,
             "#fdca26"
            ],
            [
             1,
             "#f0f921"
            ]
           ],
           "sequentialminus": [
            [
             0,
             "#0d0887"
            ],
            [
             0.1111111111111111,
             "#46039f"
            ],
            [
             0.2222222222222222,
             "#7201a8"
            ],
            [
             0.3333333333333333,
             "#9c179e"
            ],
            [
             0.4444444444444444,
             "#bd3786"
            ],
            [
             0.5555555555555556,
             "#d8576b"
            ],
            [
             0.6666666666666666,
             "#ed7953"
            ],
            [
             0.7777777777777778,
             "#fb9f3a"
            ],
            [
             0.8888888888888888,
             "#fdca26"
            ],
            [
             1,
             "#f0f921"
            ]
           ]
          },
          "colorway": [
           "#636efa",
           "#EF553B",
           "#00cc96",
           "#ab63fa",
           "#FFA15A",
           "#19d3f3",
           "#FF6692",
           "#B6E880",
           "#FF97FF",
           "#FECB52"
          ],
          "font": {
           "color": "#2a3f5f"
          },
          "geo": {
           "bgcolor": "white",
           "lakecolor": "white",
           "landcolor": "#E5ECF6",
           "showlakes": true,
           "showland": true,
           "subunitcolor": "white"
          },
          "hoverlabel": {
           "align": "left"
          },
          "hovermode": "closest",
          "mapbox": {
           "style": "light"
          },
          "paper_bgcolor": "white",
          "plot_bgcolor": "#E5ECF6",
          "polar": {
           "angularaxis": {
            "gridcolor": "white",
            "linecolor": "white",
            "ticks": ""
           },
           "bgcolor": "#E5ECF6",
           "radialaxis": {
            "gridcolor": "white",
            "linecolor": "white",
            "ticks": ""
           }
          },
          "scene": {
           "xaxis": {
            "backgroundcolor": "#E5ECF6",
            "gridcolor": "white",
            "gridwidth": 2,
            "linecolor": "white",
            "showbackground": true,
            "ticks": "",
            "zerolinecolor": "white"
           },
           "yaxis": {
            "backgroundcolor": "#E5ECF6",
            "gridcolor": "white",
            "gridwidth": 2,
            "linecolor": "white",
            "showbackground": true,
            "ticks": "",
            "zerolinecolor": "white"
           },
           "zaxis": {
            "backgroundcolor": "#E5ECF6",
            "gridcolor": "white",
            "gridwidth": 2,
            "linecolor": "white",
            "showbackground": true,
            "ticks": "",
            "zerolinecolor": "white"
           }
          },
          "shapedefaults": {
           "line": {
            "color": "#2a3f5f"
           }
          },
          "ternary": {
           "aaxis": {
            "gridcolor": "white",
            "linecolor": "white",
            "ticks": ""
           },
           "baxis": {
            "gridcolor": "white",
            "linecolor": "white",
            "ticks": ""
           },
           "bgcolor": "#E5ECF6",
           "caxis": {
            "gridcolor": "white",
            "linecolor": "white",
            "ticks": ""
           }
          },
          "title": {
           "x": 0.05
          },
          "xaxis": {
           "automargin": true,
           "gridcolor": "white",
           "linecolor": "white",
           "ticks": "",
           "title": {
            "standoff": 15
           },
           "zerolinecolor": "white",
           "zerolinewidth": 2
          },
          "yaxis": {
           "automargin": true,
           "gridcolor": "white",
           "linecolor": "white",
           "ticks": "",
           "title": {
            "standoff": 15
           },
           "zerolinecolor": "white",
           "zerolinewidth": 2
          }
         }
        },
        "title": {
         "font": {
          "color": "#A9A9A9"
         },
         "text": "Stock Data Date Ranges by File"
        },
        "xaxis": {
         "color": "#A9A9A9",
         "gridcolor": "#2F2F2F",
         "gridwidth": 1,
         "rangeslider": {
          "visible": true
         },
         "showgrid": true,
         "title": {
          "font": {
           "color": "#A9A9A9"
          },
          "text": "Date"
         },
         "type": "date"
        },
        "yaxis": {
         "autorange": "reversed",
         "color": "#A9A9A9",
         "gridcolor": "#2F2F2F",
         "gridwidth": 1,
         "showgrid": true,
         "title": {
          "font": {
           "color": "#A9A9A9"
          },
          "text": "Stock Symbol (Interval)"
         }
        }
       }
      }
     },
     "metadata": {},
     "output_type": "display_data"
    }
   ],
   "source": [
    "hd.visualize_saved_stock_date_ranges()"
   ]
  },
  {
   "cell_type": "markdown",
   "metadata": {},
   "source": [
    "# test geting IB Historical data"
   ]
  },
  {
   "cell_type": "code",
   "execution_count": 20,
   "metadata": {},
   "outputs": [
    {
     "data": {
      "text/plain": [
       "<IB connected to 127.0.0.1:7496 clientId=13>"
      ]
     },
     "execution_count": 20,
     "metadata": {},
     "output_type": "execute_result"
    }
   ],
   "source": [
    "from ib_insync import *\n",
    "util.startLoop()\n",
    "\n",
    "ib = IB()\n",
    "ib.connect('127.0.0.1', 7496, clientId=13)"
   ]
  },
  {
   "cell_type": "markdown",
   "metadata": {},
   "source": [
    "## Pacing Violations for Small Bars (30 secs or less)\n",
    "* Making identical historical data requests within 15 seconds.\n",
    "* Making six or more historical data requests for the same Contract, Exchange and Tick Type within two seconds.\n",
    "* Making more than 60 requests within any ten minute period.\n",
    "* Note that when BID_ASK historical data is requested, each request is counted twice. In a nutshell, the information above can simply be put as “do not request too much data too quick”.\n",
    "\n",
    "https://www.interactivebrokers.com/campus/ibkr-api-page/twsapi-doc/#hist-md\n",
    "\n",
    "Valid Duration String Units:\n",
    "\n",
    "|Unit|\tDescription |\n",
    "|----|--------------|\n",
    "| S  |\tSeconds     |\n",
    "| D  |\tDay         |\n",
    "| W  |\tWeek        |\n",
    "| M  |\tMonth       |\n",
    "| Y  |\tYear        | \n",
    "\n",
    "\n",
    "Valid Bar Sizes:\n",
    "\n",
    "| Bar Unit | Bar Sizes                  |\n",
    "|----------|----------------------------|\n",
    "| secs     | 1, 5, 10, 15, 30           |\n",
    "| mins     | 1, 2, 3, 5, 10, 15, 20, 30 |\n",
    "| hrs      | 1, 2, 3, 4, 8              |\n",
    "| days     | 1                          |\n",
    "| weeks    | 1                          |\n",
    "| months   | 1                          |\n",
    "\n",
    "Step Sizes\n",
    "\n",
    "| Duration Unit | Bar units allowed | Bar size Interval (Min/Max) |\n",
    "|---------------|-------------------|-----------------------------|\n",
    "| S             | secs \\| mins      | 1 secs -> 1 mins            |\n",
    "| D             | secs \\| mins \\| hrs | 5 secs -> 1 hours         |\n",
    "| W             | sec \\| mins \\| hrs | 10 secs -> 4 hrs           |\n",
    "| M             | sec \\| mins \\| hrs | 30 secs -> 8 hrs           |\n",
    "| Y             | mins \\| hrs \\| d   | 1 mins -> 1 day            |\n",
    "\n",
    "Max Duration Per Bar Size\n",
    "\n",
    "| Bar Size | Max Second Duration | Max Day Duration | Max Week Duration | Max Month Duration | Max Year Duration |\n",
    "|----------|---------------------|------------------|-------------------|--------------------|-------------------|\n",
    "| 1 secs   | 2000 S              | {Not Supported}  | {Not Supported}   | {Not Supported}    | {Not Supported}   |\n",
    "| 5 secs   | 86400 S             | 365 D            | 52 W              | 12 M               | 68 Y              |\n",
    "| 10 secs  | 86400 S             | 365 D            | 52 W              | 12 M               | 68 Y              |\n",
    "| 15 secs  | 86400 S             | 365 D            | 52 W              | 12 M               | 68 Y              |\n",
    "| 30 secs  | 86400 S             | 365 D            | 52 W              | 12 M               | 68 Y              |\n",
    "| 1 min    | 86400 S             | 365 D            | 52 W              | 12 M               | 68 Y              |\n",
    "| 2 mins   | 86400 S             | 365 D            | 52 W              | 12 M               | 68 Y              |\n",
    "| 3 mins   | 86400 S             | 365 D            | 52 W              | 12 M               | 68 Y              |\n",
    "| 5 mins   | 86400 S             | 365 D            | 52 W              | 12 M               | 68 Y              |\n",
    "| 10 mins  | 86400 S             | 365 D            | 52 W              | 12 M               | 68 Y              |\n",
    "| 15 mins  | 86400 S             | 365 D            | 52 W              | 12 M               | 68 Y              |\n",
    "| 20 mins  | 86400 S             | 365 D            | 52 W              | 12 M               | 68 Y              |\n",
    "| 30 mins  | 86400 S             | 365 D            | 52 W              | 12 M               | 68 Y              |\n",
    "| 1 hour   | 86400 S             | 365 D            | 52 W              | 12 M               | 68 Y              |\n",
    "| 2 hours  | 86400 S             | 365 D            | 52 W              | 12 M               | 68 Y              |\n",
    "| 3 hours  | 86400 S             | 365 D            | 52 W              | 12 M               | 68 Y              |\n",
    "| 4 hours  | 86400 S             | 365 D            | 52 W              | 12 M               | 68 Y              |\n",
    "| 8 hours  | 86400 S             | 365 D            | 52 W              | 12 M               | 68 Y              |\n",
    "| 1 day    | 86400 S             | 365 D            | 52 W              | 12 M               | 68 Y              |\n",
    "| 1M       | 86400 S             | 365 D            | 52 W              | 12 M               | 68 Y              |\n",
    "| 1W       | 86400 S             | 365 D            | 52 W              | 12 M               | 68 Y              |\n",
    "\n",
    "\n"
   ]
  },
  {
   "cell_type": "code",
   "execution_count": 1,
   "metadata": {},
   "outputs": [
    {
     "data": {
      "text/html": [
       "<div>\n",
       "<style scoped>\n",
       "    .dataframe tbody tr th:only-of-type {\n",
       "        vertical-align: middle;\n",
       "    }\n",
       "\n",
       "    .dataframe tbody tr th {\n",
       "        vertical-align: top;\n",
       "    }\n",
       "\n",
       "    .dataframe thead th {\n",
       "        text-align: right;\n",
       "    }\n",
       "</style>\n",
       "<table border=\"1\" class=\"dataframe\">\n",
       "  <thead>\n",
       "    <tr style=\"text-align: right;\">\n",
       "      <th></th>\n",
       "      <th>date</th>\n",
       "      <th>open</th>\n",
       "      <th>high</th>\n",
       "      <th>low</th>\n",
       "      <th>close</th>\n",
       "      <th>volume</th>\n",
       "      <th>average</th>\n",
       "      <th>barCount</th>\n",
       "    </tr>\n",
       "  </thead>\n",
       "  <tbody>\n",
       "    <tr>\n",
       "      <th>0</th>\n",
       "      <td>2024-09-23 03:00:00</td>\n",
       "      <td>240.00</td>\n",
       "      <td>240.90</td>\n",
       "      <td>239.88</td>\n",
       "      <td>240.54</td>\n",
       "      <td>370</td>\n",
       "      <td>240.458</td>\n",
       "      <td>227</td>\n",
       "    </tr>\n",
       "    <tr>\n",
       "      <th>1</th>\n",
       "      <td>2024-09-23 03:15:00</td>\n",
       "      <td>240.67</td>\n",
       "      <td>240.77</td>\n",
       "      <td>240.20</td>\n",
       "      <td>240.65</td>\n",
       "      <td>183</td>\n",
       "      <td>240.583</td>\n",
       "      <td>113</td>\n",
       "    </tr>\n",
       "    <tr>\n",
       "      <th>2</th>\n",
       "      <td>2024-09-23 03:30:00</td>\n",
       "      <td>240.70</td>\n",
       "      <td>240.70</td>\n",
       "      <td>240.24</td>\n",
       "      <td>240.35</td>\n",
       "      <td>110</td>\n",
       "      <td>240.456</td>\n",
       "      <td>58</td>\n",
       "    </tr>\n",
       "    <tr>\n",
       "      <th>3</th>\n",
       "      <td>2024-09-23 03:45:00</td>\n",
       "      <td>240.28</td>\n",
       "      <td>240.73</td>\n",
       "      <td>240.10</td>\n",
       "      <td>240.73</td>\n",
       "      <td>129</td>\n",
       "      <td>240.430</td>\n",
       "      <td>77</td>\n",
       "    </tr>\n",
       "    <tr>\n",
       "      <th>4</th>\n",
       "      <td>2024-09-23 04:00:00</td>\n",
       "      <td>240.73</td>\n",
       "      <td>240.94</td>\n",
       "      <td>240.60</td>\n",
       "      <td>240.73</td>\n",
       "      <td>78</td>\n",
       "      <td>240.784</td>\n",
       "      <td>52</td>\n",
       "    </tr>\n",
       "    <tr>\n",
       "      <th>...</th>\n",
       "      <td>...</td>\n",
       "      <td>...</td>\n",
       "      <td>...</td>\n",
       "      <td>...</td>\n",
       "      <td>...</td>\n",
       "      <td>...</td>\n",
       "      <td>...</td>\n",
       "      <td>...</td>\n",
       "    </tr>\n",
       "    <tr>\n",
       "      <th>1915</th>\n",
       "      <td>2024-11-01 17:45:00</td>\n",
       "      <td>249.37</td>\n",
       "      <td>249.39</td>\n",
       "      <td>249.20</td>\n",
       "      <td>249.32</td>\n",
       "      <td>169</td>\n",
       "      <td>249.290</td>\n",
       "      <td>62</td>\n",
       "    </tr>\n",
       "    <tr>\n",
       "      <th>1916</th>\n",
       "      <td>2024-11-01 18:00:00</td>\n",
       "      <td>249.34</td>\n",
       "      <td>249.34</td>\n",
       "      <td>249.14</td>\n",
       "      <td>249.14</td>\n",
       "      <td>79</td>\n",
       "      <td>249.269</td>\n",
       "      <td>37</td>\n",
       "    </tr>\n",
       "    <tr>\n",
       "      <th>1917</th>\n",
       "      <td>2024-11-01 18:15:00</td>\n",
       "      <td>249.14</td>\n",
       "      <td>249.20</td>\n",
       "      <td>249.14</td>\n",
       "      <td>249.15</td>\n",
       "      <td>72</td>\n",
       "      <td>249.165</td>\n",
       "      <td>32</td>\n",
       "    </tr>\n",
       "    <tr>\n",
       "      <th>1918</th>\n",
       "      <td>2024-11-01 18:30:00</td>\n",
       "      <td>249.15</td>\n",
       "      <td>249.18</td>\n",
       "      <td>249.05</td>\n",
       "      <td>249.07</td>\n",
       "      <td>151</td>\n",
       "      <td>249.104</td>\n",
       "      <td>51</td>\n",
       "    </tr>\n",
       "    <tr>\n",
       "      <th>1919</th>\n",
       "      <td>2024-11-01 18:45:00</td>\n",
       "      <td>249.07</td>\n",
       "      <td>249.37</td>\n",
       "      <td>249.05</td>\n",
       "      <td>249.37</td>\n",
       "      <td>258</td>\n",
       "      <td>249.207</td>\n",
       "      <td>81</td>\n",
       "    </tr>\n",
       "  </tbody>\n",
       "</table>\n",
       "<p>1920 rows × 8 columns</p>\n",
       "</div>"
      ],
      "text/plain": [
       "                    date    open    high     low   close  volume  average  \\\n",
       "0    2024-09-23 03:00:00  240.00  240.90  239.88  240.54     370  240.458   \n",
       "1    2024-09-23 03:15:00  240.67  240.77  240.20  240.65     183  240.583   \n",
       "2    2024-09-23 03:30:00  240.70  240.70  240.24  240.35     110  240.456   \n",
       "3    2024-09-23 03:45:00  240.28  240.73  240.10  240.73     129  240.430   \n",
       "4    2024-09-23 04:00:00  240.73  240.94  240.60  240.73      78  240.784   \n",
       "...                  ...     ...     ...     ...     ...     ...      ...   \n",
       "1915 2024-11-01 17:45:00  249.37  249.39  249.20  249.32     169  249.290   \n",
       "1916 2024-11-01 18:00:00  249.34  249.34  249.14  249.14      79  249.269   \n",
       "1917 2024-11-01 18:15:00  249.14  249.20  249.14  249.15      72  249.165   \n",
       "1918 2024-11-01 18:30:00  249.15  249.18  249.05  249.07     151  249.104   \n",
       "1919 2024-11-01 18:45:00  249.07  249.37  249.05  249.37     258  249.207   \n",
       "\n",
       "      barCount  \n",
       "0          227  \n",
       "1          113  \n",
       "2           58  \n",
       "3           77  \n",
       "4           52  \n",
       "...        ...  \n",
       "1915        62  \n",
       "1916        37  \n",
       "1917        32  \n",
       "1918        51  \n",
       "1919        81  \n",
       "\n",
       "[1920 rows x 8 columns]"
      ]
     },
     "execution_count": 1,
     "metadata": {},
     "output_type": "execute_result"
    }
   ],
   "source": [
    "\n",
    "from ib_insync import *\n",
    "util.startLoop()\n",
    "\n",
    "ib = IB()\n",
    "ib.connect('127.0.0.1', 7496, clientId=13)\n",
    "\n",
    "contract = Stock('TSLA', 'SMART', 'USD')\n",
    "\n",
    "# 1 min max 7 D\n",
    "# 5 mins max 30 D\n",
    "# 15 mins max 60 D\n",
    "# 1 houy max 365 D\n",
    "# 1 day max 20 Y\n",
    "\n",
    "bars = ib.reqHistoricalData(\n",
    "        contract,\n",
    "        endDateTime='20241101 23:59:59 US/Eastern',\n",
    "        barSizeSetting='15 mins',\n",
    "        durationStr='30 D',\n",
    "        whatToShow='TRADES',\n",
    "        useRTH=False,\n",
    "        formatDate=1)\n",
    "\n",
    "ib.disconnect()\n",
    "\n",
    "df = util.df(bars)\n",
    "df"
   ]
  },
  {
   "cell_type": "code",
   "execution_count": 1,
   "metadata": {},
   "outputs": [
    {
     "data": {
      "text/plain": [
       "'5min'"
      ]
     },
     "execution_count": 1,
     "metadata": {},
     "output_type": "execute_result"
    }
   ],
   "source": [
    "\n",
    "import pandas as pd\n",
    "from datetime import datetime, timedelta\n",
    "from dateutil.relativedelta import relativedelta\n",
    "from twelvedata import TDClient\n",
    "import historical_data as hd\n",
    "\n",
    "\n",
    "\n",
    "\n",
    "\n",
    "api_key = '171136ac7161454b8f4abeb987c72b02'\n",
    "td = hd.TwelveDataHistoricalData(api_key)\n",
    "\n",
    "td.get_next_lower_common_denominator_as_interval('20min', minHourDay_only=False)"
   ]
  },
  {
   "cell_type": "markdown",
   "metadata": {},
   "source": [
    "#  Put it all Together"
   ]
  },
  {
   "cell_type": "code",
   "execution_count": 8,
   "metadata": {},
   "outputs": [
    {
     "name": "stdout",
     "output_type": "stream",
     "text": [
      "2024-11-24 18:16:16\n"
     ]
    }
   ],
   "source": [
    "import datetime\n",
    "\n",
    "now  = datetime.datetime.now().strftime('%Y-%m-%d %H:%M:%S')\n",
    "print(now)"
   ]
  },
  {
   "cell_type": "code",
   "execution_count": 1,
   "metadata": {},
   "outputs": [
    {
     "ename": "ModuleNotFoundError",
     "evalue": "No module named 'project_paths'",
     "output_type": "error",
     "traceback": [
      "\u001b[1;31m---------------------------------------------------------------------------\u001b[0m",
      "\u001b[1;31mModuleNotFoundError\u001b[0m                       Traceback (most recent call last)",
      "Cell \u001b[1;32mIn[1], line 1\u001b[0m\n\u001b[1;32m----> 1\u001b[0m \u001b[38;5;28;01mimport\u001b[39;00m \u001b[38;5;21;01mhistorical_data\u001b[39;00m \u001b[38;5;28;01mas\u001b[39;00m \u001b[38;5;21;01mhd\u001b[39;00m\n\u001b[0;32m      2\u001b[0m \u001b[38;5;28;01mimport\u001b[39;00m \u001b[38;5;21;01mdatetime\u001b[39;00m\n\u001b[0;32m      4\u001b[0m symbol \u001b[38;5;241m=\u001b[39m \u001b[38;5;124m'\u001b[39m\u001b[38;5;124mSOFI\u001b[39m\u001b[38;5;124m'\u001b[39m\n",
      "File \u001b[1;32mc:\\Users\\sidsu\\anaconda3\\envs\\SB4\\stockbot4\\data\\historical_data.py:15\u001b[0m\n\u001b[0;32m     12\u001b[0m \u001b[38;5;28;01mimport\u001b[39;00m \u001b[38;5;21;01mpandas\u001b[39;00m \u001b[38;5;28;01mas\u001b[39;00m \u001b[38;5;21;01mpd\u001b[39;00m\n\u001b[0;32m     13\u001b[0m \u001b[38;5;28;01mimport\u001b[39;00m \u001b[38;5;21;01mre\u001b[39;00m\n\u001b[1;32m---> 15\u001b[0m \u001b[38;5;28;01mfrom\u001b[39;00m \u001b[38;5;21;01mproject_paths\u001b[39;00m \u001b[38;5;28;01mimport\u001b[39;00m get_project_path\n\u001b[0;32m     18\u001b[0m \u001b[38;5;28;01mdef\u001b[39;00m \u001b[38;5;21mmap_to_storage_interval\u001b[39m(interval: \u001b[38;5;28mstr\u001b[39m, source: \u001b[38;5;28mstr\u001b[39m \u001b[38;5;241m=\u001b[39m \u001b[38;5;124m'\u001b[39m\u001b[38;5;124mib\u001b[39m\u001b[38;5;124m'\u001b[39m) \u001b[38;5;241m-\u001b[39m\u001b[38;5;241m>\u001b[39m \u001b[38;5;28mstr\u001b[39m:\n\u001b[0;32m     19\u001b[0m \u001b[38;5;250m    \u001b[39m\u001b[38;5;124;03m\"\"\"\u001b[39;00m\n\u001b[0;32m     20\u001b[0m \u001b[38;5;124;03m    Maps intervals from various data sources to standardized storage intervals.\u001b[39;00m\n\u001b[0;32m     21\u001b[0m \u001b[38;5;124;03m    \u001b[39;00m\n\u001b[1;32m   (...)\u001b[0m\n\u001b[0;32m     30\u001b[0m \u001b[38;5;124;03m        ValueError: If the interval is invalid or the source is not recognized\u001b[39;00m\n\u001b[0;32m     31\u001b[0m \u001b[38;5;124;03m    \"\"\"\u001b[39;00m\n",
      "\u001b[1;31mModuleNotFoundError\u001b[0m: No module named 'project_paths'"
     ]
    }
   ],
   "source": [
    "import historical_data as hd\n",
    "import datetime\n",
    "\n",
    "symbol = 'SOFI'\n",
    "interval = '5 mins'\n",
    "# start_date = '2024-01-01 04:00:00'\n",
    "# end_date   = '2024-02-01 20:00:00'\n",
    "\n",
    "# data = hd.get_hist_data(symbol, start_date, 'now', interval)\n",
    "data = hd.get_hist_data(symbol, \"2 weeksAgo\", 'now', interval)\n",
    "display(data)"
   ]
  },
  {
   "cell_type": "code",
   "execution_count": 2,
   "metadata": {},
   "outputs": [
    {
     "data": {
      "application/vnd.plotly.v1+json": {
       "config": {
        "plotlyServerURL": "https://plot.ly"
       },
       "data": [
        {
         "customdata": [
          [
           "2024-11-18",
           "2024-11-22"
          ]
         ],
         "hovertemplate": "<b>%{y}</b><br>Start: %{customdata[0]}<br>End: %{customdata[1]}<br><extra></extra>",
         "line": {
          "color": "rgb(141,211,199)",
          "width": 20
         },
         "mode": "lines",
         "type": "scatter",
         "x": [
          "2024-11-18T07:33:00",
          "2024-11-22T19:59:00"
         ],
         "y": [
          "ISRG (1_min)",
          "ISRG (1_min)"
         ]
        },
        {
         "customdata": [
          [
           "2024-11-05",
           "2024-11-22"
          ]
         ],
         "hovertemplate": "<b>%{y}</b><br>Start: %{customdata[0]}<br>End: %{customdata[1]}<br><extra></extra>",
         "line": {
          "color": "rgb(251,128,114)",
          "width": 20
         },
         "mode": "lines",
         "type": "scatter",
         "x": [
          "2024-11-05T05:37:00",
          "2024-11-22T19:59:00"
         ],
         "y": [
          "LMND (1_min)",
          "LMND (1_min)"
         ]
        },
        {
         "customdata": [
          [
           "2024-11-05",
           "2024-11-22"
          ]
         ],
         "hovertemplate": "<b>%{y}</b><br>Start: %{customdata[0]}<br>End: %{customdata[1]}<br><extra></extra>",
         "line": {
          "color": "rgb(190,186,218)",
          "width": 20
         },
         "mode": "lines",
         "type": "scatter",
         "x": [
          "2024-11-05T04:00:00",
          "2024-11-22T19:59:00"
         ],
         "y": [
          "MSFT (1_min)",
          "MSFT (1_min)"
         ]
        },
        {
         "customdata": [
          [
           "2024-11-05",
           "2024-11-22"
          ]
         ],
         "hovertemplate": "<b>%{y}</b><br>Start: %{customdata[0]}<br>End: %{customdata[1]}<br><extra></extra>",
         "line": {
          "color": "rgb(253,180,98)",
          "width": 20
         },
         "mode": "lines",
         "type": "scatter",
         "x": [
          "2024-11-05T04:00:00",
          "2024-11-22T19:59:00"
         ],
         "y": [
          "PLTR (1_min)",
          "PLTR (1_min)"
         ]
        },
        {
         "customdata": [
          [
           "2024-01-02",
           "2024-11-22"
          ]
         ],
         "hovertemplate": "<b>%{y}</b><br>Start: %{customdata[0]}<br>End: %{customdata[1]}<br><extra></extra>",
         "line": {
          "color": "rgb(128,177,211)",
          "width": 20
         },
         "mode": "lines",
         "type": "scatter",
         "x": [
          "2024-01-02T00:00:00",
          "2024-11-22T00:00:00"
         ],
         "y": [
          "ROKU (1_day)",
          "ROKU (1_day)"
         ]
        },
        {
         "customdata": [
          [
           "2024-11-18",
           "2024-11-22"
          ]
         ],
         "hovertemplate": "<b>%{y}</b><br>Start: %{customdata[0]}<br>End: %{customdata[1]}<br><extra></extra>",
         "line": {
          "color": "rgb(128,177,211)",
          "width": 20
         },
         "mode": "lines",
         "type": "scatter",
         "x": [
          "2024-11-18T04:00:00",
          "2024-11-22T19:59:00"
         ],
         "y": [
          "ROKU (1_min)",
          "ROKU (1_min)"
         ]
        },
        {
         "customdata": [
          [
           "2024-01-02",
           "2024-11-22"
          ]
         ],
         "hovertemplate": "<b>%{y}</b><br>Start: %{customdata[0]}<br>End: %{customdata[1]}<br><extra></extra>",
         "line": {
          "color": "rgb(255,255,179)",
          "width": 20
         },
         "mode": "lines",
         "type": "scatter",
         "x": [
          "2024-01-02T00:00:00",
          "2024-11-22T00:00:00"
         ],
         "y": [
          "TSLA (1_day)",
          "TSLA (1_day)"
         ]
        },
        {
         "customdata": [
          [
           "2024-01-02",
           "2024-11-22"
          ]
         ],
         "hovertemplate": "<b>%{y}</b><br>Start: %{customdata[0]}<br>End: %{customdata[1]}<br><extra></extra>",
         "line": {
          "color": "rgb(255,255,179)",
          "width": 20
         },
         "mode": "lines",
         "type": "scatter",
         "x": [
          "2024-01-02T04:00:00",
          "2024-11-22T19:00:00"
         ],
         "y": [
          "TSLA (1_hour)",
          "TSLA (1_hour)"
         ]
        },
        {
         "customdata": [
          [
           "2024-01-02",
           "2024-02-02"
          ]
         ],
         "hovertemplate": "<b>%{y}</b><br>Start: %{customdata[0]}<br>End: %{customdata[1]}<br><extra></extra>",
         "line": {
          "color": "rgb(255,255,179)",
          "width": 20
         },
         "mode": "lines",
         "type": "scatter",
         "x": [
          "2024-01-02T04:00:00",
          "2024-02-02T19:59:00"
         ],
         "y": [
          "TSLA (1_min)",
          "TSLA (1_min)"
         ]
        }
       ],
       "layout": {
        "font": {
         "color": "#A9A9A9"
        },
        "height": 760,
        "margin": {
         "b": 50,
         "l": 100,
         "r": 20,
         "t": 50
        },
        "paper_bgcolor": "black",
        "plot_bgcolor": "black",
        "showlegend": true,
        "template": {
         "data": {
          "bar": [
           {
            "error_x": {
             "color": "#2a3f5f"
            },
            "error_y": {
             "color": "#2a3f5f"
            },
            "marker": {
             "line": {
              "color": "#E5ECF6",
              "width": 0.5
             },
             "pattern": {
              "fillmode": "overlay",
              "size": 10,
              "solidity": 0.2
             }
            },
            "type": "bar"
           }
          ],
          "barpolar": [
           {
            "marker": {
             "line": {
              "color": "#E5ECF6",
              "width": 0.5
             },
             "pattern": {
              "fillmode": "overlay",
              "size": 10,
              "solidity": 0.2
             }
            },
            "type": "barpolar"
           }
          ],
          "carpet": [
           {
            "aaxis": {
             "endlinecolor": "#2a3f5f",
             "gridcolor": "white",
             "linecolor": "white",
             "minorgridcolor": "white",
             "startlinecolor": "#2a3f5f"
            },
            "baxis": {
             "endlinecolor": "#2a3f5f",
             "gridcolor": "white",
             "linecolor": "white",
             "minorgridcolor": "white",
             "startlinecolor": "#2a3f5f"
            },
            "type": "carpet"
           }
          ],
          "choropleth": [
           {
            "colorbar": {
             "outlinewidth": 0,
             "ticks": ""
            },
            "type": "choropleth"
           }
          ],
          "contour": [
           {
            "colorbar": {
             "outlinewidth": 0,
             "ticks": ""
            },
            "colorscale": [
             [
              0,
              "#0d0887"
             ],
             [
              0.1111111111111111,
              "#46039f"
             ],
             [
              0.2222222222222222,
              "#7201a8"
             ],
             [
              0.3333333333333333,
              "#9c179e"
             ],
             [
              0.4444444444444444,
              "#bd3786"
             ],
             [
              0.5555555555555556,
              "#d8576b"
             ],
             [
              0.6666666666666666,
              "#ed7953"
             ],
             [
              0.7777777777777778,
              "#fb9f3a"
             ],
             [
              0.8888888888888888,
              "#fdca26"
             ],
             [
              1,
              "#f0f921"
             ]
            ],
            "type": "contour"
           }
          ],
          "contourcarpet": [
           {
            "colorbar": {
             "outlinewidth": 0,
             "ticks": ""
            },
            "type": "contourcarpet"
           }
          ],
          "heatmap": [
           {
            "colorbar": {
             "outlinewidth": 0,
             "ticks": ""
            },
            "colorscale": [
             [
              0,
              "#0d0887"
             ],
             [
              0.1111111111111111,
              "#46039f"
             ],
             [
              0.2222222222222222,
              "#7201a8"
             ],
             [
              0.3333333333333333,
              "#9c179e"
             ],
             [
              0.4444444444444444,
              "#bd3786"
             ],
             [
              0.5555555555555556,
              "#d8576b"
             ],
             [
              0.6666666666666666,
              "#ed7953"
             ],
             [
              0.7777777777777778,
              "#fb9f3a"
             ],
             [
              0.8888888888888888,
              "#fdca26"
             ],
             [
              1,
              "#f0f921"
             ]
            ],
            "type": "heatmap"
           }
          ],
          "heatmapgl": [
           {
            "colorbar": {
             "outlinewidth": 0,
             "ticks": ""
            },
            "colorscale": [
             [
              0,
              "#0d0887"
             ],
             [
              0.1111111111111111,
              "#46039f"
             ],
             [
              0.2222222222222222,
              "#7201a8"
             ],
             [
              0.3333333333333333,
              "#9c179e"
             ],
             [
              0.4444444444444444,
              "#bd3786"
             ],
             [
              0.5555555555555556,
              "#d8576b"
             ],
             [
              0.6666666666666666,
              "#ed7953"
             ],
             [
              0.7777777777777778,
              "#fb9f3a"
             ],
             [
              0.8888888888888888,
              "#fdca26"
             ],
             [
              1,
              "#f0f921"
             ]
            ],
            "type": "heatmapgl"
           }
          ],
          "histogram": [
           {
            "marker": {
             "pattern": {
              "fillmode": "overlay",
              "size": 10,
              "solidity": 0.2
             }
            },
            "type": "histogram"
           }
          ],
          "histogram2d": [
           {
            "colorbar": {
             "outlinewidth": 0,
             "ticks": ""
            },
            "colorscale": [
             [
              0,
              "#0d0887"
             ],
             [
              0.1111111111111111,
              "#46039f"
             ],
             [
              0.2222222222222222,
              "#7201a8"
             ],
             [
              0.3333333333333333,
              "#9c179e"
             ],
             [
              0.4444444444444444,
              "#bd3786"
             ],
             [
              0.5555555555555556,
              "#d8576b"
             ],
             [
              0.6666666666666666,
              "#ed7953"
             ],
             [
              0.7777777777777778,
              "#fb9f3a"
             ],
             [
              0.8888888888888888,
              "#fdca26"
             ],
             [
              1,
              "#f0f921"
             ]
            ],
            "type": "histogram2d"
           }
          ],
          "histogram2dcontour": [
           {
            "colorbar": {
             "outlinewidth": 0,
             "ticks": ""
            },
            "colorscale": [
             [
              0,
              "#0d0887"
             ],
             [
              0.1111111111111111,
              "#46039f"
             ],
             [
              0.2222222222222222,
              "#7201a8"
             ],
             [
              0.3333333333333333,
              "#9c179e"
             ],
             [
              0.4444444444444444,
              "#bd3786"
             ],
             [
              0.5555555555555556,
              "#d8576b"
             ],
             [
              0.6666666666666666,
              "#ed7953"
             ],
             [
              0.7777777777777778,
              "#fb9f3a"
             ],
             [
              0.8888888888888888,
              "#fdca26"
             ],
             [
              1,
              "#f0f921"
             ]
            ],
            "type": "histogram2dcontour"
           }
          ],
          "mesh3d": [
           {
            "colorbar": {
             "outlinewidth": 0,
             "ticks": ""
            },
            "type": "mesh3d"
           }
          ],
          "parcoords": [
           {
            "line": {
             "colorbar": {
              "outlinewidth": 0,
              "ticks": ""
             }
            },
            "type": "parcoords"
           }
          ],
          "pie": [
           {
            "automargin": true,
            "type": "pie"
           }
          ],
          "scatter": [
           {
            "fillpattern": {
             "fillmode": "overlay",
             "size": 10,
             "solidity": 0.2
            },
            "type": "scatter"
           }
          ],
          "scatter3d": [
           {
            "line": {
             "colorbar": {
              "outlinewidth": 0,
              "ticks": ""
             }
            },
            "marker": {
             "colorbar": {
              "outlinewidth": 0,
              "ticks": ""
             }
            },
            "type": "scatter3d"
           }
          ],
          "scattercarpet": [
           {
            "marker": {
             "colorbar": {
              "outlinewidth": 0,
              "ticks": ""
             }
            },
            "type": "scattercarpet"
           }
          ],
          "scattergeo": [
           {
            "marker": {
             "colorbar": {
              "outlinewidth": 0,
              "ticks": ""
             }
            },
            "type": "scattergeo"
           }
          ],
          "scattergl": [
           {
            "marker": {
             "colorbar": {
              "outlinewidth": 0,
              "ticks": ""
             }
            },
            "type": "scattergl"
           }
          ],
          "scattermapbox": [
           {
            "marker": {
             "colorbar": {
              "outlinewidth": 0,
              "ticks": ""
             }
            },
            "type": "scattermapbox"
           }
          ],
          "scatterpolar": [
           {
            "marker": {
             "colorbar": {
              "outlinewidth": 0,
              "ticks": ""
             }
            },
            "type": "scatterpolar"
           }
          ],
          "scatterpolargl": [
           {
            "marker": {
             "colorbar": {
              "outlinewidth": 0,
              "ticks": ""
             }
            },
            "type": "scatterpolargl"
           }
          ],
          "scatterternary": [
           {
            "marker": {
             "colorbar": {
              "outlinewidth": 0,
              "ticks": ""
             }
            },
            "type": "scatterternary"
           }
          ],
          "surface": [
           {
            "colorbar": {
             "outlinewidth": 0,
             "ticks": ""
            },
            "colorscale": [
             [
              0,
              "#0d0887"
             ],
             [
              0.1111111111111111,
              "#46039f"
             ],
             [
              0.2222222222222222,
              "#7201a8"
             ],
             [
              0.3333333333333333,
              "#9c179e"
             ],
             [
              0.4444444444444444,
              "#bd3786"
             ],
             [
              0.5555555555555556,
              "#d8576b"
             ],
             [
              0.6666666666666666,
              "#ed7953"
             ],
             [
              0.7777777777777778,
              "#fb9f3a"
             ],
             [
              0.8888888888888888,
              "#fdca26"
             ],
             [
              1,
              "#f0f921"
             ]
            ],
            "type": "surface"
           }
          ],
          "table": [
           {
            "cells": {
             "fill": {
              "color": "#EBF0F8"
             },
             "line": {
              "color": "white"
             }
            },
            "header": {
             "fill": {
              "color": "#C8D4E3"
             },
             "line": {
              "color": "white"
             }
            },
            "type": "table"
           }
          ]
         },
         "layout": {
          "annotationdefaults": {
           "arrowcolor": "#2a3f5f",
           "arrowhead": 0,
           "arrowwidth": 1
          },
          "autotypenumbers": "strict",
          "coloraxis": {
           "colorbar": {
            "outlinewidth": 0,
            "ticks": ""
           }
          },
          "colorscale": {
           "diverging": [
            [
             0,
             "#8e0152"
            ],
            [
             0.1,
             "#c51b7d"
            ],
            [
             0.2,
             "#de77ae"
            ],
            [
             0.3,
             "#f1b6da"
            ],
            [
             0.4,
             "#fde0ef"
            ],
            [
             0.5,
             "#f7f7f7"
            ],
            [
             0.6,
             "#e6f5d0"
            ],
            [
             0.7,
             "#b8e186"
            ],
            [
             0.8,
             "#7fbc41"
            ],
            [
             0.9,
             "#4d9221"
            ],
            [
             1,
             "#276419"
            ]
           ],
           "sequential": [
            [
             0,
             "#0d0887"
            ],
            [
             0.1111111111111111,
             "#46039f"
            ],
            [
             0.2222222222222222,
             "#7201a8"
            ],
            [
             0.3333333333333333,
             "#9c179e"
            ],
            [
             0.4444444444444444,
             "#bd3786"
            ],
            [
             0.5555555555555556,
             "#d8576b"
            ],
            [
             0.6666666666666666,
             "#ed7953"
            ],
            [
             0.7777777777777778,
             "#fb9f3a"
            ],
            [
             0.8888888888888888,
             "#fdca26"
            ],
            [
             1,
             "#f0f921"
            ]
           ],
           "sequentialminus": [
            [
             0,
             "#0d0887"
            ],
            [
             0.1111111111111111,
             "#46039f"
            ],
            [
             0.2222222222222222,
             "#7201a8"
            ],
            [
             0.3333333333333333,
             "#9c179e"
            ],
            [
             0.4444444444444444,
             "#bd3786"
            ],
            [
             0.5555555555555556,
             "#d8576b"
            ],
            [
             0.6666666666666666,
             "#ed7953"
            ],
            [
             0.7777777777777778,
             "#fb9f3a"
            ],
            [
             0.8888888888888888,
             "#fdca26"
            ],
            [
             1,
             "#f0f921"
            ]
           ]
          },
          "colorway": [
           "#636efa",
           "#EF553B",
           "#00cc96",
           "#ab63fa",
           "#FFA15A",
           "#19d3f3",
           "#FF6692",
           "#B6E880",
           "#FF97FF",
           "#FECB52"
          ],
          "font": {
           "color": "#2a3f5f"
          },
          "geo": {
           "bgcolor": "white",
           "lakecolor": "white",
           "landcolor": "#E5ECF6",
           "showlakes": true,
           "showland": true,
           "subunitcolor": "white"
          },
          "hoverlabel": {
           "align": "left"
          },
          "hovermode": "closest",
          "mapbox": {
           "style": "light"
          },
          "paper_bgcolor": "white",
          "plot_bgcolor": "#E5ECF6",
          "polar": {
           "angularaxis": {
            "gridcolor": "white",
            "linecolor": "white",
            "ticks": ""
           },
           "bgcolor": "#E5ECF6",
           "radialaxis": {
            "gridcolor": "white",
            "linecolor": "white",
            "ticks": ""
           }
          },
          "scene": {
           "xaxis": {
            "backgroundcolor": "#E5ECF6",
            "gridcolor": "white",
            "gridwidth": 2,
            "linecolor": "white",
            "showbackground": true,
            "ticks": "",
            "zerolinecolor": "white"
           },
           "yaxis": {
            "backgroundcolor": "#E5ECF6",
            "gridcolor": "white",
            "gridwidth": 2,
            "linecolor": "white",
            "showbackground": true,
            "ticks": "",
            "zerolinecolor": "white"
           },
           "zaxis": {
            "backgroundcolor": "#E5ECF6",
            "gridcolor": "white",
            "gridwidth": 2,
            "linecolor": "white",
            "showbackground": true,
            "ticks": "",
            "zerolinecolor": "white"
           }
          },
          "shapedefaults": {
           "line": {
            "color": "#2a3f5f"
           }
          },
          "ternary": {
           "aaxis": {
            "gridcolor": "white",
            "linecolor": "white",
            "ticks": ""
           },
           "baxis": {
            "gridcolor": "white",
            "linecolor": "white",
            "ticks": ""
           },
           "bgcolor": "#E5ECF6",
           "caxis": {
            "gridcolor": "white",
            "linecolor": "white",
            "ticks": ""
           }
          },
          "title": {
           "x": 0.05
          },
          "xaxis": {
           "automargin": true,
           "gridcolor": "white",
           "linecolor": "white",
           "ticks": "",
           "title": {
            "standoff": 15
           },
           "zerolinecolor": "white",
           "zerolinewidth": 2
          },
          "yaxis": {
           "automargin": true,
           "gridcolor": "white",
           "linecolor": "white",
           "ticks": "",
           "title": {
            "standoff": 15
           },
           "zerolinecolor": "white",
           "zerolinewidth": 2
          }
         }
        },
        "title": {
         "font": {
          "color": "#A9A9A9"
         },
         "text": "Stock Data Date Ranges by File"
        },
        "xaxis": {
         "color": "#A9A9A9",
         "gridcolor": "#2F2F2F",
         "gridwidth": 1,
         "rangeslider": {
          "visible": true
         },
         "showgrid": true,
         "title": {
          "font": {
           "color": "#A9A9A9"
          },
          "text": "Date"
         },
         "type": "date"
        },
        "yaxis": {
         "autorange": "reversed",
         "color": "#A9A9A9",
         "gridcolor": "#2F2F2F",
         "gridwidth": 1,
         "showgrid": true,
         "title": {
          "font": {
           "color": "#A9A9A9"
          },
          "text": "Stock Symbol (Interval)"
         }
        }
       }
      }
     },
     "metadata": {},
     "output_type": "display_data"
    }
   ],
   "source": [
    "import historical_data as hd\n",
    "\n",
    "hd.visualize_saved_stock_date_ranges()"
   ]
  },
  {
   "cell_type": "code",
   "execution_count": 8,
   "metadata": {},
   "outputs": [
    {
     "name": "stdout",
     "output_type": "stream",
     "text": [
      "2024-11-19 00:00:01\n",
      "2024-11-04 00:00:01\n",
      "2024-11-20 14:30:00\n",
      "2024-11-20 14:30:00\n"
     ]
    }
   ],
   "source": [
    "from datetime import datetime, timedelta\n",
    "import re\n",
    "\n",
    "\n",
    "\n",
    "def calculate_past_date(input_date):\n",
    "    \"\"\"\n",
    "    Calculate a past date based on either a date object, date string, or a relative time string.\n",
    "    For 'daysAgo', rounds to 00:00:01 on the day\n",
    "    For 'weeksAgo', rounds to Monday 00:00:01 of that week\n",
    "    \n",
    "    Args:\n",
    "        input_date: Can be either:\n",
    "            - datetime object\n",
    "            - string in format '%Y-%m-%d %H:%M:%S' (e.g., '2024-11-24 14:30:00')\n",
    "            - string in format '%Y-%m-%d' (e.g., '2024-11-24')\n",
    "            - string in format '5 daysAgo' or '3 weeksAgo'\n",
    "    \n",
    "    Returns:\n",
    "        str: Formatted date string in '%Y-%m-%d %H:%M:%S' format\n",
    "    \n",
    "    Examples:\n",
    "        >>> calculate_past_date('5 daysAgo')  # if current date is Monday\n",
    "        Returns previous Monday at 00:00:01\n",
    "        >>> calculate_past_date('2 weeksAgo')  # if lands on Wednesday\n",
    "        Returns Monday of that week at 00:00:01\n",
    "    \"\"\"\n",
    "    # Handle datetime object\n",
    "    if isinstance(input_date, datetime):\n",
    "        return input_date.strftime('%Y-%m-%d %H:%M:%S')\n",
    "    \n",
    "    if not isinstance(input_date, str):\n",
    "        raise ValueError(\"Input must be either a datetime object or a string\")\n",
    "    \n",
    "    # Try parsing as datetime string with different formats\n",
    "    date_formats = [\n",
    "        '%Y-%m-%d %H:%M:%S',\n",
    "        '%Y-%m-%d'\n",
    "    ]\n",
    "    \n",
    "    for date_format in date_formats:\n",
    "        try:\n",
    "            parsed_date = datetime.strptime(input_date, date_format)\n",
    "            return parsed_date.strftime('%Y-%m-%d %H:%M:%S')\n",
    "        except ValueError:\n",
    "            continue\n",
    "    \n",
    "    # Parse relative time string\n",
    "    pattern = r'(\\d+)\\s*(days?Ago|weeks?Ago)'\n",
    "    match = re.match(pattern, input_date, re.IGNORECASE)\n",
    "    \n",
    "    if not match:\n",
    "        raise ValueError(\"String must be in format 'YYYY-MM-DD HH:MM:SS', 'YYYY-MM-DD', or 'X daysAgo/weeksAgo'\")\n",
    "    \n",
    "    number = int(match.group(1))\n",
    "    unit = match.group(2).lower()\n",
    "    \n",
    "    current_date = datetime.now()\n",
    "    \n",
    "    if 'week' in unit:\n",
    "        # First go back the specified number of weeks\n",
    "        past_date = current_date - timedelta(weeks=number)\n",
    "        # Then find Monday of that week (weekday() returns 0 for Monday)\n",
    "        days_since_monday = past_date.weekday()\n",
    "        # Adjust to Monday of that week\n",
    "        past_date = past_date - timedelta(days=days_since_monday)\n",
    "        # Set time to 00:00:01\n",
    "        past_date = past_date.replace(hour=0, minute=0, second=1, microsecond=0)\n",
    "    else:  # days\n",
    "        # Go back the specified number of days\n",
    "        past_date = current_date - timedelta(days=number)\n",
    "        # Set time to 00:00:01\n",
    "        past_date = past_date.replace(hour=0, minute=0, second=1, microsecond=0)\n",
    "    \n",
    "    return past_date.strftime('%Y-%m-%d %H:%M:%S')\n",
    "\n",
    "\n",
    "# Using relative time strings\n",
    "print(calculate_past_date('5 daysAgo'))\n",
    "print(calculate_past_date('2 weeksAgo'))\n",
    "\n",
    "# Using datetime string\n",
    "print(calculate_past_date('2024-11-20 14:30:00'))\n",
    "\n",
    "# Using datetime object\n",
    "from datetime import datetime\n",
    "specific_date = datetime(2024, 11, 20, 14, 30, 0)\n",
    "print(calculate_past_date(specific_date))"
   ]
  }
 ],
 "metadata": {
  "kernelspec": {
   "display_name": "SB4",
   "language": "python",
   "name": "python3"
  },
  "language_info": {
   "codemirror_mode": {
    "name": "ipython",
    "version": 3
   },
   "file_extension": ".py",
   "mimetype": "text/x-python",
   "name": "python",
   "nbconvert_exporter": "python",
   "pygments_lexer": "ipython3",
   "version": "3.10.8"
  }
 },
 "nbformat": 4,
 "nbformat_minor": 2
}
