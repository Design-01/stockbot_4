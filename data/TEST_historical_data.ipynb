{
 "cells": [
  {
   "cell_type": "code",
   "execution_count": 2,
   "metadata": {},
   "outputs": [
    {
     "name": "stdout",
     "output_type": "stream",
     "text": [
      "Using interval: 1min\n"
     ]
    },
    {
     "data": {
      "text/html": [
       "<div>\n",
       "<style scoped>\n",
       "    .dataframe tbody tr th:only-of-type {\n",
       "        vertical-align: middle;\n",
       "    }\n",
       "\n",
       "    .dataframe tbody tr th {\n",
       "        vertical-align: top;\n",
       "    }\n",
       "\n",
       "    .dataframe thead th {\n",
       "        text-align: right;\n",
       "    }\n",
       "</style>\n",
       "<table border=\"1\" class=\"dataframe\">\n",
       "  <thead>\n",
       "    <tr style=\"text-align: right;\">\n",
       "      <th></th>\n",
       "      <th>open</th>\n",
       "      <th>high</th>\n",
       "      <th>low</th>\n",
       "      <th>close</th>\n",
       "      <th>volume</th>\n",
       "    </tr>\n",
       "    <tr>\n",
       "      <th>datetime</th>\n",
       "      <th></th>\n",
       "      <th></th>\n",
       "      <th></th>\n",
       "      <th></th>\n",
       "      <th></th>\n",
       "    </tr>\n",
       "  </thead>\n",
       "  <tbody>\n",
       "    <tr>\n",
       "      <th>2024-10-21 09:30:00</th>\n",
       "      <td>234.45000</td>\n",
       "      <td>235.50000</td>\n",
       "      <td>234.45000</td>\n",
       "      <td>234.64000</td>\n",
       "      <td>2563390</td>\n",
       "    </tr>\n",
       "    <tr>\n",
       "      <th>2024-10-21 09:33:00</th>\n",
       "      <td>234.63000</td>\n",
       "      <td>235.10001</td>\n",
       "      <td>234.59000</td>\n",
       "      <td>234.84500</td>\n",
       "      <td>366857</td>\n",
       "    </tr>\n",
       "    <tr>\n",
       "      <th>2024-10-21 09:36:00</th>\n",
       "      <td>234.84500</td>\n",
       "      <td>235.31000</td>\n",
       "      <td>234.84500</td>\n",
       "      <td>235.05499</td>\n",
       "      <td>307522</td>\n",
       "    </tr>\n",
       "    <tr>\n",
       "      <th>2024-10-21 09:39:00</th>\n",
       "      <td>235.06000</td>\n",
       "      <td>235.20000</td>\n",
       "      <td>234.87000</td>\n",
       "      <td>235.10001</td>\n",
       "      <td>229161</td>\n",
       "    </tr>\n",
       "    <tr>\n",
       "      <th>2024-10-21 09:42:00</th>\n",
       "      <td>235.10001</td>\n",
       "      <td>235.48000</td>\n",
       "      <td>235.10001</td>\n",
       "      <td>235.33000</td>\n",
       "      <td>259805</td>\n",
       "    </tr>\n",
       "    <tr>\n",
       "      <th>...</th>\n",
       "      <td>...</td>\n",
       "      <td>...</td>\n",
       "      <td>...</td>\n",
       "      <td>...</td>\n",
       "      <td>...</td>\n",
       "    </tr>\n",
       "    <tr>\n",
       "      <th>2024-11-01 15:45:00</th>\n",
       "      <td>222.57001</td>\n",
       "      <td>222.80000</td>\n",
       "      <td>222.44000</td>\n",
       "      <td>222.76010</td>\n",
       "      <td>289721</td>\n",
       "    </tr>\n",
       "    <tr>\n",
       "      <th>2024-11-01 15:48:00</th>\n",
       "      <td>222.75999</td>\n",
       "      <td>222.78000</td>\n",
       "      <td>222.27000</td>\n",
       "      <td>222.63100</td>\n",
       "      <td>503798</td>\n",
       "    </tr>\n",
       "    <tr>\n",
       "      <th>2024-11-01 15:51:00</th>\n",
       "      <td>222.62000</td>\n",
       "      <td>222.75000</td>\n",
       "      <td>222.49010</td>\n",
       "      <td>222.52499</td>\n",
       "      <td>615516</td>\n",
       "    </tr>\n",
       "    <tr>\n",
       "      <th>2024-11-01 15:54:00</th>\n",
       "      <td>222.52499</td>\n",
       "      <td>223.25000</td>\n",
       "      <td>222.44000</td>\n",
       "      <td>223.06000</td>\n",
       "      <td>971458</td>\n",
       "    </tr>\n",
       "    <tr>\n",
       "      <th>2024-11-01 15:57:00</th>\n",
       "      <td>223.06020</td>\n",
       "      <td>223.17000</td>\n",
       "      <td>222.75999</td>\n",
       "      <td>222.85001</td>\n",
       "      <td>1705108</td>\n",
       "    </tr>\n",
       "  </tbody>\n",
       "</table>\n",
       "<p>1300 rows × 5 columns</p>\n",
       "</div>"
      ],
      "text/plain": [
       "                          open       high        low      close   volume\n",
       "datetime                                                                \n",
       "2024-10-21 09:30:00  234.45000  235.50000  234.45000  234.64000  2563390\n",
       "2024-10-21 09:33:00  234.63000  235.10001  234.59000  234.84500   366857\n",
       "2024-10-21 09:36:00  234.84500  235.31000  234.84500  235.05499   307522\n",
       "2024-10-21 09:39:00  235.06000  235.20000  234.87000  235.10001   229161\n",
       "2024-10-21 09:42:00  235.10001  235.48000  235.10001  235.33000   259805\n",
       "...                        ...        ...        ...        ...      ...\n",
       "2024-11-01 15:45:00  222.57001  222.80000  222.44000  222.76010   289721\n",
       "2024-11-01 15:48:00  222.75999  222.78000  222.27000  222.63100   503798\n",
       "2024-11-01 15:51:00  222.62000  222.75000  222.49010  222.52499   615516\n",
       "2024-11-01 15:54:00  222.52499  223.25000  222.44000  223.06000   971458\n",
       "2024-11-01 15:57:00  223.06020  223.17000  222.75999  222.85001  1705108\n",
       "\n",
       "[1300 rows x 5 columns]"
      ]
     },
     "metadata": {},
     "output_type": "display_data"
    }
   ],
   "source": [
    "from twelvedata import TDClient\n",
    "import historical_data as hd\n",
    "\"https://github.com/twelvedata/twelvedata-python\"\n",
    "\n",
    "api_key = '171136ac7161454b8f4abeb987c72b02'\n",
    "td = TDClient(apikey=api_key)\n",
    "\n",
    "def get_historical_data_from_source(symbol, start_date, end_date, interval):\n",
    "\n",
    "    avialble_interval = hd.get_next_lower_common_denominator_as_interval(interval)\n",
    "    print(f\"Using interval: {avialble_interval}\")\n",
    "\n",
    "    data =  td.time_series(\n",
    "            symbol=symbol,\n",
    "            interval=avialble_interval,\n",
    "            start_date=start_date,\n",
    "            end_date=end_date,\n",
    "            outputsize=5000,\n",
    "            timezone=\"America/New_York\",\n",
    "        ).as_pandas().sort_index(ascending=True)\n",
    "    \n",
    "    return hd.resample_data(data, interval)\n",
    "\n",
    "\n",
    "symbol = 'AAPL'\n",
    "start_date = '2024-10-21 09:00:00'\n",
    "end_date = '2024-11-01 16:00:00'\n",
    "interval = '3min'\n",
    "\n",
    "data = get_historical_data_from_source(symbol, start_date, end_date, interval)\n",
    "display(data)"
   ]
  },
  {
   "cell_type": "code",
   "execution_count": 1,
   "metadata": {},
   "outputs": [
    {
     "name": "stdout",
     "output_type": "stream",
     "text": [
      "Batch dates                : [('2024-01-01', '2024-01-31'), ('2024-02-01', '2024-02-29'), ('2024-03-01', '2024-03-31'), ('2024-04-01', '2024-04-30'), ('2024-05-01', '2024-05-31'), ('2024-06-01', '2024-06-30')]\n",
      "Missing batched dates      : 1h [('2024-01-01', '2024-01-31'), ('2024-02-01', '2024-02-29'), ('2024-03-01', '2024-03-31'), ('2024-04-01', '2024-04-30'), ('2024-05-01', '2024-05-31'), ('2024-06-01', '2024-06-30')]\n",
      "Missing batched dates lower: 1h [('2024-01-01', '2024-01-31'), ('2024-02-01', '2024-02-29'), ('2024-03-01', '2024-03-31'), ('2024-04-01', '2024-04-30'), ('2024-05-01', '2024-05-31'), ('2024-06-01', '2024-06-30')]\n",
      "Getting missing data for 1h -- dates: 2024-01-01 to 2024-01-31\n",
      "Logged date range for TSLA (1h) from 2024-01-01 to 2024-01-31\n",
      "Getting missing data for 1h -- dates: 2024-02-01 to 2024-02-29\n",
      "Logged date range for TSLA (1h) from 2024-02-01 to 2024-02-29\n",
      "Getting missing data for 1h -- dates: 2024-03-01 to 2024-03-31\n",
      "Logged date range for TSLA (1h) from 2024-03-01 to 2024-03-31\n",
      "Getting missing data for 1h -- dates: 2024-04-01 to 2024-04-30\n",
      "Logged date range for TSLA (1h) from 2024-04-01 to 2024-04-30\n",
      "Getting missing data for 1h -- dates: 2024-05-01 to 2024-05-31\n",
      "Logged date range for TSLA (1h) from 2024-05-01 to 2024-05-31\n",
      "Getting missing data for 1h -- dates: 2024-06-01 to 2024-06-30\n",
      "Logged date range for TSLA (1h) from 2024-06-01 to 2024-06-30\n",
      "Getting missing data for 1h -- dates: 2024-01-01 to 2024-01-31\n",
      "Date range for TSLA (1h) from 2024-01-01 to 2024-01-31 is already logged.\n",
      "Getting missing data for 1h -- dates: 2024-02-01 to 2024-02-29\n",
      "Date range for TSLA (1h) from 2024-02-01 to 2024-02-29 is already logged.\n",
      "Getting missing data for 1h -- dates: 2024-03-01 to 2024-03-31\n",
      "Date range for TSLA (1h) from 2024-03-01 to 2024-03-31 is already logged.\n",
      "Getting missing data for 1h -- dates: 2024-04-01 to 2024-04-30\n",
      "Date range for TSLA (1h) from 2024-04-01 to 2024-04-30 is already logged.\n",
      "Getting missing data for 1h -- dates: 2024-05-01 to 2024-05-31\n",
      "Date range for TSLA (1h) from 2024-05-01 to 2024-05-31 is already logged.\n",
      "Getting missing data for 1h -- dates: 2024-06-01 to 2024-06-30\n",
      "Date range for TSLA (1h) from 2024-06-01 to 2024-06-30 is already logged.\n"
     ]
    },
    {
     "data": {
      "text/html": [
       "<div>\n",
       "<style scoped>\n",
       "    .dataframe tbody tr th:only-of-type {\n",
       "        vertical-align: middle;\n",
       "    }\n",
       "\n",
       "    .dataframe tbody tr th {\n",
       "        vertical-align: top;\n",
       "    }\n",
       "\n",
       "    .dataframe thead th {\n",
       "        text-align: right;\n",
       "    }\n",
       "</style>\n",
       "<table border=\"1\" class=\"dataframe\">\n",
       "  <thead>\n",
       "    <tr style=\"text-align: right;\">\n",
       "      <th></th>\n",
       "      <th>open</th>\n",
       "      <th>high</th>\n",
       "      <th>low</th>\n",
       "      <th>close</th>\n",
       "      <th>volume</th>\n",
       "    </tr>\n",
       "    <tr>\n",
       "      <th>datetime</th>\n",
       "      <th></th>\n",
       "      <th></th>\n",
       "      <th></th>\n",
       "      <th></th>\n",
       "      <th></th>\n",
       "    </tr>\n",
       "  </thead>\n",
       "  <tbody>\n",
       "    <tr>\n",
       "      <th>2024-01-02 09:00:00</th>\n",
       "      <td>250.00000</td>\n",
       "      <td>251.25000</td>\n",
       "      <td>244.41000</td>\n",
       "      <td>249.61000</td>\n",
       "      <td>36427280</td>\n",
       "    </tr>\n",
       "    <tr>\n",
       "      <th>2024-01-02 10:00:00</th>\n",
       "      <td>249.60001</td>\n",
       "      <td>250.25999</td>\n",
       "      <td>246.82001</td>\n",
       "      <td>250.00000</td>\n",
       "      <td>17189459</td>\n",
       "    </tr>\n",
       "    <tr>\n",
       "      <th>2024-01-02 11:00:00</th>\n",
       "      <td>249.99409</td>\n",
       "      <td>251.00000</td>\n",
       "      <td>247.94170</td>\n",
       "      <td>248.35001</td>\n",
       "      <td>12121725</td>\n",
       "    </tr>\n",
       "    <tr>\n",
       "      <th>2024-01-02 12:00:00</th>\n",
       "      <td>248.35500</td>\n",
       "      <td>249.13300</td>\n",
       "      <td>247.00000</td>\n",
       "      <td>248.35170</td>\n",
       "      <td>9300163</td>\n",
       "    </tr>\n",
       "    <tr>\n",
       "      <th>2024-01-02 13:00:00</th>\n",
       "      <td>248.39000</td>\n",
       "      <td>249.38000</td>\n",
       "      <td>247.30000</td>\n",
       "      <td>248.13721</td>\n",
       "      <td>8770028</td>\n",
       "    </tr>\n",
       "    <tr>\n",
       "      <th>...</th>\n",
       "      <td>...</td>\n",
       "      <td>...</td>\n",
       "      <td>...</td>\n",
       "      <td>...</td>\n",
       "      <td>...</td>\n",
       "    </tr>\n",
       "    <tr>\n",
       "      <th>2024-05-30 11:00:00</th>\n",
       "      <td>176.71989</td>\n",
       "      <td>177.51500</td>\n",
       "      <td>176.05000</td>\n",
       "      <td>176.87000</td>\n",
       "      <td>6472434</td>\n",
       "    </tr>\n",
       "    <tr>\n",
       "      <th>2024-05-30 12:00:00</th>\n",
       "      <td>176.88010</td>\n",
       "      <td>178.58000</td>\n",
       "      <td>176.41000</td>\n",
       "      <td>178.39000</td>\n",
       "      <td>6231529</td>\n",
       "    </tr>\n",
       "    <tr>\n",
       "      <th>2024-05-30 13:00:00</th>\n",
       "      <td>178.39000</td>\n",
       "      <td>179.95000</td>\n",
       "      <td>178.28999</td>\n",
       "      <td>179.51590</td>\n",
       "      <td>8086079</td>\n",
       "    </tr>\n",
       "    <tr>\n",
       "      <th>2024-05-30 14:00:00</th>\n",
       "      <td>179.52499</td>\n",
       "      <td>180.28500</td>\n",
       "      <td>178.62500</td>\n",
       "      <td>178.94000</td>\n",
       "      <td>6621663</td>\n",
       "    </tr>\n",
       "    <tr>\n",
       "      <th>2024-05-30 15:00:00</th>\n",
       "      <td>178.92500</td>\n",
       "      <td>179.17999</td>\n",
       "      <td>177.52000</td>\n",
       "      <td>178.83000</td>\n",
       "      <td>4255283</td>\n",
       "    </tr>\n",
       "  </tbody>\n",
       "</table>\n",
       "<p>707 rows × 5 columns</p>\n",
       "</div>"
      ],
      "text/plain": [
       "                          open       high        low      close    volume\n",
       "datetime                                                                 \n",
       "2024-01-02 09:00:00  250.00000  251.25000  244.41000  249.61000  36427280\n",
       "2024-01-02 10:00:00  249.60001  250.25999  246.82001  250.00000  17189459\n",
       "2024-01-02 11:00:00  249.99409  251.00000  247.94170  248.35001  12121725\n",
       "2024-01-02 12:00:00  248.35500  249.13300  247.00000  248.35170   9300163\n",
       "2024-01-02 13:00:00  248.39000  249.38000  247.30000  248.13721   8770028\n",
       "...                        ...        ...        ...        ...       ...\n",
       "2024-05-30 11:00:00  176.71989  177.51500  176.05000  176.87000   6472434\n",
       "2024-05-30 12:00:00  176.88010  178.58000  176.41000  178.39000   6231529\n",
       "2024-05-30 13:00:00  178.39000  179.95000  178.28999  179.51590   8086079\n",
       "2024-05-30 14:00:00  179.52499  180.28500  178.62500  178.94000   6621663\n",
       "2024-05-30 15:00:00  178.92500  179.17999  177.52000  178.83000   4255283\n",
       "\n",
       "[707 rows x 5 columns]"
      ]
     },
     "metadata": {},
     "output_type": "display_data"
    }
   ],
   "source": [
    "import historical_data as hd\n",
    "import time\n",
    "import pandas as pd\n",
    "\n",
    "api_key = '171136ac7161454b8f4abeb987c72b02'\n",
    "symbol = 'TSLA'\n",
    "start_date = '2024-01-01 04:00:00'\n",
    "end_date   = '2024-06-01 18:00:00'\n",
    "interval = '1h'\n",
    "\n",
    "data = hd.get_historical_data(api_key, symbol, start_date, end_date, interval)\n",
    "display(data)\n",
    "\n",
    "\n"
   ]
  },
  {
   "cell_type": "code",
   "execution_count": 2,
   "metadata": {},
   "outputs": [
    {
     "data": {
      "application/vnd.plotly.v1+json": {
       "config": {
        "plotlyServerURL": "https://plot.ly"
       },
       "data": [
        {
         "customdata": [
          [
           "2024-08-26",
           "2024-10-18"
          ]
         ],
         "hovertemplate": "<b>%{y}</b><br>Start: %{customdata[0]}<br>End: %{customdata[1]}<br><extra></extra>",
         "line": {
          "color": "rgb(255,255,179)",
          "width": 20
         },
         "mode": "lines",
         "type": "scatter",
         "x": [
          "2024-08-26T09:30:00",
          "2024-10-18T15:59:00"
         ],
         "y": [
          "AAPL (1min)",
          "AAPL (1min)"
         ]
        },
        {
         "customdata": [
          [
           "2024-08-26",
           "2024-10-18"
          ]
         ],
         "hovertemplate": "<b>%{y}</b><br>Start: %{customdata[0]}<br>End: %{customdata[1]}<br><extra></extra>",
         "line": {
          "color": "rgb(255,255,179)",
          "width": 20
         },
         "mode": "lines",
         "type": "scatter",
         "x": [
          "2024-08-26T09:28:00",
          "2024-10-18T15:56:00"
         ],
         "y": [
          "AAPL (4min)",
          "AAPL (4min)"
         ]
        },
        {
         "customdata": [
          [
           "2024-01-02",
           "2024-06-28"
          ]
         ],
         "hovertemplate": "<b>%{y}</b><br>Start: %{customdata[0]}<br>End: %{customdata[1]}<br><extra></extra>",
         "line": {
          "color": "rgb(141,211,199)",
          "width": 20
         },
         "mode": "lines",
         "type": "scatter",
         "x": [
          "2024-01-02T09:00:00",
          "2024-06-28T15:00:00"
         ],
         "y": [
          "ROKU (1h)",
          "ROKU (1h)"
         ]
        },
        {
         "customdata": [
          [
           "2024-07-22",
           "2024-08-02"
          ]
         ],
         "hovertemplate": "<b>%{y}</b><br>Start: %{customdata[0]}<br>End: %{customdata[1]}<br><extra></extra>",
         "line": {
          "color": "rgb(141,211,199)",
          "width": 20
         },
         "mode": "lines",
         "type": "scatter",
         "x": [
          "2024-07-22T09:30:00",
          "2024-08-02T15:59:00"
         ],
         "y": [
          "ROKU (1min)",
          "ROKU (1min)"
         ]
        },
        {
         "customdata": [
          [
           "2024-07-22",
           "2024-08-02"
          ]
         ],
         "hovertemplate": "<b>%{y}</b><br>Start: %{customdata[0]}<br>End: %{customdata[1]}<br><extra></extra>",
         "line": {
          "color": "rgb(141,211,199)",
          "width": 20
         },
         "mode": "lines",
         "type": "scatter",
         "x": [
          "2024-07-22T09:30:00",
          "2024-08-02T15:58:00"
         ],
         "y": [
          "ROKU (2min)",
          "ROKU (2min)"
         ]
        },
        {
         "customdata": [
          [
           "2024-01-02",
           "2024-06-28"
          ]
         ],
         "hovertemplate": "<b>%{y}</b><br>Start: %{customdata[0]}<br>End: %{customdata[1]}<br><extra></extra>",
         "line": {
          "color": "rgb(190,186,218)",
          "width": 20
         },
         "mode": "lines",
         "type": "scatter",
         "x": [
          "2024-01-02T09:00:00",
          "2024-06-28T15:00:00"
         ],
         "y": [
          "TSLA (1h)",
          "TSLA (1h)"
         ]
        },
        {
         "customdata": [
          [
           "2024-01-02",
           "2024-02-02"
          ]
         ],
         "hovertemplate": "<b>%{y}</b><br>Start: %{customdata[0]}<br>End: %{customdata[1]}<br><extra></extra>",
         "line": {
          "color": "rgb(190,186,218)",
          "width": 20
         },
         "mode": "lines",
         "type": "scatter",
         "x": [
          "2024-01-02T09:30:00",
          "2024-02-02T15:59:00"
         ],
         "y": [
          "TSLA (1min)",
          "TSLA (1min)"
         ]
        },
        {
         "customdata": [
          [
           "2024-01-02",
           "2024-02-02"
          ]
         ],
         "hovertemplate": "<b>%{y}</b><br>Start: %{customdata[0]}<br>End: %{customdata[1]}<br><extra></extra>",
         "line": {
          "color": "rgb(190,186,218)",
          "width": 20
         },
         "mode": "lines",
         "type": "scatter",
         "x": [
          "2024-01-02T09:30:00",
          "2024-02-02T15:58:00"
         ],
         "y": [
          "TSLA (2min)",
          "TSLA (2min)"
         ]
        }
       ],
       "layout": {
        "font": {
         "color": "#A9A9A9"
        },
        "height": 720,
        "margin": {
         "b": 50,
         "l": 100,
         "r": 20,
         "t": 50
        },
        "paper_bgcolor": "black",
        "plot_bgcolor": "black",
        "showlegend": false,
        "template": {
         "data": {
          "bar": [
           {
            "error_x": {
             "color": "#2a3f5f"
            },
            "error_y": {
             "color": "#2a3f5f"
            },
            "marker": {
             "line": {
              "color": "#E5ECF6",
              "width": 0.5
             },
             "pattern": {
              "fillmode": "overlay",
              "size": 10,
              "solidity": 0.2
             }
            },
            "type": "bar"
           }
          ],
          "barpolar": [
           {
            "marker": {
             "line": {
              "color": "#E5ECF6",
              "width": 0.5
             },
             "pattern": {
              "fillmode": "overlay",
              "size": 10,
              "solidity": 0.2
             }
            },
            "type": "barpolar"
           }
          ],
          "carpet": [
           {
            "aaxis": {
             "endlinecolor": "#2a3f5f",
             "gridcolor": "white",
             "linecolor": "white",
             "minorgridcolor": "white",
             "startlinecolor": "#2a3f5f"
            },
            "baxis": {
             "endlinecolor": "#2a3f5f",
             "gridcolor": "white",
             "linecolor": "white",
             "minorgridcolor": "white",
             "startlinecolor": "#2a3f5f"
            },
            "type": "carpet"
           }
          ],
          "choropleth": [
           {
            "colorbar": {
             "outlinewidth": 0,
             "ticks": ""
            },
            "type": "choropleth"
           }
          ],
          "contour": [
           {
            "colorbar": {
             "outlinewidth": 0,
             "ticks": ""
            },
            "colorscale": [
             [
              0,
              "#0d0887"
             ],
             [
              0.1111111111111111,
              "#46039f"
             ],
             [
              0.2222222222222222,
              "#7201a8"
             ],
             [
              0.3333333333333333,
              "#9c179e"
             ],
             [
              0.4444444444444444,
              "#bd3786"
             ],
             [
              0.5555555555555556,
              "#d8576b"
             ],
             [
              0.6666666666666666,
              "#ed7953"
             ],
             [
              0.7777777777777778,
              "#fb9f3a"
             ],
             [
              0.8888888888888888,
              "#fdca26"
             ],
             [
              1,
              "#f0f921"
             ]
            ],
            "type": "contour"
           }
          ],
          "contourcarpet": [
           {
            "colorbar": {
             "outlinewidth": 0,
             "ticks": ""
            },
            "type": "contourcarpet"
           }
          ],
          "heatmap": [
           {
            "colorbar": {
             "outlinewidth": 0,
             "ticks": ""
            },
            "colorscale": [
             [
              0,
              "#0d0887"
             ],
             [
              0.1111111111111111,
              "#46039f"
             ],
             [
              0.2222222222222222,
              "#7201a8"
             ],
             [
              0.3333333333333333,
              "#9c179e"
             ],
             [
              0.4444444444444444,
              "#bd3786"
             ],
             [
              0.5555555555555556,
              "#d8576b"
             ],
             [
              0.6666666666666666,
              "#ed7953"
             ],
             [
              0.7777777777777778,
              "#fb9f3a"
             ],
             [
              0.8888888888888888,
              "#fdca26"
             ],
             [
              1,
              "#f0f921"
             ]
            ],
            "type": "heatmap"
           }
          ],
          "heatmapgl": [
           {
            "colorbar": {
             "outlinewidth": 0,
             "ticks": ""
            },
            "colorscale": [
             [
              0,
              "#0d0887"
             ],
             [
              0.1111111111111111,
              "#46039f"
             ],
             [
              0.2222222222222222,
              "#7201a8"
             ],
             [
              0.3333333333333333,
              "#9c179e"
             ],
             [
              0.4444444444444444,
              "#bd3786"
             ],
             [
              0.5555555555555556,
              "#d8576b"
             ],
             [
              0.6666666666666666,
              "#ed7953"
             ],
             [
              0.7777777777777778,
              "#fb9f3a"
             ],
             [
              0.8888888888888888,
              "#fdca26"
             ],
             [
              1,
              "#f0f921"
             ]
            ],
            "type": "heatmapgl"
           }
          ],
          "histogram": [
           {
            "marker": {
             "pattern": {
              "fillmode": "overlay",
              "size": 10,
              "solidity": 0.2
             }
            },
            "type": "histogram"
           }
          ],
          "histogram2d": [
           {
            "colorbar": {
             "outlinewidth": 0,
             "ticks": ""
            },
            "colorscale": [
             [
              0,
              "#0d0887"
             ],
             [
              0.1111111111111111,
              "#46039f"
             ],
             [
              0.2222222222222222,
              "#7201a8"
             ],
             [
              0.3333333333333333,
              "#9c179e"
             ],
             [
              0.4444444444444444,
              "#bd3786"
             ],
             [
              0.5555555555555556,
              "#d8576b"
             ],
             [
              0.6666666666666666,
              "#ed7953"
             ],
             [
              0.7777777777777778,
              "#fb9f3a"
             ],
             [
              0.8888888888888888,
              "#fdca26"
             ],
             [
              1,
              "#f0f921"
             ]
            ],
            "type": "histogram2d"
           }
          ],
          "histogram2dcontour": [
           {
            "colorbar": {
             "outlinewidth": 0,
             "ticks": ""
            },
            "colorscale": [
             [
              0,
              "#0d0887"
             ],
             [
              0.1111111111111111,
              "#46039f"
             ],
             [
              0.2222222222222222,
              "#7201a8"
             ],
             [
              0.3333333333333333,
              "#9c179e"
             ],
             [
              0.4444444444444444,
              "#bd3786"
             ],
             [
              0.5555555555555556,
              "#d8576b"
             ],
             [
              0.6666666666666666,
              "#ed7953"
             ],
             [
              0.7777777777777778,
              "#fb9f3a"
             ],
             [
              0.8888888888888888,
              "#fdca26"
             ],
             [
              1,
              "#f0f921"
             ]
            ],
            "type": "histogram2dcontour"
           }
          ],
          "mesh3d": [
           {
            "colorbar": {
             "outlinewidth": 0,
             "ticks": ""
            },
            "type": "mesh3d"
           }
          ],
          "parcoords": [
           {
            "line": {
             "colorbar": {
              "outlinewidth": 0,
              "ticks": ""
             }
            },
            "type": "parcoords"
           }
          ],
          "pie": [
           {
            "automargin": true,
            "type": "pie"
           }
          ],
          "scatter": [
           {
            "fillpattern": {
             "fillmode": "overlay",
             "size": 10,
             "solidity": 0.2
            },
            "type": "scatter"
           }
          ],
          "scatter3d": [
           {
            "line": {
             "colorbar": {
              "outlinewidth": 0,
              "ticks": ""
             }
            },
            "marker": {
             "colorbar": {
              "outlinewidth": 0,
              "ticks": ""
             }
            },
            "type": "scatter3d"
           }
          ],
          "scattercarpet": [
           {
            "marker": {
             "colorbar": {
              "outlinewidth": 0,
              "ticks": ""
             }
            },
            "type": "scattercarpet"
           }
          ],
          "scattergeo": [
           {
            "marker": {
             "colorbar": {
              "outlinewidth": 0,
              "ticks": ""
             }
            },
            "type": "scattergeo"
           }
          ],
          "scattergl": [
           {
            "marker": {
             "colorbar": {
              "outlinewidth": 0,
              "ticks": ""
             }
            },
            "type": "scattergl"
           }
          ],
          "scattermapbox": [
           {
            "marker": {
             "colorbar": {
              "outlinewidth": 0,
              "ticks": ""
             }
            },
            "type": "scattermapbox"
           }
          ],
          "scatterpolar": [
           {
            "marker": {
             "colorbar": {
              "outlinewidth": 0,
              "ticks": ""
             }
            },
            "type": "scatterpolar"
           }
          ],
          "scatterpolargl": [
           {
            "marker": {
             "colorbar": {
              "outlinewidth": 0,
              "ticks": ""
             }
            },
            "type": "scatterpolargl"
           }
          ],
          "scatterternary": [
           {
            "marker": {
             "colorbar": {
              "outlinewidth": 0,
              "ticks": ""
             }
            },
            "type": "scatterternary"
           }
          ],
          "surface": [
           {
            "colorbar": {
             "outlinewidth": 0,
             "ticks": ""
            },
            "colorscale": [
             [
              0,
              "#0d0887"
             ],
             [
              0.1111111111111111,
              "#46039f"
             ],
             [
              0.2222222222222222,
              "#7201a8"
             ],
             [
              0.3333333333333333,
              "#9c179e"
             ],
             [
              0.4444444444444444,
              "#bd3786"
             ],
             [
              0.5555555555555556,
              "#d8576b"
             ],
             [
              0.6666666666666666,
              "#ed7953"
             ],
             [
              0.7777777777777778,
              "#fb9f3a"
             ],
             [
              0.8888888888888888,
              "#fdca26"
             ],
             [
              1,
              "#f0f921"
             ]
            ],
            "type": "surface"
           }
          ],
          "table": [
           {
            "cells": {
             "fill": {
              "color": "#EBF0F8"
             },
             "line": {
              "color": "white"
             }
            },
            "header": {
             "fill": {
              "color": "#C8D4E3"
             },
             "line": {
              "color": "white"
             }
            },
            "type": "table"
           }
          ]
         },
         "layout": {
          "annotationdefaults": {
           "arrowcolor": "#2a3f5f",
           "arrowhead": 0,
           "arrowwidth": 1
          },
          "autotypenumbers": "strict",
          "coloraxis": {
           "colorbar": {
            "outlinewidth": 0,
            "ticks": ""
           }
          },
          "colorscale": {
           "diverging": [
            [
             0,
             "#8e0152"
            ],
            [
             0.1,
             "#c51b7d"
            ],
            [
             0.2,
             "#de77ae"
            ],
            [
             0.3,
             "#f1b6da"
            ],
            [
             0.4,
             "#fde0ef"
            ],
            [
             0.5,
             "#f7f7f7"
            ],
            [
             0.6,
             "#e6f5d0"
            ],
            [
             0.7,
             "#b8e186"
            ],
            [
             0.8,
             "#7fbc41"
            ],
            [
             0.9,
             "#4d9221"
            ],
            [
             1,
             "#276419"
            ]
           ],
           "sequential": [
            [
             0,
             "#0d0887"
            ],
            [
             0.1111111111111111,
             "#46039f"
            ],
            [
             0.2222222222222222,
             "#7201a8"
            ],
            [
             0.3333333333333333,
             "#9c179e"
            ],
            [
             0.4444444444444444,
             "#bd3786"
            ],
            [
             0.5555555555555556,
             "#d8576b"
            ],
            [
             0.6666666666666666,
             "#ed7953"
            ],
            [
             0.7777777777777778,
             "#fb9f3a"
            ],
            [
             0.8888888888888888,
             "#fdca26"
            ],
            [
             1,
             "#f0f921"
            ]
           ],
           "sequentialminus": [
            [
             0,
             "#0d0887"
            ],
            [
             0.1111111111111111,
             "#46039f"
            ],
            [
             0.2222222222222222,
             "#7201a8"
            ],
            [
             0.3333333333333333,
             "#9c179e"
            ],
            [
             0.4444444444444444,
             "#bd3786"
            ],
            [
             0.5555555555555556,
             "#d8576b"
            ],
            [
             0.6666666666666666,
             "#ed7953"
            ],
            [
             0.7777777777777778,
             "#fb9f3a"
            ],
            [
             0.8888888888888888,
             "#fdca26"
            ],
            [
             1,
             "#f0f921"
            ]
           ]
          },
          "colorway": [
           "#636efa",
           "#EF553B",
           "#00cc96",
           "#ab63fa",
           "#FFA15A",
           "#19d3f3",
           "#FF6692",
           "#B6E880",
           "#FF97FF",
           "#FECB52"
          ],
          "font": {
           "color": "#2a3f5f"
          },
          "geo": {
           "bgcolor": "white",
           "lakecolor": "white",
           "landcolor": "#E5ECF6",
           "showlakes": true,
           "showland": true,
           "subunitcolor": "white"
          },
          "hoverlabel": {
           "align": "left"
          },
          "hovermode": "closest",
          "mapbox": {
           "style": "light"
          },
          "paper_bgcolor": "white",
          "plot_bgcolor": "#E5ECF6",
          "polar": {
           "angularaxis": {
            "gridcolor": "white",
            "linecolor": "white",
            "ticks": ""
           },
           "bgcolor": "#E5ECF6",
           "radialaxis": {
            "gridcolor": "white",
            "linecolor": "white",
            "ticks": ""
           }
          },
          "scene": {
           "xaxis": {
            "backgroundcolor": "#E5ECF6",
            "gridcolor": "white",
            "gridwidth": 2,
            "linecolor": "white",
            "showbackground": true,
            "ticks": "",
            "zerolinecolor": "white"
           },
           "yaxis": {
            "backgroundcolor": "#E5ECF6",
            "gridcolor": "white",
            "gridwidth": 2,
            "linecolor": "white",
            "showbackground": true,
            "ticks": "",
            "zerolinecolor": "white"
           },
           "zaxis": {
            "backgroundcolor": "#E5ECF6",
            "gridcolor": "white",
            "gridwidth": 2,
            "linecolor": "white",
            "showbackground": true,
            "ticks": "",
            "zerolinecolor": "white"
           }
          },
          "shapedefaults": {
           "line": {
            "color": "#2a3f5f"
           }
          },
          "ternary": {
           "aaxis": {
            "gridcolor": "white",
            "linecolor": "white",
            "ticks": ""
           },
           "baxis": {
            "gridcolor": "white",
            "linecolor": "white",
            "ticks": ""
           },
           "bgcolor": "#E5ECF6",
           "caxis": {
            "gridcolor": "white",
            "linecolor": "white",
            "ticks": ""
           }
          },
          "title": {
           "x": 0.05
          },
          "xaxis": {
           "automargin": true,
           "gridcolor": "white",
           "linecolor": "white",
           "ticks": "",
           "title": {
            "standoff": 15
           },
           "zerolinecolor": "white",
           "zerolinewidth": 2
          },
          "yaxis": {
           "automargin": true,
           "gridcolor": "white",
           "linecolor": "white",
           "ticks": "",
           "title": {
            "standoff": 15
           },
           "zerolinecolor": "white",
           "zerolinewidth": 2
          }
         }
        },
        "title": {
         "font": {
          "color": "#A9A9A9"
         },
         "text": "Stock Data Date Ranges by File"
        },
        "xaxis": {
         "color": "#A9A9A9",
         "gridcolor": "#2F2F2F",
         "gridwidth": 1,
         "rangeslider": {
          "visible": true
         },
         "showgrid": true,
         "title": {
          "font": {
           "color": "#A9A9A9"
          },
          "text": "Date"
         },
         "type": "date"
        },
        "yaxis": {
         "autorange": "reversed",
         "color": "#A9A9A9",
         "gridcolor": "#2F2F2F",
         "gridwidth": 1,
         "showgrid": true,
         "title": {
          "font": {
           "color": "#A9A9A9"
          },
          "text": "Stock Symbol (Interval)"
         }
        }
       }
      }
     },
     "metadata": {},
     "output_type": "display_data"
    }
   ],
   "source": [
    "hd.visualize_stock_date_ranges()"
   ]
  }
 ],
 "metadata": {
  "kernelspec": {
   "display_name": "SB4",
   "language": "python",
   "name": "python3"
  },
  "language_info": {
   "codemirror_mode": {
    "name": "ipython",
    "version": 3
   },
   "file_extension": ".py",
   "mimetype": "text/x-python",
   "name": "python",
   "nbconvert_exporter": "python",
   "pygments_lexer": "ipython3",
   "version": "3.12.7"
  }
 },
 "nbformat": 4,
 "nbformat_minor": 2
}
