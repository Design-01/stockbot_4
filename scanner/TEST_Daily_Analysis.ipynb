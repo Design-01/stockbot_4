{
 "cells": [
  {
   "cell_type": "markdown",
   "metadata": {},
   "source": [
    "# 1. Connect to IB "
   ]
  },
  {
   "cell_type": "code",
   "execution_count": null,
   "metadata": {},
   "outputs": [],
   "source": [
    "\n",
    "from ib_insync import *\n",
    "util.startLoop()\n",
    "\n",
    "ib = IB()\n",
    "ib.connect('127.0.0.1', 7496, clientId=13)"
   ]
  },
  {
   "cell_type": "markdown",
   "metadata": {},
   "source": [
    "# 2. Market Segment Analysis"
   ]
  },
  {
   "cell_type": "code",
   "execution_count": null,
   "metadata": {},
   "outputs": [],
   "source": [
    "import market_analyzer as ma\n",
    "\n",
    "# Initialize analyzer\n",
    "analyzer = ma.IBMarketAnalyzer(ib)\n",
    "\n",
    "# IMPORTANT: Set up the sectors first\n",
    "analyzer.set_sectors()  # This was missing in the previous code\n",
    "\n",
    "# Now get the full analysis\n",
    "market_df, sector_df = analyzer.create_analysis_report()\n",
    "\n",
    "# Then filter the sectors in various ways:\n",
    "\n",
    "# Example 1: Get top 3 sectors with positive momentum and increasing volume\n",
    "strong_sectors = analyzer.filter_sectors(\n",
    "    sector_df,\n",
    "    min_momentum=0,\n",
    "    volume_trend='Increasing',\n",
    "    top_n=3,\n",
    "    sort_by='Overall Score'\n",
    ")\n",
    "\n",
    "# Example 2: Get all sectors outperforming SPY with minimum 2% return\n",
    "outperformers = analyzer.filter_sectors(\n",
    "    sector_df,\n",
    "    outperforming_spy=True,\n",
    "    min_return=2.0,\n",
    "    sort_by='Return (%)'\n",
    ")\n",
    "\n",
    "# Example 3: Get sectors with strong relative strength and positive momentum\n",
    "strong_rs = analyzer.filter_sectors(\n",
    "    sector_df,\n",
    "    min_rs=1.0,\n",
    "    min_momentum=0,\n",
    "    sort_by='Relative Strength'\n",
    ")\n",
    "\n",
    "# Example 4: Custom combination of filters\n",
    "custom_filter = analyzer.filter_sectors(\n",
    "    sector_df,\n",
    "    min_return=0,\n",
    "    min_rs=0,\n",
    "    volume_trend='Increasing',\n",
    "    sort_by='Overall Score',\n",
    "    top_n=5\n",
    ")\n",
    "\n",
    "ib.disconnect()\n",
    "\n",
    "print(\"=== Market Analysis ===\")\n",
    "display(market_df)\n",
    "\n",
    "print(\"\\n=== Sector Analysis ===\")\n",
    "display(sector_df)\n",
    "\n",
    "\n",
    "try:\n",
    "    # Print results\n",
    "    print(\"\\n=== Strong Sectors ===\")\n",
    "    display(strong_sectors)\n",
    "\n",
    "    print(\"\\n=== Outperformers ===\")\n",
    "    display(outperformers)\n",
    "\n",
    "    print(\"\\n=== Strong Relative Strength ===\")\n",
    "    display(strong_rs)\n",
    "\n",
    "    print(\"\\n=== Custom Filter ===\")\n",
    "    display(custom_filter)\n",
    "\n",
    "except Exception as e:\n",
    "    print(f\"An error occurred: {str(e)}\")"
   ]
  },
  {
   "cell_type": "markdown",
   "metadata": {},
   "source": [
    "# 3. Scanner"
   ]
  },
  {
   "cell_type": "code",
   "execution_count": null,
   "metadata": {},
   "outputs": [],
   "source": [
    "import scanner.scanner as scanner\n",
    "\n",
    "stockbot = scanner.StockbotScanner(ib)\n",
    "stockbot.multiscan(scan_code='TOP_PERC_GAIN', price=(1, 100), volume=100_000, change_perc=4, market_cap=100)\n",
    "stockbot.scan_results_df"
   ]
  },
  {
   "cell_type": "markdown",
   "metadata": {},
   "source": [
    "# 4. Fundamentals"
   ]
  },
  {
   "cell_type": "code",
   "execution_count": null,
   "metadata": {},
   "outputs": [],
   "source": [
    "import fundamentals\n",
    "\n",
    "from ib_insync import IB, Stock\n",
    "import xml.etree.ElementTree as ET\n",
    "\n",
    "# # Connect to IB\n",
    "# ib = IB()\n",
    "# ib.connect('127.0.0.1', 7497, clientId=1)\n",
    "\n",
    "try:\n",
    "    stock_info = fundamentals.get_stock_info(ib, 'AAPL', current_volume=1000000)\n",
    "    print(f\"Current Price: ${stock_info.current_price:.2f}\")\n",
    "    print(f\"52-week Range: ${stock_info.low_52week:.2f} - ${stock_info.high_52week:.2f}\")\n",
    "    print(f\"Volume vs 10-day avg: {stock_info.volume_vs_10day_avg_pct:.2f}%\")\n",
    "except Exception as e:\n",
    "    print(f\"Error getting stock info: {e}\")\n",
    "finally:\n",
    "    ib.disconnect()\n",
    "\n",
    "stock_info.__dict__\n"
   ]
  },
  {
   "cell_type": "code",
   "execution_count": null,
   "metadata": {},
   "outputs": [],
   "source": [
    "import my_ib_utils\n",
    "import fundamentals\n",
    "\n",
    "# Create rate limiter\n",
    "rate_limiter = my_ib_utils.IBRateLimiter(ib, requests_per_second=2)\n",
    "\n",
    "# Create Fundamentals instance\n",
    "fund = fundamentals.Fundamentals(ib, rate_limiter)\n",
    "\n",
    "# Get fundamentals for multiple stocks\n",
    "symbols = ['AAPL', 'MSFT', 'GOOGL', 'AMZN', 'META']\n",
    "data = fund.get_fundamentals(symbols)\n",
    "\n",
    "# Convert to DataFrame and filter\n",
    "df = fund.to_dataframe()\n",
    "filtered_df = fund.filter_stocks({\n",
    "    'pe_ratio': (0, 30),\n",
    "    'market_cap': (1e11, None)\n",
    "})\n",
    "\n",
    "filtered_df"
   ]
  },
  {
   "cell_type": "markdown",
   "metadata": {},
   "source": [
    "# 5. Daily Stock Data"
   ]
  },
  {
   "cell_type": "code",
   "execution_count": 10,
   "metadata": {},
   "outputs": [
    {
     "name": "stdout",
     "output_type": "stream",
     "text": [
      "Loading data from historical_data/ROKU_1_day.csv\n",
      "Stored data: 478 rows of data\n",
      "Loading data from historical_data/ROKU_1_day.csv\n"
     ]
    },
    {
     "data": {
      "text/html": [
       "<div>\n",
       "<style scoped>\n",
       "    .dataframe tbody tr th:only-of-type {\n",
       "        vertical-align: middle;\n",
       "    }\n",
       "\n",
       "    .dataframe tbody tr th {\n",
       "        vertical-align: top;\n",
       "    }\n",
       "\n",
       "    .dataframe thead th {\n",
       "        text-align: right;\n",
       "    }\n",
       "</style>\n",
       "<table border=\"1\" class=\"dataframe\">\n",
       "  <thead>\n",
       "    <tr style=\"text-align: right;\">\n",
       "      <th></th>\n",
       "      <th>open</th>\n",
       "      <th>high</th>\n",
       "      <th>low</th>\n",
       "      <th>close</th>\n",
       "      <th>volume</th>\n",
       "    </tr>\n",
       "    <tr>\n",
       "      <th>date</th>\n",
       "      <th></th>\n",
       "      <th></th>\n",
       "      <th></th>\n",
       "      <th></th>\n",
       "      <th></th>\n",
       "    </tr>\n",
       "  </thead>\n",
       "  <tbody>\n",
       "    <tr>\n",
       "      <th>2023-11-21</th>\n",
       "      <td>94.00</td>\n",
       "      <td>94.99</td>\n",
       "      <td>91.96</td>\n",
       "      <td>93.40</td>\n",
       "      <td>36580</td>\n",
       "    </tr>\n",
       "    <tr>\n",
       "      <th>2023-11-22</th>\n",
       "      <td>93.57</td>\n",
       "      <td>95.61</td>\n",
       "      <td>92.55</td>\n",
       "      <td>95.00</td>\n",
       "      <td>31084</td>\n",
       "    </tr>\n",
       "    <tr>\n",
       "      <th>2023-11-24</th>\n",
       "      <td>94.80</td>\n",
       "      <td>96.00</td>\n",
       "      <td>93.87</td>\n",
       "      <td>94.93</td>\n",
       "      <td>17928</td>\n",
       "    </tr>\n",
       "    <tr>\n",
       "      <th>2023-11-27</th>\n",
       "      <td>96.03</td>\n",
       "      <td>103.57</td>\n",
       "      <td>95.23</td>\n",
       "      <td>103.30</td>\n",
       "      <td>138637</td>\n",
       "    </tr>\n",
       "    <tr>\n",
       "      <th>2023-11-28</th>\n",
       "      <td>103.47</td>\n",
       "      <td>107.16</td>\n",
       "      <td>102.23</td>\n",
       "      <td>107.05</td>\n",
       "      <td>99003</td>\n",
       "    </tr>\n",
       "    <tr>\n",
       "      <th>...</th>\n",
       "      <td>...</td>\n",
       "      <td>...</td>\n",
       "      <td>...</td>\n",
       "      <td>...</td>\n",
       "      <td>...</td>\n",
       "    </tr>\n",
       "    <tr>\n",
       "      <th>2024-11-18</th>\n",
       "      <td>71.10</td>\n",
       "      <td>74.44</td>\n",
       "      <td>69.89</td>\n",
       "      <td>74.00</td>\n",
       "      <td>34404</td>\n",
       "    </tr>\n",
       "    <tr>\n",
       "      <th>2024-11-19</th>\n",
       "      <td>74.09</td>\n",
       "      <td>75.02</td>\n",
       "      <td>72.18</td>\n",
       "      <td>73.75</td>\n",
       "      <td>21912</td>\n",
       "    </tr>\n",
       "    <tr>\n",
       "      <th>2024-11-20</th>\n",
       "      <td>73.06</td>\n",
       "      <td>73.11</td>\n",
       "      <td>65.97</td>\n",
       "      <td>68.70</td>\n",
       "      <td>69952</td>\n",
       "    </tr>\n",
       "    <tr>\n",
       "      <th>2024-11-21</th>\n",
       "      <td>68.27</td>\n",
       "      <td>69.86</td>\n",
       "      <td>68.15</td>\n",
       "      <td>69.00</td>\n",
       "      <td>19997</td>\n",
       "    </tr>\n",
       "    <tr>\n",
       "      <th>2024-11-22</th>\n",
       "      <td>69.01</td>\n",
       "      <td>70.81</td>\n",
       "      <td>67.77</td>\n",
       "      <td>69.33</td>\n",
       "      <td>32025</td>\n",
       "    </tr>\n",
       "  </tbody>\n",
       "</table>\n",
       "<p>254 rows × 5 columns</p>\n",
       "</div>"
      ],
      "text/plain": [
       "              open    high     low   close  volume\n",
       "date                                              \n",
       "2023-11-21   94.00   94.99   91.96   93.40   36580\n",
       "2023-11-22   93.57   95.61   92.55   95.00   31084\n",
       "2023-11-24   94.80   96.00   93.87   94.93   17928\n",
       "2023-11-27   96.03  103.57   95.23  103.30  138637\n",
       "2023-11-28  103.47  107.16  102.23  107.05   99003\n",
       "...            ...     ...     ...     ...     ...\n",
       "2024-11-18   71.10   74.44   69.89   74.00   34404\n",
       "2024-11-19   74.09   75.02   72.18   73.75   21912\n",
       "2024-11-20   73.06   73.11   65.97   68.70   69952\n",
       "2024-11-21   68.27   69.86   68.15   69.00   19997\n",
       "2024-11-22   69.01   70.81   67.77   69.33   32025\n",
       "\n",
       "[254 rows x 5 columns]"
      ]
     },
     "metadata": {},
     "output_type": "display_data"
    }
   ],
   "source": [
    "import os\n",
    "\n",
    "# Go up one level from scanner folder, then into data folder\n",
    "current_dir = os.getcwd()  # Gets current directory (scanner)\n",
    "parent_dir = os.path.dirname(current_dir)  # Goes up one level to stockbot4\n",
    "data_folder = os.path.join(parent_dir, 'data')  # Goes into data folder\n",
    "os.chdir(data_folder)\n",
    "\n",
    "import historical_data as hd\n",
    "\n",
    "symbol = 'ROKU'\n",
    "interval = '1 day'\n",
    "data = hd.get_hist_data(symbol, '52 weeksAgo', 'now', interval)\n",
    "display(data)"
   ]
  },
  {
   "cell_type": "markdown",
   "metadata": {},
   "source": [
    "# 6. Daily TA"
   ]
  },
  {
   "cell_type": "code",
   "execution_count": null,
   "metadata": {},
   "outputs": [],
   "source": []
  },
  {
   "cell_type": "markdown",
   "metadata": {},
   "source": [
    "# 7. Filter TA"
   ]
  },
  {
   "cell_type": "code",
   "execution_count": null,
   "metadata": {},
   "outputs": [],
   "source": []
  },
  {
   "cell_type": "markdown",
   "metadata": {},
   "source": [
    "# 8. Daily Scores"
   ]
  },
  {
   "cell_type": "code",
   "execution_count": null,
   "metadata": {},
   "outputs": [],
   "source": []
  },
  {
   "cell_type": "markdown",
   "metadata": {},
   "source": [
    "# 9. Final Watch List"
   ]
  },
  {
   "cell_type": "code",
   "execution_count": null,
   "metadata": {},
   "outputs": [],
   "source": []
  }
 ],
 "metadata": {
  "kernelspec": {
   "display_name": "SB2",
   "language": "python",
   "name": "python3"
  },
  "language_info": {
   "codemirror_mode": {
    "name": "ipython",
    "version": 3
   },
   "file_extension": ".py",
   "mimetype": "text/x-python",
   "name": "python",
   "nbconvert_exporter": "python",
   "pygments_lexer": "ipython3",
   "version": "3.10.8"
  }
 },
 "nbformat": 4,
 "nbformat_minor": 2
}
