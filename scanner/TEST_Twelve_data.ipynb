{
 "cells": [
  {
   "cell_type": "code",
   "execution_count": null,
   "metadata": {},
   "outputs": [],
   "source": [
    "from twelvedata import TDClient\n",
    "api_key = '171136ac7161454b8f4abeb987c72b02'\n",
    "td = TDClient(apikey=api_key)\n"
   ]
  },
  {
   "cell_type": "code",
   "execution_count": null,
   "metadata": {},
   "outputs": [],
   "source": [
    "from twelvedata import TDClient\n",
    "import pandas as pd\n",
    "\n",
    "# Initialize the TDClient with your API key\n",
    "api_key = '500a928c1e974d3b896523eca8d6b914'\n",
    "td = TDClient(apikey=api_key)\n",
    "\n",
    "# List of stock symbols\n",
    "symbols = 'AAPL,MSFT,GOOGL,AMZN,FB,TSLA,NFLX,BRK.B,V,JPM'\n",
    "symbols = 'TSLA'\n",
    "\n",
    "# Fetch the quote data for the batch of symbols\n",
    "# r = td.get_profile(symbol=symbols).as_json()\n",
    "# r = td.quote(symbol=symbols).as_pandas()\n",
    "# r = td.get_statistics(symbol=symbols).as_pandas()"
   ]
  }
 ],
 "metadata": {
  "kernelspec": {
   "display_name": "SB3",
   "language": "python",
   "name": "python3"
  },
  "language_info": {
   "name": "python",
   "version": "3.12.7"
  }
 },
 "nbformat": 4,
 "nbformat_minor": 2
}
