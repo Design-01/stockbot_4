{
 "cells": [
  {
   "cell_type": "code",
   "execution_count": null,
   "metadata": {},
   "outputs": [],
   "source": [
    "# In your Jupyter notebook (TEST_Daily_Analysis.ipynb)\n",
    "import sys\n",
    "from pathlib import Path\n",
    "\n",
    "# Add the project root directory to Python path\n",
    "ROOT_DIR = Path.cwd().parent  # Goes up one level from 'scanner' to 'stockbot4'\n",
    "if str(ROOT_DIR) not in sys.path:\n",
    "    sys.path.append(str(ROOT_DIR))\n",
    "\n",
    "\n",
    "from ib_insync import *\n",
    "util.startLoop()\n",
    "import stock\n",
    "\n",
    "ib = IB()\n",
    "ib.connect('127.0.0.1', 7496, clientId=12)"
   ]
  },
  {
   "cell_type": "code",
   "execution_count": null,
   "metadata": {},
   "outputs": [],
   "source": [
    "from ib_insync import IB, Stock\n",
    "import xml.etree.ElementTree as ET\n",
    "\n",
    "contract = Stock('TSLA', 'SMART', 'USD')\n",
    "\n",
    "# fundamental_data = ib.reqFundamentalData(contract, 'ReportsFundamentals')\n",
    "fundamental_data = ib.reqFundamentalData(contract, 'ReportSnapshot')\n",
    "root = ET.fromstring(fundamental_data)"
   ]
  },
  {
   "cell_type": "code",
   "execution_count": null,
   "metadata": {},
   "outputs": [],
   "source": [
    "def print_xml_tree(element, indent=0):\n",
    "    \"\"\"Print the XML tree structure with indentation\"\"\"\n",
    "    # Print current element\n",
    "    print('  ' * indent + f'<{element.tag}>', end='')\n",
    "    \n",
    "    # Print attributes if any\n",
    "    if element.attrib:\n",
    "        print(f' {element.attrib}', end='')\n",
    "        \n",
    "    # Print text content if it exists and isn't whitespace\n",
    "    if element.text and element.text.strip():\n",
    "        print(f' = {element.text.strip()}')\n",
    "    else:\n",
    "        print()\n",
    "        \n",
    "    # Print all children recursively\n",
    "    for child in element:\n",
    "        print_xml_tree(child, indent + 1)\n",
    "\n",
    "print_xml_tree(root)"
   ]
  },
  {
   "cell_type": "code",
   "execution_count": null,
   "metadata": {},
   "outputs": [],
   "source": [
    "# Example Usage\n",
    "# Assuming `etf_data` and `market_data` are DataFrames with the required columns\n",
    "\n",
    "\n",
    "from data import historical_data as hd\n",
    "import compare\n",
    "\n",
    "\n",
    "\n",
    "etf_data = hd.get_hist_data('XLF', \"52 weeksAgo\", 'now', '1 day')\n",
    "market_data = hd.get_hist_data('SPY', \"52 weeksAgo\", 'now', '1 day')\n",
    "\n",
    "analysis = compare.SectorAnalysis(etf_data, market_data)\n",
    "analysis.compute_all(\n",
    "    mansfield_period=200,  # Period for Mansfield RSI\n",
    "    roc_period=200,         # Period for MA ROC ratio\n",
    "    ma_short=50,           # Short MA period\n",
    "    ma_long=200           # Long MA period\n",
    ")\n",
    "result_df = analysis.get_df()\n",
    "today_metrics = analysis.get_today(verbose=True)\n",
    "display(today_metrics)\n",
    "result_df"
   ]
  },
  {
   "cell_type": "code",
   "execution_count": null,
   "metadata": {},
   "outputs": [],
   "source": [
    "import stock\n",
    "sx = stock.StockXDaily(ib, \"TSLA\")\n",
    "sx.req_fundamentals()\n",
    "sx.fundamentals.__dict__"
   ]
  },
  {
   "cell_type": "code",
   "execution_count": null,
   "metadata": {},
   "outputs": [],
   "source": [
    "sx.validate_fundamental"
   ]
  }
 ],
 "metadata": {
  "kernelspec": {
   "display_name": "SB2",
   "language": "python",
   "name": "python3"
  },
  "language_info": {
   "name": "python",
   "version": "3.10.8"
  }
 },
 "nbformat": 4,
 "nbformat_minor": 2
}
