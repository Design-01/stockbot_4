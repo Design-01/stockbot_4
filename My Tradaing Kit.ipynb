{
 "cells": [
  {
   "cell_type": "code",
   "execution_count": 18,
   "metadata": {},
   "outputs": [
    {
     "name": "stdout",
     "output_type": "stream",
     "text": [
      "\n",
      "=== Position Summary ===\n",
      "Number of shares to purchase : 19\n",
      "Price per share              : $98.94\n",
      "Total position value         : $1,879.86\n",
      "Risk percentage to stop      : 10.27%\n",
      "Potential loss at stop       : $193.04\n",
      "=====================\n"
     ]
    }
   ],
   "source": [
    "def calculate_position_size(entry_price: float, stop_price: float, risk_amount: float) -> dict:\n",
    "    \"\"\"\n",
    "    Calculate the position size and related metrics based on entry price, stop loss, and risk amount.\n",
    "    \n",
    "    Parameters:\n",
    "    entry_price (float): The price at which you plan to enter the trade\n",
    "    stop_price (float): Your stop loss price\n",
    "    risk_amount (float): The amount of money you're willing to risk on this trade\n",
    "    \n",
    "    Returns:\n",
    "    dict: Dictionary containing position details including:\n",
    "        - shares: Number of shares to purchase\n",
    "        - total_value: Total position value\n",
    "        - risk_percentage: Percentage drop to stop loss\n",
    "        - price_per_share: Entry price per share\n",
    "        - potential_loss: Total loss if stop is triggered\n",
    "    \"\"\"\n",
    "    if entry_price <= 0 or stop_price <= 0 or risk_amount <= 0:\n",
    "        raise ValueError(\"All input values must be positive numbers\")\n",
    "    \n",
    "    if stop_price >= entry_price:\n",
    "        raise ValueError(\"Stop price must be below entry price for long positions\")\n",
    "    \n",
    "    # Calculate the price difference and risk percentage\n",
    "    price_difference = entry_price - stop_price\n",
    "    risk_percentage = (price_difference / entry_price) * 100\n",
    "    \n",
    "    # Calculate position size based on risk\n",
    "    shares = int(risk_amount / price_difference)\n",
    "    \n",
    "    # Calculate total position value and potential loss\n",
    "    total_position_value = shares * entry_price\n",
    "    total_loss_at_stop = shares * (entry_price - stop_price)\n",
    "    \n",
    "    return {\n",
    "        \"shares\": shares,\n",
    "        \"total_value\": round(total_position_value, 2),\n",
    "        \"risk_percentage\": round(risk_percentage, 2),\n",
    "        \"price_per_share\": entry_price,\n",
    "        \"potential_loss\": round(total_loss_at_stop, 2)\n",
    "    }\n",
    "\n",
    "def print_position_summary(position_details: dict) -> None:\n",
    "    \"\"\"\n",
    "    Print a formatted summary of the position details.\n",
    "    \"\"\"\n",
    "    print(\"\\n=== Position Summary ===\")\n",
    "    print(f\"Number of shares to purchase : {position_details['shares']:,}\")\n",
    "    print(f\"Price per share              : ${position_details['price_per_share']:.2f}\")\n",
    "    print(f\"Total position value         : ${position_details['total_value']:,.2f}\")\n",
    "    print(f\"Risk percentage to stop      : {position_details['risk_percentage']}%\")\n",
    "    print(f\"Potential loss at stop       : ${position_details['potential_loss']:,.2f}\")\n",
    "    print(\"=====================\")\n",
    "\n",
    "# Test the function with some example values\n",
    "entry_price = 98.94\n",
    "stop_price =  88.78\n",
    "risk_amount = 200\n",
    "\n",
    "\n",
    "\n",
    "print_position_summary(calculate_position_size(entry_price, stop_price, risk_amount))\n"
   ]
  },
  {
   "cell_type": "code",
   "execution_count": null,
   "metadata": {},
   "outputs": [],
   "source": []
  }
 ],
 "metadata": {
  "kernelspec": {
   "display_name": "SB2",
   "language": "python",
   "name": "python3"
  },
  "language_info": {
   "codemirror_mode": {
    "name": "ipython",
    "version": 3
   },
   "file_extension": ".py",
   "mimetype": "text/x-python",
   "name": "python",
   "nbconvert_exporter": "python",
   "pygments_lexer": "ipython3",
   "version": "3.10.8"
  }
 },
 "nbformat": 4,
 "nbformat_minor": 2
}
