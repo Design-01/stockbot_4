{
 "cells": [
  {
   "cell_type": "code",
   "execution_count": 2,
   "metadata": {},
   "outputs": [
    {
     "name": "stdout",
     "output_type": "stream",
     "text": [
      "  \n",
      "========= - WBA - Summary ======================\n",
      "Number of shares to purchase : 101\n",
      "Price per share              : $8.07\n",
      "Total position value         : $815.07\n",
      "Risk percentage to stop      : 24.41%\n",
      "Potential loss at stop       : $198.97\n",
      " -------------------------------------------------\n",
      "Entry Price                 : 8.07\n",
      "Stop Price                  : 6.1\n",
      "Risk Amount                 : 200\n",
      " -------------------------------------------------\n",
      "Notes                        : Swings over days and weeks\n",
      "=====================\n"
     ]
    }
   ],
   "source": [
    "import my_trading_kit as mtk\n",
    "\n",
    "# Test the function with some example values\n",
    "\n",
    "\n",
    "\n",
    "#### Swings trades over days and weeks\n",
    "\n",
    "mtk.print_position_summary(\n",
    "    'WBA', \n",
    "    mtk.calculate_position_size(\n",
    "        entry_price=8.07, \n",
    "        stop_price=6.10, \n",
    "        risk_amount=200),\n",
    "    notes='Swings over days and weeks')\n",
    "\n",
    "\n"
   ]
  },
  {
   "cell_type": "code",
   "execution_count": 4,
   "metadata": {},
   "outputs": [
    {
     "data": {
      "text/plain": [
       "2.2684"
      ]
     },
     "execution_count": 4,
     "metadata": {},
     "output_type": "execute_result"
    }
   ],
   "source": [
    "atr = 0.0308\n",
    "price  = 2.33\n",
    "stop = price - (atr * 2)\n",
    "stop"
   ]
  },
  {
   "cell_type": "code",
   "execution_count": 3,
   "metadata": {},
   "outputs": [
    {
     "name": "stdout",
     "output_type": "stream",
     "text": [
      "  \n",
      "========= - TDUP - Summary ======================\n",
      "Number of shares to purchase : 740\n",
      "Price per share              : $2.33\n",
      "Total position value         : $1,724.20\n",
      "Risk percentage to stop      : 11.59%\n",
      "Potential loss at stop       : $199.80\n",
      " -------------------------------------------------\n",
      "Notes                        : Day trade \n",
      "=====================\n",
      "  \n",
      "========= - FARO - Summary ======================\n",
      "Number of shares to purchase : 102\n",
      "Price per share              : $29.05\n",
      "Total position value         : $2,963.10\n",
      "Risk percentage to stop      : 6.71%\n",
      "Potential loss at stop       : $198.90\n",
      " -------------------------------------------------\n",
      "Notes                        : Day trade \n",
      "=====================\n",
      "  \n",
      "========= - ARIS - Summary ======================\n",
      "Number of shares to purchase : 70\n",
      "Price per share              : $28.88\n",
      "Total position value         : $2,021.60\n",
      "Risk percentage to stop      : 9.8%\n",
      "Potential loss at stop       : $198.10\n",
      " -------------------------------------------------\n",
      "Notes                        : Day trade \n",
      "=====================\n",
      "  \n",
      "========= - MSTR - Summary ======================\n",
      "Number of shares to purchase : 5\n",
      "Price per share              : $394.78\n",
      "Total position value         : $1,973.90\n",
      "Risk percentage to stop      : 9.57%\n",
      "Potential loss at stop       : $188.90\n",
      " -------------------------------------------------\n",
      "Notes                        : Day trade \n",
      "=====================\n",
      "  \n",
      "========= - SOFI - Summary ======================\n",
      "Number of shares to purchase : 354\n",
      "Price per share              : $18.00\n",
      "Total position value         : $6,372.00\n",
      "Risk percentage to stop      : 15.67%\n",
      "Potential loss at stop       : $998.28\n",
      " -------------------------------------------------\n",
      "Notes                        : Day trade \n",
      "=====================\n"
     ]
    }
   ],
   "source": [
    "#! Tardes I buy\n",
    "\n",
    "mtk.print_position_summary(\n",
    "    'TDUP', \n",
    "    mtk.calculate_position_size(entry_price=2.33, stop_price=2.06, risk_amount=200),\n",
    "    notes=\"Day trade \")\n",
    "mtk.print_position_summary(\n",
    "    'FARO', \n",
    "    mtk.calculate_position_size(entry_price=29.05, stop_price=27.10, risk_amount=200),\n",
    "    notes=\"Day trade \")\n",
    "mtk.print_position_summary(\n",
    "    'ARIS', \n",
    "    mtk.calculate_position_size(entry_price=28.88, stop_price=26.05, risk_amount=200),\n",
    "    notes=\"Day trade \")\n",
    "mtk.print_position_summary(\n",
    "    'MSTR', \n",
    "    mtk.calculate_position_size(entry_price=394.78, stop_price=357, risk_amount=200),\n",
    "    notes=\"Day trade \")\n",
    "mtk.print_position_summary(\n",
    "    'SOFI', \n",
    "    mtk.calculate_position_size(entry_price=18.00, stop_price=15.18, risk_amount=1000),\n",
    "    notes=\"Day trade \")"
   ]
  },
  {
   "cell_type": "code",
   "execution_count": 21,
   "metadata": {},
   "outputs": [
    {
     "name": "stdout",
     "output_type": "stream",
     "text": [
      "Stop loss: 450.29\n",
      "  \n",
      "========= - DE - Summary ======================\n",
      "Number of shares to purchase : 4\n",
      "Price per share              : $471.45\n",
      "Total position value         : $1,885.80\n",
      "Risk percentage to stop      : 4.49%\n",
      "Potential loss at stop       : $84.64\n",
      " -------------------------------------------------\n",
      "Notes                        : End of Day trade \n",
      "=====================\n",
      "Stop loss: 910.73\n",
      "  \n",
      "========= - NFLX - Summary ======================\n",
      "Number of shares to purchase : 3\n",
      "Price per share              : $974.51\n",
      "Total position value         : $2,923.53\n",
      "Risk percentage to stop      : 6.54%\n",
      "Potential loss at stop       : $191.34\n",
      " -------------------------------------------------\n",
      "Notes                        : End of Day trade \n",
      "=====================\n",
      "Stop loss: 910.73\n",
      "  \n",
      "========= - NFLX - Summary ======================\n",
      "Number of shares to purchase : 1\n",
      "Price per share              : $974.51\n",
      "Total position value         : $974.51\n",
      "Risk percentage to stop      : 6.54%\n",
      "Potential loss at stop       : $63.78\n",
      " -------------------------------------------------\n",
      "Notes                        : End of Day trade \n",
      "=====================\n",
      "Stop loss: 255.5\n",
      "  \n",
      "========= - JPM - Summary ======================\n",
      "Number of shares to purchase : 20\n",
      "Price per share              : $265.36\n",
      "Total position value         : $5,307.20\n",
      "Risk percentage to stop      : 3.72%\n",
      "Potential loss at stop       : $197.20\n",
      " -------------------------------------------------\n",
      "Notes                        : End of Day trade \n",
      "=====================\n",
      "Stop loss: 132.83\n",
      "  \n",
      "========= - MS - Summary ======================\n",
      "Number of shares to purchase : 16\n",
      "Price per share              : $139.03\n",
      "Total position value         : $2,224.48\n",
      "Risk percentage to stop      : 4.46%\n",
      "Potential loss at stop       : $99.20\n",
      " -------------------------------------------------\n",
      "Notes                        : End of Day trade \n",
      "=====================\n",
      "Stop loss: 22.82\n",
      "  \n",
      "========= - LSI - Summary ======================\n",
      "Number of shares to purchase : 106\n",
      "Price per share              : $24.70\n",
      "Total position value         : $2,618.20\n",
      "Risk percentage to stop      : 7.61%\n",
      "Potential loss at stop       : $199.28\n",
      " -------------------------------------------------\n",
      "Notes                        : End of Day trade \n",
      "=====================\n",
      "  \n",
      "========= - OSS - Summary ======================\n",
      "Number of shares to purchase : 833\n",
      "Price per share              : $3.90\n",
      "Total position value         : $3,248.70\n",
      "Risk percentage to stop      : 6.15%\n",
      "Potential loss at stop       : $199.92\n",
      " -------------------------------------------------\n",
      "Notes                        : End of Day trade \n",
      "=====================\n"
     ]
    }
   ],
   "source": [
    "def stopLoss_by_atr(price, atr, n):\n",
    "    stop = round(price - (atr * n),2)\n",
    "    print(f\"Stop loss: {stop}\")\n",
    "    return stop\n",
    "\n",
    "\n",
    "mtk.print_position_summary( 'DE',   mtk.calculate_position_size(entry_price=471.45, stop_price=stopLoss_by_atr(471.45, 10.58, 2), risk_amount=100), notes=\"End of Day trade \")\n",
    "mtk.print_position_summary( 'NFLX', mtk.calculate_position_size(entry_price=974.51, stop_price=stopLoss_by_atr(974.51, 31.89, 2), risk_amount=200), notes=\"End of Day trade \")\n",
    "mtk.print_position_summary( 'NFLX', mtk.calculate_position_size(entry_price=974.51, stop_price=stopLoss_by_atr(974.51, 31.89, 2), risk_amount=100), notes=\"End of Day trade \")\n",
    "mtk.print_position_summary( 'JPM', mtk.calculate_position_size(entry_price=265.36, stop_price=stopLoss_by_atr(265.36, 4.93, 2), risk_amount=200), notes=\"End of Day trade \")\n",
    "mtk.print_position_summary( 'MS', mtk.calculate_position_size(entry_price=139.03, stop_price=stopLoss_by_atr(139.03, 3.10, 2), risk_amount=100), notes=\"End of Day trade \")\n",
    "mtk.print_position_summary( 'LSI', mtk.calculate_position_size(entry_price=24.70, stop_price=stopLoss_by_atr(24.70, 0.94, 2), risk_amount=200), notes=\"End of Day trade \")\n",
    "mtk.print_position_summary( 'OSS', mtk.calculate_position_size(entry_price=3.90, stop_price=3.66, risk_amount=200), notes=\"End of Day trade \")\n",
    "\n",
    "\n"
   ]
  },
  {
   "cell_type": "code",
   "execution_count": 3,
   "metadata": {},
   "outputs": [
    {
     "name": "stdout",
     "output_type": "stream",
     "text": [
      "Stop loss: 42.97\n",
      "  \n",
      "========= - AFRM - Summary ======================\n",
      "Number of shares to purchase : 84\n",
      "Price per share              : $49.51\n",
      "Total position value         : $4,158.84\n",
      "Risk percentage to stop      : 11.98%\n",
      "Potential loss at stop       : $498.12\n",
      " -------------------------------------------------\n",
      "Entry Price                 : 49.51\n",
      "Stop Price                  : 43.58\n",
      "Risk Amount                 : 500\n",
      " -------------------------------------------------\n",
      "Notes                        : End of Day trade \n",
      "=====================\n"
     ]
    }
   ],
   "source": [
    "import my_trading_kit as mtk\n",
    "\n",
    "def stopLoss_by_atr(price, atr, n):\n",
    "    stop = round(price - (atr * n),2)\n",
    "    print(f\"Stop loss: {stop}\")\n",
    "    return stop\n",
    "\n",
    "stop_price = stopLoss_by_atr(49.51, 4.36, 1.5)\n",
    "stop_price = 43.58\n",
    "\n",
    "mtk.print_position_summary( 'CRWD',   mtk.calculate_position_size(entry_price=49.51, stop_price=stop_price, risk_amount=500), notes=\"End of Day trade \")"
   ]
  }
 ],
 "metadata": {
  "kernelspec": {
   "display_name": "SB2",
   "language": "python",
   "name": "python3"
  },
  "language_info": {
   "codemirror_mode": {
    "name": "ipython",
    "version": 3
   },
   "file_extension": ".py",
   "mimetype": "text/x-python",
   "name": "python",
   "nbconvert_exporter": "python",
   "pygments_lexer": "ipython3",
   "version": "3.10.8"
  }
 },
 "nbformat": 4,
 "nbformat_minor": 2
}
