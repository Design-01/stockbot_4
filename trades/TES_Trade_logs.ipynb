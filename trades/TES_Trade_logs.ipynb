{
 "cells": [
  {
   "cell_type": "code",
   "execution_count": 2,
   "metadata": {},
   "outputs": [
    {
     "name": "stdout",
     "output_type": "stream",
     "text": [
      "Trade status: closed\n",
      "Exit price: 258.5\n",
      "Realized P&L: 775.0\n"
     ]
    }
   ],
   "source": [
    "from  trade_log import TradeLog, TradeLogger, LogMarketTA, LogProfitLoss\n",
    "\n",
    "def example_trade_update():\n",
    "    logger = TradeLogger()\n",
    "    \n",
    "    # First create and log a new trade\n",
    "    market_conditions = LogMarketTA(\n",
    "        symbol=\"SPY\",\n",
    "        barsize=\"5min\",\n",
    "        conditions={'spx_above_ma': True, 'market_trend': 'bullish'}\n",
    "    )\n",
    "    \n",
    "    sector_conditions = LogMarketTA(\n",
    "        symbol=\"XLK\",\n",
    "        barsize=\"5min\",\n",
    "        conditions={'sector_strength': 0.85}\n",
    "    )\n",
    "    \n",
    "    stock_conditions = LogMarketTA(\n",
    "        symbol=\"TSLA\",\n",
    "        barsize=\"5min\",\n",
    "        conditions={'rsi': 65.5}\n",
    "    )\n",
    "    \n",
    "    # Create initial trade\n",
    "    pnl = LogProfitLoss(\n",
    "        entry_price=250.75,\n",
    "        stop_loss=245.00,\n",
    "        target_price=260.00,\n",
    "        position_size=100\n",
    "    )\n",
    "    \n",
    "    trade = TradeLog(\n",
    "        symbol=\"TSLA\",\n",
    "        barSize=\"5min\",\n",
    "        strategy_name=\"Breakout_Strategy\",\n",
    "        market_conditions=market_conditions,\n",
    "        sector_conditions=sector_conditions,\n",
    "        stock_conditions=stock_conditions,\n",
    "        entry_strategy={\"type\": \"breakout\", \"level\": 250.00},\n",
    "        exit_strategy={\"type\": \"trailing_stop\", \"percentage\": 2.0},\n",
    "        pnl=pnl\n",
    "    )\n",
    "    \n",
    "    # Save initial trade\n",
    "    logger.log_trade(trade)\n",
    "    trade_id = trade.trade_id  # Store the ID for later use\n",
    "    \n",
    "    # Later, when we want to close the trade:\n",
    "    \n",
    "    # 1. First load the existing trade\n",
    "    trade = logger.load_trade(trade_id)\n",
    "    if trade is None:\n",
    "        raise ValueError(f\"Trade {trade_id} not found\")\n",
    "    \n",
    "    # 2. Update the trade\n",
    "    trade.close_trade(exit_price=258.50)\n",
    "    trade.pnl.realized_pl = 775.00  # Your calculated P&L\n",
    "    trade.pnl.realized_r_multiple = 1.5  # Your calculated R-multiple\n",
    "    \n",
    "    # 3. Save the updated trade back to pickle\n",
    "    logger.log_trade(trade)\n",
    "    \n",
    "    # We can verify the update worked\n",
    "    updated_trade = logger.load_trade(trade_id)\n",
    "    print(f\"Trade status: {updated_trade.status}\")\n",
    "    print(f\"Exit price: {updated_trade.pnl.exit_price}\")\n",
    "    print(f\"Realized P&L: {updated_trade.pnl.realized_pl}\")\n",
    "\n",
    "\n",
    "if __name__ == \"__main__\":\n",
    "    example_trade_update()"
   ]
  }
 ],
 "metadata": {
  "kernelspec": {
   "display_name": "SB2",
   "language": "python",
   "name": "python3"
  },
  "language_info": {
   "codemirror_mode": {
    "name": "ipython",
    "version": 3
   },
   "file_extension": ".py",
   "mimetype": "text/x-python",
   "name": "python",
   "nbconvert_exporter": "python",
   "pygments_lexer": "ipython3",
   "version": "3.10.8"
  }
 },
 "nbformat": 4,
 "nbformat_minor": 2
}
