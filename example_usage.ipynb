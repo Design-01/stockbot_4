{
 "cells": [
  {
   "cell_type": "code",
   "execution_count": null,
   "metadata": {},
   "outputs": [],
   "source": [
    "\n",
    "data5min = RandomOHLCV( \n",
    "    freq      = '5 min', \n",
    "    head_max  = 0.3, \n",
    "    tail_max  = 0.3, \n",
    "    start     = '2000',           \n",
    "    open_val  = 100.00,           \n",
    "    periods   = 1_000, \n",
    "    open_rng  = (-0.4, 0.4), \n",
    "    close_rng = (-0.4, 0.4), \n",
    "    vol_rng   = (-50, 60),\n",
    "    volatility_rng  = (0, 0.02),\n",
    "    volatility_dur  = 3,\n",
    "    volatility_freq = 50\n",
    ")\n",
    "\n",
    "data.get_dataframe().head(10))\n",
    "\n",
    "f5min = Frame(symbol='TSLA')\n",
    "\n",
    "# TA may add many several columns of data to the dataframe \n",
    "f5min.add_ta(MA('close', 9),  {'line_style': 'solid', 'colour': 'red', 'thickness': 2}) # creates new column to the dataframe with the moving average eg MA_C9\n",
    "f5min.add_ta(MA('close', 21), {'line_style': 'solid', 'colour': 'blue', 'thickness': 2})\n",
    "f5min.add_ta(MA('close', 28), {'line_style': 'solid', 'colour': 'green', 'thickness': 2})\n",
    "f5min.add_ta(MACD(fast=('close', 12), slow=('close', 26), signal=('close', 9), faststyle={'colour': 'red'}, slowstyle={'colour': 'blue'}, signalstyle={'colour': 'green', 'thickness': 3})) # creates new columns to the dataframe with the MACD values. eg  looks for the MA_9 and MA_21 columns to calculate the MACD values if not then it will call MA(9) and MA(21) to calculate the MACD values\n",
    "\n",
    "\n",
    "# all strategies return a single value between 0 and 100 .  signals have their own dataframe and one column for each signal\n",
    "f5min.add_signal(NearMA(MA('close', 9), 0.1)).score(normRange=(0, 100)) # creates new column to the dataframe with the signal values. eg 1 if the close price is near the MA(9) by 0.1\n",
    "f5min.add_signal(Tail(0.5)).score(normRange=(0, 100)) \n",
    "f5min.add_signal(SmoothPullback(0.5)).score(normRange=(0, 100))\n",
    "f5min.add_signal(ChangeOfColour()).score(normRange=(0, 100))\n",
    "\n",
    "f5min.add_entry_strategy(PullbackSetup(\n",
    "    times              = [('00:01', '23:59')],\n",
    "    barSizes           = ['1 D'], \n",
    "    ls                 = ['LONG', 'SHORT'],\n",
    "    minAvPass=3, maxFail=1, minAvScore=50, \n",
    "    signals=[\n",
    "        ('NearMA_C9', passRange=(0, 100), weigth=1),\n",
    "        ('Tail_50', passRange=(0, 100), weigth=1),\n",
    "        ('SmoothPullback_50', passRange=(0, 100), weigth=1),\n",
    "        ('ChangeOfColour', passRange=(0, 100), weigth=1)]\n",
    "    ))\n",
    "\n",
    "f5min.plot()\n",
    "\n",
    "\n",
    "\n",
    "bot = StockBot(mode='backtest', capital=1000, risk=0.02, riskType='percent', commission=0.01, slippage=0.01)\n",
    "\n",
    "\n",
    "# run for every new row of data.  used for both back testing and live trading\n",
    "# new data is updated row wise so as not to recalculate for previous rows where possible.  be careful of MA as this requires several past rows to calculate\n",
    "f5min.update_ohlcv({'open': 1.0, 'high': 1.1, 'low': 0.9, 'close': 1.0, 'volume': 1000}).update_ta().update_signals()\n",
    "f60min.update_ohlcv({'open': 1.0, 'high': 1.1, 'low': 0.9, 'close': 1.0, 'volume': 1000}).update_ta().update_signals()\n",
    "f1day.update_ohlcv({'open': 1.0, 'high': 1.1, 'low': 0.9, 'close': 1.0, 'volume': 1000}).update_ta().update_signals()\n",
    "market.update_ohlcv({'open': 1.0, 'high': 1.1, 'low': 0.9, 'close': 1.0, 'volume': 1000})\n",
    "\n",
    "bot.run(f2min, f5min, f60min, f1day, market).show_reslts()\n",
    "bot.market_bias()\n",
    "bot.stock_bias()\n",
    "bot.has_room_to_move()\n",
    "bot.has_capital()\n",
    "bot.has_position()\n",
    "\n",
    "# Needs a bit more thoguht on how to implement this\n",
    "bot.trade(ExitStrategy(stops=[\n",
    "    Stop(implimentWhenRR=True, stop='prior_piv', offset=0.01),\n",
    "    Stop(implimentWhenRR=2, stop='bar_by_bar', offset=0.01)], \n",
    "    target=Target(riskReward=2))\n",
    "\n",
    "bot.show_trade_progress()\n"
   ]
  },
  {
   "cell_type": "markdown",
   "metadata": {},
   "source": [
    "# Example usage of the Stockbot system. "
   ]
  },
  {
   "cell_type": "code",
   "execution_count": null,
   "metadata": {},
   "outputs": [
    {
     "ename": "",
     "evalue": "",
     "output_type": "error",
     "traceback": [
      "\u001b[1;31mRunning cells with 'SB4 (Python 3.12.7)' requires the ipykernel package.\n",
      "\u001b[1;31mRun the following command to install 'ipykernel' into the Python environment. \n",
      "\u001b[1;31mCommand: 'conda install -n SB4 ipykernel --update-deps --force-reinstall'"
     ]
    }
   ],
   "source": [
    "\n",
    "# Run a pre market scan\n",
    "\n",
    "# Assess the results from the pre market scan looking for stock bias and market bias, And high probability is successful trades\n",
    "# cheque for room to move and gaps etc. \n",
    "\n",
    "# Give the results to Stcokbot to run the trades, stratgeies and signals, manage accounts and trades\n"
   ]
  }
 ],
 "metadata": {
  "kernelspec": {
   "display_name": "SB4",
   "language": "python",
   "name": "python3"
  },
  "language_info": {
   "name": "python",
   "version": "3.12.7"
  }
 },
 "nbformat": 4,
 "nbformat_minor": 2
}
