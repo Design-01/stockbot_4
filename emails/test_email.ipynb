{
 "cells": [
  {
   "cell_type": "code",
   "execution_count": 4,
   "metadata": {},
   "outputs": [
    {
     "data": {
      "text/plain": [
       "True"
      ]
     },
     "execution_count": 4,
     "metadata": {},
     "output_type": "execute_result"
    }
   ],
   "source": [
    "import email_client\n",
    "\n",
    "email_client.send_outlook_email(\n",
    "    subject=\"Test email\",\n",
    "    body=\"This is a test email\",\n",
    "    image_paths=['AAPL_zoom.png', 'AAPL.png', 'table.png'],\n",
    "    recipients=['pary888@gmail.com'],\n",
    "    is_html=False)"
   ]
  },
  {
   "cell_type": "code",
   "execution_count": 2,
   "metadata": {},
   "outputs": [
    {
     "name": "stdout",
     "output_type": "stream",
     "text": [
      "Styled table saved to: my_styled_table.html\n"
     ]
    }
   ],
   "source": [
    "import pandas as pd\n",
    "import email_client\n",
    "import numpy as np\n",
    "\n",
    "\n",
    "\n",
    "# Create a larger sample DataFrame\n",
    "np.random.seed(42)\n",
    "df = pd.DataFrame(\n",
    "    np.random.randn(1500, 8),\n",
    "    columns=[f'Column_{i}' for i in range(8)]\n",
    ")\n",
    "df['Category'] = np.random.choice(['A', 'B', 'C'], size=1500)\n",
    "df['Date'] = pd.date_range('2023-01-01', periods=1500)\n",
    "\n",
    "# Create email body with DataFrame\n",
    "email_body = email_client.create_email_body_with_df(\n",
    "    df,\n",
    "    include_summary=True,\n",
    "    max_rows=1000,  # Only show first 1000 rows\n",
    "    max_cols=None   # Show all columns\n",
    ")\n",
    "\n",
    "\n",
    "# Send email using our previous send_outlook_email function\n",
    "email_client.send_outlook_email(\n",
    "    subject=\"Test email\",\n",
    "    body=email_body,\n",
    "    image_paths=[],\n",
    "    recipients=['pary888@gmail.com'],\n",
    "    is_html=True)\n",
    "\n",
    "# Alternative: Save just the styled DataFrame\n",
    "styled_path = email_client.style_and_save_dataframe(df, \"my_styled_table.html\")\n",
    "print(f\"Styled table saved to: {styled_path}\")\n",
    "\n",
    "# If you want to read the styled HTML later:\n",
    "with open(styled_path, 'r') as f:\n",
    "    table_html = f.read()"
   ]
  }
 ],
 "metadata": {
  "kernelspec": {
   "display_name": "SB2",
   "language": "python",
   "name": "python3"
  },
  "language_info": {
   "codemirror_mode": {
    "name": "ipython",
    "version": 3
   },
   "file_extension": ".py",
   "mimetype": "text/x-python",
   "name": "python",
   "nbconvert_exporter": "python",
   "pygments_lexer": "ipython3",
   "version": "3.10.8"
  }
 },
 "nbformat": 4,
 "nbformat_minor": 2
}
